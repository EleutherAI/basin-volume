{
 "cells": [
  {
   "cell_type": "code",
   "execution_count": 2,
   "metadata": {},
   "outputs": [],
   "source": [
    "import jax.numpy as jnp\n",
    "import jax\n"
   ]
  },
  {
   "cell_type": "code",
   "execution_count": 19,
   "metadata": {},
   "outputs": [],
   "source": [
    "def renew(key):\n",
    "    return jax.random.split(key, 1)[0]"
   ]
  },
  {
   "cell_type": "code",
   "execution_count": 5,
   "metadata": {},
   "outputs": [],
   "source": [
    "def sample_along_chord(center, vec, cutoff, fn, key,\n",
    "                       fwd_mult=1, bwd_mult=1, \n",
    "                       double_iters=10, resample_iters=10,\n",
    "                       doubled=False):\n",
    "    if double_iters < 0:\n",
    "        raise ValueError(f\"Reached maximum number of doubling steps at mults {fwd_mult}, {bwd_mult}. Consider increasing the initial mults.\")\n",
    "    if resample_iters < 0:\n",
    "        raise ValueError(f\"Reached maximum number of resampling steps at mults {fwd_mult}, {bwd_mult}. Consider decreasing the initial mults.\")\n",
    "\n",
    "    assert fn(center) < cutoff, \"center must be below cutoff\"\n",
    "\n",
    "    long_enough = True\n",
    "    if fn(center + fwd_mult * vec) < cutoff:\n",
    "        long_enough = False\n",
    "        fwd_mult *= 2\n",
    "    if fn(center - bwd_mult * vec) < cutoff:\n",
    "        long_enough = False\n",
    "        bwd_mult *= 2\n",
    "    \n",
    "    if not long_enough:\n",
    "        # chord is too short, double the mults and try again\n",
    "        return sample_along_chord(center, vec, cutoff, fn, key, \n",
    "                                  fwd_mult, bwd_mult, \n",
    "                                  double_iters - 1, resample_iters, \n",
    "                                  doubled=True)\n",
    "    \n",
    "    # we've found a long enough chord\n",
    "\n",
    "    sampled_mult = -bwd_mult + jax.random.uniform(key, ()) * (fwd_mult + bwd_mult)\n",
    "    key = renew(key)\n",
    "\n",
    "    sampled_point = center + sampled_mult * vec\n",
    "\n",
    "    if fn(sampled_point) < cutoff:\n",
    "        # resampled point is below cutoff, so we're done\n",
    "        return sampled_point, sampled_mult\n",
    "    \n",
    "    # resampled point is above cutoff, so we need to resample\n",
    "\n",
    "    if not doubled:\n",
    "        # maybe initial mults were too big?\n",
    "        fwd_mult /= 2\n",
    "        bwd_mult /= 2\n",
    "    \n",
    "    # either way, resample\n",
    "\n",
    "    return sample_along_chord(center, vec, cutoff, fn, key, \n",
    "                              fwd_mult, bwd_mult, \n",
    "                              double_iters, resample_iters - 1, \n",
    "                              doubled)\n"
   ]
  },
  {
   "cell_type": "code",
   "execution_count": 22,
   "metadata": {},
   "outputs": [],
   "source": [
    "def hit_and_run(center, cutoff, fn, key, n_steps, \n",
    "                 fwd_mult=1, bwd_mult=1, \n",
    "                 double_iters=10, resample_iters=10):\n",
    "    \n",
    "    sampled_points = []\n",
    "    sampled_mults = []\n",
    "    for _ in range(n_steps):\n",
    "        vec = jax.random.normal(key, center.shape)\n",
    "        key, subkey = jax.random.split(key)\n",
    "        vec = vec / jnp.linalg.norm(vec)\n",
    "        sampled_point, sampled_mult = sample_along_chord(center, vec, cutoff, fn, subkey, \n",
    "                                                          fwd_mult, bwd_mult, \n",
    "                                                          double_iters, resample_iters)\n",
    "        sampled_points.append(sampled_point)\n",
    "        sampled_mults.append(sampled_mult)\n",
    "    return jnp.stack(sampled_points), jnp.stack(sampled_mults)"
   ]
  },
  {
   "cell_type": "code",
   "execution_count": null,
   "metadata": {},
   "outputs": [],
   "source": []
  }
 ],
 "metadata": {
  "kernelspec": {
   "display_name": "jax311",
   "language": "python",
   "name": "python3"
  },
  "language_info": {
   "codemirror_mode": {
    "name": "ipython",
    "version": 3
   },
   "file_extension": ".py",
   "mimetype": "text/x-python",
   "name": "python",
   "nbconvert_exporter": "python",
   "pygments_lexer": "ipython3",
   "version": "3.11.9"
  }
 },
 "nbformat": 4,
 "nbformat_minor": 2
}
