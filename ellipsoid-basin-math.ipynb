{
 "cells": [
  {
   "cell_type": "code",
   "execution_count": 47,
   "metadata": {},
   "outputs": [],
   "source": [
    "import numpy as np\n",
    "\n",
    "import matplotlib.pyplot as plt"
   ]
  },
  {
   "cell_type": "code",
   "execution_count": 17,
   "metadata": {},
   "outputs": [],
   "source": [
    "d = 1000\n",
    "A_diag = np.exp(np.random.normal(size=(d)))"
   ]
  },
  {
   "cell_type": "code",
   "execution_count": 18,
   "metadata": {},
   "outputs": [
    {
     "data": {
      "text/plain": [
       "(np.float64(1.6949800788650446), np.float64(0.9973603200322416))"
      ]
     },
     "execution_count": 18,
     "metadata": {},
     "output_type": "execute_result"
    }
   ],
   "source": [
    "A_diag.mean(), np.exp(np.log(A_diag).mean())"
   ]
  },
  {
   "cell_type": "code",
   "execution_count": 19,
   "metadata": {},
   "outputs": [
    {
     "data": {
      "text/plain": [
       "np.float64(1.6487212707001282)"
      ]
     },
     "execution_count": 19,
     "metadata": {},
     "output_type": "execute_result"
    }
   ],
   "source": [
    "np.exp(1/2)"
   ]
  },
  {
   "cell_type": "code",
   "execution_count": 15,
   "metadata": {},
   "outputs": [],
   "source": [
    "A = np.diag(A_diag)"
   ]
  },
  {
   "cell_type": "markdown",
   "metadata": {},
   "source": [
    "$$\n",
    "f(x) = x^T A x \\\\\n",
    "\\text{want: volume where} f(x) < 1 \\\\\n",
    "\\text{axis radii:} A_i r_i^2 = 1 \\\\\n",
    "r_i = A_i^{-1/2}\\\\\n",
    "vol \\sim \\prod_i r_i = \\exp(-1/2 \\sum_i \\log A_i)\\\\\n",
    "logvol = -1/2 \\sum_i \\log A_i + C\\\\\n",
    "\\approx -\\tfrac d2 E[\\log A_i] + C\n",
    "$$\n",
    "\n",
    "Naive estimator:\n",
    "$$\n",
    "u_i \\sim N(0, 1/d)\\\\\n",
    "x_i = r u_i\\\\\n",
    "f(x) = x_i A_ij x_j = \\sum_i A_i x_i^2\\\\\n",
    "\\approx  \\sum_i A_i r^2 / d = 1\\\\\n",
    "r \\approx \\sqrt{d / \\sum_i A_i}\\\\\n",
    "\\approx \\sqrt{1 / E[A_i]}\\\\\n",
    "\\log r \\approx -1/2 \\log E[A_i]\\\\\n",
    "logvol = d \\log r + C \\approx -\\tfrac d2 \\log E[A_i] + C\n",
    "$$"
   ]
  },
  {
   "cell_type": "code",
   "execution_count": 50,
   "metadata": {},
   "outputs": [
    {
     "data": {
      "image/png": "[encoded data removed]",
      "text/plain": [
       "<Figure size 640x480 with 1 Axes>"
      ]
     },
     "metadata": {},
     "output_type": "display_data"
    }
   ],
   "source": [
    "plt.plot(np.sort(A_diag))\n",
    "plt.yscale('log')\n",
    "plt.show()"
   ]
  },
  {
   "cell_type": "markdown",
   "metadata": {},
   "source": [
    "# Estimators"
   ]
  },
  {
   "cell_type": "markdown",
   "metadata": {},
   "source": [
    "Spherical"
   ]
  },
  {
   "cell_type": "code",
   "execution_count": 44,
   "metadata": {},
   "outputs": [
    {
     "name": "stdout",
     "output_type": "stream",
     "text": [
      "1.6938282186236218 0.09976510158544534 1.6949800788650446\n",
      "0.769348754034222 0.022423761619716504 -0.26263728867901676 0.029233769165452724\n"
     ]
    },
    {
     "data": {
      "text/plain": [
       "(np.float64(-262.6372886790168),\n",
       " np.float64(29.233769165452724),\n",
       " np.float64(0.2923376916545272))"
      ]
     },
     "execution_count": 44,
     "metadata": {},
     "output_type": "execute_result"
    }
   ],
   "source": [
    "n_samples = 10_000\n",
    "vecs = np.random.normal(size=(n_samples, d))\n",
    "vecs /= np.linalg.norm(vecs, axis=1, keepdims=True)\n",
    "unscaled_f = np.sum(A_diag * vecs**2, axis=1)\n",
    "print(unscaled_f.mean(), unscaled_f.std(), A_diag.mean())\n",
    "r_squared = 1 / unscaled_f\n",
    "r = np.sqrt(r_squared)\n",
    "print(r.mean(), r.std(), np.log(r).mean(), np.log(r).std())\n",
    "logvol = d * np.log(r)\n",
    "logvol.mean(), logvol.std(), logvol.std() / np.sqrt(n_samples)"
   ]
  },
  {
   "cell_type": "markdown",
   "metadata": {},
   "source": [
    "Axis-aligned"
   ]
  },
  {
   "cell_type": "code",
   "execution_count": 46,
   "metadata": {},
   "outputs": [
    {
     "data": {
      "text/plain": [
       "(np.float64(1.3215850330529575), np.float64(517.390097144195))"
      ]
     },
     "execution_count": 46,
     "metadata": {},
     "output_type": "execute_result"
    }
   ],
   "source": [
    "logvol = -d/2 * np.log(A_diag)\n",
    "logvol.mean(), logvol.std()"
   ]
  },
  {
   "cell_type": "code",
   "execution_count": 45,
   "metadata": {},
   "outputs": [
    {
     "data": {
      "text/plain": [
       "np.float64(-263.83549394068416)"
      ]
     },
     "execution_count": 45,
     "metadata": {},
     "output_type": "execute_result"
    }
   ],
   "source": [
    "-d/2 * np.log(np.mean(A_diag))"
   ]
  },
  {
   "cell_type": "code",
   "execution_count": 38,
   "metadata": {},
   "outputs": [
    {
     "data": {
      "text/plain": [
       "np.float64(1.3215850330529575)"
      ]
     },
     "execution_count": 38,
     "metadata": {},
     "output_type": "execute_result"
    }
   ],
   "source": [
    "-d/2 * np.log(A_diag).mean()"
   ]
  },
  {
   "cell_type": "code",
   "execution_count": 40,
   "metadata": {},
   "outputs": [
    {
     "data": {
      "text/plain": [
       "-250.0"
      ]
     },
     "execution_count": 40,
     "metadata": {},
     "output_type": "execute_result"
    }
   ],
   "source": [
    "# large d limit of naive spherical estimator\n",
    "-d/2 * (1/2)"
   ]
  },
  {
   "cell_type": "code",
   "execution_count": 41,
   "metadata": {},
   "outputs": [
    {
     "data": {
      "text/plain": [
       "-0.0"
      ]
     },
     "execution_count": 41,
     "metadata": {},
     "output_type": "execute_result"
    }
   ],
   "source": [
    "# large d limit of axis-aligned estimator\n",
    "-d/2 * 0"
   ]
  },
  {
   "cell_type": "code",
   "execution_count": null,
   "metadata": {},
   "outputs": [],
   "source": []
  }
 ],
 "metadata": {
  "kernelspec": {
   "display_name": "jax311",
   "language": "python",
   "name": "python3"
  },
  "language_info": {
   "codemirror_mode": {
    "name": "ipython",
    "version": 3
   },
   "file_extension": ".py",
   "mimetype": "text/x-python",
   "name": "python",
   "nbconvert_exporter": "python",
   "pygments_lexer": "ipython3",
   "version": "3.11.9"
  }
 },
 "nbformat": 4,
 "nbformat_minor": 2
}
