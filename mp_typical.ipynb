{
 "cells": [
  {
   "cell_type": "code",
   "execution_count": 1,
   "metadata": {},
   "outputs": [
    {
     "name": "stderr",
     "output_type": "stream",
     "text": [
      "/home/adam/.conda/envs/jax_py311/lib/python3.11/site-packages/tqdm/auto.py:21: TqdmWarning: IProgress not found. Please update jupyter and ipywidgets. See https://ipywidgets.readthedocs.io/en/stable/user_install.html\n",
      "  from .autonotebook import tqdm as notebook_tqdm\n"
     ]
    }
   ],
   "source": [
    "import meta_poisoning_typical as mp\n",
    "from mlp import *"
   ]
  },
  {
   "cell_type": "code",
   "execution_count": 2,
   "metadata": {},
   "outputs": [],
   "source": [
    "import jax"
   ]
  },
  {
   "cell_type": "code",
   "execution_count": 3,
   "metadata": {},
   "outputs": [
    {
     "data": {
      "text/plain": [
       "<module 'meta_poisoning_typical' from '/home/adam/src/sgdensity/meta_poisoning_typical.py'>"
      ]
     },
     "execution_count": 3,
     "metadata": {},
     "output_type": "execute_result"
    }
   ],
   "source": [
    "from importlib import reload\n",
    "reload(mp)"
   ]
  },
  {
   "cell_type": "markdown",
   "metadata": {},
   "source": [
    "# 09-24"
   ]
  },
  {
   "cell_type": "code",
   "execution_count": 4,
   "metadata": {},
   "outputs": [],
   "source": [
    "cfg = mp.MetaConfig(num_layers=1, weird_xent=True)"
   ]
  },
  {
   "cell_type": "code",
   "execution_count": 7,
   "metadata": {},
   "outputs": [],
   "source": [
    "seed = 0\n",
    "\n",
    "if cfg.task == \"digits\":\n",
    "    # Load data\n",
    "    X, Y = mp.load_digits(return_X_y=True)\n",
    "    X = X / 16.0  # Normalize\n",
    "\n",
    "    # Split data into \"train\" and \"test\" sets\n",
    "    X_nontest, X_test, Y_nontest, Y_test = mp.train_test_split(\n",
    "        X, Y, test_size=261, random_state=0, stratify=Y,\n",
    "    )\n",
    "\n",
    "    X_train, X_untrain, Y_train, Y_untrain = mp.train_test_split(\n",
    "        X_nontest, Y_nontest, test_size=768, random_state=0, stratify=Y_nontest,\n",
    "    )\n",
    "    \n",
    "    d_inner = X.shape[1]\n",
    "\n",
    "    model = MLP(hidden_sizes=(d_inner,) * cfg.num_layers, out_features=10, norm_scale=cfg.norm_scale)\n",
    "else:\n",
    "    raise ValueError(f\"Unknown task: {cfg.task}\")"
   ]
  },
  {
   "cell_type": "code",
   "execution_count": 8,
   "metadata": {},
   "outputs": [
    {
     "name": "stderr",
     "output_type": "stream",
     "text": [
      "2024-09-25 18:15:41.683053: W external/xla/xla/service/gpu/nvptx_compiler.cc:836] The NVIDIA driver's CUDA version is 12.2 which is older than the PTX compiler version (12.6.68). Because the driver is older than the PTX compiler version, XLA is disabling parallel compilation, which may slow down compilation. You should update your NVIDIA driver or use the NVIDIA-provided CUDA forward compatibility packages.\n"
     ]
    }
   ],
   "source": [
    "key = jax.random.key(seed)\n",
    "\n",
    "params_init = model.init(key, X_nontest)\n",
    "\n",
    "params_init = Params(params_init)"
   ]
  },
  {
   "cell_type": "code",
   "execution_count": 9,
   "metadata": {},
   "outputs": [],
   "source": [
    "with open('pinit_0924_fast_unx.npy', 'rb') as f:\n",
    "    params_mp = Params(jnp.load(f, allow_pickle=True), params_init.unravel)"
   ]
  },
  {
   "cell_type": "code",
   "execution_count": 10,
   "metadata": {},
   "outputs": [
    {
     "data": {
      "text/plain": [
       "((4810,), (4810,))"
      ]
     },
     "execution_count": 10,
     "metadata": {},
     "output_type": "execute_result"
    }
   ],
   "source": [
    "params_init.raveled.shape, params_mp.raveled.shape"
   ]
  },
  {
   "cell_type": "code",
   "execution_count": 11,
   "metadata": {},
   "outputs": [
    {
     "name": "stdout",
     "output_type": "stream",
     "text": [
      "Dense_0\n",
      "0.89430004\n",
      "0.54051656\n",
      "1.6545285\n",
      "Dense_1\n",
      "1.2066885\n",
      "0.2697095\n",
      "4.4740305\n",
      "\n",
      "init\n",
      "Dense_0\n",
      "0.1232844\n",
      "0.07370406\n",
      "1.6726949\n",
      "Dense_1\n",
      "0.12716304\n",
      "0.06514513\n",
      "1.9519962\n"
     ]
    }
   ],
   "source": [
    "for layer in params_mp.unraveled['params']:\n",
    "    print(layer)\n",
    "    ker_std = jnp.std(params_mp.unraveled['params'][layer]['kernel'])\n",
    "    print(ker_std)\n",
    "    bias_std = jnp.std(params_mp.unraveled['params'][layer]['bias'])\n",
    "    print(bias_std)\n",
    "    print(ker_std / bias_std)\n",
    "\n",
    "print(\"\\ninit\")\n",
    "for layer in params_init.unraveled['params']:\n",
    "    print(layer)\n",
    "    ker_std = jnp.std(params_init.unraveled['params'][layer]['kernel'])\n",
    "    print(ker_std)\n",
    "    bias_std = jnp.std(params_init.unraveled['params'][layer]['bias'])\n",
    "    print(bias_std)\n",
    "    print(ker_std / bias_std)"
   ]
  },
  {
   "cell_type": "code",
   "execution_count": 12,
   "metadata": {},
   "outputs": [],
   "source": [
    "def metrics(params, x, y):\n",
    "    logits = model.apply(params.unraveled, x)\n",
    "    preds = jnp.argmax(logits, axis=1)\n",
    "\n",
    "    loss = mp.sparse_xent(logits, y).mean()\n",
    "    acc = jnp.mean(preds == y)\n",
    "    return loss, acc"
   ]
  },
  {
   "cell_type": "code",
   "execution_count": 13,
   "metadata": {},
   "outputs": [
    {
     "name": "stdout",
     "output_type": "stream",
     "text": [
      "mp train\n",
      "(Array(13.829997, dtype=float32), Array(0.125, dtype=float32))\n",
      "mp untrain\n",
      "(Array(15.197811, dtype=float32), Array(0.10416667, dtype=float32))\n",
      "mp test\n",
      "(Array(14.987979, dtype=float32), Array(0.08429118, dtype=float32))\n",
      "init train\n",
      "(Array(2.4343934, dtype=float32), Array(0.05859375, dtype=float32))\n",
      "init untrain\n",
      "(Array(2.4380255, dtype=float32), Array(0.06119792, dtype=float32))\n",
      "init test\n",
      "(Array(2.4398324, dtype=float32), Array(0.0651341, dtype=float32))\n"
     ]
    }
   ],
   "source": [
    "for paramset in [\"mp\", \"init\"]:\n",
    "    for dataset in [\"train\", \"untrain\", \"test\"]:\n",
    "        print(f\"{paramset} {dataset}\")\n",
    "        if paramset == \"mp\":\n",
    "            params = params_mp\n",
    "        else:\n",
    "            params = params_init\n",
    "        if dataset == \"train\":\n",
    "            x, y = X_train, Y_train\n",
    "        elif dataset == \"untrain\":\n",
    "            x, y = X_untrain, Y_untrain\n",
    "        elif dataset == \"test\":\n",
    "            x, y = X_test, Y_test\n",
    "        print(metrics(params, x, y))"
   ]
  },
  {
   "cell_type": "code",
   "execution_count": 14,
   "metadata": {},
   "outputs": [
    {
     "data": {
      "text/plain": [
       "(Array(65.42086, dtype=float32), Array(8.591905, dtype=float32))"
      ]
     },
     "execution_count": 14,
     "metadata": {},
     "output_type": "execute_result"
    }
   ],
   "source": [
    "ellipsoid_norm(params_mp), ellipsoid_norm(params_init)"
   ]
  },
  {
   "cell_type": "code",
   "execution_count": 15,
   "metadata": {},
   "outputs": [
    {
     "name": "stdout",
     "output_type": "stream",
     "text": [
      "1.3152938 2.629514 3.5540023 0.001073502\n"
     ]
    },
    {
     "data": {
      "text/plain": [
       "Array(66.82262, dtype=float32)"
      ]
     },
     "execution_count": 15,
     "metadata": {},
     "output_type": "execute_result"
    }
   ],
   "source": [
    "\n",
    "apply_fn = mp.make_apply_full(model, params_mp.unravel)\n",
    "poison_loss, (untrain_loss, test_loss, train_loss), state = mp.train(\n",
    "    params_mp.raveled, X_train, Y_train, X_untrain, Y_untrain, X_test, Y_test, apply_fn, cfg,\n",
    "    return_state=True,\n",
    ")\n",
    "print(poison_loss, untrain_loss, test_loss, train_loss)\n",
    "\n",
    "params_mp_final = Params(state.params['p'], params_mp.unravel)\n",
    "ellipsoid_norm(params_mp_final)"
   ]
  },
  {
   "cell_type": "code",
   "execution_count": 16,
   "metadata": {},
   "outputs": [
    {
     "name": "stdout",
     "output_type": "stream",
     "text": [
      "1.5973504 3.1626384 0.2066748 0.032062367\n"
     ]
    }
   ],
   "source": [
    "\n",
    "apply_fn = mp.make_apply_full(model, params_init.unravel)\n",
    "poison_loss, (untrain_loss, test_loss, train_loss) = mp.train(\n",
    "    params_init.raveled, X_train, Y_train, X_untrain, Y_untrain, X_test, Y_test, apply_fn, cfg,\n",
    ")\n",
    "print(poison_loss, untrain_loss, test_loss, train_loss)"
   ]
  },
  {
   "cell_type": "code",
   "execution_count": 17,
   "metadata": {},
   "outputs": [
    {
     "name": "stdout",
     "output_type": "stream",
     "text": [
      "1.6026708 3.1223788 0.38736975 0.082962796\n"
     ]
    }
   ],
   "source": [
    "\n",
    "apply_fn = mp.make_apply_full(model, params_init.unravel)\n",
    "poison_loss, (untrain_loss, test_loss, train_loss), state = mp.train(\n",
    "    params_init.raveled, X_train, Y_train, X_untrain, Y_untrain, X_test, Y_test, apply_fn, cfg,\n",
    "    target_norm=ellipsoid_norm(params_mp), unravel=params_init.unravel, return_state=True,\n",
    ")\n",
    "print(poison_loss, untrain_loss, test_loss, train_loss)"
   ]
  },
  {
   "cell_type": "code",
   "execution_count": 18,
   "metadata": {},
   "outputs": [
    {
     "data": {
      "text/plain": [
       "Array(65.42086, dtype=float32)"
      ]
     },
     "execution_count": 18,
     "metadata": {},
     "output_type": "execute_result"
    }
   ],
   "source": [
    "params_final = Params(state.params['p'], params_init.unravel)\n",
    "ellipsoid_norm(params_final)"
   ]
  },
  {
   "cell_type": "code",
   "execution_count": 19,
   "metadata": {},
   "outputs": [
    {
     "name": "stdout",
     "output_type": "stream",
     "text": [
      "(Array(0.00107342, dtype=float32), Array(1., dtype=float32))\n",
      "(Array(6.434123, dtype=float32), Array(0.3932292, dtype=float32))\n",
      "(Array(3.5540023, dtype=float32), Array(0.6819923, dtype=float32))\n",
      "\n",
      "(Array(0.08294203, dtype=float32), Array(0.98307294, dtype=float32))\n",
      "(Array(0.31243584, dtype=float32), Array(0.9231771, dtype=float32))\n",
      "(Array(0.38736975, dtype=float32), Array(0.90804595, dtype=float32))\n"
     ]
    }
   ],
   "source": [
    "print(metrics(params_mp_final, X_train, Y_train))\n",
    "print(metrics(params_mp_final, X_untrain, Y_untrain))\n",
    "print(metrics(params_mp_final, X_test, Y_test))\n",
    "print()\n",
    "print(metrics(params_final, X_train, Y_train))\n",
    "print(metrics(params_final, X_untrain, Y_untrain))\n",
    "print(metrics(params_final, X_test, Y_test))"
   ]
  },
  {
   "cell_type": "code",
   "execution_count": 36,
   "metadata": {},
   "outputs": [],
   "source": [
    "with open('pinit_0924_beta.npy', 'rb') as f:\n",
    "    params_mp_beta = Params(jnp.load(f, allow_pickle=True), params_init.unravel)"
   ]
  },
  {
   "cell_type": "code",
   "execution_count": 37,
   "metadata": {},
   "outputs": [
    {
     "name": "stdout",
     "output_type": "stream",
     "text": [
      "(Array(9.270195, dtype=float32), Array(0.109375, dtype=float32))\n",
      "(Array(10.75273, dtype=float32), Array(0.10026042, dtype=float32))\n",
      "(Array(10.458572, dtype=float32), Array(0.10344827, dtype=float32))\n"
     ]
    }
   ],
   "source": [
    "print(metrics(params_mp_beta, X_train, Y_train))\n",
    "print(metrics(params_mp_beta, X_untrain, Y_untrain))\n",
    "print(metrics(params_mp_beta, X_test, Y_test))"
   ]
  },
  {
   "cell_type": "code",
   "execution_count": 38,
   "metadata": {},
   "outputs": [
    {
     "name": "stdout",
     "output_type": "stream",
     "text": [
      "1.2472287 2.432509 3.3163686 0.06194843\n",
      "71.86641\n",
      "(Array(0.06190597, dtype=float32), Array(0.9934896, dtype=float32))\n",
      "(Array(6.459947, dtype=float32), Array(0.1888021, dtype=float32))\n",
      "(Array(3.3163686, dtype=float32), Array(0.52873564, dtype=float32))\n"
     ]
    }
   ],
   "source": [
    "poison_loss, (untrain_loss, test_loss, train_loss), state = mp.train(\n",
    "    params_mp_beta.raveled, X_train, Y_train, X_untrain, Y_untrain, X_test, Y_test, apply_fn, cfg,\n",
    "    return_state=True,\n",
    ")\n",
    "print(poison_loss, untrain_loss, test_loss, train_loss)\n",
    "\n",
    "params_mp_beta_final = Params(state.params['p'], params_mp_beta.unravel)\n",
    "print(ellipsoid_norm(params_mp_beta_final))\n",
    "print(metrics(params_mp_beta_final, X_train, Y_train))\n",
    "print(metrics(params_mp_beta_final, X_untrain, Y_untrain))\n",
    "print(metrics(params_mp_beta_final, X_test, Y_test))"
   ]
  },
  {
   "cell_type": "code",
   "execution_count": 42,
   "metadata": {},
   "outputs": [
    {
     "name": "stdout",
     "output_type": "stream",
     "text": [
      "(Array(2.5681047, dtype=float32), Array(0.22526042, dtype=float32))\n",
      "(Array(3.6083674, dtype=float32), Array(0.12369792, dtype=float32))\n",
      "(Array(3.136961, dtype=float32), Array(0.16858236, dtype=float32))\n"
     ]
    }
   ],
   "source": [
    "with open('pinit_0924_temp10.npy', 'rb') as f:\n",
    "    params_mp_temp10 = Params(jnp.load(f, allow_pickle=True), params_init.unravel)\n",
    "print(metrics(params_mp_temp10, X_train, Y_train))\n",
    "print(metrics(params_mp_temp10, X_untrain, Y_untrain))\n",
    "print(metrics(params_mp_temp10, X_test, Y_test))"
   ]
  },
  {
   "cell_type": "code",
   "execution_count": 43,
   "metadata": {},
   "outputs": [
    {
     "name": "stdout",
     "output_type": "stream",
     "text": [
      "1.3344964 2.6363978 1.115871 0.032595\n",
      "52.805744\n",
      "(Array(0.03258885, dtype=float32), Array(1., dtype=float32))\n",
      "(Array(2.141078, dtype=float32), Array(0.42578125, dtype=float32))\n",
      "(Array(1.115871, dtype=float32), Array(0.6781609, dtype=float32))\n"
     ]
    }
   ],
   "source": [
    "poison_loss, (untrain_loss, test_loss, train_loss), state = mp.train(\n",
    "    params_mp_temp10.raveled, X_train, Y_train, X_untrain, Y_untrain, X_test, Y_test, apply_fn, cfg,\n",
    "    return_state=True,\n",
    ")\n",
    "print(poison_loss, untrain_loss, test_loss, train_loss)\n",
    "\n",
    "params_mp_temp10_final = Params(state.params['p'], params_mp_temp10.unravel)\n",
    "print(ellipsoid_norm(params_mp_temp10_final))\n",
    "print(metrics(params_mp_temp10_final, X_train, Y_train))\n",
    "print(metrics(params_mp_temp10_final, X_untrain, Y_untrain))\n",
    "print(metrics(params_mp_temp10_final, X_test, Y_test))"
   ]
  },
  {
   "cell_type": "code",
   "execution_count": 44,
   "metadata": {},
   "outputs": [
    {
     "name": "stdout",
     "output_type": "stream",
     "text": [
      "1.5982022 3.1423912 0.26220772 0.054013327\n"
     ]
    }
   ],
   "source": [
    "\n",
    "apply_fn = mp.make_apply_full(model, params_init.unravel)\n",
    "poison_loss, (untrain_loss, test_loss, train_loss), state = mp.train(\n",
    "    params_init.raveled, X_train, Y_train, X_untrain, Y_untrain, X_test, Y_test, apply_fn, cfg,\n",
    "    target_norm=ellipsoid_norm(params_mp_temp10), unravel=params_init.unravel, return_state=True,\n",
    ")\n",
    "print(poison_loss, untrain_loss, test_loss, train_loss)"
   ]
  },
  {
   "cell_type": "code",
   "execution_count": 26,
   "metadata": {},
   "outputs": [
    {
     "name": "stdout",
     "output_type": "stream",
     "text": [
      "(Array(3.6107712, dtype=float32), Array(0.234375, dtype=float32))\n",
      "(Array(4.75563, dtype=float32), Array(0.13151042, dtype=float32))\n",
      "(Array(4.0160975, dtype=float32), Array(0.16858236, dtype=float32))\n",
      "48.91086\n"
     ]
    }
   ],
   "source": [
    "with open('pinit_0924_temp30.npy', 'rb') as f:\n",
    "    params_init_temp30 = Params(jnp.load(f, allow_pickle=True), params_init.unravel)\n",
    "print(metrics(params_init_temp30, X_train, Y_train))\n",
    "print(metrics(params_init_temp30, X_untrain, Y_untrain))\n",
    "print(metrics(params_init_temp30, X_test, Y_test))\n",
    "\n",
    "print(ellipsoid_norm(params_init_temp30))"
   ]
  },
  {
   "cell_type": "code",
   "execution_count": 29,
   "metadata": {},
   "outputs": [
    {
     "name": "stdout",
     "output_type": "stream",
     "text": [
      "1.3372502 2.6625676 1.0447685 0.011932822\n",
      "50.174908\n",
      "(Array(0.01193103, dtype=float32), Array(1., dtype=float32))\n",
      "(Array(2.1693647, dtype=float32), Array(0.4388021, dtype=float32))\n",
      "(Array(1.0447685, dtype=float32), Array(0.72796935, dtype=float32))\n"
     ]
    }
   ],
   "source": [
    "poison_loss, (untrain_loss, test_loss, train_loss), state = mp.train(\n",
    "    params_init_temp30.raveled, X_train, Y_train, X_untrain, Y_untrain, X_test, Y_test, apply_fn, cfg,\n",
    "    return_state=True,\n",
    ")\n",
    "print(poison_loss, untrain_loss, test_loss, train_loss)\n",
    "params_init_temp30_final = Params(state.params['p'], params_init_temp30.unravel)\n",
    "print(ellipsoid_norm(params_init_temp30_final))\n",
    "\n",
    "print(metrics(params_init_temp30_final, X_train, Y_train))\n",
    "print(metrics(params_init_temp30_final, X_untrain, Y_untrain))\n",
    "print(metrics(params_init_temp30_final, X_test, Y_test))"
   ]
  },
  {
   "cell_type": "code",
   "execution_count": 27,
   "metadata": {},
   "outputs": [
    {
     "name": "stdout",
     "output_type": "stream",
     "text": [
      "1.5982733 3.1450882 0.24960268 0.051458344\n"
     ]
    }
   ],
   "source": [
    "poison_loss, (untrain_loss, test_loss, train_loss), state = mp.train(\n",
    "    params_init.raveled, X_train, Y_train, X_untrain, Y_untrain, X_test, Y_test, apply_fn, cfg,\n",
    "    target_norm=ellipsoid_norm(params_init_temp30), unravel=params_init.unravel, return_state=True,\n",
    ")\n",
    "print(poison_loss, untrain_loss, test_loss, train_loss)"
   ]
  },
  {
   "cell_type": "markdown",
   "metadata": {},
   "source": [
    "## Basin radius"
   ]
  },
  {
   "cell_type": "code",
   "execution_count": 26,
   "metadata": {},
   "outputs": [
    {
     "data": {
      "text/plain": [
       "(1, 4810)"
      ]
     },
     "execution_count": 26,
     "metadata": {},
     "output_type": "execute_result"
    }
   ],
   "source": [
    "random_direction = jax.random.normal(jax.random.key(seed), shape=params_mp.raveled.shape)\n",
    "random_direction /= jnp.linalg.norm(random_direction)\n",
    "random_direction = jnp.expand_dims(random_direction, axis=0)\n",
    "random_direction.shape"
   ]
  },
  {
   "cell_type": "markdown",
   "metadata": {},
   "source": [
    "# 09-20"
   ]
  },
  {
   "cell_type": "code",
   "execution_count": 4,
   "metadata": {},
   "outputs": [
    {
     "name": "stderr",
     "output_type": "stream",
     "text": [
      "2024-09-21 01:16:26.465356: W external/xla/xla/service/gpu/nvptx_compiler.cc:836] The NVIDIA driver's CUDA version is 12.2 which is older than the PTX compiler version (12.6.68). Because the driver is older than the PTX compiler version, XLA is disabling parallel compilation, which may slow down compilation. You should update your NVIDIA driver or use the NVIDIA-provided CUDA forward compatibility packages.\n"
     ]
    },
    {
     "data": {
      "text/plain": [
       "{'Dense_0': {'kernel': Array([[ 0.08502878, -0.07660222,  0.14851311, ..., -0.15960957,\n",
       "          -0.47247475,  0.24392404],\n",
       "         [-0.5197594 ,  0.29568127,  0.40953675, ..., -0.39873227,\n",
       "          -0.38933071,  0.02376415],\n",
       "         [-0.00659077, -0.20023757, -0.06835359, ...,  0.2437357 ,\n",
       "           0.2736246 ,  0.24239159],\n",
       "         ...,\n",
       "         [ 0.00982806,  0.24898066, -0.30233094, ...,  0.16014011,\n",
       "           0.13457227,  0.17770955],\n",
       "         [-0.02186053, -0.27869353,  0.10522984, ..., -0.41000146,\n",
       "           0.06080976, -0.23033434],\n",
       "         [ 0.12137023, -0.13249858, -0.2501013 , ..., -0.1289176 ,\n",
       "           0.18719564, -0.16156396]], dtype=float32),\n",
       "  'bias': Array([-0.3087975 , -0.10901368,  0.08813022, -0.02471822,  0.01553636,\n",
       "          0.03097359,  0.01070679, -0.09311437,  0.10348435, -0.00330067,\n",
       "          0.03199795, -0.10143498, -0.18882768, -0.2917246 ,  0.20614561,\n",
       "          0.15992309,  0.16927998, -0.04964967, -0.11802278,  0.1336633 ,\n",
       "          0.0639345 , -0.01870594, -0.04288657,  0.05345773,  0.00729618,\n",
       "          0.06328592, -0.31534958,  0.26032963, -0.05541256,  0.04622957,\n",
       "          0.15447299, -0.12206127, -0.00215791,  0.129351  ,  0.09050193,\n",
       "         -0.11725695, -0.2882832 ,  0.18509308, -0.12898386,  0.00560737,\n",
       "         -0.06377922,  0.07888091,  0.0108035 , -0.11134562,  0.2248033 ,\n",
       "         -0.04354586, -0.27260306, -0.06653959, -0.08060531, -0.18900584,\n",
       "         -0.07355681,  0.16759658,  0.03784098, -0.40416643, -0.22315021,\n",
       "         -0.24255575,  0.22419883,  0.09573599,  0.03576745, -0.12953925,\n",
       "         -0.17629261,  0.10477444,  0.05382878, -0.00436817], dtype=float32)},\n",
       " 'Dense_1': {'kernel': Array([[ 0.65237474,  0.31020838, -0.18003416, ..., -0.12572381,\n",
       "          -0.17429748, -0.16607489],\n",
       "         [ 0.08113615,  0.00194367,  0.4882626 , ...,  0.50364864,\n",
       "           0.16948178,  0.08599484],\n",
       "         [ 0.04756701,  0.10674785, -0.13483118, ...,  0.16661939,\n",
       "          -0.24177785, -0.21546958],\n",
       "         ...,\n",
       "         [ 0.1871829 ,  0.1809054 ,  0.29188767, ...,  0.18346371,\n",
       "           0.14622857,  0.0299348 ],\n",
       "         [-0.11664155,  0.1318635 ,  0.1567024 , ...,  0.30994707,\n",
       "           0.05036554, -0.34300265],\n",
       "         [-0.02439664,  0.14676714,  0.43709564, ...,  0.23237932,\n",
       "           0.07289925,  0.2529578 ]], dtype=float32),\n",
       "  'bias': Array([ 1.67730466e-01, -1.45864993e-01, -1.04167767e-01, -7.88994133e-02,\n",
       "          2.30623744e-02,  8.71506259e-02,  3.24630029e-02, -2.11543161e-02,\n",
       "          2.21999772e-02, -1.12254985e-01,  1.84045061e-01,  6.98995739e-02,\n",
       "         -4.86631924e-03,  2.01919004e-02, -1.11716226e-01, -1.41894683e-01,\n",
       "         -2.01448854e-02,  1.45300347e-02, -6.78830454e-03,  3.03120226e-01,\n",
       "         -5.29041626e-02,  1.14544973e-01, -1.09854385e-01, -9.65715945e-02,\n",
       "         -6.00299127e-02,  2.86775697e-02,  4.85477550e-03, -1.85334727e-01,\n",
       "         -1.57312676e-01,  7.62138218e-02, -1.81680828e-01, -2.26747822e-02,\n",
       "         -1.35570869e-01,  1.02322280e-01,  1.23580709e-01,  1.61511540e-01,\n",
       "         -2.45010597e-03, -8.39327946e-02, -8.30279589e-02,  1.71206705e-02,\n",
       "          2.31897682e-02, -6.99752644e-02,  3.05468166e-05, -3.82971078e-01,\n",
       "          2.08967000e-01,  3.52927856e-02, -9.52532068e-02, -7.83794820e-02,\n",
       "         -2.03728944e-01,  1.65729113e-02,  1.53327078e-01, -3.63988101e-01,\n",
       "          4.53096069e-02,  2.04880670e-01,  1.13903403e-01, -3.36595960e-02,\n",
       "          5.09632081e-02, -5.24739129e-03, -1.55083746e-01,  4.03809726e-01,\n",
       "         -5.49391983e-03,  8.39345977e-02,  1.20133504e-01,  9.68807042e-02],      dtype=float32)},\n",
       " 'Dense_2': {'kernel': Array([[ 0.17461228, -0.39512438,  0.38057002, ..., -0.47006395,\n",
       "          -0.30412093, -0.355576  ],\n",
       "         [ 0.25634304,  0.18253298, -0.01619541, ...,  0.00329363,\n",
       "           0.24555685,  0.16726266],\n",
       "         [ 0.19176139,  0.09760185,  0.29721525, ..., -0.3122411 ,\n",
       "           0.42510217, -0.20052825],\n",
       "         ...,\n",
       "         [-0.10751739, -0.6654904 , -0.40904754, ...,  0.02235674,\n",
       "           0.07850954, -0.11543249],\n",
       "         [-0.11643493,  0.1144818 ,  0.17746882, ...,  0.06012031,\n",
       "          -0.08282236,  0.00639353],\n",
       "         [ 0.06547616,  0.08162365,  0.35095364, ..., -0.12292109,\n",
       "           0.05649829,  0.16223417]], dtype=float32),\n",
       "  'bias': Array([-0.1246985 , -0.03723127,  0.19854712, -0.01156442,  0.2194996 ,\n",
       "          0.05373669,  0.14075632, -0.13209742, -0.32226345,  0.24680617,\n",
       "         -0.14405392,  0.01305335,  0.20787174, -0.27248767, -0.02085817,\n",
       "          0.09740713,  0.03511381,  0.09257728,  0.03438537,  0.03532994,\n",
       "          0.1229919 ,  0.02721596, -0.09738831, -0.0571064 , -0.06672598,\n",
       "         -0.03163442, -0.00706517,  0.0077082 ,  0.0362522 ,  0.09155892,\n",
       "          0.10884392, -0.01622783,  0.2203579 ,  0.14993928, -0.14001611,\n",
       "         -0.2820013 ,  0.01319419, -0.10575175, -0.19131596,  0.13234057,\n",
       "         -0.05188773, -0.20789176, -0.03976451, -0.04098239,  0.14663641,\n",
       "          0.04555937, -0.21455072, -0.21584837,  0.20606445,  0.10684343,\n",
       "          0.2798072 ,  0.389183  ,  0.00386509,  0.10903332, -0.1383975 ,\n",
       "         -0.33434087,  0.02587713,  0.07330997, -0.0422411 , -0.11816683,\n",
       "         -0.37849396,  0.18134204,  0.0270901 , -0.03360482], dtype=float32)},\n",
       " 'Dense_3': {'kernel': Array([[ 0.15821972, -0.32266632, -0.3313248 , ..., -0.20194928,\n",
       "          -0.38281   ,  0.09123403],\n",
       "         [-0.01765367,  0.05714306,  0.07297844, ...,  0.26044473,\n",
       "           0.38362378,  0.00690976],\n",
       "         [-0.14259043,  0.53809035,  0.49753502, ..., -0.36140782,\n",
       "           0.01742013,  0.30072007],\n",
       "         ...,\n",
       "         [ 0.07410026, -0.18495722,  0.55447847, ..., -0.0294089 ,\n",
       "           0.00796026,  0.17991379],\n",
       "         [ 0.05088954, -0.07756761, -0.18468782, ..., -0.02816847,\n",
       "          -0.18202727, -0.23799624],\n",
       "         [ 0.2890047 ,  0.09138632, -0.28361228, ...,  0.21693848,\n",
       "           0.14615643,  0.11310264]], dtype=float32),\n",
       "  'bias': Array([ 0.08875555,  0.02860758, -0.10809535, -0.05574025,  0.04405138,\n",
       "         -0.3898236 ,  0.24698335,  0.2918439 ,  0.04499288, -0.10951261,\n",
       "         -0.05071657, -0.08428413, -0.03845918, -0.21011937, -0.14046964,\n",
       "         -0.08177091,  0.07491339, -0.12293173,  0.17040415,  0.08115542,\n",
       "         -0.04437808,  0.07080959,  0.0907886 , -0.06074484,  0.22220676,\n",
       "         -0.21653174, -0.0667701 ,  0.1458031 , -0.11515367,  0.05566398,\n",
       "          0.15719645, -0.18685356,  0.10654705,  0.20747747, -0.1122516 ,\n",
       "         -0.11863685,  0.0929407 ,  0.00307955,  0.1592929 , -0.13603926,\n",
       "         -0.0910275 , -0.1258797 , -0.02186527, -0.26075137,  0.24414733,\n",
       "         -0.13396698, -0.39045775,  0.02269157, -0.04572793, -0.12282534,\n",
       "          0.06369936, -0.05706046,  0.11148908,  0.24567966, -0.13015042,\n",
       "         -0.16370416,  0.17923896, -0.24970523,  0.03663014, -0.05630249,\n",
       "          0.00779545,  0.08311976,  0.20589611, -0.0757056 ], dtype=float32)},\n",
       " 'Dense_4': {'kernel': Array([[ 0.17527024, -0.10063743,  0.1771208 , ...,  0.20905174,\n",
       "           0.2262158 , -0.15299761],\n",
       "         [-0.2937614 , -0.02631028,  0.4466963 , ..., -0.27025607,\n",
       "          -0.06635415,  0.01460536],\n",
       "         [ 0.38842413,  0.09538203, -0.3635976 , ..., -0.15344992,\n",
       "          -0.08660556,  0.47010756],\n",
       "         ...,\n",
       "         [-0.23775248,  0.32364443, -0.6894674 , ..., -0.28365853,\n",
       "          -0.15003504, -0.06032984],\n",
       "         [ 0.0716747 , -0.21640772, -0.06696419, ...,  0.18573311,\n",
       "          -0.30129677, -0.09392306],\n",
       "         [-0.26089957,  0.13995484, -0.20127565, ..., -0.0998782 ,\n",
       "          -0.39188197, -0.29785278]], dtype=float32),\n",
       "  'bias': Array([-2.77315825e-02,  6.68700493e-04, -2.20621139e-01, -5.74853718e-02,\n",
       "         -5.69183491e-02,  1.71578139e-01, -1.58737488e-02, -2.86807138e-02,\n",
       "         -8.23269635e-02,  1.15995757e-01, -1.29289240e-01,  2.36127764e-01,\n",
       "         -2.69809574e-01, -1.16731003e-01,  1.90546528e-01, -2.64460891e-01,\n",
       "          2.28901491e-01, -2.77310193e-01,  9.77504998e-02,  3.64171453e-02,\n",
       "          1.40789291e-02, -1.58302858e-01,  2.44974390e-01, -5.17223626e-02,\n",
       "         -2.91919671e-02, -1.67996466e-01,  1.62688553e-01, -1.06261512e-04,\n",
       "         -3.62856537e-02, -3.04617941e-01, -1.23035096e-01, -9.00482386e-02,\n",
       "         -2.59978678e-02, -1.61849856e-01,  2.79731881e-02, -1.21058255e-01,\n",
       "         -3.10102522e-01,  1.28394872e-01,  3.72294597e-02,  1.15734145e-01,\n",
       "          1.04416087e-02,  8.70937482e-02,  1.11878566e-01, -4.94161807e-02,\n",
       "          1.04962252e-02, -1.64563149e-01, -1.31396621e-01, -2.69874722e-01,\n",
       "         -5.75216562e-02, -6.82253838e-02, -2.20710367e-01, -3.97639722e-02,\n",
       "          4.04455550e-02,  2.47574091e-01, -2.81176686e-01, -7.53801018e-02,\n",
       "         -1.24698080e-01,  9.58661437e-02, -4.33379076e-02, -5.33911474e-02,\n",
       "          2.01506600e-01,  1.25949711e-01, -1.88472345e-01,  1.68132365e-01],      dtype=float32)},\n",
       " 'Dense_5': {'kernel': Array([[ 0.38982058, -0.16281228, -0.08677065, ...,  0.08068429,\n",
       "          -0.04525408,  0.05766722],\n",
       "         [ 0.06825529, -0.31139943,  0.55493116, ..., -0.1009421 ,\n",
       "           0.2237367 , -0.05745316],\n",
       "         [ 0.13558999,  0.13857405,  0.06196876, ...,  0.19363502,\n",
       "          -0.3435783 , -0.202856  ],\n",
       "         ...,\n",
       "         [-0.1504627 ,  0.14001022,  0.26920876, ..., -0.11286292,\n",
       "          -0.2552344 ,  0.4030603 ],\n",
       "         [ 0.17439297, -0.30925605, -0.08050871, ...,  0.12010463,\n",
       "           0.20818469,  0.10801437],\n",
       "         [-0.11565327,  0.04720414, -0.2040491 , ..., -0.12519434,\n",
       "          -0.2409167 , -0.2620785 ]], dtype=float32),\n",
       "  'bias': Array([ 0.1854955 , -0.03885942, -0.15663545, -0.07768922,  0.07409177,\n",
       "         -0.04066084,  0.14864308,  0.28467402,  0.00907761,  0.07531657,\n",
       "          0.09178106, -0.19887406,  0.19006093,  0.28723827, -0.01565629,\n",
       "          0.00191435,  0.11041074, -0.01879463, -0.15890543,  0.0076343 ,\n",
       "         -0.01750211, -0.13323705,  0.082809  , -0.1784627 , -0.14941315,\n",
       "          0.22582413, -0.05153615, -0.21119864,  0.02620438,  0.24422963,\n",
       "          0.253487  , -0.08826514, -0.04363412,  0.03436252,  0.16497792,\n",
       "         -0.01689737,  0.1570028 ,  0.06001616, -0.09006239,  0.040084  ,\n",
       "          0.01458795, -0.12715876,  0.00444642, -0.14346707,  0.11109892,\n",
       "          0.00924961,  0.06008994,  0.19393994,  0.05198066, -0.09187382,\n",
       "          0.22327264,  0.13223128, -0.04342527, -0.07472694, -0.08210929,\n",
       "          0.02049539,  0.14755471,  0.3182153 ,  0.25203574, -0.16301194,\n",
       "         -0.08966941,  0.0160503 , -0.00666016,  0.01316283], dtype=float32)},\n",
       " 'Dense_6': {'kernel': Array([[-2.29819909e-01,  1.95244730e-01, -3.41524929e-01,\n",
       "           2.68981159e-01, -1.02347210e-01, -9.47259963e-02,\n",
       "           4.21005875e-01,  5.53730130e-01,  9.04522166e-02,\n",
       "          -8.44562277e-02],\n",
       "         [-1.34846732e-01, -3.31278950e-01,  1.52596608e-01,\n",
       "          -2.75421645e-02, -2.40364611e-01, -6.25350028e-02,\n",
       "           5.50052047e-01,  1.62458315e-01, -4.26390648e-01,\n",
       "           4.27374899e-01],\n",
       "         [ 9.21730399e-02, -2.64982969e-01, -6.76229820e-02,\n",
       "          -4.23626065e-01,  2.90314347e-01,  2.46413872e-02,\n",
       "          -1.95040867e-01, -1.89043850e-01,  2.63632655e-01,\n",
       "          -1.18167326e-01],\n",
       "         [ 1.20946988e-01,  3.93698335e-01,  5.39616048e-02,\n",
       "          -1.11387387e-01,  4.18040045e-02,  6.73743188e-02,\n",
       "           4.34833914e-02, -4.08193991e-02,  1.87433034e-01,\n",
       "           3.87367070e-01],\n",
       "         [-1.95952415e-01, -3.00233752e-01,  3.23702246e-02,\n",
       "          -3.29064131e-01,  2.37151515e-02, -4.44122881e-01,\n",
       "           1.06405079e-01,  1.67894185e-01,  7.24760219e-02,\n",
       "          -1.42118841e-01],\n",
       "         [ 1.80280030e-01,  5.63999675e-02, -1.11805893e-01,\n",
       "          -8.14894363e-02,  1.57685176e-01,  2.44182236e-02,\n",
       "           2.27989018e-01,  2.48180434e-01,  1.05757445e-01,\n",
       "           3.51328433e-01],\n",
       "         [-1.54044807e-01,  5.60002541e-03, -6.81625232e-02,\n",
       "           2.73542494e-01, -2.22468928e-01,  2.87152350e-01,\n",
       "           3.93447071e-01,  2.72640884e-01,  1.46520391e-01,\n",
       "          -4.57571924e-01],\n",
       "         [-3.31984282e-01,  2.20801473e-01,  7.65546560e-02,\n",
       "           1.15331151e-01,  9.26060677e-02, -1.13979660e-01,\n",
       "          -3.10466737e-01, -1.49903312e-01,  4.88565803e-01,\n",
       "          -1.21659733e-01],\n",
       "         [ 2.86669552e-01,  5.45079648e-01, -7.90944695e-02,\n",
       "           4.02735144e-01, -8.61153528e-02,  1.01718202e-03,\n",
       "           1.04438379e-01,  2.33222842e-01,  1.09336190e-01,\n",
       "           2.29269728e-01],\n",
       "         [-8.60532075e-02, -8.16653669e-02,  4.25166544e-03,\n",
       "           3.95793766e-01,  6.00261204e-02,  2.11942911e-01,\n",
       "          -5.04859611e-02, -5.65531999e-02,  7.30902404e-02,\n",
       "          -1.62492231e-01],\n",
       "         [ 3.09756875e-01,  6.36718929e-01,  5.43590248e-01,\n",
       "          -7.73013592e-01,  7.06404597e-02, -6.40450940e-02,\n",
       "           4.35111066e-03, -4.14531864e-02,  5.41868918e-02,\n",
       "           2.15165347e-01],\n",
       "         [-6.98259473e-02, -4.30390805e-01, -2.60098241e-02,\n",
       "          -1.53617173e-01,  2.36943021e-01, -6.81205001e-03,\n",
       "          -4.84234780e-01,  4.29728329e-01,  5.98388352e-02,\n",
       "           2.02950329e-01],\n",
       "         [ 5.39770186e-01,  3.52515757e-01, -2.45039389e-01,\n",
       "           4.39008027e-01, -1.25123128e-01,  2.34848171e-01,\n",
       "          -7.74696246e-02, -2.82085408e-02, -1.17777713e-01,\n",
       "          -1.58088088e-01],\n",
       "         [-2.98736930e-01,  2.03635737e-01, -1.42300382e-01,\n",
       "           3.13943923e-02,  1.87335283e-01, -1.86506331e-01,\n",
       "          -4.18105036e-01,  3.25165749e-01, -3.60696882e-01,\n",
       "          -3.00532490e-01],\n",
       "         [-2.55778357e-02, -2.03944594e-01, -7.19155610e-01,\n",
       "           1.69491172e-01, -4.64638323e-02, -3.24577719e-01,\n",
       "          -8.89813062e-03,  3.81705999e-01, -8.94001052e-02,\n",
       "           7.27884918e-02],\n",
       "         [ 3.17679197e-01, -2.92547464e-01, -3.44183594e-01,\n",
       "          -8.74174163e-02,  4.41300161e-02, -3.18575323e-01,\n",
       "           4.13745999e-01,  1.43335447e-01,  4.69254524e-01,\n",
       "          -1.11188024e-01],\n",
       "         [-1.87753528e-01,  3.30099054e-02, -1.42186210e-01,\n",
       "          -5.49499035e-01,  3.52187478e-03,  5.94017148e-01,\n",
       "          -4.88791168e-02,  5.17621934e-02,  5.02054580e-02,\n",
       "          -3.66947621e-01],\n",
       "         [ 5.56217074e-01, -9.72889140e-02,  3.96875203e-01,\n",
       "           3.00346520e-02, -3.78575623e-01,  2.44890362e-01,\n",
       "          -7.31514096e-02,  1.26518726e-01,  4.76023227e-01,\n",
       "          -1.70003902e-02],\n",
       "         [-3.09828430e-01, -2.82411963e-01,  1.99809223e-01,\n",
       "          -1.89950779e-01, -5.02294421e-01, -3.27887796e-02,\n",
       "           2.14799151e-01,  4.72707778e-01,  2.36332342e-01,\n",
       "          -1.23140171e-01],\n",
       "         [-5.63869774e-02, -1.51006281e-01, -3.67495358e-01,\n",
       "           2.17950288e-02,  3.52312148e-01,  3.60691935e-01,\n",
       "           1.07959181e-01, -1.27992272e-01,  2.44142890e-01,\n",
       "          -9.71408281e-03],\n",
       "         [ 3.79606523e-03, -3.62452090e-01,  2.55298149e-02,\n",
       "          -4.82619135e-03, -2.26003796e-01,  4.86147106e-01,\n",
       "          -3.52613598e-01,  3.41996074e-01,  2.89132684e-01,\n",
       "          -1.39190122e-01],\n",
       "         [ 9.14141070e-03, -8.64787325e-02, -3.33747827e-02,\n",
       "           2.08308250e-01,  1.37825459e-01, -1.37063172e-02,\n",
       "           1.94653243e-01,  3.21734697e-02, -6.24280274e-01,\n",
       "          -1.79814845e-01],\n",
       "         [ 9.38994437e-02, -1.20950557e-01,  1.05765341e-02,\n",
       "           1.49738684e-01,  5.35800345e-02,  2.13850141e-01,\n",
       "           2.89886087e-01, -3.35747987e-01, -1.55760273e-01,\n",
       "           2.55877525e-01],\n",
       "         [ 2.06935495e-01,  5.87353110e-01,  2.33845249e-01,\n",
       "           2.90531605e-01, -9.31777656e-02, -6.94652200e-02,\n",
       "          -8.99604112e-02, -1.47769824e-02,  7.58227408e-02,\n",
       "          -3.46379012e-01],\n",
       "         [ 6.75508007e-02, -2.22708747e-01, -4.50645864e-01,\n",
       "           1.89417079e-01,  3.94207947e-02,  4.62549090e-01,\n",
       "          -2.27198172e-02, -1.67919040e-01, -1.43606052e-01,\n",
       "          -1.58033837e-02],\n",
       "         [-2.35884085e-01,  3.94880399e-02,  4.26795334e-02,\n",
       "          -2.76837021e-01,  4.43276823e-01, -3.23688716e-01,\n",
       "          -2.47809634e-01, -1.13260351e-01,  6.24549866e-01,\n",
       "          -6.08618073e-02],\n",
       "         [ 2.26321116e-01,  2.32221708e-01,  5.01151860e-01,\n",
       "          -2.55304247e-01, -1.42481908e-01,  4.52365160e-01,\n",
       "           1.35706484e-01, -3.20941880e-02,  2.39027381e-01,\n",
       "          -2.12936997e-01],\n",
       "         [ 1.61116540e-01,  4.60533351e-01, -2.48006195e-01,\n",
       "           1.01157270e-01,  1.03120031e-02,  1.76629066e-01,\n",
       "          -3.44919741e-01, -1.05026752e-01,  3.18411039e-03,\n",
       "           9.93669480e-02],\n",
       "         [-2.48764411e-01, -1.53307825e-01, -1.75143197e-01,\n",
       "           4.19096708e-01,  4.17289793e-01, -5.07566273e-01,\n",
       "           9.10853669e-02, -2.36461535e-02, -3.17484960e-02,\n",
       "           5.29760234e-02],\n",
       "         [ 2.28812143e-01, -2.93835461e-01, -2.50448018e-01,\n",
       "          -3.59058410e-01, -5.41395135e-02, -3.42523195e-02,\n",
       "           4.38233539e-02,  6.24939859e-01,  3.34521770e-01,\n",
       "           4.19150919e-01],\n",
       "         [ 2.12992579e-01,  4.09668595e-01,  4.66002643e-01,\n",
       "          -4.85302955e-01,  1.48202732e-01, -6.84498250e-01,\n",
       "          -4.28932719e-02,  2.82221258e-01, -1.76930398e-01,\n",
       "           9.09139216e-02],\n",
       "         [-4.20798331e-01,  3.26061457e-01,  9.48948488e-02,\n",
       "          -2.46704072e-01, -1.15128241e-01, -2.23071590e-01,\n",
       "           3.67603540e-01, -5.36140263e-01, -7.85752665e-03,\n",
       "           3.65700364e-01],\n",
       "         [ 7.41219595e-02, -5.55577166e-02, -1.41122967e-01,\n",
       "           4.93553765e-02, -2.45720342e-01, -2.71475494e-01,\n",
       "          -3.28451977e-04, -4.05310482e-01,  2.40998983e-01,\n",
       "           2.17014030e-01],\n",
       "         [-2.92251748e-03, -9.09233652e-03,  1.09554395e-01,\n",
       "           3.29074502e-01,  2.34139562e-02, -2.64886022e-01,\n",
       "          -9.60491821e-02,  6.27407804e-02,  2.77679384e-01,\n",
       "           2.14175701e-01],\n",
       "         [-8.84936377e-02, -2.80357242e-01, -1.54783756e-01,\n",
       "          -1.05238043e-01, -1.65688798e-01, -1.81791380e-01,\n",
       "          -2.99407393e-01, -1.56802744e-01,  3.39614630e-01,\n",
       "          -2.21363068e-01],\n",
       "         [ 3.56950134e-01,  2.64700234e-01, -3.28940868e-01,\n",
       "          -6.84821606e-02, -2.61681248e-03, -2.20514059e-01,\n",
       "          -2.08007902e-01,  1.19433496e-02, -6.00903094e-01,\n",
       "          -3.17277089e-02],\n",
       "         [ 2.51658350e-01, -6.86388612e-01,  1.78134322e-01,\n",
       "          -3.98695230e-01,  3.88711810e-01, -1.50504364e-02,\n",
       "           1.70455322e-01, -4.60566618e-02,  7.01778382e-02,\n",
       "          -3.09843928e-01],\n",
       "         [ 2.62727529e-01,  2.78607965e-01, -2.48050660e-01,\n",
       "           3.06585491e-01, -2.51828730e-01, -2.19607931e-02,\n",
       "           1.43233582e-01, -2.39403211e-02, -1.35730252e-01,\n",
       "          -2.18511686e-01],\n",
       "         [ 1.42037958e-01,  2.66970664e-01, -2.57747412e-01,\n",
       "          -1.18287049e-01, -2.69382596e-01,  3.25834572e-01,\n",
       "          -1.14791952e-01, -3.19638371e-01,  6.42723078e-03,\n",
       "           7.21609369e-02],\n",
       "         [ 1.68754265e-01, -9.12295207e-02, -2.51513034e-01,\n",
       "           3.06879789e-01,  1.15359232e-01,  2.02054933e-01,\n",
       "           1.53415069e-01, -2.08313152e-01,  2.20764205e-01,\n",
       "           1.40871733e-01],\n",
       "         [-2.99564302e-01, -9.73626524e-02,  1.17353769e-03,\n",
       "           2.83776671e-02, -3.60115975e-01, -5.96996658e-02,\n",
       "          -1.65174678e-01, -1.35167733e-01,  1.09555475e-01,\n",
       "          -3.02176904e-02],\n",
       "         [-1.03939101e-02,  5.95766492e-02,  1.83478668e-01,\n",
       "          -2.24029824e-01, -2.10841671e-01, -1.28165364e-01,\n",
       "          -1.24421865e-01, -1.68200165e-01,  2.12321743e-01,\n",
       "           8.48074332e-02],\n",
       "         [-1.01101911e-03,  3.87386233e-01,  1.95750203e-02,\n",
       "          -2.05456972e-01,  2.07746193e-01,  4.63172317e-01,\n",
       "           1.58528700e-01, -2.23333463e-01, -1.89986885e-01,\n",
       "           1.58186138e-01],\n",
       "         [-1.90031491e-02, -6.98015541e-02, -5.37145615e-01,\n",
       "           1.02302730e-01,  2.22508937e-01,  8.03662688e-02,\n",
       "          -1.25994738e-02,  1.79977678e-02,  1.07677989e-02,\n",
       "           1.69772252e-01],\n",
       "         [ 4.50611115e-01, -3.32450479e-01,  9.68675017e-02,\n",
       "           1.91471219e-01, -5.07231057e-01,  1.76067159e-01,\n",
       "          -1.85707971e-01,  2.41887286e-01,  3.34862247e-02,\n",
       "          -2.33562931e-01],\n",
       "         [-2.32138425e-01,  3.38008404e-01, -1.95934325e-01,\n",
       "           3.76320899e-01,  1.84497256e-02, -1.57752484e-01,\n",
       "           6.64052591e-02,  3.22899342e-01,  6.13514446e-02,\n",
       "          -2.38320348e-03],\n",
       "         [-1.97181068e-02, -1.15518175e-01,  1.23808518e-01,\n",
       "          -1.70817092e-01, -2.00381756e-01,  1.00562304e-01,\n",
       "           1.80988684e-01, -3.44001740e-01,  1.34906322e-01,\n",
       "           2.91571885e-01],\n",
       "         [-1.52042255e-01, -5.85425720e-02, -1.62438422e-01,\n",
       "           9.40593854e-02,  1.91641420e-01, -8.46811906e-02,\n",
       "           1.73046693e-01, -1.43934667e-04, -2.26343572e-01,\n",
       "          -3.49673837e-01],\n",
       "         [ 7.87465125e-02, -9.41886380e-03,  1.71775907e-01,\n",
       "          -1.62506163e-01, -9.88330692e-02, -1.56511828e-01,\n",
       "           6.68373525e-01,  3.40436727e-01, -6.66541308e-02,\n",
       "           1.00567974e-01],\n",
       "         [-1.15447782e-01, -1.37737602e-01,  2.53774017e-01,\n",
       "           7.15671957e-01,  2.03154817e-01,  4.02133912e-01,\n",
       "           3.48370999e-01,  5.04414700e-02,  3.19303274e-01,\n",
       "          -5.12520492e-01],\n",
       "         [-3.87568831e-01,  5.92783559e-03, -1.96085200e-01,\n",
       "           1.55974090e-01, -2.15369955e-01,  2.98963368e-01,\n",
       "          -1.65589064e-01, -4.12054002e-01,  4.22298253e-01,\n",
       "          -2.14364290e-01],\n",
       "         [ 5.82762301e-01, -2.71528572e-01,  4.64845121e-01,\n",
       "           1.29336178e-01, -5.01109064e-02,  4.10607100e-01,\n",
       "           1.54068410e-01, -2.67668188e-01,  1.20533064e-01,\n",
       "          -3.29758584e-01],\n",
       "         [-2.66435444e-01, -2.63812654e-02, -5.99312484e-01,\n",
       "           7.52814040e-02,  2.44881790e-02,  2.30947919e-02,\n",
       "           3.19594800e-01,  2.11017787e-01, -7.35462725e-01,\n",
       "          -3.03021073e-01],\n",
       "         [-2.37109102e-02, -1.21784382e-01,  4.91658330e-01,\n",
       "          -3.59241605e-01,  2.66703088e-02, -2.88780183e-01,\n",
       "           7.32561767e-01, -4.46619652e-02,  1.74763039e-01,\n",
       "          -1.46691218e-01],\n",
       "         [-2.09838808e-01, -3.80444050e-01,  3.87565225e-01,\n",
       "          -3.00356418e-01, -6.59967139e-02, -1.16157331e-01,\n",
       "           1.44007862e-01,  1.03494123e-01, -6.64182231e-02,\n",
       "           2.98959054e-02],\n",
       "         [-4.68030035e-01,  8.52225050e-02, -6.57437965e-02,\n",
       "          -3.69337313e-02, -5.28535955e-02,  3.14262398e-02,\n",
       "           4.14954834e-02, -7.43555129e-02, -2.30647758e-01,\n",
       "          -1.78397849e-01],\n",
       "         [ 1.10449947e-01,  7.23410845e-02, -2.49158144e-01,\n",
       "          -1.93094462e-01,  1.79253981e-01, -2.03700542e-01,\n",
       "           1.22021511e-01, -3.89992818e-02,  9.85103473e-02,\n",
       "           4.84515160e-01],\n",
       "         [ 9.14234594e-02, -4.09016490e-01,  5.60178086e-02,\n",
       "           3.44284147e-01,  1.73693538e-01, -2.41722643e-01,\n",
       "          -3.71656790e-02, -5.25756121e-01,  1.19107611e-01,\n",
       "          -6.56936169e-01],\n",
       "         [-1.01600632e-01, -2.62306869e-01, -2.75792807e-01,\n",
       "          -2.14302272e-01,  2.84297556e-01, -2.83379406e-01,\n",
       "          -1.49976999e-01,  2.60549281e-02, -2.40844920e-01,\n",
       "          -2.49637082e-01],\n",
       "         [ 1.50176939e-02, -7.12041855e-02, -5.10371983e-01,\n",
       "           3.54673386e-01, -2.77401775e-01,  1.64223999e-01,\n",
       "          -4.86365445e-02, -2.98660517e-01,  1.31476894e-01,\n",
       "           3.29190232e-02],\n",
       "         [ 2.36285865e-01, -1.02571048e-01,  7.32911900e-02,\n",
       "          -4.04142737e-01,  5.89820370e-02, -3.39931369e-01,\n",
       "          -3.01358551e-01,  1.09683434e-02,  8.76092255e-01,\n",
       "           5.63790463e-02],\n",
       "         [-2.84329295e-01,  4.39543724e-02,  2.39777103e-01,\n",
       "          -1.96581721e-01, -5.97273372e-02, -7.41370693e-02,\n",
       "           6.97586417e-01, -1.70045704e-01, -3.90087485e-01,\n",
       "           1.41262308e-01],\n",
       "         [ 1.86534040e-02, -2.02002842e-02,  2.60447096e-02,\n",
       "           1.69340611e-01, -4.81423642e-03,  4.01062250e-01,\n",
       "          -4.61968899e-01,  1.16974786e-01,  2.44657010e-01,\n",
       "           1.16447642e-01],\n",
       "         [ 2.84155428e-01,  3.00511289e-02,  4.73999009e-02,\n",
       "          -2.15803683e-01,  2.17559651e-01,  3.35539073e-01,\n",
       "           1.95307340e-02, -2.77855635e-01,  2.68879145e-01,\n",
       "          -2.61016935e-01]], dtype=float32),\n",
       "  'bias': Array([-0.02605924, -0.09982388,  0.10175913,  0.0317722 , -0.14535697,\n",
       "         -0.11162616,  0.03823929,  0.17286333,  0.00952843, -0.22669746],      dtype=float32)}}"
      ]
     },
     "execution_count": 4,
     "metadata": {},
     "output_type": "execute_result"
    }
   ],
   "source": [
    "params = model.init(jax.random.key(seed), X_nontest)\n",
    "# params = force_init(params)\n",
    "params['params']"
   ]
  },
  {
   "cell_type": "code",
   "execution_count": 5,
   "metadata": {},
   "outputs": [
    {
     "data": {
      "text/plain": [
       "(Array(3.2198756, dtype=float32),\n",
       " Array(-4.367447, dtype=float32),\n",
       " Array(0.2465688, dtype=float32))"
      ]
     },
     "execution_count": 5,
     "metadata": {},
     "output_type": "execute_result"
    }
   ],
   "source": [
    "ker0 = params['params']['Dense_0']['kernel']\n",
    "jnp.max(ker0) / jnp.std(ker0), jnp.min(ker0) / jnp.std(ker0), jnp.std(ker0)\n",
    "# ker0.shape\n",
    "# ker1 = params['params']['Dense_1']['kernel']\n",
    "# ker1.shape"
   ]
  },
  {
   "cell_type": "code",
   "execution_count": 6,
   "metadata": {},
   "outputs": [
    {
     "data": {
      "text/plain": [
       "(Array(1.7660469, dtype=float32),\n",
       " Array(-2.7418196, dtype=float32),\n",
       " Array(0.14740811, dtype=float32))"
      ]
     },
     "execution_count": 6,
     "metadata": {},
     "output_type": "execute_result"
    }
   ],
   "source": [
    "bias0 = params['params']['Dense_0']['bias']\n",
    "jnp.max(bias0) / jnp.std(bias0), jnp.min(bias0) / jnp.std(bias0), jnp.std(bias0)"
   ]
  },
  {
   "cell_type": "markdown",
   "metadata": {},
   "source": [
    "def typicalize(params):\n",
    "    out_params = {}\n",
    "    for layer in ['Dense_0', 'Dense_1']:\n",
    "        ker = params['params'][layer]['kernel']\n",
    "        bias = params['params'][layer]['bias']\n",
    "        ker /= jnp.sqrt(ker.shape[1]) * jnp.std(ker)\n",
    "        bias /= jnp.sqrt(3 * ker.shape[1]) * jnp.std(bias)\n",
    "        out_params[layer] = {'kernel': ker, 'bias': bias}\n",
    "    return {'params': out_params}"
   ]
  },
  {
   "cell_type": "code",
   "execution_count": 8,
   "metadata": {},
   "outputs": [
    {
     "data": {
      "text/plain": [
       "(64, 10)"
      ]
     },
     "execution_count": 8,
     "metadata": {},
     "output_type": "execute_result"
    }
   ],
   "source": [
    "params['params']['Dense_6']['kernel'].shape"
   ]
  },
  {
   "cell_type": "code",
   "execution_count": 7,
   "metadata": {},
   "outputs": [
    {
     "name": "stdout",
     "output_type": "stream",
     "text": [
      "Dense_0\n",
      "0.2465688\n",
      "0.14740811\n",
      "Dense_1\n",
      "0.24561265\n",
      "0.13499576\n",
      "Dense_2\n",
      "0.25397843\n",
      "0.15579416\n",
      "Dense_3\n",
      "0.24965435\n",
      "0.14971851\n",
      "Dense_4\n",
      "0.24889001\n",
      "0.14665765\n",
      "Dense_5\n",
      "0.24693763\n",
      "0.13225272\n",
      "Dense_6\n",
      "0.26101363\n",
      "0.1148481\n",
      "Dense_0\n",
      "Dense_1\n",
      "Dense_2\n",
      "Dense_3\n",
      "Dense_4\n",
      "Dense_5\n",
      "Dense_6\n",
      "Dense_0\n",
      "0.24999999\n",
      "0.14433756\n",
      "Dense_1\n",
      "0.25\n",
      "0.14433756\n",
      "Dense_2\n",
      "0.25\n",
      "0.14433756\n",
      "Dense_3\n",
      "0.24999999\n",
      "0.14433758\n",
      "Dense_4\n",
      "0.25\n",
      "0.14433756\n",
      "Dense_5\n",
      "0.25\n",
      "0.14433758\n",
      "Dense_6\n",
      "0.24999999\n",
      "0.14433756\n"
     ]
    }
   ],
   "source": [
    "for layer in params['params']:\n",
    "    print(layer)\n",
    "    print(jnp.std(params['params'][layer]['kernel']))\n",
    "    print(jnp.std(params['params'][layer]['bias']))\n",
    "\n",
    "params2 = typicalize(params)\n",
    "for layer in params2['params']:\n",
    "    print(layer)\n",
    "    print(jnp.std(params2['params'][layer]['kernel']))\n",
    "    print(jnp.std(params2['params'][layer]['bias']))"
   ]
  },
  {
   "cell_type": "code",
   "execution_count": 12,
   "metadata": {},
   "outputs": [
    {
     "data": {
      "image/png": "[encoded data removed]",
      "text/plain": [
       "<Figure size 640x480 with 1 Axes>"
      ]
     },
     "metadata": {},
     "output_type": "display_data"
    }
   ],
   "source": [
    "import matplotlib.pyplot as plt\n",
    "plt.hist(params['params']['Dense_0']['kernel'].flatten(), bins=100)\n",
    "plt.show()"
   ]
  },
  {
   "cell_type": "code",
   "execution_count": null,
   "metadata": {},
   "outputs": [],
   "source": []
  }
 ],
 "metadata": {
  "kernelspec": {
   "display_name": "jax_py311",
   "language": "python",
   "name": "python3"
  },
  "language_info": {
   "codemirror_mode": {
    "name": "ipython",
    "version": 3
   },
   "file_extension": ".py",
   "mimetype": "text/x-python",
   "name": "python",
   "nbconvert_exporter": "python",
   "pygments_lexer": "ipython3",
   "version": "3.11.9"
  }
 },
 "nbformat": 4,
 "nbformat_minor": 2
}
