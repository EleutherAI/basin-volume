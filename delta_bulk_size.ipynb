{
 "cells": [
  {
   "cell_type": "code",
   "execution_count": 1,
   "metadata": {},
   "outputs": [
    {
     "name": "stderr",
     "output_type": "stream",
     "text": [
      "2024-09-18 00:54:53.843618: W external/xla/xla/service/gpu/nvptx_compiler.cc:836] The NVIDIA driver's CUDA version is 12.2 which is older than the PTX compiler version (12.6.68). Because the driver is older than the PTX compiler version, XLA is disabling parallel compilation, which may slow down compilation. You should update your NVIDIA driver or use the NVIDIA-provided CUDA forward compatibility packages.\n"
     ]
    }
   ],
   "source": [
    "from delta_bulk import *"
   ]
  },
  {
   "cell_type": "code",
   "execution_count": 2,
   "metadata": {},
   "outputs": [
    {
     "name": "stdout",
     "output_type": "stream",
     "text": [
      "{'symmetric': True, 'canonicalize': False, 'aligned': True, 'delta_bulks': Array([[-1.1960341e-03,  4.7091188e-04,  9.5689128e-04, ...,\n",
      "        -6.1697447e-06, -1.1675453e-05,  5.8049827e-06],\n",
      "       [ 1.3619699e-03, -8.5998839e-04, -3.0566793e-04, ...,\n",
      "         2.8423116e-05,  2.6712756e-05, -6.9486164e-06],\n",
      "       [-8.3080743e-04, -4.0815197e-04, -7.6364668e-05, ...,\n",
      "         4.4501525e-05,  4.3573760e-05, -1.9222136e-05],\n",
      "       ...,\n",
      "       [ 5.5929285e-04,  8.0412795e-04,  8.8316377e-04, ...,\n",
      "        -1.1356422e-05, -9.1611510e-06,  1.1044276e-05],\n",
      "       [ 1.1526232e-03,  1.8599018e-04,  1.7479589e-04, ...,\n",
      "         5.2014344e-05, -7.7330697e-06,  3.8690858e-05],\n",
      "       [ 5.4587610e-04,  6.2748813e-04,  9.7122852e-04, ...,\n",
      "         1.1506224e-05,  3.2652792e-05, -9.9428726e-06]], dtype=float32)}\n"
     ]
    }
   ],
   "source": [
    "with open(\"delta_bulk_1726584467.5956047.pkl\", \"rb\") as f:\n",
    "    data = pickle.load(f)\n",
    "\n",
    "print(data)"
   ]
  },
  {
   "cell_type": "code",
   "execution_count": 5,
   "metadata": {},
   "outputs": [],
   "source": [
    "db = data['delta_bulks']"
   ]
  },
  {
   "cell_type": "code",
   "execution_count": 18,
   "metadata": {},
   "outputs": [
    {
     "name": "stdout",
     "output_type": "stream",
     "text": [
      "\n",
      "n = 16\n",
      "[]\n",
      "0.0015814677\n",
      "\n",
      "n = 16\n",
      "['aligned']\n",
      "0.0036289096\n",
      "\n",
      "n = 16\n",
      "['canonicalize', 'aligned']\n",
      "0.0040753856\n",
      "\n",
      "n = 400\n",
      "[]\n",
      "0.0013575461\n",
      "\n",
      "n = 400\n",
      "['aligned']\n",
      "0.0022507259\n",
      "\n",
      "n = 400\n",
      "['canonicalize', 'aligned']\n",
      "0.002232391\n",
      "\n",
      "n = 400\n",
      "['symmetric', 'canonicalize', 'aligned']\n",
      "0.0025880416\n",
      "\n",
      "n = 400\n",
      "['symmetric', 'aligned']\n",
      "0.0025422224\n"
     ]
    }
   ],
   "source": [
    "# open every pkl file in the directory\n",
    "import glob\n",
    "files = glob.glob(\"*.pkl\")\n",
    "for file in files:\n",
    "    print()\n",
    "    #print(file)\n",
    "    with open(file, \"rb\") as f:\n",
    "        data = pickle.load(f)\n",
    "    db = data['delta_bulks']\n",
    "    n = db.shape[0]\n",
    "    # if n > 100:\n",
    "    #     db = db[:100]\n",
    "    #     n = 100\n",
    "    print(f'n = {n}')\n",
    "    print([k for k in data.keys() if k != 'delta_bulks' and data[k]])\n",
    "\n",
    "    mean = np.mean(db, axis=0)\n",
    "    print(np.sum(mean**2) / np.mean(np.sum(db**2, axis=1)) - 1/(n))"
   ]
  },
  {
   "cell_type": "code",
   "execution_count": 45,
   "metadata": {},
   "outputs": [],
   "source": [
    "# bootstrap estimate of the mean\n",
    "mean = np.mean(db, axis=0)\n",
    "\n",
    "# boots = np.random.choice(db, size=(1000, db.shape[1]), replace=True)"
   ]
  },
  {
   "cell_type": "code",
   "execution_count": 46,
   "metadata": {},
   "outputs": [
    {
     "data": {
      "text/plain": [
       "Array(2.1635191e-05, dtype=float32)"
      ]
     },
     "execution_count": 46,
     "metadata": {},
     "output_type": "execute_result"
    }
   ],
   "source": [
    "np.sum(np.mean(db, axis=0)**2)"
   ]
  },
  {
   "cell_type": "code",
   "execution_count": 47,
   "metadata": {},
   "outputs": [
    {
     "data": {
      "text/plain": [
       "Array(0.00253596, dtype=float32)"
      ]
     },
     "execution_count": 47,
     "metadata": {},
     "output_type": "execute_result"
    }
   ],
   "source": [
    "np.sum(mean**2) / np.mean(np.sum(db**2, axis=1)) - 1/399"
   ]
  },
  {
   "cell_type": "code",
   "execution_count": 48,
   "metadata": {},
   "outputs": [
    {
     "data": {
      "text/plain": [
       "Array(0.9974514, dtype=float32)"
      ]
     },
     "execution_count": 48,
     "metadata": {},
     "output_type": "execute_result"
    }
   ],
   "source": [
    "# covariance matrix\n",
    "cov = np.cov(db, rowvar=False)\n",
    "np.sum(np.diag(cov)) / np.mean(np.sum(db**2, axis=1))"
   ]
  },
  {
   "cell_type": "code",
   "execution_count": 49,
   "metadata": {},
   "outputs": [
    {
     "data": {
      "text/plain": [
       "Array(0.00269872, dtype=float32)"
      ]
     },
     "execution_count": 49,
     "metadata": {},
     "output_type": "execute_result"
    }
   ],
   "source": [
    "mean100 = np.mean(db[:100], axis=0)\n",
    "np.sum(mean100**2)\n",
    "np.sum(mean100**2) / np.mean(np.sum(db[:100]**2, axis=1)) - 1/99"
   ]
  },
  {
   "cell_type": "code",
   "execution_count": 32,
   "metadata": {},
   "outputs": [
    {
     "data": {
      "text/plain": [
       "(1000, 400, 9610)"
      ]
     },
     "execution_count": 32,
     "metadata": {},
     "output_type": "execute_result"
    }
   ],
   "source": [
    "# numpy.random.Generator.choice\n",
    "\n",
    "g = np.random.default_rng(12345)\n",
    "boots = g.choice(db, size=(1000, 400), replace=True)\n",
    "\n",
    "boots.shape"
   ]
  },
  {
   "cell_type": "code",
   "execution_count": 50,
   "metadata": {},
   "outputs": [
    {
     "data": {
      "text/plain": [
       "Array(0.00504222, dtype=float32)"
      ]
     },
     "execution_count": 50,
     "metadata": {},
     "output_type": "execute_result"
    }
   ],
   "source": [
    "np.sum(mean**2) / np.mean(np.sum(db**2, axis=1)) "
   ]
  },
  {
   "cell_type": "code",
   "execution_count": 55,
   "metadata": {},
   "outputs": [
    {
     "data": {
      "text/plain": [
       "Array(1.4895207, dtype=float32)"
      ]
     },
     "execution_count": 55,
     "metadata": {},
     "output_type": "execute_result"
    }
   ],
   "source": [
    "np.mean(means) / np.sum(mean**2)"
   ]
  },
  {
   "cell_type": "code",
   "execution_count": 54,
   "metadata": {},
   "outputs": [
    {
     "data": {
      "text/plain": [
       "Array(2.1635191e-05, dtype=float32)"
      ]
     },
     "execution_count": 54,
     "metadata": {},
     "output_type": "execute_result"
    }
   ],
   "source": [
    "np.sum(mean**2)"
   ]
  },
  {
   "cell_type": "code",
   "execution_count": 71,
   "metadata": {},
   "outputs": [
    {
     "data": {
      "image/png": "[encoded data removed]",
      "text/plain": [
       "<Figure size 640x480 with 1 Axes>"
      ]
     },
     "metadata": {},
     "output_type": "display_data"
    }
   ],
   "source": [
    "var = np.mean(np.sum(db**2, axis=1))  # np.mean(np.sum(boots**2, axis=2), axis=1)\n",
    "means = np.sum(np.mean(boots, axis=1)**2, axis=1)\n",
    "plt.hist(means / var, bins=30)\n",
    "plt.show()"
   ]
  },
  {
   "cell_type": "code",
   "execution_count": 73,
   "metadata": {},
   "outputs": [
    {
     "data": {
      "image/png": "[encoded data removed]",
      "text/plain": [
       "<Figure size 640x480 with 1 Axes>"
      ]
     },
     "metadata": {},
     "output_type": "display_data"
    }
   ],
   "source": [
    "\n",
    "var = np.mean((db[:, 0]**2))  # np.mean(np.sum(boots**2, axis=2), axis=1)\n",
    "means = (np.mean(boots[:, :, 0], axis=1))\n",
    "plt.hist(means / np.sqrt(var), bins=30)\n",
    "plt.show()"
   ]
  },
  {
   "cell_type": "code",
   "execution_count": 86,
   "metadata": {},
   "outputs": [],
   "source": [
    "T = 400 * np.sum(mean**2) - np.trace(cov)\n",
    "T = T / 400"
   ]
  },
  {
   "cell_type": "code",
   "execution_count": 87,
   "metadata": {},
   "outputs": [],
   "source": [
    "VarT = (2/400) * np.sum(cov**2)\n",
    "Z = T / np.sqrt(VarT)"
   ]
  },
  {
   "cell_type": "code",
   "execution_count": 88,
   "metadata": {},
   "outputs": [
    {
     "data": {
      "text/plain": [
       "Array(0.6771072, dtype=float32)"
      ]
     },
     "execution_count": 88,
     "metadata": {},
     "output_type": "execute_result"
    }
   ],
   "source": [
    "Z"
   ]
  },
  {
   "cell_type": "code",
   "execution_count": 85,
   "metadata": {},
   "outputs": [
    {
     "data": {
      "text/plain": [
       "(Array(0.00437421, dtype=float32),\n",
       " np.float64(1.0433353106782822e-07),\n",
       " Array(13.542145, dtype=float32))"
      ]
     },
     "execution_count": 85,
     "metadata": {},
     "output_type": "execute_result"
    }
   ],
   "source": [
    "T, VarT, Z"
   ]
  },
  {
   "cell_type": "code",
   "execution_count": null,
   "metadata": {},
   "outputs": [],
   "source": []
  }
 ],
 "metadata": {
  "kernelspec": {
   "display_name": "jax_py311",
   "language": "python",
   "name": "python3"
  },
  "language_info": {
   "codemirror_mode": {
    "name": "ipython",
    "version": 3
   },
   "file_extension": ".py",
   "mimetype": "text/x-python",
   "name": "python",
   "nbconvert_exporter": "python",
   "pygments_lexer": "ipython3",
   "version": "3.11.9"
  }
 },
 "nbformat": 4,
 "nbformat_minor": 2
}
