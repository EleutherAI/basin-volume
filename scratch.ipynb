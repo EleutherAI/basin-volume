{
 "cells": [
  {
   "cell_type": "code",
   "execution_count": null,
   "metadata": {},
   "outputs": [],
   "source": [
    "@partial(jax.vmap, in_axes=(0, None))\n",
    "def foo(x, y):\n",
    "    return jnp.mean(x) + y\n",
    "\n",
    "foo(jnp.array([1, 2, 3]), 1)"
   ]
  },
  {
   "cell_type": "code",
   "execution_count": null,
   "metadata": {},
   "outputs": [],
   "source": [
    "def foo(x): # [10] -> [3]\n",
    "    return jnp.dot(jnp.ones((3, 10)), x)\n",
    "\n",
    "dfoo = jax.jacfwd(foo)\n",
    "\n",
    "dfoo(jnp.ones(10))"
   ]
  }
 ],
 "metadata": {
  "kernelspec": {
   "display_name": "jax_py311",
   "language": "python",
   "name": "python3"
  },
  "language_info": {
   "codemirror_mode": {
    "name": "ipython",
    "version": 3
   },
   "file_extension": ".py",
   "mimetype": "text/x-python",
   "name": "python",
   "nbconvert_exporter": "python",
   "pygments_lexer": "ipython3",
   "version": "3.11.9"
  }
 },
 "nbformat": 4,
 "nbformat_minor": 2
}
