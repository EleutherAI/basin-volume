{
 "cells": [
  {
   "cell_type": "code",
   "execution_count": null,
   "metadata": {},
   "outputs": [],
   "source": [
    "@partial(jax.vmap, in_axes=(0, None))\n",
    "def foo(x, y):\n",
    "    return jnp.mean(x) + y\n",
    "\n",
    "foo(jnp.array([1, 2, 3]), 1)"
   ]
  },
  {
   "cell_type": "code",
   "execution_count": null,
   "metadata": {},
   "outputs": [],
   "source": [
    "def foo(x): # [10] -> [3]\n",
    "    return jnp.dot(jnp.ones((3, 10)), x)\n",
    "\n",
    "dfoo = jax.jacfwd(foo)\n",
    "\n",
    "dfoo(jnp.ones(10))"
   ]
  }
 ],
 "metadata": {
  "language_info": {
   "name": "python"
  }
 },
 "nbformat": 4,
 "nbformat_minor": 2
}
