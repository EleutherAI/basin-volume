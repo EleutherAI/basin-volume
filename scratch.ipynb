{
 "cells": [
  {
   "cell_type": "code",
   "execution_count": null,
   "metadata": {},
   "outputs": [],
   "source": [
    "@partial(jax.vmap, in_axes=(0, None))\n",
    "def foo(x, y):\n",
    "    return jnp.mean(x) + y\n",
    "\n",
    "foo(jnp.array([1, 2, 3]), 1)"
   ]
  }
 ],
 "metadata": {
  "language_info": {
   "name": "python"
  }
 },
 "nbformat": 4,
 "nbformat_minor": 2
}
