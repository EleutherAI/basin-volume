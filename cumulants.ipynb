{
 "cells": [
  {
   "cell_type": "code",
   "execution_count": 1,
   "metadata": {},
   "outputs": [],
   "source": [
    "import scipy as sp\n",
    "import numpy as np"
   ]
  },
  {
   "cell_type": "code",
   "execution_count": 2,
   "metadata": {},
   "outputs": [],
   "source": [
    "# quad\n",
    "from scipy.integrate import quad"
   ]
  },
  {
   "cell_type": "code",
   "execution_count": 3,
   "metadata": {},
   "outputs": [
    {
     "data": {
      "text/plain": [
       "(0.33333333333333337, 3.700743415417189e-15)"
      ]
     },
     "execution_count": 3,
     "metadata": {},
     "output_type": "execute_result"
    }
   ],
   "source": [
    "quad(lambda x: x**2, 0, 1)"
   ]
  },
  {
   "cell_type": "code",
   "execution_count": 6,
   "metadata": {},
   "outputs": [],
   "source": [
    "pdf = sp.stats.norm(0, 1).pdf"
   ]
  },
  {
   "cell_type": "code",
   "execution_count": 24,
   "metadata": {},
   "outputs": [],
   "source": [
    "def npdf(x, mu=0, sigma=1):\n",
    "    return sp.stats.norm(mu, sigma).pdf(x)"
   ]
  },
  {
   "cell_type": "code",
   "execution_count": 33,
   "metadata": {},
   "outputs": [
    {
     "name": "stdout",
     "output_type": "stream",
     "text": [
      "5.000000000000002\n",
      "4.999999999999999\n",
      "\n",
      "13.0\n",
      "13.0\n",
      "\n",
      "73.00000000000004\n",
      "73.00000000000001\n",
      "\n",
      "281.00000000000085\n",
      "281.00000000000006\n",
      "\n",
      "1741.0\n",
      "1741.0000000000018\n",
      "\n",
      "8485.000000000002\n",
      "8485.00000000002\n",
      "\n",
      "57233.00000000001\n",
      "57233.0\n",
      "\n",
      "328753.0\n",
      "328753.00000000006\n",
      "\n",
      "2389141.0\n",
      "2389141.0\n",
      "\n"
     ]
    }
   ],
   "source": [
    "def ev(f, mu=0, sigma=1):\n",
    "    return quad(lambda x: sp.stats.norm(mu, sigma).pdf(x) * f(x), -np.inf, np.inf)[0]\n",
    "\n",
    "mu=1\n",
    "sigma=2\n",
    "\n",
    "for k in range(1, 10):\n",
    "    print(ev(lambda x: x * x**k, mu=mu, sigma=sigma))\n",
    "    print(mu * ev(lambda x: x**k, mu=mu, sigma=sigma) + sigma**2 * ev(lambda x: k * x**(k-1), mu=mu, sigma=sigma))\n",
    "    print()\n"
   ]
  },
  {
   "cell_type": "code",
   "execution_count": 39,
   "metadata": {},
   "outputs": [
    {
     "data": {
      "text/plain": [
       "(1.8500433449138383, 3.07069590049864e-10)"
      ]
     },
     "execution_count": 39,
     "metadata": {},
     "output_type": "execute_result"
    }
   ],
   "source": [
    "from scipy.integrate import quad\n",
    "from scipy.stats import norm\n",
    "import numpy as np\n",
    "\n",
    "mu = 1.0\n",
    "sigma = 1.0\n",
    "\n",
    "quad(lambda z: z * z * norm.cdf(z) * norm.pdf(z, loc=mu, scale=sigma), -np.inf, np.inf)\n"
   ]
  },
  {
   "cell_type": "code",
   "execution_count": 40,
   "metadata": {},
   "outputs": [
    {
     "data": {
      "text/plain": [
       "1.850043344913842"
      ]
     },
     "execution_count": 40,
     "metadata": {},
     "output_type": "execute_result"
    }
   ],
   "source": [
    "mu * quad(lambda z: z * norm.cdf(z) * norm.pdf(z, loc=mu, scale=sigma), -np.inf, np.inf)[0] + \\\n",
    "sigma**2 * quad(lambda z: (norm.cdf(z) + z * norm.pdf(z)) * norm.pdf(z, loc=mu, scale=sigma), -np.inf, np.inf)[0]"
   ]
  },
  {
   "cell_type": "code",
   "execution_count": 36,
   "metadata": {},
   "outputs": [
    {
     "data": {
      "text/plain": [
       "1.8500433449138383"
      ]
     },
     "execution_count": 36,
     "metadata": {},
     "output_type": "execute_result"
    }
   ],
   "source": [
    "\n",
    "ev(lambda z: z * z * norm.cdf(z), mu=mu, sigma=sigma)"
   ]
  },
  {
   "cell_type": "code",
   "execution_count": 37,
   "metadata": {},
   "outputs": [
    {
     "data": {
      "text/plain": [
       "1.850043344913842"
      ]
     },
     "execution_count": 37,
     "metadata": {},
     "output_type": "execute_result"
    }
   ],
   "source": [
    "\n",
    "mu * ev(lambda z: z * norm.cdf(z), mu=mu, sigma=sigma) + \\\n",
    "sigma**2 * ev(lambda z: norm.cdf(z) + z * norm.pdf(z), mu=mu, sigma=sigma)"
   ]
  },
  {
   "cell_type": "code",
   "execution_count": 44,
   "metadata": {},
   "outputs": [
    {
     "name": "stdout",
     "output_type": "stream",
     "text": [
      "1.8500433449138385\n"
     ]
    }
   ],
   "source": [
    "# table\n",
    "evCDF = norm.cdf(mu / np.sqrt(1 + sigma**2))\n",
    "evPDF = norm.pdf(mu / np.sqrt(1 + sigma**2)) / np.sqrt(1 + sigma**2)\n",
    "evZPDF = -mu*sigma/np.sqrt(1 + sigma**2)**3 * norm.pdf(mu / np.sqrt(1 + sigma**2))\n",
    "\n",
    "# linearity\n",
    "evXPDF = mu * evPDF + sigma * evZPDF\n",
    "\n",
    "# identity (first time)\n",
    "evXCDF = mu * evCDF + sigma**2 * evPDF\n",
    "\n",
    "# by defn\n",
    "evGELU = evXCDF\n",
    "evDGELU = evCDF + evXPDF\n",
    "\n",
    "# identity (second time)\n",
    "evXGELU = mu * evGELU + sigma**2 * evDGELU\n",
    "\n",
    "print(evXGELU)"
   ]
  }
 ],
 "metadata": {
  "kernelspec": {
   "display_name": "jax311",
   "language": "python",
   "name": "python3"
  },
  "language_info": {
   "codemirror_mode": {
    "name": "ipython",
    "version": 3
   },
   "file_extension": ".py",
   "mimetype": "text/x-python",
   "name": "python",
   "nbconvert_exporter": "python",
   "pygments_lexer": "ipython3",
   "version": "3.11.9"
  }
 },
 "nbformat": 4,
 "nbformat_minor": 2
}
