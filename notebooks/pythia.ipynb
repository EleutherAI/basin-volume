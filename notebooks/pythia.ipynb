{
 "cells": [
  {
   "cell_type": "code",
   "execution_count": 38,
   "metadata": {},
   "outputs": [
    {
     "name": "stdout",
     "output_type": "stream",
     "text": [
      "The autoreload extension is already loaded. To reload it, use:\n",
      "  %reload_ext autoreload\n"
     ]
    }
   ],
   "source": [
    "%load_ext autoreload\n",
    "%autoreload 2\n",
    "\n",
    "import numpy as np\n",
    "import yaml\n",
    "import json\n",
    "import torch\n",
    "\n",
    "import os \n",
    "os.environ['XLA_PYTHON_CLIENT_PREALLOCATE'] = 'false'\n",
    "\n",
    "import jax\n",
    "import jax.numpy as jnp\n",
    "import optax\n",
    "import matplotlib.pyplot as plt\n",
    "import transformers\n",
    "from transformers import AutoTokenizer, AutoModelForCausalLM\n",
    "from datasets import load_dataset\n",
    "\n",
    "from basin_volume import *"
   ]
  },
  {
   "cell_type": "markdown",
   "metadata": {},
   "source": [
    "# Tokenizer"
   ]
  },
  {
   "cell_type": "code",
   "execution_count": 39,
   "metadata": {},
   "outputs": [],
   "source": [
    "\n",
    "tokenizer = AutoTokenizer.from_pretrained(\"EleutherAI/pythia-14m\")"
   ]
  },
  {
   "cell_type": "code",
   "execution_count": 40,
   "metadata": {},
   "outputs": [],
   "source": [
    "tokenizer.eos_token_id = 0\n",
    "tokenizer.pad_token_id = 1"
   ]
  },
  {
   "cell_type": "code",
   "execution_count": 41,
   "metadata": {},
   "outputs": [
    {
     "data": {
      "text/plain": [
       "50277"
      ]
     },
     "execution_count": 41,
     "metadata": {},
     "output_type": "execute_result"
    }
   ],
   "source": [
    "len(tokenizer.vocab)"
   ]
  },
  {
   "cell_type": "code",
   "execution_count": 42,
   "metadata": {},
   "outputs": [
    {
     "data": {
      "text/plain": [
       "transformers.models.gpt_neox.tokenization_gpt_neox_fast.GPTNeoXTokenizerFast"
      ]
     },
     "execution_count": 42,
     "metadata": {},
     "output_type": "execute_result"
    }
   ],
   "source": [
    "type(tokenizer)"
   ]
  },
  {
   "cell_type": "markdown",
   "metadata": {},
   "source": [
    "# Model"
   ]
  },
  {
   "cell_type": "code",
   "execution_count": 43,
   "metadata": {},
   "outputs": [],
   "source": [
    "\n",
    "model = AutoModelForCausalLM.from_pretrained(\"EleutherAI/pythia-14m\").to(\"cuda\")"
   ]
  },
  {
   "cell_type": "code",
   "execution_count": 44,
   "metadata": {},
   "outputs": [
    {
     "name": "stdout",
     "output_type": "stream",
     "text": [
      "Total number of parameters: 14067712\n",
      "Total number of embedding parameters: 12877824\n",
      "Total number of non-embedding parameters: 1189888\n"
     ]
    }
   ],
   "source": [
    "# for name, p in model.named_parameters():\n",
    "#     print(name, p.shape)\n",
    "# print()\n",
    "\n",
    "# sort by number of parameters and print\n",
    "sorted_params = sorted(model.named_parameters(), key=lambda x: np.prod(x[1].shape))\n",
    "# compute total number of parameters\n",
    "total_params = sum(np.prod(p.shape) for name, p in sorted_params)\n",
    "print(f\"Total number of parameters: {total_params}\")\n",
    "\n",
    "# compute total embedding parameters\n",
    "embedding_params = sum(np.prod(p.shape) for name, p in sorted_params if \"embed\" in name)\n",
    "print(f\"Total number of embedding parameters: {embedding_params}\")\n",
    "print(f\"Total number of non-embedding parameters: {total_params - embedding_params}\")\n",
    "\n",
    "# for name, p in reversed(sorted_params):\n",
    "#     print(f\"{np.prod(p.shape) / total_params:.2%}\", p.shape, name)"
   ]
  },
  {
   "cell_type": "code",
   "execution_count": 45,
   "metadata": {},
   "outputs": [],
   "source": [
    "trained_params_t = torch.nn.utils.parameters_to_vector(model.parameters()).detach()"
   ]
  },
  {
   "cell_type": "code",
   "execution_count": 46,
   "metadata": {},
   "outputs": [],
   "source": [
    "trained_params_j = jax.dlpack.from_dlpack(trained_params_t)"
   ]
  },
  {
   "cell_type": "code",
   "execution_count": 47,
   "metadata": {},
   "outputs": [
    {
     "name": "stdout",
     "output_type": "stream",
     "text": [
      "{'type': <class 'jaxlib.xla_extension.ArrayImpl'>, 'size': 14067712, 'info': {'shape': (14067712,), 'dtype': dtype('float32'), 'device': CudaDevice(id=0)}}\n",
      "{'type': <class 'torch.Tensor'>, 'size': 14067712, 'info': {'shape': torch.Size([14067712]), 'dtype': torch.float32, 'device': device(type='cuda', index=0)}}\n"
     ]
    }
   ],
   "source": [
    "print(summarize(trained_params_j))\n",
    "print(summarize(trained_params_t))\n"
   ]
  },
  {
   "cell_type": "markdown",
   "metadata": {},
   "source": [
    "# Dataset"
   ]
  },
  {
   "cell_type": "code",
   "execution_count": 48,
   "metadata": {},
   "outputs": [],
   "source": [
    "with open(\"../data/val.jsonl\", \"r\") as f:\n",
    "    text_val = [json.loads(line)['text'] for line in f]"
   ]
  },
  {
   "cell_type": "markdown",
   "metadata": {},
   "source": [
    "## Sampling"
   ]
  },
  {
   "cell_type": "code",
   "execution_count": 12,
   "metadata": {},
   "outputs": [
    {
     "name": "stdout",
     "output_type": "stream",
     "text": [
      "Catalonia election: Puigdemont calls for talks with Spain Published duration 22 December 2017 Related Topics Catalonia independence protests\n",
      "\n",
      "image copyright Reuters image caption \"Now is the time for dialogue,\" said Carles Puigdemont\n",
      "\n",
      "Catalonia's ousted leader, Carles Puigdemont, has called for new talks with Spain after separatist parties won a slim majority in a regional election.\n",
      "\n",
      "He said he wanted the negotiations in Brussels, where he is living in self-imposed exile, or another EU country.\n",
      "\n",
      "Spain's Prime Minister Mariano Rajoy later appeared to reject the idea.\n",
      "\n",
      "He said he would hold talks with the head of the new Catalan government but that leader would have to take up their post in Catalonia itself.\n",
      "\n",
      "He avoided naming Mr Puigdemont, adding that the winner of Thursday's election was Inés Arrimadas, the leader of the Citizens party, which wants Catalonia to remain a semi-autonomous part of Spain.\n",
      "\n",
      "The Citizens party is now the region's biggest party. although pro-independence parties are best placed to form a government.\n",
      "\n",
      "\"Catalonia wants to be an independent state,\" said Mr Puigdemont, speaking in Belgium on Friday. \"This is the wish of the Catalan people. I think the plan of [Spanish Prime Minister] Mariano Rajoy is not working, so we have to find new ways to tackle this crisis.\"\n",
      "\n",
      "Mr Rajoy's conservative Popular Party (PP) recorded its worst ever result in Thursday's vote.\n",
      "\n",
      "He had hoped that the poll would restore stability and said the Spanish government was \"willing to talk in a realistic way and inside the law\" with a future Catalan government.\n",
      "\n",
      "\"I offer Catalonia this because we care about the people\" he said.\n",
      "\n",
      "The Spanish government imposed direct rule on Catalonia and called the election after declaring an October independence referendum illegal.\n",
      "\n",
      "Mr Puigdemont has also called on the prime minister to repatriate all the police sent to Catalonia before the referendum.\n",
      "\n",
      "What were the results?\n",
      "\n",
      "With nearly all votes counted, the pro-independence parties Together for Catalonia (JxCat), Republican Left of Catalonia (ERC) and Popular Unity (CUP) were on course to win a total of 70 seats in total, giving them a majority in the new parliament.\n",
      "\n",
      "Citizens (Cs) had 25.3% of the vote, winning 37 seats in the 135-seat chamber.\n",
      "\n",
      "Its leader told the BBC her party had been \"victorious\". Ms Inés Arrimadas said forming a coalition would be \"difficult - but we will try\".\n",
      "\n",
      "The PP, meanwhile, won only three seats, down from 11 in the previous assembly.\n",
      "\n",
      "Turnout was more than 80%, a record for a Catalan regional election.\n",
      "\n",
      "Analysis: What the papers say\n",
      "\n",
      "By BBC Monitoring\n",
      "\n",
      "Leading Spanish newspapers say that the result has strengthened the government's position.\n",
      "\n",
      "\"Nationalism can no longer claim that it exclusively represents Catalonia,\" says Madrid-based La Razón. ABC newspaper thinks Madrid should now settle the Catalan crisis. \"If Spain wants to win this fight in the long term and prevent Catalonia from leaving one day, it should draft a serious plan for strengthening the state.\"\n",
      "\n",
      "The result seems to have split Catalan papers between those who want the independence project to continue, and those who accept the realpolitik of the election result.\n",
      "\n",
      "\"The independence movement has humiliated the Spanish prime minister,\" El Nacional says. \"The decisions that affect Catalonia are not made in Madrid.\"\n",
      "\n",
      "But Barcelona's El Periódico says the result means a \"divided Catalonia\". \"The election that Mariano Rajoy called has shown that Catalonia is firmly divided in two blocs and there is hardly any space for intermediaries.\"\n",
      "\n",
      "La Vanguardia writes: \"Major forces supporting independence should look back, confess to mistakes and avoid making them again,\"\n",
      "\n",
      "Why did the election take place?\n",
      "\n",
      "Separatists who dominated the previous Catalan parliament declared independence on 27 October after a referendum that was declared illegal by Spain.\n",
      "\n",
      "In an attempt to stop that referendum, Spanish police stormed some polling stations. However many voters defied the Spanish courts and riot police to cast their ballots.\n",
      "\n",
      "The move led to violent clashes with hundreds of people reported injured.\n",
      "\n",
      "According to referendum organisers, 90% of voters were in favour of independence, but fewer than half the region's electorate took part.\n",
      "\n",
      "image copyright Getty Images image caption Inés Arrimadas said she would try to form a coalition\n",
      "\n",
      "However, Mr Puigdemont decided it was enough to declare independence from Spain.\n",
      "\n",
      "Mr Rajoy then sacked the Catalan government, imposed direct rule and called the 21 December election.\n",
      "\n",
      "Prosecutors accused 13 Catalan separatist politicians of rebellion and sedition, including Mr Puigdemont and four others who fled to Belgium.\n",
      "\n",
      "Among the accused, two pro-independence politicians are in Spanish prisons, and six are being monitored while on bail.\n",
      "\n",
      "What has been the reaction?\n",
      "\n",
      "The European Commission said that its stance towards Catalonia remained the same, despite Thursday's election result.\n",
      "\n",
      "The executive arm of the EU has previously stated that events in Catalonia are an internal issue for Spain.\n",
      "\n",
      "\"Our position on the question of Catalonia is well known and has been regularly restated, at all levels. It will not change,\" commission spokesman Alexander Winterstein told AFP news agency.\n",
      "\n",
      "\"In relation to a regional election, we have no comment to make,\" he added.\n",
      "\n",
      "The Spanish government has not yet commented on the results.\n",
      "\n",
      "What happens now?\n",
      "\n",
      "Analysts say the success of separatist parties means that the ball is now back in the Spanish government's court.\n",
      "\n",
      "Antonio Barroso, of the London-based research firm Teneo Intelligence, says the problem for Madrid remains \"and the secession movement is not going to go away\".\n",
      "\n",
      "Correspondents say it is not yet clear whether Mr Puigdemont will be renamed president, and if so, if he will return from Belgium. As things stand, he faces arrest, should he enter Spain.\n",
      "\n",
      "image copyright Getty Images image caption Independence supporters celebrated in Barcelona\n",
      "\n",
      "Why do many Catalans want independence?\n",
      "\n",
      "Catalonia is one of Spain's wealthiest and most productive regions and has a distinct history dating back almost 1,000 years.\n",
      "\n",
      "Before the Spanish Civil War it enjoyed broad autonomy but that was suppressed under General Francisco Franco's dictatorship from 1939-75.\n",
      "\n",
      "When Franco died, the region was granted autonomy again under the 1978 constitution, and the region prospered along with the rest of the new, democratic Spain.\n",
      "\n",
      "A 2006 statute granted even greater powers, boosting Catalonia's financial clout and describing it as a \"nation\", but Spain's Constitutional Court reversed much of this in 2010.\n",
      "\n",
      "Recession and cuts in public spending fuelled local resentment, which coalesced in a powerful secessionist movement.\n"
     ]
    }
   ],
   "source": [
    "print(text_val[0])"
   ]
  },
  {
   "cell_type": "code",
   "execution_count": 23,
   "metadata": {},
   "outputs": [
    {
     "name": "stderr",
     "output_type": "stream",
     "text": [
      "The attention mask and the pad token id were not set. As a consequence, you may observe unexpected behavior. Please pass your input's `attention_mask` to obtain reliable results.\n",
      "Setting `pad_token_id` to `eos_token_id`:0 for open-end generation.\n"
     ]
    },
    {
     "name": "stdout",
     "output_type": "stream",
     "text": [
      "torch.Size([2, 1024])\n",
      "Catalonia election: Puigdemont calls for talks with Spain Published duration 22 December 2017 Related Topics Catalonia independence protests\n",
      "\n",
      "image copyright Reuters image caption \"Now is the time for dialogue,\" said Carles Puigdemont\n",
      "\n",
      "Catalonia's ousted leader, Carles Puigdemont, has called for new talks with Spain after separatist parties won a slim majority in a regional election.\n",
      "\n",
      "He said he wanted the negotiations in Brussels, where he is living in self-imposed exile, or another EU country.\n",
      "\n",
      "Spain's Prime Minister Mariano Rajoy later appeared to reject the idea.\n",
      "\n",
      "He said he would hold talks with the head of the new Catalan government but that leader would have to take up their post in Catalonia itself.\n",
      "\n",
      "He avoided naming Mr Puigdemont, adding that the winner of Thursday's election was Inés Arrimadas, the leader of the Citizens party, which wants Catalonia to remain a semi-autonomous part of Spain.\n",
      "\n",
      "The Citizens party is now the region's biggest party. although pro-independence parties are best placed to form a government.\n",
      "\n",
      "\"Catalonia wants to be an independent state,\" said Mr Puigdemont, speaking in Belgium on Friday. \"This is the wish of the Catalan people. I think the plan of [Spanish Prime Minister] Mariano Rajoy is not working, so we have to find new ways to tackle this crisis.\"\n",
      "\n",
      "Mr Rajoy's conservative Popular Party (PP) recorded its worst ever result in Thursday's vote.\n",
      "\n",
      "He had hoped that the poll would restore stability and said the Spanish government was \"willing to talk in a realistic way and inside the law\" with a future Catalan government.\n",
      "\n",
      "\"I offer Catalonia this because we care about the people\" he said.\n",
      "\n",
      "The Spanish government imposed direct rule on Catalonia and called the election after declaring an October independence referendum illegal.\n",
      "\n",
      "Mr Puigdemont has also called on the prime minister to repatriate all the police sent to Catalonia before the referendum.\n",
      "\n",
      "What were the results?\n",
      "\n",
      "With nearly all votes counted, the pro-independence parties Together for Catalonia (JxCat), Republican Left of Catalonia (ERC) and Popular Unity (CUP) were on course to win a total of 70 seats in total, giving them a majority in the new parliament.\n",
      "\n",
      "Citizens (Cs) had 25.3% of the vote in the last election, which will be the same in the first elections in Europe.\n",
      "\n",
      "\"It was a very good thing to do, I was a very good thing to do,\" he said.\n",
      "\n",
      "In terms of the vote, the President of the United States declared the United States.\n",
      "\n",
      "\"I have come to have a good time to do,\" the president said.\n",
      "\n",
      "Mr Su-Sriquez (born April 14, 2019) is a political figure of the US president.\n",
      "\n",
      "\"I have a great time to have a great time to have a great time to have a great time to have a great time to have a great time to have a great time to have a great time to have a great time to have a great time to have a great time to have a great time to have a great time to have a great time to have a great time to have a great time to have a great time to have a great time to have a great time to have a great time to have a great time to have a great time to have a great time to have a great time to have a great time to have a great time to have a great time to have a great time to have a great time to have a great time to have a great time to have a great time to have a great time to have a great time to have a great time to have a great time to have a great time to have a great time to have a great time to have a great time to have a great time to have a great time to have a great time to have a great time to have a great time to have a great time to have a great time to have a great time to have a great time to have a great time to have a great time to have a great time to have a great time to have a great time to have a great time to have a great time to have a great time to have a great time to have a great time to have a great time to have a great time to have a great time to have a great time to have a great time to have a great time to have a great time to have a great time to have a great time to have a great time to have a great time to have a great time to have a great time to have a great time to have a great time to have a great time to have a great time to have a great time to have a great time to have a great time to have a great time to have a great time to have\n",
      "Wirex, a prominent UK’s FCA supported cryptocurrency remittance provider, has partnered with Stellar, bringing in its over 2 million users and more than 5000 business clients into the cryptocurrency project’s ecosystem.\n",
      "\n",
      "The surprising collaboration will see Wirex launch “26 fiat-backed stablecoins” on Stellar network, a crypto platform that also partnered with tech giant IBM.\n",
      "\n",
      "Stellar network is receiving different supports from big firms across the globe. The launch of Wirex Stablecoins on Stellar Network infers that the crypto platform is uniquely designed to also accommodate Stablecoins.\n",
      "\n",
      "While some analysts opined that Stablecoins are created to bring growth into the crypto space, they are becoming a solid way to reduce crypto volatility due to the fact that their value are pegged to fiat currency.\n",
      "\n",
      "For Low Cost and Almost Instant Across Border Remittance\n",
      "\n",
      "When Stellar-based Wirex stablecoins finally launches, they are going to be used to perfect low-cost and all most immediately cross-border remittance, just like the IBM Stablecoin which has received support from six respected international banks.\n",
      "\n",
      "First of its Kind in the Crypto Space\n",
      "\n",
      "This Wirex Stablecoins is going to be the first of its kind for many reasons. They are the maiden stablecoins to be spend easily in day to day dealings using Wirex Visa card. It is the first stablecoins to be pegged to different fiat currencies like USD, EUR, GBP, HKD and SGD with exchange at interbank rates. Similarly, it is the foremost stablecoins that can be easily exchanged with other virtual currencies at OTC rates.\n",
      "\n",
      "Importantly, it is the first stablecoins to be released by an FCA supported crypto and fiat payment firm. All these will propel the stablecoins when it is finally unveiled.\n",
      "\n",
      "Wirex’ Over 2 million Users and 5K business clients Added to Stellar (XLM) Ecosystem\n",
      "\n",
      "The advent of Wirex Stablecoins on Stellar network means the FCA-regulated company’s over 2 million Users and 5K business clients are to be added to the Stellar ecosystem. This is definitely going to propel the cryptocurrency project.\n",
      "\n",
      "Wirex has an outstanding user base. The number of people using the Wirex platform are enough to bring revolution to the Stellar (XLM) network.\n",
      "\n",
      "More Use Cases Than Expected.\n",
      "\n",
      "The stellar-based Google Pixel and the Visa card is not a key for that.\n",
      "\n",
      "A few years after that, the company has been building a wide range of platforms for their company and to build a wide range of platforms that are able to find a way to build a wide range of platforms for their company.\n",
      "\n",
      "The company has a great new market, and it is the company’s great product, and the company’s reputation as a platform.\n",
      "\n",
      "It is the company’s latest innovation in its development to help to build a wide range of platforms like Google’s Google Pixel and the Visa device.\n",
      "\n",
      "The company has an amazing brand that has launched its own business into a wide range of platforms such as a Google Pixel and the Visa device.\n",
      "\n",
      "The company’s company’s team is also an engineering and engineering company.\n",
      "\n",
      "In a company’s industry, it is the company’s first startup company, the company’s company’s company, and its company’s company.\n",
      "\n",
      "“We’ve been looking for a lot of new technologies and business partners,” said R.C., a company with the company’s CEO, the company’s company, who launched its company’s company, said.\n",
      "\n",
      "“We’re not on the company’s company’s business, but we’ll bring a lot of new technologies and business partners.\n",
      "\n",
      "“We’re not on the company’s company’s company’s company’s company’s company’s company’s company’s company’s company’s company’s company’s company’s company’s company’s company’s company’s company’s company’s company’s company’s company’s company’s company’s company’s company’s company’s company’s company’s company’s company’s company’s company’s company’s company’s company’s company’s company’s company’s company’s company’s company’s company’s company’s company’s company’s company’s company’s company’s company’s company’s company’s company’s company’s company’s company’s company’s company’s company’s company’s company’s company’s company’s company’s company’s company’s company’s company’s company’s company’s company’s company’\n"
     ]
    }
   ],
   "source": [
    "# sample from model\n",
    "\n",
    "input_ids = tokenizer(text_val[:2], return_tensors=\"pt\", padding=True, truncation=True, max_length=512)['input_ids']\n",
    "logits = model.generate(input_ids.to(\"cuda\"), \n",
    "                        max_new_tokens=512, \n",
    "                        do_sample=True,\n",
    "                        temperature=0.7,\n",
    "                        top_k=50,\n",
    "                        top_p=0.95,\n",
    "                        )\n",
    "print(logits.shape)\n",
    "print(tokenizer.decode(logits[0], skip_special_tokens=True))\n",
    "print(tokenizer.decode(logits[1], skip_special_tokens=True))\n"
   ]
  },
  {
   "cell_type": "markdown",
   "metadata": {},
   "source": [
    "## Padding scratch"
   ]
  },
  {
   "cell_type": "code",
   "execution_count": 145,
   "metadata": {},
   "outputs": [],
   "source": [
    "n_seqs = 40\n",
    "out = model(tokenizer(text_val[:n_seqs], return_tensors=\"pt\", padding=True, truncation=True, max_length=1024)['input_ids'])"
   ]
  },
  {
   "cell_type": "code",
   "execution_count": null,
   "metadata": {},
   "outputs": [],
   "source": [
    "n_seqs = 40\n",
    "out = model(tokenizer(text_val[:n_seqs], return_tensors=\"pt\", padding=True, truncation=True, max_length=1024)['input_ids'])"
   ]
  },
  {
   "cell_type": "code",
   "execution_count": 94,
   "metadata": {},
   "outputs": [],
   "source": [
    "short_texts = [text_val[i] for i in indices+[0]]\n",
    "out = model(tokenizer(short_texts, return_tensors=\"pt\", padding=True, truncation=True, max_length=1024)['input_ids'])"
   ]
  },
  {
   "cell_type": "code",
   "execution_count": 95,
   "metadata": {},
   "outputs": [
    {
     "data": {
      "text/plain": [
       "torch.Size([41, 1024, 50304])"
      ]
     },
     "execution_count": 95,
     "metadata": {},
     "output_type": "execute_result"
    }
   ],
   "source": [
    "out.logits.shape"
   ]
  },
  {
   "cell_type": "code",
   "execution_count": 110,
   "metadata": {},
   "outputs": [
    {
     "data": {
      "text/plain": [
       "<matplotlib.image.AxesImage at 0x7fde71536690>"
      ]
     },
     "execution_count": 110,
     "metadata": {},
     "output_type": "execute_result"
    },
    {
     "data": {
      "image/png": "[encoded data removed]",
      "text/plain": [
       "<Figure size 1600x200 with 1 Axes>"
      ]
     },
     "metadata": {},
     "output_type": "display_data"
    }
   ],
   "source": [
    "plt.matshow(tokenizer(short_texts, return_tensors=\"pt\", padding=True, truncation=True, max_length=1024)['input_ids'].detach().numpy(), aspect='auto')"
   ]
  },
  {
   "cell_type": "code",
   "execution_count": null,
   "metadata": {},
   "outputs": [
    {
     "data": {
      "text/plain": [
       "<matplotlib.image.AxesImage at 0x7fde70f51590>"
      ]
     },
     "metadata": {},
     "output_type": "display_data"
    },
    {
     "data": {
      "image/png": "[encoded data removed]",
      "text/plain": [
       "<Figure size 1600x200 with 1 Axes>"
      ]
     },
     "metadata": {},
     "output_type": "display_data"
    }
   ],
   "source": [
    "plt.matshow(out.logits[:, :, 1].detach().numpy(), cmap='RdBu', aspect='auto')"
   ]
  },
  {
   "cell_type": "code",
   "execution_count": 156,
   "metadata": {},
   "outputs": [
    {
     "data": {
      "text/plain": [
       "715"
      ]
     },
     "execution_count": 156,
     "metadata": {},
     "output_type": "execute_result"
    }
   ],
   "source": [
    "lens[60]"
   ]
  },
  {
   "cell_type": "code",
   "execution_count": 154,
   "metadata": {},
   "outputs": [
    {
     "data": {
      "image/png": "[encoded data removed]",
      "text/plain": [
       "<Figure size 640x480 with 1 Axes>"
      ]
     },
     "metadata": {},
     "output_type": "display_data"
    },
    {
     "data": {
      "image/png": "[encoded data removed]",
      "text/plain": [
       "<Figure size 640x480 with 1 Axes>"
      ]
     },
     "metadata": {},
     "output_type": "display_data"
    }
   ],
   "source": [
    "lens = sorted(map(lambda t: len(tokenizer(t)['input_ids']), text_val[:100]))\n",
    "def frac_filled(lens, max_len):\n",
    "    return sum(min(l, max_len) for l in lens) / (max_len * len(lens))\n",
    "def frac_used(lens, max_len):\n",
    "    return sum(min(l, max_len) for l in lens) / sum(lens)\n",
    "\n",
    "plt.plot(lens)\n",
    "plt.yscale('log')\n",
    "plt.show()\n",
    "\n",
    "\n",
    "plt.plot([frac_filled(lens, max_len) for max_len in lens])\n",
    "plt.plot([frac_used(lens, max_len) for max_len in lens])\n",
    "plt.show()"
   ]
  },
  {
   "cell_type": "code",
   "execution_count": 143,
   "metadata": {},
   "outputs": [],
   "source": [
    "# get indices of shortest 40 sequences\n",
    "indices = sorted(range(len(text_val[:100])), key=lambda i: len(tokenizer(text_val[i])['input_ids']))[:n_seqs]"
   ]
  },
  {
   "cell_type": "code",
   "execution_count": 144,
   "metadata": {},
   "outputs": [
    {
     "data": {
      "text/plain": [
       "{'type': transformers.modeling_outputs.CausalLMOutputWithPast,\n",
       " 'size': 2,\n",
       " 'contents': [{'key': 'logits',\n",
       "   'value': {'type': torch.Tensor,\n",
       "    'size': 2111963136,\n",
       "    'info': {'shape': torch.Size([41, 1024, 50304]), 'dtype': torch.float32}}},\n",
       "  {'key': 'past_key_values',\n",
       "   'value': {'type': tuple,\n",
       "    'size': 6,\n",
       "    'contents': [{'type': tuple,\n",
       "      'size': 2,\n",
       "      'contents': [{'type': torch.Tensor,\n",
       "        'size': 5373952,\n",
       "        'info': {'shape': torch.Size([41, 4, 1024, 32]),\n",
       "         'dtype': torch.float32}},\n",
       "       {'type': torch.Tensor,\n",
       "        'size': 5373952,\n",
       "        'info': {'shape': torch.Size([41, 4, 1024, 32]),\n",
       "         'dtype': torch.float32}}]},\n",
       "     {'type': tuple,\n",
       "      'size': 2,\n",
       "      'contents': [{'type': torch.Tensor,\n",
       "        'size': 5373952,\n",
       "        'info': {'shape': torch.Size([41, 4, 1024, 32]),\n",
       "         'dtype': torch.float32}},\n",
       "       {'type': torch.Tensor,\n",
       "        'size': 5373952,\n",
       "        'info': {'shape': torch.Size([41, 4, 1024, 32]),\n",
       "         'dtype': torch.float32}}]},\n",
       "     {'type': tuple,\n",
       "      'size': 2,\n",
       "      'contents': [{'type': torch.Tensor,\n",
       "        'size': 5373952,\n",
       "        'info': {'shape': torch.Size([41, 4, 1024, 32]),\n",
       "         'dtype': torch.float32}},\n",
       "       {'type': torch.Tensor,\n",
       "        'size': 5373952,\n",
       "        'info': {'shape': torch.Size([41, 4, 1024, 32]),\n",
       "         'dtype': torch.float32}}]},\n",
       "     {'type': tuple,\n",
       "      'size': 2,\n",
       "      'contents': [{'type': torch.Tensor,\n",
       "        'size': 5373952,\n",
       "        'info': {'shape': torch.Size([41, 4, 1024, 32]),\n",
       "         'dtype': torch.float32}},\n",
       "       {'type': torch.Tensor,\n",
       "        'size': 5373952,\n",
       "        'info': {'shape': torch.Size([41, 4, 1024, 32]),\n",
       "         'dtype': torch.float32}}]},\n",
       "     {'type': tuple,\n",
       "      'size': 2,\n",
       "      'contents': [{'type': torch.Tensor,\n",
       "        'size': 5373952,\n",
       "        'info': {'shape': torch.Size([41, 4, 1024, 32]),\n",
       "         'dtype': torch.float32}},\n",
       "       {'type': torch.Tensor,\n",
       "        'size': 5373952,\n",
       "        'info': {'shape': torch.Size([41, 4, 1024, 32]),\n",
       "         'dtype': torch.float32}}]},\n",
       "     {'type': tuple,\n",
       "      'size': 2,\n",
       "      'contents': [{'type': torch.Tensor,\n",
       "        'size': 5373952,\n",
       "        'info': {'shape': torch.Size([41, 4, 1024, 32]),\n",
       "         'dtype': torch.float32}},\n",
       "       {'type': torch.Tensor,\n",
       "        'size': 5373952,\n",
       "        'info': {'shape': torch.Size([41, 4, 1024, 32]),\n",
       "         'dtype': torch.float32}}]}]}}]}"
      ]
     },
     "execution_count": 144,
     "metadata": {},
     "output_type": "execute_result"
    }
   ],
   "source": [
    "summarize(out)"
   ]
  },
  {
   "cell_type": "markdown",
   "metadata": {},
   "source": [
    "## Val subset"
   ]
  },
  {
   "cell_type": "code",
   "execution_count": 55,
   "metadata": {},
   "outputs": [],
   "source": [
    "n_seqs = 10\n",
    "X_val_t = tokenizer(text_val[:n_seqs], return_tensors=\"pt\", padding=True, truncation=True, max_length=1024)['input_ids'].to(\"cuda\")\n",
    "X_val_j = jax.dlpack.from_dlpack(X_val_t)"
   ]
  },
  {
   "cell_type": "markdown",
   "metadata": {},
   "source": [
    "# Basins"
   ]
  },
  {
   "cell_type": "code",
   "execution_count": 50,
   "metadata": {},
   "outputs": [],
   "source": [
    "# https://github.com/EleutherAI/pythia/blob/main/models/14M/pythia-14m.yml\n",
    "with open(\"../data/pythia-14m.yml\", \"r\") as f:\n",
    "    config = yaml.load(f, Loader=yaml.FullLoader)\n",
    "l2_reg = config['weight-decay']\n",
    "# TODO: determine if this is the correct train size\n",
    "train_size = config['train-iters'] * config['train_micro_batch_size_per_gpu']\n",
    "sigma_epoch = 1/jnp.sqrt(l2_reg * train_size)"
   ]
  },
  {
   "cell_type": "code",
   "execution_count": 51,
   "metadata": {},
   "outputs": [],
   "source": [
    "sigma_params = jnp.sqrt(jnp.mean(trained_params_j**2))"
   ]
  },
  {
   "cell_type": "code",
   "execution_count": 52,
   "metadata": {},
   "outputs": [
    {
     "name": "stdout",
     "output_type": "stream",
     "text": [
      "0.001478281\n",
      "0.32929182\n"
     ]
    }
   ],
   "source": [
    "print(sigma_epoch)  # way too small!\n",
    "print(sigma_params)"
   ]
  },
  {
   "cell_type": "code",
   "execution_count": 63,
   "metadata": {},
   "outputs": [],
   "source": [
    "def apply_fn(params, x, *, debug=False):\n",
    "    # assign params to model\n",
    "    params_t = torch.from_dlpack(params)\n",
    "    torch.nn.utils.vector_to_parameters(params_t, model.parameters())\n",
    "    if debug:\n",
    "        print(f\"{x.shape=}\")\n",
    "    return jax.dlpack.from_dlpack(model(x).logits.detach())"
   ]
  },
  {
   "cell_type": "code",
   "execution_count": 64,
   "metadata": {},
   "outputs": [],
   "source": [
    "def make_kl_fn(probs_p, apply_fn, x, l2_reg, debug=False):\n",
    "    def kl_fn(a, b):\n",
    "        # [model_dim]\n",
    "        params_q = a + b\n",
    "        # x: [batch, seq_len] (input_ids)\n",
    "        # [batch, seq_len, vocab_size]\n",
    "        logits_q = apply_fn(params_q, x, debug=debug)\n",
    "        # [batch, seq_len, vocab_size]\n",
    "        logprobs_q = jax.nn.log_softmax(logits_q)\n",
    "        # [batch, seq_len]\n",
    "        if debug:\n",
    "            print(f\"{logprobs_q.shape=} {probs_p.shape=}\")\n",
    "        kl_all = optax.kl_divergence(logprobs_q, probs_p)\n",
    "        # []\n",
    "        kl_term = jnp.mean(kl_all)\n",
    "        l2_term = 1/2 * l2_reg * jnp.sum(b**2)\n",
    "        return kl_term + l2_term\n",
    "    return kl_fn\n",
    "\n",
    "def make_kl_fn_params(params_p, apply_fn, x, *, l2_reg, debug=False):\n",
    "    logits_p = apply_fn(params_p, x, debug=debug)\n",
    "    if debug:\n",
    "        print(f\"{logits_p.shape=}\")\n",
    "    probs_p = jax.nn.softmax(logits_p)\n",
    "    if debug:\n",
    "        print(f\"{probs_p.shape=}\")\n",
    "    return make_kl_fn(probs_p, apply_fn, x, l2_reg=l2_reg, debug=debug)"
   ]
  },
  {
   "cell_type": "markdown",
   "metadata": {},
   "source": [
    "## Memory management"
   ]
  },
  {
   "cell_type": "code",
   "execution_count": 20,
   "metadata": {},
   "outputs": [],
   "source": [
    "# Add this code after loading the model\n",
    "import gc\n",
    "import torch\n",
    "\n",
    "def get_tensor_memory_usage():\n",
    "    # Force garbage collection first\n",
    "    gc.collect()\n",
    "    torch.cuda.empty_cache()\n",
    "    \n",
    "    # Get all tensors in memory\n",
    "    tensors = []\n",
    "    for obj in gc.get_objects():\n",
    "        try:\n",
    "            if torch.is_tensor(obj) and obj.is_cuda:\n",
    "                tensors.append((obj.shape, obj.dtype, obj.element_size() * obj.nelement() / 1024**2))\n",
    "        except:\n",
    "            pass\n",
    "    \n",
    "    # Sort by memory usage (MB)\n",
    "    return sorted(tensors, key=lambda x: x[2], reverse=True)"
   ]
  },
  {
   "cell_type": "code",
   "execution_count": 21,
   "metadata": {},
   "outputs": [
    {
     "name": "stdout",
     "output_type": "stream",
     "text": [
      "Shape: torch.Size([100, 1024, 50304]), Dtype: torch.float32, Size: 19650.00 MB\n",
      "Shape: torch.Size([14067712]), Dtype: torch.float32, Size: 53.66 MB\n",
      "Shape: torch.Size([50304, 128]), Dtype: torch.float32, Size: 24.56 MB\n",
      "Shape: torch.Size([50304, 128]), Dtype: torch.float32, Size: 24.56 MB\n",
      "Shape: torch.Size([1, 1, 2048, 2048]), Dtype: torch.bool, Size: 4.00 MB\n",
      "Shape: torch.Size([1, 1, 2048, 2048]), Dtype: torch.bool, Size: 4.00 MB\n",
      "Shape: torch.Size([1, 1, 2048, 2048]), Dtype: torch.bool, Size: 4.00 MB\n",
      "Shape: torch.Size([1, 1, 2048, 2048]), Dtype: torch.bool, Size: 4.00 MB\n",
      "Shape: torch.Size([1, 1, 2048, 2048]), Dtype: torch.bool, Size: 4.00 MB\n",
      "Shape: torch.Size([1, 1, 2048, 2048]), Dtype: torch.bool, Size: 4.00 MB\n",
      "Shape: torch.Size([100, 1024]), Dtype: torch.int64, Size: 0.78 MB\n",
      "Shape: torch.Size([512, 128]), Dtype: torch.float32, Size: 0.25 MB\n",
      "Shape: torch.Size([128, 512]), Dtype: torch.float32, Size: 0.25 MB\n",
      "Shape: torch.Size([512, 128]), Dtype: torch.float32, Size: 0.25 MB\n",
      "Shape: torch.Size([128, 512]), Dtype: torch.float32, Size: 0.25 MB\n",
      "Shape: torch.Size([512, 128]), Dtype: torch.float32, Size: 0.25 MB\n",
      "Shape: torch.Size([128, 512]), Dtype: torch.float32, Size: 0.25 MB\n",
      "Shape: torch.Size([512, 128]), Dtype: torch.float32, Size: 0.25 MB\n",
      "Shape: torch.Size([128, 512]), Dtype: torch.float32, Size: 0.25 MB\n",
      "Shape: torch.Size([512, 128]), Dtype: torch.float32, Size: 0.25 MB\n",
      "Shape: torch.Size([128, 512]), Dtype: torch.float32, Size: 0.25 MB\n",
      "Shape: torch.Size([512, 128]), Dtype: torch.float32, Size: 0.25 MB\n",
      "Shape: torch.Size([128, 512]), Dtype: torch.float32, Size: 0.25 MB\n",
      "Shape: torch.Size([384, 128]), Dtype: torch.float32, Size: 0.19 MB\n",
      "Shape: torch.Size([384, 128]), Dtype: torch.float32, Size: 0.19 MB\n",
      "Shape: torch.Size([384, 128]), Dtype: torch.float32, Size: 0.19 MB\n",
      "Shape: torch.Size([384, 128]), Dtype: torch.float32, Size: 0.19 MB\n",
      "Shape: torch.Size([384, 128]), Dtype: torch.float32, Size: 0.19 MB\n",
      "Shape: torch.Size([384, 128]), Dtype: torch.float32, Size: 0.19 MB\n",
      "Shape: torch.Size([128, 128]), Dtype: torch.float32, Size: 0.06 MB\n"
     ]
    },
    {
     "name": "stderr",
     "output_type": "stream",
     "text": [
      "/opt/conda/envs/jax311/lib/python3.11/site-packages/torch/__init__.py:1021: FutureWarning: `torch.distributed.reduce_op` is deprecated, please use `torch.distributed.ReduceOp` instead\n",
      "  return isinstance(obj, torch.Tensor)\n"
     ]
    }
   ],
   "source": [
    "\n",
    "# Print top 10 tensors by memory usage\n",
    "for shape, dtype, size_mb in get_tensor_memory_usage()[:30]:\n",
    "    print(f\"Shape: {shape}, Dtype: {dtype}, Size: {size_mb:.2f} MB\")"
   ]
  },
  {
   "cell_type": "code",
   "execution_count": 36,
   "metadata": {},
   "outputs": [
    {
     "name": "stdout",
     "output_type": "stream",
     "text": [
      "Total memory usage by Torch: 19782.109504699707 MB\n"
     ]
    }
   ],
   "source": [
    "# total memory usage by Torch\n",
    "print(f\"Total memory usage by Torch: {sum(size_mb for _, _, size_mb in get_tensor_memory_usage())} MB\")"
   ]
  },
  {
   "cell_type": "code",
   "execution_count": 37,
   "metadata": {},
   "outputs": [
    {
     "name": "stdout",
     "output_type": "stream",
     "text": [
      "\n",
      "Largest JAX Arrays:\n",
      "Shape: (100, 1024, 50304), Dtype: float32, Size: 19650.00 MB\n",
      "Shape: (100, 1024, 50304), Dtype: float32, Size: 19650.00 MB\n",
      "Shape: (100, 1024, 50304), Dtype: float32, Size: 19650.00 MB\n",
      "Shape: (14067712,), Dtype: float32, Size: 53.66 MB\n",
      "Shape: (14067712,), Dtype: float32, Size: 53.66 MB\n",
      "Shape: (14067712,), Dtype: float32, Size: 53.66 MB\n",
      "Shape: (14067712,), Dtype: float32, Size: 53.66 MB\n",
      "Shape: (14067712,), Dtype: float32, Size: 53.66 MB\n",
      "Shape: (100, 1024), Dtype: int32, Size: 0.39 MB\n",
      "Shape: (), Dtype: float32, Size: 0.00 MB\n",
      "Shape: (), Dtype: float32, Size: 0.00 MB\n",
      "Shape: (), Dtype: float32, Size: 0.00 MB\n",
      "Shape: (), Dtype: float32, Size: 0.00 MB\n",
      "\n",
      "Total JAX Memory Usage: 59218.71 MB\n"
     ]
    }
   ],
   "source": [
    "def get_jax_memory_usage():\n",
    "    # Force garbage collection\n",
    "    gc.collect()\n",
    "    \n",
    "    # Get live arrays from JAX\n",
    "    live_arrays = jax.live_arrays()\n",
    "    \n",
    "    # Calculate size and sort by memory usage\n",
    "    array_sizes = []\n",
    "    for arr in live_arrays:\n",
    "        try:\n",
    "            shape = arr.shape\n",
    "            dtype = arr.dtype\n",
    "            size_mb = arr.size * arr.dtype.itemsize / (1024 * 1024)  # Convert to MB\n",
    "            array_sizes.append((shape, dtype, size_mb))\n",
    "        except:\n",
    "            pass\n",
    "    \n",
    "    # Sort by size\n",
    "    array_sizes.sort(key=lambda x: x[2], reverse=True)\n",
    "    \n",
    "    # Print top arrays\n",
    "    print(\"\\nLargest JAX Arrays:\")\n",
    "    for shape, dtype, size_mb in array_sizes[:30]:\n",
    "        print(f\"Shape: {shape}, Dtype: {dtype}, Size: {size_mb:.2f} MB\")\n",
    "    \n",
    "    total_mb = sum(size for _, _, size in array_sizes)\n",
    "    print(f\"\\nTotal JAX Memory Usage: {total_mb:.2f} MB\")\n",
    "\n",
    "# Get current memory usage\n",
    "get_jax_memory_usage()"
   ]
  },
  {
   "cell_type": "code",
   "execution_count": 35,
   "metadata": {},
   "outputs": [],
   "source": [
    "def clear_memory():\n",
    "    # Clear PyTorch cache\n",
    "    gc.collect()\n",
    "    torch.cuda.empty_cache()\n",
    "    \n",
    "    # Clear JAX cache\n",
    "    jax.clear_caches()\n",
    "    \n",
    "    # Additional garbage collection\n",
    "    gc.collect()\n",
    "\n",
    "# Usage\n",
    "clear_memory()"
   ]
  },
  {
   "cell_type": "markdown",
   "metadata": {},
   "source": [
    "## Real shit"
   ]
  },
  {
   "cell_type": "code",
   "execution_count": 66,
   "metadata": {},
   "outputs": [],
   "source": [
    "kl_fn = make_kl_fn_params(trained_params_j, apply_fn, X_val_t, l2_reg=0.)   "
   ]
  },
  {
   "cell_type": "code",
   "execution_count": 67,
   "metadata": {},
   "outputs": [
    {
     "data": {
      "text/plain": [
       "Array(2.1766385e-10, dtype=float32)"
      ]
     },
     "execution_count": 67,
     "metadata": {},
     "output_type": "execute_result"
    }
   ],
   "source": [
    "kl_fn(trained_params_j, 0.)"
   ]
  },
  {
   "cell_type": "code",
   "execution_count": 59,
   "metadata": {},
   "outputs": [],
   "source": [
    "CUTOFF = 1e-2\n",
    "\n",
    "RESULTS = {} # estimates, props, mults, deltas, logabsint"
   ]
  },
  {
   "cell_type": "code",
   "execution_count": 82,
   "metadata": {},
   "outputs": [],
   "source": [
    "result_size = 100\n",
    "\n",
    "RESULTS['naive'] = get_estimates_vectorized_gauss(result_size, \n",
    "                                                  batch_size=1,\n",
    "                                                  sigma=sigma_params,\n",
    "                                                  fn=kl_fn, \n",
    "                                                  params=trained_params_j, \n",
    "                                                  cutoff=CUTOFF,\n",
    "                                                  tol=100., #0.1,\n",
    "                                                  debug=False,\n",
    "                                                  torch_model=True,\n",
    "                                                 )"
   ]
  },
  {
   "cell_type": "code",
   "execution_count": 88,
   "metadata": {},
   "outputs": [
    {
     "data": {
      "text/plain": [
       "{'type': dict,\n",
       " 'size': 1,\n",
       " 'contents': [{'key': 'naive',\n",
       "   'value': {'type': tuple,\n",
       "    'size': 5,\n",
       "    'contents': [{'type': jaxlib.xla_extension.ArrayImpl,\n",
       "      'size': 100,\n",
       "      'info': {'shape': (100,),\n",
       "       'dtype': dtype('float32'),\n",
       "       'device': CudaDevice(id=0)}},\n",
       "     {'type': jaxlib.xla_extension.ArrayImpl,\n",
       "      'size': 100,\n",
       "      'info': {'shape': (100,),\n",
       "       'dtype': dtype('float32'),\n",
       "       'device': CudaDevice(id=0)}},\n",
       "     {'type': jaxlib.xla_extension.ArrayImpl,\n",
       "      'size': 100,\n",
       "      'info': {'shape': (100,),\n",
       "       'dtype': dtype('float32'),\n",
       "       'device': CudaDevice(id=0)}},\n",
       "     {'type': jaxlib.xla_extension.ArrayImpl,\n",
       "      'size': 100,\n",
       "      'info': {'shape': (100,),\n",
       "       'dtype': dtype('float32'),\n",
       "       'device': CudaDevice(id=0)}},\n",
       "     {'type': jaxlib.xla_extension.ArrayImpl,\n",
       "      'size': 100,\n",
       "      'info': {'shape': (100,),\n",
       "       'dtype': dtype('float32'),\n",
       "       'device': CudaDevice(id=0)}}]}}]}"
      ]
     },
     "execution_count": 88,
     "metadata": {},
     "output_type": "execute_result"
    }
   ],
   "source": [
    "summarize(RESULTS)"
   ]
  },
  {
   "cell_type": "code",
   "execution_count": 87,
   "metadata": {},
   "outputs": [
    {
     "data": {
      "image/png": "[encoded data removed]",
      "text/plain": [
       "<Figure size 640x480 with 1 Axes>"
      ]
     },
     "metadata": {},
     "output_type": "display_data"
    },
    {
     "data": {
      "image/png": "[encoded data removed]",
      "text/plain": [
       "<Figure size 640x480 with 1 Axes>"
      ]
     },
     "metadata": {},
     "output_type": "display_data"
    },
    {
     "data": {
      "image/png": "[encoded data removed]",
      "text/plain": [
       "<Figure size 640x480 with 1 Axes>"
      ]
     },
     "metadata": {},
     "output_type": "display_data"
    }
   ],
   "source": [
    "plt.hist(RESULTS['naive'][0], bins=20)\n",
    "plt.show()\n",
    "\n",
    "plt.hist(RESULTS['naive'][2], bins=20)\n",
    "plt.show()\n",
    "\n",
    "plt.hist((RESULTS['naive'][3] - CUTOFF) / CUTOFF, bins=20)\n",
    "plt.show()\n"
   ]
  }
 ],
 "metadata": {
  "kernelspec": {
   "display_name": "jax311",
   "language": "python",
   "name": "python3"
  },
  "language_info": {
   "codemirror_mode": {
    "name": "ipython",
    "version": 3
   },
   "file_extension": ".py",
   "mimetype": "text/x-python",
   "name": "python",
   "nbconvert_exporter": "python",
   "pygments_lexer": "ipython3",
   "version": "3.11.11"
  }
 },
 "nbformat": 4,
 "nbformat_minor": 2
}
