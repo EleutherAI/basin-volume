{
 "cells": [
  {
   "cell_type": "code",
   "execution_count": 6,
   "metadata": {},
   "outputs": [
    {
     "name": "stdout",
     "output_type": "stream",
     "text": [
      "The autoreload extension is already loaded. To reload it, use:\n",
      "  %reload_ext autoreload\n"
     ]
    }
   ],
   "source": [
    "%load_ext autoreload\n",
    "%autoreload 2\n",
    "\n",
    "import jax\n",
    "import jax.numpy as jnp\n",
    "import optax\n",
    "import matplotlib.pyplot as plt\n",
    "import transformers\n",
    "from transformers import AutoTokenizer, AutoModelForCausalLM\n",
    "from datasets import load_dataset\n",
    "\n",
    "from basin_volume import *"
   ]
  },
  {
   "cell_type": "code",
   "execution_count": null,
   "metadata": {},
   "outputs": [],
   "source": [
    "def make_kl_fn(probs_p, apply_fn, x, l2_reg):\n",
    "    def kl_fn(a, b):\n",
    "        params_q = a + b\n",
    "        logits_q = apply_fn(params_q, x)\n",
    "        logprobs_q = jax.nn.log_softmax(logits_q)\n",
    "        kl_term = optax.kl_divergence(logprobs_q, probs_p).mean()\n",
    "        l2_term = 1/2 * l2_reg * jnp.sum(b**2)\n",
    "        return kl_term + l2_term\n",
    "    return kl_fn\n",
    "\n",
    "def make_kl_fn_params(params_p, apply_fn, x, *, l2_reg):\n",
    "    logits_p = apply_fn(params_p, x)\n",
    "    probs_p = jax.nn.softmax(logits_p)\n",
    "    return make_kl_fn(probs_p, apply_fn, x, l2_reg=l2_reg)"
   ]
  },
  {
   "cell_type": "markdown",
   "metadata": {},
   "source": [
    "# Tokenizer"
   ]
  },
  {
   "cell_type": "code",
   "execution_count": 2,
   "metadata": {},
   "outputs": [],
   "source": [
    "\n",
    "tokenizer = AutoTokenizer.from_pretrained(\"EleutherAI/pythia-14m\")"
   ]
  },
  {
   "cell_type": "code",
   "execution_count": 3,
   "metadata": {},
   "outputs": [
    {
     "data": {
      "text/plain": [
       "50277"
      ]
     },
     "execution_count": 3,
     "metadata": {},
     "output_type": "execute_result"
    }
   ],
   "source": [
    "len(tokenizer.vocab)"
   ]
  },
  {
   "cell_type": "markdown",
   "metadata": {},
   "source": [
    "# Model"
   ]
  },
  {
   "cell_type": "code",
   "execution_count": 7,
   "metadata": {},
   "outputs": [
    {
     "name": "stderr",
     "output_type": "stream",
     "text": [
      "The `GPTNeoXSdpaAttention` class is deprecated in favor of simply modifying the `config._attn_implementation`attribute of the `GPTNeoXAttention` class! It will be removed in v4.48\n"
     ]
    }
   ],
   "source": [
    "\n",
    "model = AutoModelForCausalLM.from_pretrained(\"EleutherAI/pythia-14m\")"
   ]
  },
  {
   "cell_type": "code",
   "execution_count": 23,
   "metadata": {},
   "outputs": [
    {
     "name": "stdout",
     "output_type": "stream",
     "text": [
      "Total number of parameters: 14067712\n",
      "Total number of embedding parameters: 12877824\n",
      "Total number of non-embedding parameters: 1189888\n",
      "45.77% torch.Size([50304, 128]) embed_out.weight\n",
      "45.77% torch.Size([50304, 128]) gpt_neox.embed_in.weight\n",
      "0.47% torch.Size([128, 512]) gpt_neox.layers.5.mlp.dense_4h_to_h.weight\n",
      "0.47% torch.Size([512, 128]) gpt_neox.layers.5.mlp.dense_h_to_4h.weight\n",
      "0.47% torch.Size([128, 512]) gpt_neox.layers.4.mlp.dense_4h_to_h.weight\n",
      "0.47% torch.Size([512, 128]) gpt_neox.layers.4.mlp.dense_h_to_4h.weight\n",
      "0.47% torch.Size([128, 512]) gpt_neox.layers.3.mlp.dense_4h_to_h.weight\n",
      "0.47% torch.Size([512, 128]) gpt_neox.layers.3.mlp.dense_h_to_4h.weight\n",
      "0.47% torch.Size([128, 512]) gpt_neox.layers.2.mlp.dense_4h_to_h.weight\n",
      "0.47% torch.Size([512, 128]) gpt_neox.layers.2.mlp.dense_h_to_4h.weight\n",
      "0.47% torch.Size([128, 512]) gpt_neox.layers.1.mlp.dense_4h_to_h.weight\n",
      "0.47% torch.Size([512, 128]) gpt_neox.layers.1.mlp.dense_h_to_4h.weight\n",
      "0.47% torch.Size([128, 512]) gpt_neox.layers.0.mlp.dense_4h_to_h.weight\n",
      "0.47% torch.Size([512, 128]) gpt_neox.layers.0.mlp.dense_h_to_4h.weight\n",
      "0.35% torch.Size([384, 128]) gpt_neox.layers.5.attention.query_key_value.weight\n",
      "0.35% torch.Size([384, 128]) gpt_neox.layers.4.attention.query_key_value.weight\n",
      "0.35% torch.Size([384, 128]) gpt_neox.layers.3.attention.query_key_value.weight\n",
      "0.35% torch.Size([384, 128]) gpt_neox.layers.2.attention.query_key_value.weight\n",
      "0.35% torch.Size([384, 128]) gpt_neox.layers.1.attention.query_key_value.weight\n",
      "0.35% torch.Size([384, 128]) gpt_neox.layers.0.attention.query_key_value.weight\n",
      "0.12% torch.Size([128, 128]) gpt_neox.layers.5.attention.dense.weight\n",
      "0.12% torch.Size([128, 128]) gpt_neox.layers.4.attention.dense.weight\n",
      "0.12% torch.Size([128, 128]) gpt_neox.layers.3.attention.dense.weight\n",
      "0.12% torch.Size([128, 128]) gpt_neox.layers.2.attention.dense.weight\n",
      "0.12% torch.Size([128, 128]) gpt_neox.layers.1.attention.dense.weight\n",
      "0.12% torch.Size([128, 128]) gpt_neox.layers.0.attention.dense.weight\n",
      "0.00% torch.Size([512]) gpt_neox.layers.5.mlp.dense_h_to_4h.bias\n",
      "0.00% torch.Size([512]) gpt_neox.layers.4.mlp.dense_h_to_4h.bias\n",
      "0.00% torch.Size([512]) gpt_neox.layers.3.mlp.dense_h_to_4h.bias\n",
      "0.00% torch.Size([512]) gpt_neox.layers.2.mlp.dense_h_to_4h.bias\n",
      "0.00% torch.Size([512]) gpt_neox.layers.1.mlp.dense_h_to_4h.bias\n",
      "0.00% torch.Size([512]) gpt_neox.layers.0.mlp.dense_h_to_4h.bias\n",
      "0.00% torch.Size([384]) gpt_neox.layers.5.attention.query_key_value.bias\n",
      "0.00% torch.Size([384]) gpt_neox.layers.4.attention.query_key_value.bias\n",
      "0.00% torch.Size([384]) gpt_neox.layers.3.attention.query_key_value.bias\n",
      "0.00% torch.Size([384]) gpt_neox.layers.2.attention.query_key_value.bias\n",
      "0.00% torch.Size([384]) gpt_neox.layers.1.attention.query_key_value.bias\n",
      "0.00% torch.Size([384]) gpt_neox.layers.0.attention.query_key_value.bias\n",
      "0.00% torch.Size([128]) gpt_neox.final_layer_norm.bias\n",
      "0.00% torch.Size([128]) gpt_neox.final_layer_norm.weight\n",
      "0.00% torch.Size([128]) gpt_neox.layers.5.mlp.dense_4h_to_h.bias\n",
      "0.00% torch.Size([128]) gpt_neox.layers.5.attention.dense.bias\n",
      "0.00% torch.Size([128]) gpt_neox.layers.5.post_attention_layernorm.bias\n",
      "0.00% torch.Size([128]) gpt_neox.layers.5.post_attention_layernorm.weight\n",
      "0.00% torch.Size([128]) gpt_neox.layers.5.input_layernorm.bias\n",
      "0.00% torch.Size([128]) gpt_neox.layers.5.input_layernorm.weight\n",
      "0.00% torch.Size([128]) gpt_neox.layers.4.mlp.dense_4h_to_h.bias\n",
      "0.00% torch.Size([128]) gpt_neox.layers.4.attention.dense.bias\n",
      "0.00% torch.Size([128]) gpt_neox.layers.4.post_attention_layernorm.bias\n",
      "0.00% torch.Size([128]) gpt_neox.layers.4.post_attention_layernorm.weight\n",
      "0.00% torch.Size([128]) gpt_neox.layers.4.input_layernorm.bias\n",
      "0.00% torch.Size([128]) gpt_neox.layers.4.input_layernorm.weight\n",
      "0.00% torch.Size([128]) gpt_neox.layers.3.mlp.dense_4h_to_h.bias\n",
      "0.00% torch.Size([128]) gpt_neox.layers.3.attention.dense.bias\n",
      "0.00% torch.Size([128]) gpt_neox.layers.3.post_attention_layernorm.bias\n",
      "0.00% torch.Size([128]) gpt_neox.layers.3.post_attention_layernorm.weight\n",
      "0.00% torch.Size([128]) gpt_neox.layers.3.input_layernorm.bias\n",
      "0.00% torch.Size([128]) gpt_neox.layers.3.input_layernorm.weight\n",
      "0.00% torch.Size([128]) gpt_neox.layers.2.mlp.dense_4h_to_h.bias\n",
      "0.00% torch.Size([128]) gpt_neox.layers.2.attention.dense.bias\n",
      "0.00% torch.Size([128]) gpt_neox.layers.2.post_attention_layernorm.bias\n",
      "0.00% torch.Size([128]) gpt_neox.layers.2.post_attention_layernorm.weight\n",
      "0.00% torch.Size([128]) gpt_neox.layers.2.input_layernorm.bias\n",
      "0.00% torch.Size([128]) gpt_neox.layers.2.input_layernorm.weight\n",
      "0.00% torch.Size([128]) gpt_neox.layers.1.mlp.dense_4h_to_h.bias\n",
      "0.00% torch.Size([128]) gpt_neox.layers.1.attention.dense.bias\n",
      "0.00% torch.Size([128]) gpt_neox.layers.1.post_attention_layernorm.bias\n",
      "0.00% torch.Size([128]) gpt_neox.layers.1.post_attention_layernorm.weight\n",
      "0.00% torch.Size([128]) gpt_neox.layers.1.input_layernorm.bias\n",
      "0.00% torch.Size([128]) gpt_neox.layers.1.input_layernorm.weight\n",
      "0.00% torch.Size([128]) gpt_neox.layers.0.mlp.dense_4h_to_h.bias\n",
      "0.00% torch.Size([128]) gpt_neox.layers.0.attention.dense.bias\n",
      "0.00% torch.Size([128]) gpt_neox.layers.0.post_attention_layernorm.bias\n",
      "0.00% torch.Size([128]) gpt_neox.layers.0.post_attention_layernorm.weight\n",
      "0.00% torch.Size([128]) gpt_neox.layers.0.input_layernorm.bias\n",
      "0.00% torch.Size([128]) gpt_neox.layers.0.input_layernorm.weight\n"
     ]
    }
   ],
   "source": [
    "# for name, p in model.named_parameters():\n",
    "#     print(name, p.shape)\n",
    "# print()\n",
    "\n",
    "# sort by number of parameters and print\n",
    "sorted_params = sorted(model.named_parameters(), key=lambda x: np.prod(x[1].shape))\n",
    "# compute total number of parameters\n",
    "total_params = sum(np.prod(p.shape) for name, p in sorted_params)\n",
    "print(f\"Total number of parameters: {total_params}\")\n",
    "\n",
    "# compute total embedding parameters\n",
    "embedding_params = sum(np.prod(p.shape) for name, p in sorted_params if \"embed\" in name)\n",
    "print(f\"Total number of embedding parameters: {embedding_params}\")\n",
    "print(f\"Total number of non-embedding parameters: {total_params - embedding_params}\")\n",
    "\n",
    "for name, p in reversed(sorted_params):\n",
    "    print(f\"{np.prod(p.shape) / total_params:.2%}\", p.shape, name)"
   ]
  },
  {
   "cell_type": "code",
   "execution_count": null,
   "metadata": {},
   "outputs": [],
   "source": []
  }
 ],
 "metadata": {
  "kernelspec": {
   "display_name": "jax311",
   "language": "python",
   "name": "python3"
  },
  "language_info": {
   "codemirror_mode": {
    "name": "ipython",
    "version": 3
   },
   "file_extension": ".py",
   "mimetype": "text/x-python",
   "name": "python",
   "nbconvert_exporter": "python",
   "pygments_lexer": "ipython3",
   "version": "3.11.11"
  }
 },
 "nbformat": 4,
 "nbformat_minor": 2
}
