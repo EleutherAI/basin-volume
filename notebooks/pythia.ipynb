{
 "cells": [
  {
   "cell_type": "markdown",
   "metadata": {},
   "source": [
    "# Imports"
   ]
  },
  {
   "cell_type": "code",
   "execution_count": 1,
   "metadata": {},
   "outputs": [
    {
     "name": "stderr",
     "output_type": "stream",
     "text": [
      "/home/adam/.conda/envs/jax311/lib/python3.11/site-packages/tqdm/auto.py:21: TqdmWarning: IProgress not found. Please update jupyter and ipywidgets. See https://ipywidgets.readthedocs.io/en/stable/user_install.html\n",
      "  from .autonotebook import tqdm as notebook_tqdm\n"
     ]
    }
   ],
   "source": [
    "%load_ext autoreload\n",
    "%autoreload 2\n",
    "\n",
    "import numpy as np\n",
    "import yaml\n",
    "import json\n",
    "import gc\n",
    "from tqdm import tqdm\n",
    "import pickle\n",
    "import os \n",
    "os.environ['XLA_PYTHON_CLIENT_PREALLOCATE'] = 'false'\n",
    "\n",
    "import torch\n",
    "\n",
    "import jax\n",
    "import jax.numpy as jnp\n",
    "import optax\n",
    "import matplotlib.pyplot as plt\n",
    "import transformers\n",
    "from transformers import AutoTokenizer, AutoModelForCausalLM\n",
    "from datasets import load_dataset\n",
    "\n",
    "from basin_volume import *"
   ]
  },
  {
   "cell_type": "code",
   "execution_count": 2,
   "metadata": {},
   "outputs": [
    {
     "name": "stdout",
     "output_type": "stream",
     "text": [
      "0.4.38\n"
     ]
    }
   ],
   "source": [
    "print(jax.__version__)"
   ]
  },
  {
   "cell_type": "markdown",
   "metadata": {},
   "source": [
    "# Tokenizer"
   ]
  },
  {
   "cell_type": "code",
   "execution_count": 3,
   "metadata": {},
   "outputs": [],
   "source": [
    "\n",
    "tokenizer = AutoTokenizer.from_pretrained(\"EleutherAI/pythia-14m\")"
   ]
  },
  {
   "cell_type": "code",
   "execution_count": 4,
   "metadata": {},
   "outputs": [],
   "source": [
    "tokenizer.eos_token_id = 0\n",
    "tokenizer.pad_token_id = 1"
   ]
  },
  {
   "cell_type": "markdown",
   "metadata": {},
   "source": [
    "# Model"
   ]
  },
  {
   "cell_type": "code",
   "execution_count": 5,
   "metadata": {},
   "outputs": [
    {
     "name": "stderr",
     "output_type": "stream",
     "text": [
      "The `GPTNeoXSdpaAttention` class is deprecated in favor of simply modifying the `config._attn_implementation`attribute of the `GPTNeoXAttention` class! It will be removed in v4.48\n"
     ]
    }
   ],
   "source": [
    "\n",
    "model = AutoModelForCausalLM.from_pretrained(\"EleutherAI/pythia-14m\").to(\"cuda\")"
   ]
  },
  {
   "cell_type": "code",
   "execution_count": 6,
   "metadata": {},
   "outputs": [],
   "source": [
    "trained_params_t = torch.nn.utils.parameters_to_vector(model.parameters()).detach()"
   ]
  },
  {
   "cell_type": "code",
   "execution_count": 7,
   "metadata": {},
   "outputs": [],
   "source": [
    "trained_params_j = jax.dlpack.from_dlpack(trained_params_t)"
   ]
  },
  {
   "cell_type": "markdown",
   "metadata": {},
   "source": [
    "## (Counting params)"
   ]
  },
  {
   "cell_type": "code",
   "execution_count": 10,
   "metadata": {},
   "outputs": [
    {
     "name": "stdout",
     "output_type": "stream",
     "text": [
      "{'type': <class 'jaxlib.xla_extension.ArrayImpl'>, 'size': 14067712, 'info': {'shape': (14067712,), 'dtype': dtype('float32'), 'device': CudaDevice(id=0)}}\n",
      "{'type': <class 'torch.Tensor'>, 'size': 14067712, 'info': {'shape': torch.Size([14067712]), 'dtype': torch.float32, 'device': device(type='cuda', index=0)}}\n"
     ]
    }
   ],
   "source": [
    "print(summarize(trained_params_j))\n",
    "print(summarize(trained_params_t))\n"
   ]
  },
  {
   "cell_type": "code",
   "execution_count": null,
   "metadata": {},
   "outputs": [
    {
     "name": "stdout",
     "output_type": "stream",
     "text": [
      "Total number of parameters: 14067712\n",
      "Total number of embedding parameters: 12877824\n",
      "Total number of non-embedding parameters: 1189888\n"
     ]
    }
   ],
   "source": [
    "# for name, p in model.named_parameters():\n",
    "#     print(name, p.shape)\n",
    "# print()\n",
    "\n",
    "# sort by number of parameters and print\n",
    "sorted_params = sorted(model.named_parameters(), key=lambda x: np.prod(x[1].shape))\n",
    "# compute total number of parameters\n",
    "total_params = sum(np.prod(p.shape) for name, p in sorted_params)\n",
    "print(f\"Total number of parameters: {total_params}\")\n",
    "\n",
    "# compute total embedding parameters\n",
    "embedding_params = sum(np.prod(p.shape) for name, p in sorted_params if \"embed\" in name)\n",
    "print(f\"Total number of embedding parameters: {embedding_params}\")\n",
    "print(f\"Total number of non-embedding parameters: {total_params - embedding_params}\")\n",
    "\n",
    "# for name, p in reversed(sorted_params):\n",
    "#     print(f\"{np.prod(p.shape) / total_params:.2%}\", p.shape, name)"
   ]
  },
  {
   "cell_type": "markdown",
   "metadata": {},
   "source": [
    "# Dataset"
   ]
  },
  {
   "cell_type": "code",
   "execution_count": 8,
   "metadata": {},
   "outputs": [],
   "source": [
    "with open(\"../data/val.jsonl\", \"r\") as f:\n",
    "    text_val = [json.loads(line)['text'] for line in f]"
   ]
  },
  {
   "cell_type": "markdown",
   "metadata": {},
   "source": [
    "## (Sampling)"
   ]
  },
  {
   "cell_type": "code",
   "execution_count": 13,
   "metadata": {},
   "outputs": [
    {
     "name": "stdout",
     "output_type": "stream",
     "text": [
      "Catalonia election: Puigdemont calls for talks with Spain Published duration 22 December 2017 Related Topics Catalonia independence protests\n",
      "\n",
      "image copyright Reuters image caption \"Now is the time for dialogue,\" said Carles Puigdemont\n",
      "\n",
      "Catalonia's ousted leader, Carles Puigdemont, has called for new talks with Spain after separatist parties won a slim majority in a regional election.\n",
      "\n",
      "He said he wanted the negotiations in Brussels, where he is living in self-imposed exile, or another EU country.\n",
      "\n",
      "Spain's Prime Minister Mariano Rajoy later appeared to reject the idea.\n",
      "\n",
      "He said he would hold talks with the head of the new Catalan government but that leader would have to take up their post in Catalonia itself.\n",
      "\n",
      "He avoided naming Mr Puigdemont, adding that the winner of Thursday's election was Inés Arrimadas, the leader of the Citizens party, which wants Catalonia to remain a semi-autonomous part of Spain.\n",
      "\n",
      "The Citizens party is now the region's biggest party. although pro-independence parties are best placed to form a government.\n",
      "\n",
      "\"Catalonia wants to be an independent state,\" said Mr Puigdemont, speaking in Belgium on Friday. \"This is the wish of the Catalan people. I think the plan of [Spanish Prime Minister] Mariano Rajoy is not working, so we have to find new ways to tackle this crisis.\"\n",
      "\n",
      "Mr Rajoy's conservative Popular Party (PP) recorded its worst ever result in Thursday's vote.\n",
      "\n",
      "He had hoped that the poll would restore stability and said the Spanish government was \"willing to talk in a realistic way and inside the law\" with a future Catalan government.\n",
      "\n",
      "\"I offer Catalonia this because we care about the people\" he said.\n",
      "\n",
      "The Spanish government imposed direct rule on Catalonia and called the election after declaring an October independence referendum illegal.\n",
      "\n",
      "Mr Puigdemont has also called on the prime minister to repatriate all the police sent to Catalonia before the referendum.\n",
      "\n",
      "What were the results?\n",
      "\n",
      "With nearly all votes counted, the pro-independence parties Together for Catalonia (JxCat), Republican Left of Catalonia (ERC) and Popular Unity (CUP) were on course to win a total of 70 seats in total, giving them a majority in the new parliament.\n",
      "\n",
      "Citizens (Cs) had 25.3% of the vote, winning 37 seats in the 135-seat chamber.\n",
      "\n",
      "Its leader told the BBC her party had been \"victorious\". Ms Inés Arrimadas said forming a coalition would be \"difficult - but we will try\".\n",
      "\n",
      "The PP, meanwhile, won only three seats, down from 11 in the previous assembly.\n",
      "\n",
      "Turnout was more than 80%, a record for a Catalan regional election.\n",
      "\n",
      "Analysis: What the papers say\n",
      "\n",
      "By BBC Monitoring\n",
      "\n",
      "Leading Spanish newspapers say that the result has strengthened the government's position.\n",
      "\n",
      "\"Nationalism can no longer claim that it exclusively represents Catalonia,\" says Madrid-based La Razón. ABC newspaper thinks Madrid should now settle the Catalan crisis. \"If Spain wants to win this fight in the long term and prevent Catalonia from leaving one day, it should draft a serious plan for strengthening the state.\"\n",
      "\n",
      "The result seems to have split Catalan papers between those who want the independence project to continue, and those who accept the realpolitik of the election result.\n",
      "\n",
      "\"The independence movement has humiliated the Spanish prime minister,\" El Nacional says. \"The decisions that affect Catalonia are not made in Madrid.\"\n",
      "\n",
      "But Barcelona's El Periódico says the result means a \"divided Catalonia\". \"The election that Mariano Rajoy called has shown that Catalonia is firmly divided in two blocs and there is hardly any space for intermediaries.\"\n",
      "\n",
      "La Vanguardia writes: \"Major forces supporting independence should look back, confess to mistakes and avoid making them again,\"\n",
      "\n",
      "Why did the election take place?\n",
      "\n",
      "Separatists who dominated the previous Catalan parliament declared independence on 27 October after a referendum that was declared illegal by Spain.\n",
      "\n",
      "In an attempt to stop that referendum, Spanish police stormed some polling stations. However many voters defied the Spanish courts and riot police to cast their ballots.\n",
      "\n",
      "The move led to violent clashes with hundreds of people reported injured.\n",
      "\n",
      "According to referendum organisers, 90% of voters were in favour of independence, but fewer than half the region's electorate took part.\n",
      "\n",
      "image copyright Getty Images image caption Inés Arrimadas said she would try to form a coalition\n",
      "\n",
      "However, Mr Puigdemont decided it was enough to declare independence from Spain.\n",
      "\n",
      "Mr Rajoy then sacked the Catalan government, imposed direct rule and called the 21 December election.\n",
      "\n",
      "Prosecutors accused 13 Catalan separatist politicians of rebellion and sedition, including Mr Puigdemont and four others who fled to Belgium.\n",
      "\n",
      "Among the accused, two pro-independence politicians are in Spanish prisons, and six are being monitored while on bail.\n",
      "\n",
      "What has been the reaction?\n",
      "\n",
      "The European Commission said that its stance towards Catalonia remained the same, despite Thursday's election result.\n",
      "\n",
      "The executive arm of the EU has previously stated that events in Catalonia are an internal issue for Spain.\n",
      "\n",
      "\"Our position on the question of Catalonia is well known and has been regularly restated, at all levels. It will not change,\" commission spokesman Alexander Winterstein told AFP news agency.\n",
      "\n",
      "\"In relation to a regional election, we have no comment to make,\" he added.\n",
      "\n",
      "The Spanish government has not yet commented on the results.\n",
      "\n",
      "What happens now?\n",
      "\n",
      "Analysts say the success of separatist parties means that the ball is now back in the Spanish government's court.\n",
      "\n",
      "Antonio Barroso, of the London-based research firm Teneo Intelligence, says the problem for Madrid remains \"and the secession movement is not going to go away\".\n",
      "\n",
      "Correspondents say it is not yet clear whether Mr Puigdemont will be renamed president, and if so, if he will return from Belgium. As things stand, he faces arrest, should he enter Spain.\n",
      "\n",
      "image copyright Getty Images image caption Independence supporters celebrated in Barcelona\n",
      "\n",
      "Why do many Catalans want independence?\n",
      "\n",
      "Catalonia is one of Spain's wealthiest and most productive regions and has a distinct history dating back almost 1,000 years.\n",
      "\n",
      "Before the Spanish Civil War it enjoyed broad autonomy but that was suppressed under General Francisco Franco's dictatorship from 1939-75.\n",
      "\n",
      "When Franco died, the region was granted autonomy again under the 1978 constitution, and the region prospered along with the rest of the new, democratic Spain.\n",
      "\n",
      "A 2006 statute granted even greater powers, boosting Catalonia's financial clout and describing it as a \"nation\", but Spain's Constitutional Court reversed much of this in 2010.\n",
      "\n",
      "Recession and cuts in public spending fuelled local resentment, which coalesced in a powerful secessionist movement.\n"
     ]
    }
   ],
   "source": [
    "print(text_val[0])"
   ]
  },
  {
   "cell_type": "code",
   "execution_count": 23,
   "metadata": {},
   "outputs": [
    {
     "name": "stderr",
     "output_type": "stream",
     "text": [
      "The attention mask and the pad token id were not set. As a consequence, you may observe unexpected behavior. Please pass your input's `attention_mask` to obtain reliable results.\n",
      "Setting `pad_token_id` to `eos_token_id`:0 for open-end generation.\n"
     ]
    },
    {
     "name": "stdout",
     "output_type": "stream",
     "text": [
      "torch.Size([2, 1024])\n",
      "Catalonia election: Puigdemont calls for talks with Spain Published duration 22 December 2017 Related Topics Catalonia independence protests\n",
      "\n",
      "image copyright Reuters image caption \"Now is the time for dialogue,\" said Carles Puigdemont\n",
      "\n",
      "Catalonia's ousted leader, Carles Puigdemont, has called for new talks with Spain after separatist parties won a slim majority in a regional election.\n",
      "\n",
      "He said he wanted the negotiations in Brussels, where he is living in self-imposed exile, or another EU country.\n",
      "\n",
      "Spain's Prime Minister Mariano Rajoy later appeared to reject the idea.\n",
      "\n",
      "He said he would hold talks with the head of the new Catalan government but that leader would have to take up their post in Catalonia itself.\n",
      "\n",
      "He avoided naming Mr Puigdemont, adding that the winner of Thursday's election was Inés Arrimadas, the leader of the Citizens party, which wants Catalonia to remain a semi-autonomous part of Spain.\n",
      "\n",
      "The Citizens party is now the region's biggest party. although pro-independence parties are best placed to form a government.\n",
      "\n",
      "\"Catalonia wants to be an independent state,\" said Mr Puigdemont, speaking in Belgium on Friday. \"This is the wish of the Catalan people. I think the plan of [Spanish Prime Minister] Mariano Rajoy is not working, so we have to find new ways to tackle this crisis.\"\n",
      "\n",
      "Mr Rajoy's conservative Popular Party (PP) recorded its worst ever result in Thursday's vote.\n",
      "\n",
      "He had hoped that the poll would restore stability and said the Spanish government was \"willing to talk in a realistic way and inside the law\" with a future Catalan government.\n",
      "\n",
      "\"I offer Catalonia this because we care about the people\" he said.\n",
      "\n",
      "The Spanish government imposed direct rule on Catalonia and called the election after declaring an October independence referendum illegal.\n",
      "\n",
      "Mr Puigdemont has also called on the prime minister to repatriate all the police sent to Catalonia before the referendum.\n",
      "\n",
      "What were the results?\n",
      "\n",
      "With nearly all votes counted, the pro-independence parties Together for Catalonia (JxCat), Republican Left of Catalonia (ERC) and Popular Unity (CUP) were on course to win a total of 70 seats in total, giving them a majority in the new parliament.\n",
      "\n",
      "Citizens (Cs) had 25.3% of the vote in the last election, which will be the same in the first elections in Europe.\n",
      "\n",
      "\"It was a very good thing to do, I was a very good thing to do,\" he said.\n",
      "\n",
      "In terms of the vote, the President of the United States declared the United States.\n",
      "\n",
      "\"I have come to have a good time to do,\" the president said.\n",
      "\n",
      "Mr Su-Sriquez (born April 14, 2019) is a political figure of the US president.\n",
      "\n",
      "\"I have a great time to have a great time to have a great time to have a great time to have a great time to have a great time to have a great time to have a great time to have a great time to have a great time to have a great time to have a great time to have a great time to have a great time to have a great time to have a great time to have a great time to have a great time to have a great time to have a great time to have a great time to have a great time to have a great time to have a great time to have a great time to have a great time to have a great time to have a great time to have a great time to have a great time to have a great time to have a great time to have a great time to have a great time to have a great time to have a great time to have a great time to have a great time to have a great time to have a great time to have a great time to have a great time to have a great time to have a great time to have a great time to have a great time to have a great time to have a great time to have a great time to have a great time to have a great time to have a great time to have a great time to have a great time to have a great time to have a great time to have a great time to have a great time to have a great time to have a great time to have a great time to have a great time to have a great time to have a great time to have a great time to have a great time to have a great time to have a great time to have a great time to have a great time to have a great time to have a great time to have a great time to have a great time to have a great time to have a great time to have a great time to have a great time to have a great time to have a great time to have a great time to have\n",
      "Wirex, a prominent UK’s FCA supported cryptocurrency remittance provider, has partnered with Stellar, bringing in its over 2 million users and more than 5000 business clients into the cryptocurrency project’s ecosystem.\n",
      "\n",
      "The surprising collaboration will see Wirex launch “26 fiat-backed stablecoins” on Stellar network, a crypto platform that also partnered with tech giant IBM.\n",
      "\n",
      "Stellar network is receiving different supports from big firms across the globe. The launch of Wirex Stablecoins on Stellar Network infers that the crypto platform is uniquely designed to also accommodate Stablecoins.\n",
      "\n",
      "While some analysts opined that Stablecoins are created to bring growth into the crypto space, they are becoming a solid way to reduce crypto volatility due to the fact that their value are pegged to fiat currency.\n",
      "\n",
      "For Low Cost and Almost Instant Across Border Remittance\n",
      "\n",
      "When Stellar-based Wirex stablecoins finally launches, they are going to be used to perfect low-cost and all most immediately cross-border remittance, just like the IBM Stablecoin which has received support from six respected international banks.\n",
      "\n",
      "First of its Kind in the Crypto Space\n",
      "\n",
      "This Wirex Stablecoins is going to be the first of its kind for many reasons. They are the maiden stablecoins to be spend easily in day to day dealings using Wirex Visa card. It is the first stablecoins to be pegged to different fiat currencies like USD, EUR, GBP, HKD and SGD with exchange at interbank rates. Similarly, it is the foremost stablecoins that can be easily exchanged with other virtual currencies at OTC rates.\n",
      "\n",
      "Importantly, it is the first stablecoins to be released by an FCA supported crypto and fiat payment firm. All these will propel the stablecoins when it is finally unveiled.\n",
      "\n",
      "Wirex’ Over 2 million Users and 5K business clients Added to Stellar (XLM) Ecosystem\n",
      "\n",
      "The advent of Wirex Stablecoins on Stellar network means the FCA-regulated company’s over 2 million Users and 5K business clients are to be added to the Stellar ecosystem. This is definitely going to propel the cryptocurrency project.\n",
      "\n",
      "Wirex has an outstanding user base. The number of people using the Wirex platform are enough to bring revolution to the Stellar (XLM) network.\n",
      "\n",
      "More Use Cases Than Expected.\n",
      "\n",
      "The stellar-based Google Pixel and the Visa card is not a key for that.\n",
      "\n",
      "A few years after that, the company has been building a wide range of platforms for their company and to build a wide range of platforms that are able to find a way to build a wide range of platforms for their company.\n",
      "\n",
      "The company has a great new market, and it is the company’s great product, and the company’s reputation as a platform.\n",
      "\n",
      "It is the company’s latest innovation in its development to help to build a wide range of platforms like Google’s Google Pixel and the Visa device.\n",
      "\n",
      "The company has an amazing brand that has launched its own business into a wide range of platforms such as a Google Pixel and the Visa device.\n",
      "\n",
      "The company’s company’s team is also an engineering and engineering company.\n",
      "\n",
      "In a company’s industry, it is the company’s first startup company, the company’s company’s company, and its company’s company.\n",
      "\n",
      "“We’ve been looking for a lot of new technologies and business partners,” said R.C., a company with the company’s CEO, the company’s company, who launched its company’s company, said.\n",
      "\n",
      "“We’re not on the company’s company’s business, but we’ll bring a lot of new technologies and business partners.\n",
      "\n",
      "“We’re not on the company’s company’s company’s company’s company’s company’s company’s company’s company’s company’s company’s company’s company’s company’s company’s company’s company’s company’s company’s company’s company’s company’s company’s company’s company’s company’s company’s company’s company’s company’s company’s company’s company’s company’s company’s company’s company’s company’s company’s company’s company’s company’s company’s company’s company’s company’s company’s company’s company’s company’s company’s company’s company’s company’s company’s company’s company’s company’s company’s company’s company’s company’s company’s company’s company’s company’s company’s company’s company’s company’s company’s company’\n"
     ]
    }
   ],
   "source": [
    "# sample from model\n",
    "\n",
    "input_ids = tokenizer(text_val[:2], return_tensors=\"pt\", padding=True, truncation=True, max_length=512)['input_ids']\n",
    "logits = model.generate(input_ids.to(\"cuda\"), \n",
    "                        max_new_tokens=512, \n",
    "                        do_sample=True,\n",
    "                        temperature=0.7,\n",
    "                        top_k=50,\n",
    "                        top_p=0.95,\n",
    "                        )\n",
    "print(logits.shape)\n",
    "print(tokenizer.decode(logits[0], skip_special_tokens=True))\n",
    "print(tokenizer.decode(logits[1], skip_special_tokens=True))\n"
   ]
  },
  {
   "cell_type": "markdown",
   "metadata": {},
   "source": [
    "## (Padding token stuff)"
   ]
  },
  {
   "cell_type": "code",
   "execution_count": 145,
   "metadata": {},
   "outputs": [],
   "source": [
    "n_seqs = 40\n",
    "out = model(tokenizer(text_val[:n_seqs], return_tensors=\"pt\", padding=True, truncation=True, max_length=1024)['input_ids'])"
   ]
  },
  {
   "cell_type": "code",
   "execution_count": null,
   "metadata": {},
   "outputs": [],
   "source": [
    "n_seqs = 40\n",
    "out = model(tokenizer(text_val[:n_seqs], return_tensors=\"pt\", padding=True, truncation=True, max_length=1024)['input_ids'])"
   ]
  },
  {
   "cell_type": "code",
   "execution_count": 94,
   "metadata": {},
   "outputs": [],
   "source": [
    "short_texts = [text_val[i] for i in indices+[0]]\n",
    "out = model(tokenizer(short_texts, return_tensors=\"pt\", padding=True, truncation=True, max_length=1024)['input_ids'])"
   ]
  },
  {
   "cell_type": "code",
   "execution_count": 95,
   "metadata": {},
   "outputs": [
    {
     "data": {
      "text/plain": [
       "torch.Size([41, 1024, 50304])"
      ]
     },
     "execution_count": 95,
     "metadata": {},
     "output_type": "execute_result"
    }
   ],
   "source": [
    "out.logits.shape"
   ]
  },
  {
   "cell_type": "code",
   "execution_count": 110,
   "metadata": {},
   "outputs": [
    {
     "data": {
      "text/plain": [
       "<matplotlib.image.AxesImage at 0x7fde71536690>"
      ]
     },
     "execution_count": 110,
     "metadata": {},
     "output_type": "execute_result"
    },
    {
     "data": {
      "image/png": "[encoded data removed]",
      "text/plain": [
       "<Figure size 1600x200 with 1 Axes>"
      ]
     },
     "metadata": {},
     "output_type": "display_data"
    }
   ],
   "source": [
    "plt.matshow(tokenizer(short_texts, return_tensors=\"pt\", padding=True, truncation=True, max_length=1024)['input_ids'].detach().numpy(), aspect='auto')"
   ]
  },
  {
   "cell_type": "code",
   "execution_count": null,
   "metadata": {},
   "outputs": [
    {
     "data": {
      "text/plain": [
       "<matplotlib.image.AxesImage at 0x7fde70f51590>"
      ]
     },
     "metadata": {},
     "output_type": "display_data"
    },
    {
     "data": {
      "image/png": "[encoded data removed]",
      "text/plain": [
       "<Figure size 1600x200 with 1 Axes>"
      ]
     },
     "metadata": {},
     "output_type": "display_data"
    }
   ],
   "source": [
    "plt.matshow(out.logits[:, :, 1].detach().numpy(), cmap='RdBu', aspect='auto')"
   ]
  },
  {
   "cell_type": "code",
   "execution_count": 156,
   "metadata": {},
   "outputs": [
    {
     "data": {
      "text/plain": [
       "715"
      ]
     },
     "execution_count": 156,
     "metadata": {},
     "output_type": "execute_result"
    }
   ],
   "source": [
    "lens[60]"
   ]
  },
  {
   "cell_type": "code",
   "execution_count": 154,
   "metadata": {},
   "outputs": [
    {
     "data": {
      "image/png": "[encoded data removed]",
      "text/plain": [
       "<Figure size 640x480 with 1 Axes>"
      ]
     },
     "metadata": {},
     "output_type": "display_data"
    },
    {
     "data": {
      "image/png": "[encoded data removed]",
      "text/plain": [
       "<Figure size 640x480 with 1 Axes>"
      ]
     },
     "metadata": {},
     "output_type": "display_data"
    }
   ],
   "source": [
    "lens = sorted(map(lambda t: len(tokenizer(t)['input_ids']), text_val[:100]))\n",
    "def frac_filled(lens, max_len):\n",
    "    return sum(min(l, max_len) for l in lens) / (max_len * len(lens))\n",
    "def frac_used(lens, max_len):\n",
    "    return sum(min(l, max_len) for l in lens) / sum(lens)\n",
    "\n",
    "plt.plot(lens)\n",
    "plt.yscale('log')\n",
    "plt.show()\n",
    "\n",
    "\n",
    "plt.plot([frac_filled(lens, max_len) for max_len in lens])\n",
    "plt.plot([frac_used(lens, max_len) for max_len in lens])\n",
    "plt.show()"
   ]
  },
  {
   "cell_type": "code",
   "execution_count": 143,
   "metadata": {},
   "outputs": [],
   "source": [
    "# get indices of shortest 40 sequences\n",
    "indices = sorted(range(len(text_val[:100])), key=lambda i: len(tokenizer(text_val[i])['input_ids']))[:n_seqs]"
   ]
  },
  {
   "cell_type": "code",
   "execution_count": 144,
   "metadata": {},
   "outputs": [
    {
     "data": {
      "text/plain": [
       "{'type': transformers.modeling_outputs.CausalLMOutputWithPast,\n",
       " 'size': 2,\n",
       " 'contents': [{'key': 'logits',\n",
       "   'value': {'type': torch.Tensor,\n",
       "    'size': 2111963136,\n",
       "    'info': {'shape': torch.Size([41, 1024, 50304]), 'dtype': torch.float32}}},\n",
       "  {'key': 'past_key_values',\n",
       "   'value': {'type': tuple,\n",
       "    'size': 6,\n",
       "    'contents': [{'type': tuple,\n",
       "      'size': 2,\n",
       "      'contents': [{'type': torch.Tensor,\n",
       "        'size': 5373952,\n",
       "        'info': {'shape': torch.Size([41, 4, 1024, 32]),\n",
       "         'dtype': torch.float32}},\n",
       "       {'type': torch.Tensor,\n",
       "        'size': 5373952,\n",
       "        'info': {'shape': torch.Size([41, 4, 1024, 32]),\n",
       "         'dtype': torch.float32}}]},\n",
       "     {'type': tuple,\n",
       "      'size': 2,\n",
       "      'contents': [{'type': torch.Tensor,\n",
       "        'size': 5373952,\n",
       "        'info': {'shape': torch.Size([41, 4, 1024, 32]),\n",
       "         'dtype': torch.float32}},\n",
       "       {'type': torch.Tensor,\n",
       "        'size': 5373952,\n",
       "        'info': {'shape': torch.Size([41, 4, 1024, 32]),\n",
       "         'dtype': torch.float32}}]},\n",
       "     {'type': tuple,\n",
       "      'size': 2,\n",
       "      'contents': [{'type': torch.Tensor,\n",
       "        'size': 5373952,\n",
       "        'info': {'shape': torch.Size([41, 4, 1024, 32]),\n",
       "         'dtype': torch.float32}},\n",
       "       {'type': torch.Tensor,\n",
       "        'size': 5373952,\n",
       "        'info': {'shape': torch.Size([41, 4, 1024, 32]),\n",
       "         'dtype': torch.float32}}]},\n",
       "     {'type': tuple,\n",
       "      'size': 2,\n",
       "      'contents': [{'type': torch.Tensor,\n",
       "        'size': 5373952,\n",
       "        'info': {'shape': torch.Size([41, 4, 1024, 32]),\n",
       "         'dtype': torch.float32}},\n",
       "       {'type': torch.Tensor,\n",
       "        'size': 5373952,\n",
       "        'info': {'shape': torch.Size([41, 4, 1024, 32]),\n",
       "         'dtype': torch.float32}}]},\n",
       "     {'type': tuple,\n",
       "      'size': 2,\n",
       "      'contents': [{'type': torch.Tensor,\n",
       "        'size': 5373952,\n",
       "        'info': {'shape': torch.Size([41, 4, 1024, 32]),\n",
       "         'dtype': torch.float32}},\n",
       "       {'type': torch.Tensor,\n",
       "        'size': 5373952,\n",
       "        'info': {'shape': torch.Size([41, 4, 1024, 32]),\n",
       "         'dtype': torch.float32}}]},\n",
       "     {'type': tuple,\n",
       "      'size': 2,\n",
       "      'contents': [{'type': torch.Tensor,\n",
       "        'size': 5373952,\n",
       "        'info': {'shape': torch.Size([41, 4, 1024, 32]),\n",
       "         'dtype': torch.float32}},\n",
       "       {'type': torch.Tensor,\n",
       "        'size': 5373952,\n",
       "        'info': {'shape': torch.Size([41, 4, 1024, 32]),\n",
       "         'dtype': torch.float32}}]}]}}]}"
      ]
     },
     "execution_count": 144,
     "metadata": {},
     "output_type": "execute_result"
    }
   ],
   "source": [
    "summarize(out)"
   ]
  },
  {
   "cell_type": "markdown",
   "metadata": {},
   "source": [
    "## Val subset"
   ]
  },
  {
   "cell_type": "code",
   "execution_count": 9,
   "metadata": {},
   "outputs": [],
   "source": [
    "n_seqs = 10\n",
    "X_val_t = tokenizer(text_val[:n_seqs], return_tensors=\"pt\", padding=True, truncation=True, max_length=1024)['input_ids'].to(\"cuda\")\n",
    "X_val_j = jax.dlpack.from_dlpack(X_val_t)"
   ]
  },
  {
   "cell_type": "markdown",
   "metadata": {},
   "source": [
    "# Basins"
   ]
  },
  {
   "cell_type": "markdown",
   "metadata": {},
   "source": [
    "## kl_fn etc"
   ]
  },
  {
   "cell_type": "code",
   "execution_count": 10,
   "metadata": {},
   "outputs": [],
   "source": [
    "# https://github.com/EleutherAI/pythia/blob/main/models/14M/pythia-14m.yml\n",
    "with open(\"../data/pythia-14m.yml\", \"r\") as f:\n",
    "    config = yaml.load(f, Loader=yaml.FullLoader)\n",
    "l2_reg = config['weight-decay']\n",
    "# TODO: determine if this is the correct train size\n",
    "train_size = config['train-iters'] * config['train_micro_batch_size_per_gpu']\n",
    "sigma_epoch = 1/jnp.sqrt(l2_reg * train_size)"
   ]
  },
  {
   "cell_type": "code",
   "execution_count": 11,
   "metadata": {},
   "outputs": [],
   "source": [
    "sigma_params = jnp.sqrt(jnp.mean(trained_params_j**2))"
   ]
  },
  {
   "cell_type": "code",
   "execution_count": 12,
   "metadata": {},
   "outputs": [
    {
     "name": "stdout",
     "output_type": "stream",
     "text": [
      "0.001478281\n",
      "0.32929182\n"
     ]
    }
   ],
   "source": [
    "print(sigma_epoch)  # way too small(?)\n",
    "print(sigma_params)"
   ]
  },
  {
   "cell_type": "code",
   "execution_count": 13,
   "metadata": {},
   "outputs": [],
   "source": [
    "def apply_fn(params, x, *, debug=False):\n",
    "    # assign params to model\n",
    "    params_t = torch.from_dlpack(params)\n",
    "    torch.nn.utils.vector_to_parameters(params_t, model.parameters())\n",
    "    if debug:\n",
    "        print(f\"{x.shape=}\")\n",
    "    return jax.dlpack.from_dlpack(model(x).logits.detach())"
   ]
  },
  {
   "cell_type": "code",
   "execution_count": 14,
   "metadata": {},
   "outputs": [],
   "source": [
    "def make_kl_fn(probs_p, apply_fn, x, l2_reg, debug=False):\n",
    "    def kl_fn(a, b):\n",
    "        # [model_dim]\n",
    "        params_q = a + b\n",
    "        # x: [batch, seq_len] (input_ids)\n",
    "        # [batch, seq_len, vocab_size]\n",
    "        logits_q = apply_fn(params_q, x, debug=debug)\n",
    "        # [batch, seq_len, vocab_size]\n",
    "        logprobs_q = jax.nn.log_softmax(logits_q)\n",
    "        if debug:\n",
    "            print(f\"{logprobs_q.shape=} {probs_p.shape=}\")\n",
    "        # [batch, seq_len]\n",
    "        kl_all = optax.kl_divergence(logprobs_q, probs_p)\n",
    "        mask = jax.dlpack.from_dlpack(x != tokenizer.pad_token_id)\n",
    "        # scalar\n",
    "        kl_term = jnp.mean(kl_all[mask])\n",
    "        l2_term = 1/2 * l2_reg * jnp.sum(b**2)\n",
    "\n",
    "        del logits_q, logprobs_q, kl_all, mask\n",
    "        return kl_term + l2_term\n",
    "    return kl_fn\n",
    "\n",
    "def make_kl_fn_params(params_p, apply_fn, x, *, l2_reg, debug=False):\n",
    "    logits_p = apply_fn(params_p, x, debug=debug)\n",
    "    if debug:\n",
    "        print(f\"{logits_p.shape=}\")\n",
    "    probs_p = jax.nn.softmax(logits_p)\n",
    "    if debug:\n",
    "        print(f\"{probs_p.shape=}\")\n",
    "    return make_kl_fn(probs_p, apply_fn, x, l2_reg=l2_reg, debug=debug)"
   ]
  },
  {
   "cell_type": "markdown",
   "metadata": {},
   "source": [
    "## Experiments"
   ]
  },
  {
   "cell_type": "markdown",
   "metadata": {},
   "source": [
    "### ADAM"
   ]
  },
  {
   "cell_type": "code",
   "execution_count": 43,
   "metadata": {},
   "outputs": [
    {
     "data": {
      "text/plain": [
       "transformers.models.gpt_neox.modeling_gpt_neox.GPTNeoXForCausalLM"
      ]
     },
     "execution_count": 43,
     "metadata": {},
     "output_type": "execute_result"
    }
   ],
   "source": [
    "type(model)"
   ]
  },
  {
   "cell_type": "code",
   "execution_count": 42,
   "metadata": {},
   "outputs": [
    {
     "name": "stdout",
     "output_type": "stream",
     "text": [
      "odict_keys(['gpt_neox.embed_in.weight', 'gpt_neox.layers.0.input_layernorm.weight', 'gpt_neox.layers.0.input_layernorm.bias', 'gpt_neox.layers.0.post_attention_layernorm.weight', 'gpt_neox.layers.0.post_attention_layernorm.bias', 'gpt_neox.layers.0.attention.query_key_value.weight', 'gpt_neox.layers.0.attention.query_key_value.bias', 'gpt_neox.layers.0.attention.dense.weight', 'gpt_neox.layers.0.attention.dense.bias', 'gpt_neox.layers.0.mlp.dense_h_to_4h.weight', 'gpt_neox.layers.0.mlp.dense_h_to_4h.bias', 'gpt_neox.layers.0.mlp.dense_4h_to_h.weight', 'gpt_neox.layers.0.mlp.dense_4h_to_h.bias', 'gpt_neox.layers.1.input_layernorm.weight', 'gpt_neox.layers.1.input_layernorm.bias', 'gpt_neox.layers.1.post_attention_layernorm.weight', 'gpt_neox.layers.1.post_attention_layernorm.bias', 'gpt_neox.layers.1.attention.query_key_value.weight', 'gpt_neox.layers.1.attention.query_key_value.bias', 'gpt_neox.layers.1.attention.dense.weight', 'gpt_neox.layers.1.attention.dense.bias', 'gpt_neox.layers.1.mlp.dense_h_to_4h.weight', 'gpt_neox.layers.1.mlp.dense_h_to_4h.bias', 'gpt_neox.layers.1.mlp.dense_4h_to_h.weight', 'gpt_neox.layers.1.mlp.dense_4h_to_h.bias', 'gpt_neox.layers.2.input_layernorm.weight', 'gpt_neox.layers.2.input_layernorm.bias', 'gpt_neox.layers.2.post_attention_layernorm.weight', 'gpt_neox.layers.2.post_attention_layernorm.bias', 'gpt_neox.layers.2.attention.query_key_value.weight', 'gpt_neox.layers.2.attention.query_key_value.bias', 'gpt_neox.layers.2.attention.dense.weight', 'gpt_neox.layers.2.attention.dense.bias', 'gpt_neox.layers.2.mlp.dense_h_to_4h.weight', 'gpt_neox.layers.2.mlp.dense_h_to_4h.bias', 'gpt_neox.layers.2.mlp.dense_4h_to_h.weight', 'gpt_neox.layers.2.mlp.dense_4h_to_h.bias', 'gpt_neox.layers.3.input_layernorm.weight', 'gpt_neox.layers.3.input_layernorm.bias', 'gpt_neox.layers.3.post_attention_layernorm.weight', 'gpt_neox.layers.3.post_attention_layernorm.bias', 'gpt_neox.layers.3.attention.query_key_value.weight', 'gpt_neox.layers.3.attention.query_key_value.bias', 'gpt_neox.layers.3.attention.dense.weight', 'gpt_neox.layers.3.attention.dense.bias', 'gpt_neox.layers.3.mlp.dense_h_to_4h.weight', 'gpt_neox.layers.3.mlp.dense_h_to_4h.bias', 'gpt_neox.layers.3.mlp.dense_4h_to_h.weight', 'gpt_neox.layers.3.mlp.dense_4h_to_h.bias', 'gpt_neox.layers.4.input_layernorm.weight', 'gpt_neox.layers.4.input_layernorm.bias', 'gpt_neox.layers.4.post_attention_layernorm.weight', 'gpt_neox.layers.4.post_attention_layernorm.bias', 'gpt_neox.layers.4.attention.query_key_value.weight', 'gpt_neox.layers.4.attention.query_key_value.bias', 'gpt_neox.layers.4.attention.dense.weight', 'gpt_neox.layers.4.attention.dense.bias', 'gpt_neox.layers.4.mlp.dense_h_to_4h.weight', 'gpt_neox.layers.4.mlp.dense_h_to_4h.bias', 'gpt_neox.layers.4.mlp.dense_4h_to_h.weight', 'gpt_neox.layers.4.mlp.dense_4h_to_h.bias', 'gpt_neox.layers.5.input_layernorm.weight', 'gpt_neox.layers.5.input_layernorm.bias', 'gpt_neox.layers.5.post_attention_layernorm.weight', 'gpt_neox.layers.5.post_attention_layernorm.bias', 'gpt_neox.layers.5.attention.query_key_value.weight', 'gpt_neox.layers.5.attention.query_key_value.bias', 'gpt_neox.layers.5.attention.dense.weight', 'gpt_neox.layers.5.attention.dense.bias', 'gpt_neox.layers.5.mlp.dense_h_to_4h.weight', 'gpt_neox.layers.5.mlp.dense_h_to_4h.bias', 'gpt_neox.layers.5.mlp.dense_4h_to_h.weight', 'gpt_neox.layers.5.mlp.dense_4h_to_h.bias', 'gpt_neox.final_layer_norm.weight', 'gpt_neox.final_layer_norm.bias', 'embed_out.weight'])\n"
     ]
    }
   ],
   "source": [
    "print(model.state_dict().keys())\n"
   ]
  },
  {
   "cell_type": "code",
   "execution_count": 36,
   "metadata": {},
   "outputs": [
    {
     "data": {
      "text/plain": [
       "['global_step0',\n",
       " 'global_step1',\n",
       " 'global_step1000',\n",
       " 'global_step10000',\n",
       " 'global_step100000',\n",
       " 'global_step101000',\n",
       " 'global_step102000',\n",
       " 'global_step103000',\n",
       " 'global_step104000',\n",
       " 'global_step105000',\n",
       " 'global_step106000',\n",
       " 'global_step107000',\n",
       " 'global_step108000',\n",
       " 'global_step109000',\n",
       " 'global_step11000',\n",
       " 'global_step110000',\n",
       " 'global_step111000',\n",
       " 'global_step112000',\n",
       " 'global_step113000',\n",
       " 'global_step114000',\n",
       " 'global_step115000',\n",
       " 'global_step116000',\n",
       " 'global_step117000',\n",
       " 'global_step118000',\n",
       " 'global_step119000',\n",
       " 'global_step12000',\n",
       " 'global_step120000',\n",
       " 'global_step121000',\n",
       " 'global_step122000',\n",
       " 'global_step123000',\n",
       " 'global_step124000',\n",
       " 'global_step125000',\n",
       " 'global_step126000',\n",
       " 'global_step127000',\n",
       " 'global_step128',\n",
       " 'global_step128000',\n",
       " 'global_step129000',\n",
       " 'global_step13000',\n",
       " 'global_step130000',\n",
       " 'global_step131000',\n",
       " 'global_step132000',\n",
       " 'global_step133000',\n",
       " 'global_step134000',\n",
       " 'global_step135000',\n",
       " 'global_step136000',\n",
       " 'global_step137000',\n",
       " 'global_step138000',\n",
       " 'global_step139000',\n",
       " 'global_step14000',\n",
       " 'global_step140000',\n",
       " 'global_step141000',\n",
       " 'global_step142000',\n",
       " 'global_step143000',\n",
       " 'global_step15000',\n",
       " 'global_step16',\n",
       " 'global_step16000',\n",
       " 'global_step17000',\n",
       " 'global_step18000',\n",
       " 'global_step19000',\n",
       " 'global_step2',\n",
       " 'global_step2000',\n",
       " 'global_step20000',\n",
       " 'global_step21000',\n",
       " 'global_step22000',\n",
       " 'global_step23000',\n",
       " 'global_step24000',\n",
       " 'global_step25000',\n",
       " 'global_step256',\n",
       " 'global_step26000',\n",
       " 'global_step27000',\n",
       " 'global_step28000',\n",
       " 'global_step29000',\n",
       " 'global_step3000',\n",
       " 'global_step30000',\n",
       " 'global_step31000',\n",
       " 'global_step32',\n",
       " 'global_step32000',\n",
       " 'global_step33000',\n",
       " 'global_step34000',\n",
       " 'global_step35000',\n",
       " 'global_step36000',\n",
       " 'global_step37000',\n",
       " 'global_step38000',\n",
       " 'global_step39000',\n",
       " 'global_step4',\n",
       " 'global_step4000',\n",
       " 'global_step40000',\n",
       " 'global_step41000',\n",
       " 'global_step42000',\n",
       " 'global_step43000',\n",
       " 'global_step44000',\n",
       " 'global_step45000',\n",
       " 'global_step46000',\n",
       " 'global_step47000',\n",
       " 'global_step48000',\n",
       " 'global_step49000',\n",
       " 'global_step5000',\n",
       " 'global_step50000',\n",
       " 'global_step51000',\n",
       " 'global_step512',\n",
       " 'global_step52000',\n",
       " 'global_step53000',\n",
       " 'global_step54000',\n",
       " 'global_step55000',\n",
       " 'global_step56000',\n",
       " 'global_step57000',\n",
       " 'global_step58000',\n",
       " 'global_step59000',\n",
       " 'global_step6000',\n",
       " 'global_step60000',\n",
       " 'global_step61000',\n",
       " 'global_step62000',\n",
       " 'global_step63000',\n",
       " 'global_step64',\n",
       " 'global_step64000',\n",
       " 'global_step65000',\n",
       " 'global_step66000',\n",
       " 'global_step67000',\n",
       " 'global_step68000',\n",
       " 'global_step69000',\n",
       " 'global_step7000',\n",
       " 'global_step70000',\n",
       " 'global_step71000',\n",
       " 'global_step72000',\n",
       " 'global_step73000',\n",
       " 'global_step74000',\n",
       " 'global_step75000',\n",
       " 'global_step76000',\n",
       " 'global_step77000',\n",
       " 'global_step78000',\n",
       " 'global_step79000',\n",
       " 'global_step8',\n",
       " 'global_step8000',\n",
       " 'global_step80000',\n",
       " 'global_step81000',\n",
       " 'global_step82000',\n",
       " 'global_step83000',\n",
       " 'global_step84000',\n",
       " 'global_step85000',\n",
       " 'global_step86000',\n",
       " 'global_step87000',\n",
       " 'global_step88000',\n",
       " 'global_step89000',\n",
       " 'global_step9000',\n",
       " 'global_step90000',\n",
       " 'global_step91000',\n",
       " 'global_step92000',\n",
       " 'global_step93000',\n",
       " 'global_step94000',\n",
       " 'global_step95000',\n",
       " 'global_step96000',\n",
       " 'global_step97000',\n",
       " 'global_step98000',\n",
       " 'global_step99000',\n",
       " 'latest']"
      ]
     },
     "execution_count": 36,
     "metadata": {},
     "output_type": "execute_result"
    }
   ],
   "source": [
    "# list /mnt/hdd-0/tiny-pythia/ckpts/pythia-14m/\n",
    "sorted(os.listdir(\"/mnt/hdd-0/tiny-pythia/ckpts/pythia-14m/\"))\n"
   ]
  },
  {
   "cell_type": "code",
   "execution_count": 23,
   "metadata": {},
   "outputs": [
    {
     "name": "stderr",
     "output_type": "stream",
     "text": [
      "/tmp/ipykernel_61413/2434520434.py:2: FutureWarning: You are using `torch.load` with `weights_only=False` (the current default value), which uses the default pickle module implicitly. It is possible to construct malicious pickle data which will execute arbitrary code during unpickling (See https://github.com/pytorch/pytorch/blob/main/SECURITY.md#untrusted-models for more details). In a future release, the default value for `weights_only` will be flipped to `True`. This limits the functions that could be executed during unpickling. Arbitrary objects will no longer be allowed to be loaded via this mode unless they are explicitly allowlisted by the user via `torch.serialization.add_safe_globals`. We recommend you start setting `weights_only=True` for any use case where you don't have full control of the loaded file. Please open an issue on GitHub for any issues related to this experimental feature.\n",
      "  states = torch.load(f)\n"
     ]
    }
   ],
   "source": [
    "with open(\"/mnt/hdd-0/tiny-pythia/ckpts/pythia-14m/global_step256/mp_rank_00_model_states.pt\", \"rb\") as f:\n",
    "    states = torch.load(f)"
   ]
  },
  {
   "cell_type": "code",
   "execution_count": 45,
   "metadata": {},
   "outputs": [
    {
     "name": "stdout",
     "output_type": "stream",
     "text": [
      "dict_keys(['module', 'buffer_names', 'optimizer', 'param_shapes', 'lr_scheduler', 'data_sampler', 'random_ltd', 'sparse_tensor_module_names', 'skipped_steps', 'global_steps', 'global_samples', 'dp_world_size', 'mp_world_size', 'ds_config', 'ds_version', 'iteration', 'args', 'random_rng_state', 'np_rng_state', 'torch_rng_state', 'cuda_rng_state', 'rng_tracker_states'])\n"
     ]
    }
   ],
   "source": [
    "print(states.keys())\n"
   ]
  },
  {
   "cell_type": "code",
   "execution_count": 52,
   "metadata": {},
   "outputs": [
    {
     "name": "stdout",
     "output_type": "stream",
     "text": [
      "['sequential.2.attention.rotary_emb.inv_freq', 'sequential.3.attention.rotary_emb.inv_freq', 'sequential.4.attention.rotary_emb.inv_freq', 'sequential.5.attention.rotary_emb.inv_freq', 'sequential.6.attention.rotary_emb.inv_freq', 'sequential.7.attention.rotary_emb.inv_freq']\n"
     ]
    }
   ],
   "source": [
    "print(states['buffer_names'])\n"
   ]
  },
  {
   "cell_type": "code",
   "execution_count": 32,
   "metadata": {},
   "outputs": [
    {
     "name": "stdout",
     "output_type": "stream",
     "text": [
      "0\n",
      "torch.Size([14057472])\n",
      "1\n",
      "torch.Size([10240])\n"
     ]
    }
   ],
   "source": [
    "optstates = states['optimizer']['optimizer_state_dict']['state']\n",
    "for k, v in optstates.items():\n",
    "    print(k)\n",
    "    print(v['exp_avg_sq'].shape)"
   ]
  },
  {
   "cell_type": "code",
   "execution_count": 34,
   "metadata": {},
   "outputs": [
    {
     "data": {
      "text/plain": [
       "((14067712,), 14067712)"
      ]
     },
     "execution_count": 34,
     "metadata": {},
     "output_type": "execute_result"
    }
   ],
   "source": [
    "trained_params_j.shape, sum([v['exp_avg_sq'].shape[0] for v in optstates.values()])\n"
   ]
  },
  {
   "cell_type": "code",
   "execution_count": 27,
   "metadata": {},
   "outputs": [
    {
     "name": "stdout",
     "output_type": "stream",
     "text": [
      "[\n",
      "    \"module\",\n",
      "    \"buffer_names\",\n",
      "    \"optimizer\",\n",
      "    \"param_shapes\",\n",
      "    \"lr_scheduler\",\n",
      "    \"data_sampler\",\n",
      "    \"random_ltd\",\n",
      "    \"sparse_tensor_module_names\",\n",
      "    \"skipped_steps\",\n",
      "    \"global_steps\",\n",
      "    \"global_samples\",\n",
      "    \"dp_world_size\",\n",
      "    \"mp_world_size\",\n",
      "    \"ds_config\",\n",
      "    \"ds_version\",\n",
      "    \"iteration\",\n",
      "    \"args\",\n",
      "    \"random_rng_state\",\n",
      "    \"np_rng_state\",\n",
      "    \"torch_rng_state\",\n",
      "    \"cuda_rng_state\",\n",
      "    \"rng_tracker_states\"\n",
      "]\n"
     ]
    }
   ],
   "source": [
    "# pretty print\n",
    "print(json.dumps(list(states.keys()), indent=4))\n"
   ]
  },
  {
   "cell_type": "markdown",
   "metadata": {},
   "source": [
    "### Naive"
   ]
  },
  {
   "cell_type": "code",
   "execution_count": 15,
   "metadata": {},
   "outputs": [],
   "source": [
    "kl_fn = make_kl_fn_params(trained_params_j, apply_fn, X_val_t, l2_reg=0.)   "
   ]
  },
  {
   "cell_type": "code",
   "execution_count": 16,
   "metadata": {},
   "outputs": [
    {
     "data": {
      "text/plain": [
       "Array(-2.3063529e-09, dtype=float32)"
      ]
     },
     "execution_count": 16,
     "metadata": {},
     "output_type": "execute_result"
    }
   ],
   "source": [
    "kl_fn(trained_params_j, 0.)"
   ]
  },
  {
   "cell_type": "code",
   "execution_count": 17,
   "metadata": {},
   "outputs": [],
   "source": [
    "CUTOFF = 1e-2\n",
    "\n",
    "RESULTS = {} # estimates, props, mults, deltas, logabsint"
   ]
  },
  {
   "cell_type": "code",
   "execution_count": 44,
   "metadata": {},
   "outputs": [],
   "source": [
    "result_size = 100\n",
    "\n",
    "RESULTS['naive'] = get_estimates_vectorized_gauss(result_size, \n",
    "                                                  batch_size=1,\n",
    "                                                  sigma=sigma_params,\n",
    "                                                  fn=kl_fn, \n",
    "                                                  params=trained_params_j, \n",
    "                                                  cutoff=CUTOFF,\n",
    "                                                  tol=2,\n",
    "                                                  y_tol=20,\n",
    "                                                  debug=False,\n",
    "                                                  torch_model=True,\n",
    "                                                 )"
   ]
  },
  {
   "cell_type": "code",
   "execution_count": 51,
   "metadata": {},
   "outputs": [
    {
     "data": {
      "text/plain": [
       "0.8385009169578552"
      ]
     },
     "execution_count": 51,
     "metadata": {},
     "output_type": "execute_result"
    }
   ],
   "source": [
    "# approx. what we can expect for tol (a little low in practice)\n",
    "# maybe 10x this for y_tol\n",
    "n / 2**24"
   ]
  },
  {
   "cell_type": "code",
   "execution_count": 43,
   "metadata": {},
   "outputs": [
    {
     "name": "stdout",
     "output_type": "stream",
     "text": [
      "global_max=Array(1235.4233, dtype=float32, weak_type=True), global_in_range=Array(False, dtype=bool, weak_type=True)\n"
     ]
    },
    {
     "data": {
      "image/png": "[encoded data removed]",
      "text/plain": [
       "<Figure size 640x480 with 1 Axes>"
      ]
     },
     "metadata": {},
     "output_type": "display_data"
    },
    {
     "data": {
      "image/png": "[encoded data removed]",
      "text/plain": [
       "<Figure size 640x480 with 1 Axes>"
      ]
     },
     "metadata": {},
     "output_type": "display_data"
    }
   ],
   "source": [
    "# a = 9.222275733947754\n",
    "# b = 2.5610644817352295\n",
    "# n = 14067711\n",
    "# x1 = 0.447265625\n",
    "# c = -7033855.5\n",
    "# rad = -1.2717509889625944e-07\n",
    "\n",
    "\n",
    "a = 9.222275733947754\n",
    "b = 6.459555149078369\n",
    "n = 14067711\n",
    "x1 = 0.48828125\n",
    "c = -7033855.5\n",
    "rad = -3.470935610039305e-07\n",
    "debug = True\n",
    "\n",
    "\n",
    "mu = b / a\n",
    "center = mu / 2\n",
    "dist = jnp.sqrt(mu**2 + 4 * n / a) / 2\n",
    "global_max = center + dist\n",
    "global_in_range = global_max <= x1\n",
    "if debug:\n",
    "    print(f\"{global_max=}, {global_in_range=}\")\n",
    "max_pt = jnp.minimum(global_max, x1)\n",
    "# get approximation stuff\n",
    "log_fn = log_fn_rel_factory(a, b, n, max_pt)\n",
    "dlog_fn = dlog_fn_factory(a, b, n)\n",
    "d2log_fn = d2log_fn_factory(a, b, n)\n",
    "f0 = log_fn(max_pt)\n",
    "f1 = dlog_fn(max_pt)\n",
    "f2 = d2log_fn(max_pt)\n",
    "approx_log_fn = lambda x: f0 + f1 * (x - max_pt) + 1/2 * f2 * (x - max_pt)**2\n",
    "\n",
    "xs = jnp.linspace(x1 + 10 * rad, x1, 1000)\n",
    "plt.plot(xs, log_fn(xs), label='log_fn')\n",
    "plt.plot(xs, approx_log_fn(xs), label='approx_log_fn')\n",
    "plt.legend()\n",
    "plt.show()\n",
    "\n",
    "\n",
    "xs = jnp.linspace(x1 + 10 * rad, x1, 1000)\n",
    "plt.plot(xs, approx_log_fn(xs) - log_fn(xs), label='approx_log_fn - log_fn')\n",
    "plt.legend()\n",
    "plt.show()\n"
   ]
  },
  {
   "cell_type": "code",
   "execution_count": 27,
   "metadata": {},
   "outputs": [
    {
     "data": {
      "image/png": "[encoded data removed]",
      "text/plain": [
       "<Figure size 640x480 with 1 Axes>"
      ]
     },
     "metadata": {},
     "output_type": "display_data"
    },
    {
     "data": {
      "image/png": "[encoded data removed]",
      "text/plain": [
       "<Figure size 640x480 with 1 Axes>"
      ]
     },
     "metadata": {},
     "output_type": "display_data"
    },
    {
     "data": {
      "image/png": "[encoded data removed]",
      "text/plain": [
       "<Figure size 640x480 with 1 Axes>"
      ]
     },
     "metadata": {},
     "output_type": "display_data"
    }
   ],
   "source": [
    "plt.hist(RESULTS['naive'].estimates, bins=20)\n",
    "plt.show()\n",
    "\n",
    "plt.hist(RESULTS['naive'].mults, bins=20)\n",
    "plt.show()\n",
    "\n",
    "plt.scatter((RESULTS['naive'].deltas - CUTOFF) / CUTOFF, RESULTS['naive'].estimates)\n",
    "plt.show()\n"
   ]
  },
  {
   "cell_type": "markdown",
   "metadata": {},
   "source": [
    "### Cutoff scan"
   ]
  },
  {
   "cell_type": "code",
   "execution_count": 28,
   "metadata": {},
   "outputs": [
    {
     "data": {
      "text/plain": [
       "Array([1.00000005e-03, 9.99999978e-03, 1.00000024e-01, 1.00000000e+00,\n",
       "       1.00000000e+01, 1.00000000e+02, 1.00000000e+03], dtype=float32)"
      ]
     },
     "execution_count": 28,
     "metadata": {},
     "output_type": "execute_result"
    }
   ],
   "source": [
    "logspace(1e-3, 1e3, 7)"
   ]
  },
  {
   "cell_type": "code",
   "execution_count": 30,
   "metadata": {},
   "outputs": [],
   "source": [
    "from tqdm import tqdm"
   ]
  },
  {
   "cell_type": "code",
   "execution_count": 62,
   "metadata": {},
   "outputs": [
    {
     "name": "stderr",
     "output_type": "stream",
     "text": [
      "0it [00:00, ?it/s]"
     ]
    },
    {
     "name": "stderr",
     "output_type": "stream",
     "text": [
      "10it [06:53, 41.32s/it]\n"
     ]
    }
   ],
   "source": [
    "result_size = 30\n",
    "cutoffs = logspace(1e-8, 1e1, 10)\n",
    "\n",
    "for i, cutoff in tqdm(enumerate(cutoffs)):\n",
    "    RESULTS[f\"cutoff_{i}\"] = get_estimates_vectorized_gauss(result_size, \n",
    "                                                  batch_size=1,\n",
    "                                                  sigma=sigma_params,\n",
    "                                                  fn=kl_fn, \n",
    "                                                  params=trained_params_j, \n",
    "                                                  cutoff=cutoff,\n",
    "                                                  tol=100., #0.1,\n",
    "                                                  debug=False,\n",
    "                                                  torch_model=True,\n",
    "                                                 )\n"
   ]
  },
  {
   "cell_type": "code",
   "execution_count": 42,
   "metadata": {},
   "outputs": [],
   "source": [
    "model_dim = trained_params_j.shape[0]"
   ]
  },
  {
   "cell_type": "code",
   "execution_count": 76,
   "metadata": {},
   "outputs": [
    {
     "data": {
      "text/plain": [
       "(30,)"
      ]
     },
     "execution_count": 76,
     "metadata": {},
     "output_type": "execute_result"
    }
   ],
   "source": [
    "RESULTS['cutoff_3'].estimates.shape\n"
   ]
  },
  {
   "cell_type": "code",
   "execution_count": 80,
   "metadata": {},
   "outputs": [
    {
     "data": {
      "image/png": "[encoded data removed]",
      "text/plain": [
       "<Figure size 640x480 with 1 Axes>"
      ]
     },
     "metadata": {},
     "output_type": "display_data"
    }
   ],
   "source": [
    "aggs = [aggregate(RESULTS[f\"cutoff_{i}\"].estimates) for i in range(len(cutoffs))]\n",
    "\n",
    "plt.plot(cutoffs, -jnp.array(aggs) / model_dim, '.-', label='naive')\n",
    "plt.plot(cutoffs, -1 / 2 * (jnp.log(cutoffs) - 10), 'k--', label='quadratic')\n",
    "plt.plot(cutoffs, -1 / 2 * (jnp.log(cutoffs) - 36), 'r--', label='quadratic')\n",
    "plt.xscale('log')\n",
    "plt.legend()\n",
    "plt.xlabel('cutoff')\n",
    "plt.ylabel('-log prob (nats per param)')\n",
    "plt.title('Basin measure estimates\\nPythia 14M')\n",
    "plt.show()\n"
   ]
  },
  {
   "cell_type": "markdown",
   "metadata": {},
   "source": [
    "### Checkpoint scan"
   ]
  },
  {
   "cell_type": "code",
   "execution_count": 42,
   "metadata": {},
   "outputs": [],
   "source": [
    "# get list of revisions from HuggingFace\n",
    "# (they're Git branches)\n",
    "from huggingface_hub import list_repo_refs\n",
    "branches = list_repo_refs(\"EleutherAI/pythia-14m\").branches\n",
    "\n",
    "branch_names = [b.name for b in branches]\n",
    "branch_names = [b for b in branch_names if b.startswith(\"step\")]\n",
    "checkpoint_steps = [int(b.split(\"step\")[1]) for b in branch_names]\n",
    "checkpoint_steps = sorted(checkpoint_steps)\n"
   ]
  },
  {
   "cell_type": "code",
   "execution_count": 43,
   "metadata": {},
   "outputs": [
    {
     "data": {
      "text/plain": [
       "[0,\n",
       " 1,\n",
       " 2,\n",
       " 4,\n",
       " 8,\n",
       " 16,\n",
       " 32,\n",
       " 64,\n",
       " 128,\n",
       " 256,\n",
       " 512,\n",
       " 1000,\n",
       " 2000,\n",
       " 3000,\n",
       " 4000,\n",
       " 5000,\n",
       " 6000,\n",
       " 7000,\n",
       " 8000,\n",
       " 9000,\n",
       " 10000,\n",
       " 11000,\n",
       " 12000,\n",
       " 13000,\n",
       " 14000,\n",
       " 15000,\n",
       " 16000,\n",
       " 17000,\n",
       " 18000,\n",
       " 19000,\n",
       " 20000,\n",
       " 21000,\n",
       " 22000,\n",
       " 23000,\n",
       " 24000,\n",
       " 25000,\n",
       " 26000,\n",
       " 27000,\n",
       " 28000,\n",
       " 29000,\n",
       " 30000,\n",
       " 31000,\n",
       " 32000,\n",
       " 33000,\n",
       " 34000,\n",
       " 35000,\n",
       " 36000,\n",
       " 37000,\n",
       " 38000,\n",
       " 39000,\n",
       " 40000,\n",
       " 41000,\n",
       " 42000,\n",
       " 43000,\n",
       " 44000,\n",
       " 45000,\n",
       " 46000,\n",
       " 47000,\n",
       " 48000,\n",
       " 49000,\n",
       " 50000,\n",
       " 51000,\n",
       " 52000,\n",
       " 53000,\n",
       " 54000,\n",
       " 55000,\n",
       " 56000,\n",
       " 57000,\n",
       " 58000,\n",
       " 59000,\n",
       " 60000,\n",
       " 61000,\n",
       " 62000,\n",
       " 63000,\n",
       " 64000,\n",
       " 65000,\n",
       " 66000,\n",
       " 67000,\n",
       " 68000,\n",
       " 69000,\n",
       " 70000,\n",
       " 71000,\n",
       " 72000,\n",
       " 73000,\n",
       " 74000,\n",
       " 75000,\n",
       " 76000,\n",
       " 77000,\n",
       " 78000,\n",
       " 79000,\n",
       " 80000,\n",
       " 81000,\n",
       " 82000,\n",
       " 83000,\n",
       " 84000,\n",
       " 85000,\n",
       " 86000,\n",
       " 87000,\n",
       " 88000,\n",
       " 89000,\n",
       " 90000,\n",
       " 91000,\n",
       " 92000,\n",
       " 93000,\n",
       " 94000,\n",
       " 95000,\n",
       " 96000,\n",
       " 97000,\n",
       " 98000,\n",
       " 99000,\n",
       " 100000,\n",
       " 101000,\n",
       " 102000,\n",
       " 103000,\n",
       " 104000,\n",
       " 105000,\n",
       " 106000,\n",
       " 107000,\n",
       " 108000,\n",
       " 109000,\n",
       " 110000,\n",
       " 111000,\n",
       " 112000,\n",
       " 113000,\n",
       " 114000,\n",
       " 115000,\n",
       " 116000,\n",
       " 117000,\n",
       " 118000,\n",
       " 119000,\n",
       " 120000,\n",
       " 121000,\n",
       " 122000,\n",
       " 123000,\n",
       " 124000,\n",
       " 125000,\n",
       " 126000,\n",
       " 127000,\n",
       " 128000,\n",
       " 129000,\n",
       " 130000,\n",
       " 131000,\n",
       " 132000,\n",
       " 133000,\n",
       " 134000,\n",
       " 135000,\n",
       " 136000,\n",
       " 137000,\n",
       " 138000,\n",
       " 139000,\n",
       " 140000,\n",
       " 141000,\n",
       " 142000,\n",
       " 143000]"
      ]
     },
     "execution_count": 43,
     "metadata": {},
     "output_type": "execute_result"
    }
   ],
   "source": [
    "checkpoint_steps"
   ]
  },
  {
   "cell_type": "code",
   "execution_count": 36,
   "metadata": {},
   "outputs": [
    {
     "data": {
      "text/plain": [
       "[GitCommitInfo(commit_id='f33025648652797a390d8c54835273845b437161', authors=['stellaathena', 'SFconvertbot'], created_at=datetime.datetime(2023, 7, 26, 17, 38, 10, tzinfo=datetime.timezone.utc), title='Adding `safetensors` variant of this model (#1)', message='\\n\\n\\n- Adding `safetensors` variant of this model (a006807133d0c2dc4c0952d7593ffaa53a2565b4)\\n\\n\\nCo-authored-by: Safetensors convertbot <SFconvertbot@users.noreply.huggingface.co>\\n', formatted_title=None, formatted_message=None),\n",
       " GitCommitInfo(commit_id='c97ed858d295c7a69a65a56ff8083111dfff796f', authors=['hails'], created_at=datetime.datetime(2023, 7, 19, 13, 57, 59, tzinfo=datetime.timezone.utc), title='Upload tokenizer.json', message='', formatted_title=None, formatted_message=None),\n",
       " GitCommitInfo(commit_id='e893043be8e5214861a83e4f283993371aab8228', authors=['hails'], created_at=datetime.datetime(2023, 7, 19, 13, 57, 59, tzinfo=datetime.timezone.utc), title='Upload special_tokens_map.json', message='', formatted_title=None, formatted_message=None),\n",
       " GitCommitInfo(commit_id='4873dbb367852c4b318764ab24a22ff9d98012cc', authors=['hails'], created_at=datetime.datetime(2023, 7, 19, 13, 57, 59, tzinfo=datetime.timezone.utc), title='Upload tokenizer_config.json', message='', formatted_title=None, formatted_message=None),\n",
       " GitCommitInfo(commit_id='33f4ceb8fffbb601f7cde8592040f73c9a71ac17', authors=['hails'], created_at=datetime.datetime(2023, 7, 19, 13, 57, 58, tzinfo=datetime.timezone.utc), title='Upload pytorch_model.bin', message='', formatted_title=None, formatted_message=None),\n",
       " GitCommitInfo(commit_id='798a6dbb476e9617a14ca835cd47c61716514cd7', authors=['hails'], created_at=datetime.datetime(2023, 7, 19, 13, 57, 55, tzinfo=datetime.timezone.utc), title='Upload generation_config.json', message='', formatted_title=None, formatted_message=None),\n",
       " GitCommitInfo(commit_id='3383fbde4d2a8eaf09ff8b252d75f50f983f4d21', authors=['hails'], created_at=datetime.datetime(2023, 7, 19, 13, 57, 54, tzinfo=datetime.timezone.utc), title='Upload config.json', message='', formatted_title=None, formatted_message=None),\n",
       " GitCommitInfo(commit_id='7f3952f2e3215bb2caad7cedd4992f790e6fc419', authors=['Hailey Schoelkopf'], created_at=datetime.datetime(2023, 7, 19, 13, 57, 54, tzinfo=datetime.timezone.utc), title='initial commit', message='', formatted_title=None, formatted_message=None)]"
      ]
     },
     "execution_count": 36,
     "metadata": {},
     "output_type": "execute_result"
    }
   ],
   "source": [
    "commits"
   ]
  },
  {
   "cell_type": "code",
   "execution_count": 16,
   "metadata": {},
   "outputs": [],
   "source": [
    "def get_checkpoint_params(revision):\n",
    "    model_chkpt = AutoModelForCausalLM.from_pretrained(\"EleutherAI/pythia-14m\", revision=revision).to(\"cuda\")\n",
    "    params_chkpt_t = torch.nn.utils.parameters_to_vector(model_chkpt.parameters()).detach()\n",
    "    params_chkpt_j = jax.dlpack.from_dlpack(params_chkpt_t)\n",
    "    return params_chkpt_j\n"
   ]
  },
  {
   "cell_type": "markdown",
   "metadata": {},
   "source": [
    "testing:"
   ]
  },
  {
   "cell_type": "code",
   "execution_count": null,
   "metadata": {},
   "outputs": [
    {
     "name": "stderr",
     "output_type": "stream",
     "text": [
      "/home/adam/.conda/envs/jax311/lib/python3.11/multiprocessing/popen_fork.py:66: RuntimeWarning: os.fork() was called. os.fork() is incompatible with multithreaded code, and JAX is multithreaded, so this will likely lead to a deadlock.\n",
      "  self.pid = os.fork()\n",
      "huggingface/tokenizers: The current process just got forked, after parallelism has already been used. Disabling parallelism to avoid deadlocks...\n",
      "To disable this warning, you can either:\n",
      "\t- Avoid using `tokenizers` before the fork if possible\n",
      "\t- Explicitly set the environment variable TOKENIZERS_PARALLELISM=(true | false)\n",
      "/home/adam/.conda/envs/jax311/lib/python3.11/multiprocessing/popen_fork.py:66: RuntimeWarning: os.fork() was called. os.fork() is incompatible with multithreaded code, and JAX is multithreaded, so this will likely lead to a deadlock.\n",
      "  self.pid = os.fork()\n",
      "huggingface/tokenizers: The current process just got forked, after parallelism has already been used. Disabling parallelism to avoid deadlocks...\n",
      "To disable this warning, you can either:\n",
      "\t- Avoid using `tokenizers` before the fork if possible\n",
      "\t- Explicitly set the environment variable TOKENIZERS_PARALLELISM=(true | false)\n"
     ]
    }
   ],
   "source": [
    "\n",
    "params_142k = get_checkpoint_params(\"step142000\")\n",
    "params_100k = get_checkpoint_params(\"step100000\")\n",
    "\n",
    "kl_fn_142k = make_kl_fn_params(params_142k, apply_fn, X_val_t, l2_reg=0.)\n",
    "kl_fn_100k = make_kl_fn_params(params_100k, apply_fn, X_val_t, l2_reg=0.)\n",
    "\n",
    "print(kl_fn_142k(trained_params_j, 0.))\n",
    "print(kl_fn_100k(trained_params_j, 0.))\n"
   ]
  },
  {
   "cell_type": "code",
   "execution_count": 24,
   "metadata": {},
   "outputs": [],
   "source": [
    "# RESULTS = {}\n",
    "# RESULTS['chkpts'] = {}"
   ]
  },
  {
   "cell_type": "code",
   "execution_count": 27,
   "metadata": {},
   "outputs": [],
   "source": [
    "model_dim = trained_params_j.shape[0]"
   ]
  },
  {
   "cell_type": "code",
   "execution_count": 44,
   "metadata": {},
   "outputs": [
    {
     "name": "stderr",
     "output_type": "stream",
     "text": [
      "  0%|          | 0/23 [00:00<?, ?it/s]"
     ]
    },
    {
     "name": "stderr",
     "output_type": "stream",
     "text": [
      "/home/adam/.conda/envs/jax311/lib/python3.11/multiprocessing/popen_fork.py:66: RuntimeWarning: os.fork() was called. os.fork() is incompatible with multithreaded code, and JAX is multithreaded, so this will likely lead to a deadlock.\n",
      "  self.pid = os.fork()\n",
      "huggingface/tokenizers: The current process just got forked, after parallelism has already been used. Disabling parallelism to avoid deadlocks...\n",
      "To disable this warning, you can either:\n",
      "\t- Avoid using `tokenizers` before the fork if possible\n",
      "\t- Explicitly set the environment variable TOKENIZERS_PARALLELISM=(true | false)\n",
      "/home/adam/.conda/envs/jax311/lib/python3.11/multiprocessing/popen_fork.py:66: RuntimeWarning: os.fork() was called. os.fork() is incompatible with multithreaded code, and JAX is multithreaded, so this will likely lead to a deadlock.\n",
      "  self.pid = os.fork()\n",
      "  4%|▍         | 1/23 [00:40<14:50, 40.48s/it]/home/adam/.conda/envs/jax311/lib/python3.11/multiprocessing/popen_fork.py:66: RuntimeWarning: os.fork() was called. os.fork() is incompatible with multithreaded code, and JAX is multithreaded, so this will likely lead to a deadlock.\n",
      "  self.pid = os.fork()\n",
      "huggingface/tokenizers: The current process just got forked, after parallelism has already been used. Disabling parallelism to avoid deadlocks...\n",
      "To disable this warning, you can either:\n",
      "\t- Avoid using `tokenizers` before the fork if possible\n",
      "\t- Explicitly set the environment variable TOKENIZERS_PARALLELISM=(true | false)\n",
      "/home/adam/.conda/envs/jax311/lib/python3.11/multiprocessing/popen_fork.py:66: RuntimeWarning: os.fork() was called. os.fork() is incompatible with multithreaded code, and JAX is multithreaded, so this will likely lead to a deadlock.\n",
      "  self.pid = os.fork()\n",
      "  9%|▊         | 2/23 [01:20<14:01, 40.07s/it]/home/adam/.conda/envs/jax311/lib/python3.11/multiprocessing/popen_fork.py:66: RuntimeWarning: os.fork() was called. os.fork() is incompatible with multithreaded code, and JAX is multithreaded, so this will likely lead to a deadlock.\n",
      "  self.pid = os.fork()\n",
      "huggingface/tokenizers: The current process just got forked, after parallelism has already been used. Disabling parallelism to avoid deadlocks...\n",
      "To disable this warning, you can either:\n",
      "\t- Avoid using `tokenizers` before the fork if possible\n",
      "\t- Explicitly set the environment variable TOKENIZERS_PARALLELISM=(true | false)\n",
      "/home/adam/.conda/envs/jax311/lib/python3.11/multiprocessing/popen_fork.py:66: RuntimeWarning: os.fork() was called. os.fork() is incompatible with multithreaded code, and JAX is multithreaded, so this will likely lead to a deadlock.\n",
      "  self.pid = os.fork()\n",
      " 13%|█▎        | 3/23 [02:00<13:22, 40.13s/it]/home/adam/.conda/envs/jax311/lib/python3.11/multiprocessing/popen_fork.py:66: RuntimeWarning: os.fork() was called. os.fork() is incompatible with multithreaded code, and JAX is multithreaded, so this will likely lead to a deadlock.\n",
      "  self.pid = os.fork()\n",
      "huggingface/tokenizers: The current process just got forked, after parallelism has already been used. Disabling parallelism to avoid deadlocks...\n",
      "To disable this warning, you can either:\n",
      "\t- Avoid using `tokenizers` before the fork if possible\n",
      "\t- Explicitly set the environment variable TOKENIZERS_PARALLELISM=(true | false)\n",
      "/home/adam/.conda/envs/jax311/lib/python3.11/multiprocessing/popen_fork.py:66: RuntimeWarning: os.fork() was called. os.fork() is incompatible with multithreaded code, and JAX is multithreaded, so this will likely lead to a deadlock.\n",
      "  self.pid = os.fork()\n",
      " 17%|█▋        | 4/23 [02:43<13:04, 41.28s/it]/home/adam/.conda/envs/jax311/lib/python3.11/multiprocessing/popen_fork.py:66: RuntimeWarning: os.fork() was called. os.fork() is incompatible with multithreaded code, and JAX is multithreaded, so this will likely lead to a deadlock.\n",
      "  self.pid = os.fork()\n",
      "huggingface/tokenizers: The current process just got forked, after parallelism has already been used. Disabling parallelism to avoid deadlocks...\n",
      "To disable this warning, you can either:\n",
      "\t- Avoid using `tokenizers` before the fork if possible\n",
      "\t- Explicitly set the environment variable TOKENIZERS_PARALLELISM=(true | false)\n",
      "/home/adam/.conda/envs/jax311/lib/python3.11/multiprocessing/popen_fork.py:66: RuntimeWarning: os.fork() was called. os.fork() is incompatible with multithreaded code, and JAX is multithreaded, so this will likely lead to a deadlock.\n",
      "  self.pid = os.fork()\n",
      " 22%|██▏       | 5/23 [03:25<12:25, 41.43s/it]/home/adam/.conda/envs/jax311/lib/python3.11/multiprocessing/popen_fork.py:66: RuntimeWarning: os.fork() was called. os.fork() is incompatible with multithreaded code, and JAX is multithreaded, so this will likely lead to a deadlock.\n",
      "  self.pid = os.fork()\n",
      "huggingface/tokenizers: The current process just got forked, after parallelism has already been used. Disabling parallelism to avoid deadlocks...\n",
      "To disable this warning, you can either:\n",
      "\t- Avoid using `tokenizers` before the fork if possible\n",
      "\t- Explicitly set the environment variable TOKENIZERS_PARALLELISM=(true | false)\n",
      "/home/adam/.conda/envs/jax311/lib/python3.11/multiprocessing/popen_fork.py:66: RuntimeWarning: os.fork() was called. os.fork() is incompatible with multithreaded code, and JAX is multithreaded, so this will likely lead to a deadlock.\n",
      "  self.pid = os.fork()\n",
      " 26%|██▌       | 6/23 [04:06<11:43, 41.38s/it]/home/adam/.conda/envs/jax311/lib/python3.11/multiprocessing/popen_fork.py:66: RuntimeWarning: os.fork() was called. os.fork() is incompatible with multithreaded code, and JAX is multithreaded, so this will likely lead to a deadlock.\n",
      "  self.pid = os.fork()\n",
      "huggingface/tokenizers: The current process just got forked, after parallelism has already been used. Disabling parallelism to avoid deadlocks...\n",
      "To disable this warning, you can either:\n",
      "\t- Avoid using `tokenizers` before the fork if possible\n",
      "\t- Explicitly set the environment variable TOKENIZERS_PARALLELISM=(true | false)\n",
      "/home/adam/.conda/envs/jax311/lib/python3.11/multiprocessing/popen_fork.py:66: RuntimeWarning: os.fork() was called. os.fork() is incompatible with multithreaded code, and JAX is multithreaded, so this will likely lead to a deadlock.\n",
      "  self.pid = os.fork()\n",
      " 30%|███       | 7/23 [04:48<11:05, 41.57s/it]/home/adam/.conda/envs/jax311/lib/python3.11/multiprocessing/popen_fork.py:66: RuntimeWarning: os.fork() was called. os.fork() is incompatible with multithreaded code, and JAX is multithreaded, so this will likely lead to a deadlock.\n",
      "  self.pid = os.fork()\n",
      "huggingface/tokenizers: The current process just got forked, after parallelism has already been used. Disabling parallelism to avoid deadlocks...\n",
      "To disable this warning, you can either:\n",
      "\t- Avoid using `tokenizers` before the fork if possible\n",
      "\t- Explicitly set the environment variable TOKENIZERS_PARALLELISM=(true | false)\n",
      "/home/adam/.conda/envs/jax311/lib/python3.11/multiprocessing/popen_fork.py:66: RuntimeWarning: os.fork() was called. os.fork() is incompatible with multithreaded code, and JAX is multithreaded, so this will likely lead to a deadlock.\n",
      "  self.pid = os.fork()\n",
      " 35%|███▍      | 8/23 [05:30<10:25, 41.70s/it]/home/adam/.conda/envs/jax311/lib/python3.11/multiprocessing/popen_fork.py:66: RuntimeWarning: os.fork() was called. os.fork() is incompatible with multithreaded code, and JAX is multithreaded, so this will likely lead to a deadlock.\n",
      "  self.pid = os.fork()\n",
      "huggingface/tokenizers: The current process just got forked, after parallelism has already been used. Disabling parallelism to avoid deadlocks...\n",
      "To disable this warning, you can either:\n",
      "\t- Avoid using `tokenizers` before the fork if possible\n",
      "\t- Explicitly set the environment variable TOKENIZERS_PARALLELISM=(true | false)\n",
      "/home/adam/.conda/envs/jax311/lib/python3.11/multiprocessing/popen_fork.py:66: RuntimeWarning: os.fork() was called. os.fork() is incompatible with multithreaded code, and JAX is multithreaded, so this will likely lead to a deadlock.\n",
      "  self.pid = os.fork()\n",
      " 39%|███▉      | 9/23 [06:12<09:43, 41.71s/it]/home/adam/.conda/envs/jax311/lib/python3.11/multiprocessing/popen_fork.py:66: RuntimeWarning: os.fork() was called. os.fork() is incompatible with multithreaded code, and JAX is multithreaded, so this will likely lead to a deadlock.\n",
      "  self.pid = os.fork()\n",
      "huggingface/tokenizers: The current process just got forked, after parallelism has already been used. Disabling parallelism to avoid deadlocks...\n",
      "To disable this warning, you can either:\n",
      "\t- Avoid using `tokenizers` before the fork if possible\n",
      "\t- Explicitly set the environment variable TOKENIZERS_PARALLELISM=(true | false)\n",
      "/home/adam/.conda/envs/jax311/lib/python3.11/multiprocessing/popen_fork.py:66: RuntimeWarning: os.fork() was called. os.fork() is incompatible with multithreaded code, and JAX is multithreaded, so this will likely lead to a deadlock.\n",
      "  self.pid = os.fork()\n",
      " 43%|████▎     | 10/23 [06:51<08:51, 40.92s/it]/home/adam/.conda/envs/jax311/lib/python3.11/multiprocessing/popen_fork.py:66: RuntimeWarning: os.fork() was called. os.fork() is incompatible with multithreaded code, and JAX is multithreaded, so this will likely lead to a deadlock.\n",
      "  self.pid = os.fork()\n",
      "huggingface/tokenizers: The current process just got forked, after parallelism has already been used. Disabling parallelism to avoid deadlocks...\n",
      "To disable this warning, you can either:\n",
      "\t- Avoid using `tokenizers` before the fork if possible\n",
      "\t- Explicitly set the environment variable TOKENIZERS_PARALLELISM=(true | false)\n",
      "/home/adam/.conda/envs/jax311/lib/python3.11/multiprocessing/popen_fork.py:66: RuntimeWarning: os.fork() was called. os.fork() is incompatible with multithreaded code, and JAX is multithreaded, so this will likely lead to a deadlock.\n",
      "  self.pid = os.fork()\n",
      " 48%|████▊     | 11/23 [07:30<08:05, 40.46s/it]/home/adam/.conda/envs/jax311/lib/python3.11/multiprocessing/popen_fork.py:66: RuntimeWarning: os.fork() was called. os.fork() is incompatible with multithreaded code, and JAX is multithreaded, so this will likely lead to a deadlock.\n",
      "  self.pid = os.fork()\n",
      "huggingface/tokenizers: The current process just got forked, after parallelism has already been used. Disabling parallelism to avoid deadlocks...\n",
      "To disable this warning, you can either:\n",
      "\t- Avoid using `tokenizers` before the fork if possible\n",
      "\t- Explicitly set the environment variable TOKENIZERS_PARALLELISM=(true | false)\n",
      "/home/adam/.conda/envs/jax311/lib/python3.11/multiprocessing/popen_fork.py:66: RuntimeWarning: os.fork() was called. os.fork() is incompatible with multithreaded code, and JAX is multithreaded, so this will likely lead to a deadlock.\n",
      "  self.pid = os.fork()\n",
      " 52%|█████▏    | 12/23 [08:03<07:00, 38.26s/it]/home/adam/.conda/envs/jax311/lib/python3.11/multiprocessing/popen_fork.py:66: RuntimeWarning: os.fork() was called. os.fork() is incompatible with multithreaded code, and JAX is multithreaded, so this will likely lead to a deadlock.\n",
      "  self.pid = os.fork()\n",
      "huggingface/tokenizers: The current process just got forked, after parallelism has already been used. Disabling parallelism to avoid deadlocks...\n",
      "To disable this warning, you can either:\n",
      "\t- Avoid using `tokenizers` before the fork if possible\n",
      "\t- Explicitly set the environment variable TOKENIZERS_PARALLELISM=(true | false)\n",
      "/home/adam/.conda/envs/jax311/lib/python3.11/multiprocessing/popen_fork.py:66: RuntimeWarning: os.fork() was called. os.fork() is incompatible with multithreaded code, and JAX is multithreaded, so this will likely lead to a deadlock.\n",
      "  self.pid = os.fork()\n",
      " 57%|█████▋    | 13/23 [08:27<05:37, 33.73s/it]/home/adam/.conda/envs/jax311/lib/python3.11/multiprocessing/popen_fork.py:66: RuntimeWarning: os.fork() was called. os.fork() is incompatible with multithreaded code, and JAX is multithreaded, so this will likely lead to a deadlock.\n",
      "  self.pid = os.fork()\n",
      "huggingface/tokenizers: The current process just got forked, after parallelism has already been used. Disabling parallelism to avoid deadlocks...\n",
      "To disable this warning, you can either:\n",
      "\t- Avoid using `tokenizers` before the fork if possible\n",
      "\t- Explicitly set the environment variable TOKENIZERS_PARALLELISM=(true | false)\n",
      "/home/adam/.conda/envs/jax311/lib/python3.11/multiprocessing/popen_fork.py:66: RuntimeWarning: os.fork() was called. os.fork() is incompatible with multithreaded code, and JAX is multithreaded, so this will likely lead to a deadlock.\n",
      "  self.pid = os.fork()\n",
      " 61%|██████    | 14/23 [08:49<04:33, 30.34s/it]/home/adam/.conda/envs/jax311/lib/python3.11/multiprocessing/popen_fork.py:66: RuntimeWarning: os.fork() was called. os.fork() is incompatible with multithreaded code, and JAX is multithreaded, so this will likely lead to a deadlock.\n",
      "  self.pid = os.fork()\n",
      "huggingface/tokenizers: The current process just got forked, after parallelism has already been used. Disabling parallelism to avoid deadlocks...\n",
      "To disable this warning, you can either:\n",
      "\t- Avoid using `tokenizers` before the fork if possible\n",
      "\t- Explicitly set the environment variable TOKENIZERS_PARALLELISM=(true | false)\n",
      "/home/adam/.conda/envs/jax311/lib/python3.11/multiprocessing/popen_fork.py:66: RuntimeWarning: os.fork() was called. os.fork() is incompatible with multithreaded code, and JAX is multithreaded, so this will likely lead to a deadlock.\n",
      "  self.pid = os.fork()\n",
      " 65%|██████▌   | 15/23 [09:14<03:49, 28.64s/it]/home/adam/.conda/envs/jax311/lib/python3.11/multiprocessing/popen_fork.py:66: RuntimeWarning: os.fork() was called. os.fork() is incompatible with multithreaded code, and JAX is multithreaded, so this will likely lead to a deadlock.\n",
      "  self.pid = os.fork()\n",
      "huggingface/tokenizers: The current process just got forked, after parallelism has already been used. Disabling parallelism to avoid deadlocks...\n",
      "To disable this warning, you can either:\n",
      "\t- Avoid using `tokenizers` before the fork if possible\n",
      "\t- Explicitly set the environment variable TOKENIZERS_PARALLELISM=(true | false)\n",
      "/home/adam/.conda/envs/jax311/lib/python3.11/multiprocessing/popen_fork.py:66: RuntimeWarning: os.fork() was called. os.fork() is incompatible with multithreaded code, and JAX is multithreaded, so this will likely lead to a deadlock.\n",
      "  self.pid = os.fork()\n",
      " 70%|██████▉   | 16/23 [09:38<03:10, 27.21s/it]/home/adam/.conda/envs/jax311/lib/python3.11/multiprocessing/popen_fork.py:66: RuntimeWarning: os.fork() was called. os.fork() is incompatible with multithreaded code, and JAX is multithreaded, so this will likely lead to a deadlock.\n",
      "  self.pid = os.fork()\n",
      "huggingface/tokenizers: The current process just got forked, after parallelism has already been used. Disabling parallelism to avoid deadlocks...\n",
      "To disable this warning, you can either:\n",
      "\t- Avoid using `tokenizers` before the fork if possible\n",
      "\t- Explicitly set the environment variable TOKENIZERS_PARALLELISM=(true | false)\n",
      "/home/adam/.conda/envs/jax311/lib/python3.11/multiprocessing/popen_fork.py:66: RuntimeWarning: os.fork() was called. os.fork() is incompatible with multithreaded code, and JAX is multithreaded, so this will likely lead to a deadlock.\n",
      "  self.pid = os.fork()\n",
      " 74%|███████▍  | 17/23 [10:02<02:37, 26.28s/it]/home/adam/.conda/envs/jax311/lib/python3.11/multiprocessing/popen_fork.py:66: RuntimeWarning: os.fork() was called. os.fork() is incompatible with multithreaded code, and JAX is multithreaded, so this will likely lead to a deadlock.\n",
      "  self.pid = os.fork()\n",
      "huggingface/tokenizers: The current process just got forked, after parallelism has already been used. Disabling parallelism to avoid deadlocks...\n",
      "To disable this warning, you can either:\n",
      "\t- Avoid using `tokenizers` before the fork if possible\n",
      "\t- Explicitly set the environment variable TOKENIZERS_PARALLELISM=(true | false)\n",
      "/home/adam/.conda/envs/jax311/lib/python3.11/multiprocessing/popen_fork.py:66: RuntimeWarning: os.fork() was called. os.fork() is incompatible with multithreaded code, and JAX is multithreaded, so this will likely lead to a deadlock.\n",
      "  self.pid = os.fork()\n",
      " 78%|███████▊  | 18/23 [10:27<02:09, 25.87s/it]/home/adam/.conda/envs/jax311/lib/python3.11/multiprocessing/popen_fork.py:66: RuntimeWarning: os.fork() was called. os.fork() is incompatible with multithreaded code, and JAX is multithreaded, so this will likely lead to a deadlock.\n",
      "  self.pid = os.fork()\n",
      "huggingface/tokenizers: The current process just got forked, after parallelism has already been used. Disabling parallelism to avoid deadlocks...\n",
      "To disable this warning, you can either:\n",
      "\t- Avoid using `tokenizers` before the fork if possible\n",
      "\t- Explicitly set the environment variable TOKENIZERS_PARALLELISM=(true | false)\n",
      "/home/adam/.conda/envs/jax311/lib/python3.11/multiprocessing/popen_fork.py:66: RuntimeWarning: os.fork() was called. os.fork() is incompatible with multithreaded code, and JAX is multithreaded, so this will likely lead to a deadlock.\n",
      "  self.pid = os.fork()\n",
      " 83%|████████▎ | 19/23 [10:52<01:42, 25.69s/it]/home/adam/.conda/envs/jax311/lib/python3.11/multiprocessing/popen_fork.py:66: RuntimeWarning: os.fork() was called. os.fork() is incompatible with multithreaded code, and JAX is multithreaded, so this will likely lead to a deadlock.\n",
      "  self.pid = os.fork()\n",
      "huggingface/tokenizers: The current process just got forked, after parallelism has already been used. Disabling parallelism to avoid deadlocks...\n",
      "To disable this warning, you can either:\n",
      "\t- Avoid using `tokenizers` before the fork if possible\n",
      "\t- Explicitly set the environment variable TOKENIZERS_PARALLELISM=(true | false)\n",
      "/home/adam/.conda/envs/jax311/lib/python3.11/multiprocessing/popen_fork.py:66: RuntimeWarning: os.fork() was called. os.fork() is incompatible with multithreaded code, and JAX is multithreaded, so this will likely lead to a deadlock.\n",
      "  self.pid = os.fork()\n",
      " 87%|████████▋ | 20/23 [11:19<01:18, 26.06s/it]/home/adam/.conda/envs/jax311/lib/python3.11/multiprocessing/popen_fork.py:66: RuntimeWarning: os.fork() was called. os.fork() is incompatible with multithreaded code, and JAX is multithreaded, so this will likely lead to a deadlock.\n",
      "  self.pid = os.fork()\n",
      "huggingface/tokenizers: The current process just got forked, after parallelism has already been used. Disabling parallelism to avoid deadlocks...\n",
      "To disable this warning, you can either:\n",
      "\t- Avoid using `tokenizers` before the fork if possible\n",
      "\t- Explicitly set the environment variable TOKENIZERS_PARALLELISM=(true | false)\n",
      "/home/adam/.conda/envs/jax311/lib/python3.11/multiprocessing/popen_fork.py:66: RuntimeWarning: os.fork() was called. os.fork() is incompatible with multithreaded code, and JAX is multithreaded, so this will likely lead to a deadlock.\n",
      "  self.pid = os.fork()\n",
      " 91%|█████████▏| 21/23 [11:45<00:51, 25.99s/it]/home/adam/.conda/envs/jax311/lib/python3.11/multiprocessing/popen_fork.py:66: RuntimeWarning: os.fork() was called. os.fork() is incompatible with multithreaded code, and JAX is multithreaded, so this will likely lead to a deadlock.\n",
      "  self.pid = os.fork()\n",
      "huggingface/tokenizers: The current process just got forked, after parallelism has already been used. Disabling parallelism to avoid deadlocks...\n",
      "To disable this warning, you can either:\n",
      "\t- Avoid using `tokenizers` before the fork if possible\n",
      "\t- Explicitly set the environment variable TOKENIZERS_PARALLELISM=(true | false)\n",
      "/home/adam/.conda/envs/jax311/lib/python3.11/multiprocessing/popen_fork.py:66: RuntimeWarning: os.fork() was called. os.fork() is incompatible with multithreaded code, and JAX is multithreaded, so this will likely lead to a deadlock.\n",
      "  self.pid = os.fork()\n",
      " 96%|█████████▌| 22/23 [12:11<00:26, 26.01s/it]/home/adam/.conda/envs/jax311/lib/python3.11/multiprocessing/popen_fork.py:66: RuntimeWarning: os.fork() was called. os.fork() is incompatible with multithreaded code, and JAX is multithreaded, so this will likely lead to a deadlock.\n",
      "  self.pid = os.fork()\n",
      "huggingface/tokenizers: The current process just got forked, after parallelism has already been used. Disabling parallelism to avoid deadlocks...\n",
      "To disable this warning, you can either:\n",
      "\t- Avoid using `tokenizers` before the fork if possible\n",
      "\t- Explicitly set the environment variable TOKENIZERS_PARALLELISM=(true | false)\n",
      "/home/adam/.conda/envs/jax311/lib/python3.11/multiprocessing/popen_fork.py:66: RuntimeWarning: os.fork() was called. os.fork() is incompatible with multithreaded code, and JAX is multithreaded, so this will likely lead to a deadlock.\n",
      "  self.pid = os.fork()\n",
      "100%|██████████| 23/23 [12:37<00:00, 32.95s/it]\n"
     ]
    }
   ],
   "source": [
    "CUTOFF = 1e-2\n",
    "RESULT_SIZE = 10\n",
    "chkpts = [c for c in checkpoint_steps if c < 1000] + [\n",
    "          1000, 2000, 5000, \n",
    "          10000, 20000, 50000, \n",
    "          100000, 110000, 120000, 130000, 140000, 143000,\n",
    "         ]\n",
    "\n",
    "for chkpt in tqdm(chkpts):\n",
    "    params_chkpt = get_checkpoint_params(f\"step{chkpt}\")\n",
    "    kl_fn_chkpt = make_kl_fn_params(params_chkpt, apply_fn, X_val_t, l2_reg=0.)\n",
    "    RESULTS['chkpts'][chkpt] = get_estimates_vectorized_gauss(RESULT_SIZE, \n",
    "                                                  batch_size=1,\n",
    "                                                  sigma=sigma_params,\n",
    "                                                  fn=kl_fn_chkpt, \n",
    "                                                  params=trained_params_j, \n",
    "                                                  cutoff=CUTOFF,\n",
    "                                                  tol=100., #0.1,\n",
    "                                                  debug=False,\n",
    "                                                  torch_model=True,\n",
    "                                                 )\n"
   ]
  },
  {
   "cell_type": "code",
   "execution_count": 48,
   "metadata": {},
   "outputs": [
    {
     "data": {
      "text/plain": [
       "dict_keys([0, 1000, 2000, 3000, 4000, 5000, 6000, 7000, 8000, 9000, 1, 2, 4, 8, 16, 32, 64, 128, 256, 512, 10000, 20000, 50000, 100000, 110000, 120000, 130000, 140000, 143000])"
      ]
     },
     "execution_count": 48,
     "metadata": {},
     "output_type": "execute_result"
    }
   ],
   "source": [
    "RESULTS['chkpts'].keys()"
   ]
  },
  {
   "cell_type": "code",
   "execution_count": 53,
   "metadata": {},
   "outputs": [],
   "source": [
    "# save RESULTS somewhere handy\n",
    "with open(\"../data/RESULTS.pkl\", \"wb\") as f:\n",
    "    pickle.dump(RESULTS, f)\n"
   ]
  },
  {
   "cell_type": "code",
   "execution_count": 52,
   "metadata": {},
   "outputs": [
    {
     "data": {
      "image/png": "[encoded data removed]",
      "text/plain": [
       "<Figure size 640x480 with 1 Axes>"
      ]
     },
     "metadata": {},
     "output_type": "display_data"
    }
   ],
   "source": [
    "chkpts = sorted(RESULTS['chkpts'].keys())\n",
    "\n",
    "aggs = [aggregate(RESULTS['chkpts'][chkpt].estimates) for chkpt in chkpts]\n",
    "\n",
    "plt.plot(chkpts, -jnp.array(aggs) / model_dim, '.-', label='naive')\n",
    "plt.legend()\n",
    "plt.xlabel('step')\n",
    "plt.ylabel('-log prob (nats per param)')\n",
    "#plt.xscale('log')\n",
    "# plt.yscale('log')\n",
    "plt.title('Basin measure estimates\\nPythia 14M checkpoints')\n",
    "plt.show()\n"
   ]
  },
  {
   "cell_type": "code",
   "execution_count": null,
   "metadata": {},
   "outputs": [
    {
     "data": {
      "image/png": "[encoded data removed]",
      "text/plain": [
       "<Figure size 640x480 with 1 Axes>"
      ]
     },
     "metadata": {},
     "output_type": "display_data"
    }
   ],
   "source": [
    "chkpts = sorted(RESULTS['chkpts'].keys())\n",
    "\n",
    "aggs = [aggregate(RESULTS['chkpts'][chkpt].estimates) for chkpt in chkpts]\n",
    "\n",
    "plt.plot(chkpts, -jnp.array(aggs) / model_dim, '.-', label='naive')\n",
    "plt.legend()\n",
    "plt.xlabel('step')\n",
    "plt.ylabel('-log prob (nats per param)')\n",
    "plt.title('Basin measure estimates\\nPythia 14M checkpoints')\n",
    "plt.show()\n"
   ]
  },
  {
   "cell_type": "markdown",
   "metadata": {},
   "source": [
    "# (Memory management)"
   ]
  },
  {
   "cell_type": "markdown",
   "metadata": {},
   "source": [
    "## Torch"
   ]
  },
  {
   "cell_type": "code",
   "execution_count": null,
   "metadata": {},
   "outputs": [],
   "source": [
    "def get_tensor_memory_usage():\n",
    "    # Force garbage collection first\n",
    "    gc.collect()\n",
    "    torch.cuda.empty_cache()\n",
    "    \n",
    "    # Get all tensors in memory)\n",
    "    tensors = []\n",
    "    for obj in gc.get_objects():\n",
    "        try:\n",
    "            if torch.is_tensor(obj) and obj.is_cuda:\n",
    "                tensors.append((obj.shape, obj.dtype, obj.element_size() * obj.nelement() / 1024**2))\n",
    "        except:\n",
    "            pass\n",
    "    \n",
    "    # Sort by memory usage (MB)\n",
    "    return sorted(tensors, key=lambda x: x[2], reverse=True)"
   ]
  },
  {
   "cell_type": "code",
   "execution_count": null,
   "metadata": {},
   "outputs": [
    {
     "name": "stdout",
     "output_type": "stream",
     "text": [
      "Shape: torch.Size([100, 1024, 50304]), Dtype: torch.float32, Size: 19650.00 MB\n",
      "Shape: torch.Size([14067712]), Dtype: torch.float32, Size: 53.66 MB\n",
      "Shape: torch.Size([50304, 128]), Dtype: torch.float32, Size: 24.56 MB\n",
      "Shape: torch.Size([50304, 128]), Dtype: torch.float32, Size: 24.56 MB\n",
      "Shape: torch.Size([1, 1, 2048, 2048]), Dtype: torch.bool, Size: 4.00 MB\n",
      "Shape: torch.Size([1, 1, 2048, 2048]), Dtype: torch.bool, Size: 4.00 MB\n",
      "Shape: torch.Size([1, 1, 2048, 2048]), Dtype: torch.bool, Size: 4.00 MB\n",
      "Shape: torch.Size([1, 1, 2048, 2048]), Dtype: torch.bool, Size: 4.00 MB\n",
      "Shape: torch.Size([1, 1, 2048, 2048]), Dtype: torch.bool, Size: 4.00 MB\n",
      "Shape: torch.Size([1, 1, 2048, 2048]), Dtype: torch.bool, Size: 4.00 MB\n",
      "Shape: torch.Size([100, 1024]), Dtype: torch.int64, Size: 0.78 MB\n",
      "Shape: torch.Size([512, 128]), Dtype: torch.float32, Size: 0.25 MB\n",
      "Shape: torch.Size([128, 512]), Dtype: torch.float32, Size: 0.25 MB\n",
      "Shape: torch.Size([512, 128]), Dtype: torch.float32, Size: 0.25 MB\n",
      "Shape: torch.Size([128, 512]), Dtype: torch.float32, Size: 0.25 MB\n",
      "Shape: torch.Size([512, 128]), Dtype: torch.float32, Size: 0.25 MB\n",
      "Shape: torch.Size([128, 512]), Dtype: torch.float32, Size: 0.25 MB\n",
      "Shape: torch.Size([512, 128]), Dtype: torch.float32, Size: 0.25 MB\n",
      "Shape: torch.Size([128, 512]), Dtype: torch.float32, Size: 0.25 MB\n",
      "Shape: torch.Size([512, 128]), Dtype: torch.float32, Size: 0.25 MB\n",
      "Shape: torch.Size([128, 512]), Dtype: torch.float32, Size: 0.25 MB\n",
      "Shape: torch.Size([512, 128]), Dtype: torch.float32, Size: 0.25 MB\n",
      "Shape: torch.Size([128, 512]), Dtype: torch.float32, Size: 0.25 MB\n",
      "Shape: torch.Size([384, 128]), Dtype: torch.float32, Size: 0.19 MB\n",
      "Shape: torch.Size([384, 128]), Dtype: torch.float32, Size: 0.19 MB\n",
      "Shape: torch.Size([384, 128]), Dtype: torch.float32, Size: 0.19 MB\n",
      "Shape: torch.Size([384, 128]), Dtype: torch.float32, Size: 0.19 MB\n",
      "Shape: torch.Size([384, 128]), Dtype: torch.float32, Size: 0.19 MB\n",
      "Shape: torch.Size([384, 128]), Dtype: torch.float32, Size: 0.19 MB\n",
      "Shape: torch.Size([128, 128]), Dtype: torch.float32, Size: 0.06 MB\n"
     ]
    },
    {
     "name": "stderr",
     "output_type": "stream",
     "text": [
      "/opt/conda/envs/jax311/lib/python3.11/site-packages/torch/__init__.py:1021: FutureWarning: `torch.distributed.reduce_op` is deprecated, please use `torch.distributed.ReduceOp` instead\n",
      "  return isinstance(obj, torch.Tensor)\n"
     ]
    }
   ],
   "source": [
    "\n",
    "# Print top 10 tensors by memory usage\n",
    "for shape, dtype, size_mb in get_tensor_memory_usage()[:30]:\n",
    "    print(f\"Shape: {shape}, Dtype: {dtype}, Size: {size_mb:.2f} MB\")"
   ]
  },
  {
   "cell_type": "code",
   "execution_count": null,
   "metadata": {},
   "outputs": [
    {
     "name": "stdout",
     "output_type": "stream",
     "text": [
      "Total memory usage by Torch: 19782.109504699707 MB\n"
     ]
    }
   ],
   "source": [
    "# total memory usage by Torch\n",
    "print(f\"Total memory usage by Torch: {sum(size_mb for _, _, size_mb in get_tensor_memory_usage())} MB\")"
   ]
  },
  {
   "cell_type": "markdown",
   "metadata": {},
   "source": [
    "### Torch w/ Python"
   ]
  },
  {
   "cell_type": "code",
   "execution_count": null,
   "metadata": {},
   "outputs": [
    {
     "name": "stderr",
     "output_type": "stream",
     "text": [
      "/home/adam/.conda/envs/jax311/lib/python3.11/site-packages/torch/__init__.py:1021: FutureWarning: `torch.distributed.reduce_op` is deprecated, please use `torch.distributed.ReduceOp` instead\n",
      "  return isinstance(obj, torch.Tensor)\n"
     ]
    },
    {
     "name": "stdout",
     "output_type": "stream",
     "text": [
      "Shape: torch.Size([14067712]), Dtype: torch.float32, Size: 53.66 MB\n",
      "Referenced by: ['trained_params_t']\n",
      "\n",
      "Shape: torch.Size([50304, 128]), Dtype: torch.float32, Size: 24.56 MB\n",
      "Referenced by: ['weight']\n",
      "\n",
      "Shape: torch.Size([50304, 128]), Dtype: torch.float32, Size: 24.56 MB\n",
      "Referenced by: ['weight']\n",
      "\n",
      "Shape: torch.Size([1, 1, 2048, 2048]), Dtype: torch.bool, Size: 4.00 MB\n",
      "Referenced by: ['bias']\n",
      "\n",
      "Shape: torch.Size([1, 1, 2048, 2048]), Dtype: torch.bool, Size: 4.00 MB\n",
      "Referenced by: ['bias']\n",
      "\n",
      "Shape: torch.Size([1, 1, 2048, 2048]), Dtype: torch.bool, Size: 4.00 MB\n",
      "Referenced by: ['bias']\n",
      "\n",
      "Shape: torch.Size([1, 1, 2048, 2048]), Dtype: torch.bool, Size: 4.00 MB\n",
      "Referenced by: ['bias']\n",
      "\n",
      "Shape: torch.Size([1, 1, 2048, 2048]), Dtype: torch.bool, Size: 4.00 MB\n",
      "Referenced by: ['bias']\n",
      "\n",
      "Shape: torch.Size([1, 1, 2048, 2048]), Dtype: torch.bool, Size: 4.00 MB\n",
      "Referenced by: ['bias']\n",
      "\n",
      "Shape: torch.Size([512, 128]), Dtype: torch.float32, Size: 0.25 MB\n",
      "Referenced by: ['weight']\n",
      "\n",
      "Shape: torch.Size([128, 512]), Dtype: torch.float32, Size: 0.25 MB\n",
      "Referenced by: ['weight']\n",
      "\n",
      "Shape: torch.Size([512, 128]), Dtype: torch.float32, Size: 0.25 MB\n",
      "Referenced by: ['weight']\n",
      "\n",
      "Shape: torch.Size([128, 512]), Dtype: torch.float32, Size: 0.25 MB\n",
      "Referenced by: ['weight']\n",
      "\n",
      "Shape: torch.Size([512, 128]), Dtype: torch.float32, Size: 0.25 MB\n",
      "Referenced by: ['weight']\n",
      "\n",
      "Shape: torch.Size([128, 512]), Dtype: torch.float32, Size: 0.25 MB\n",
      "Referenced by: ['weight']\n",
      "\n",
      "Shape: torch.Size([512, 128]), Dtype: torch.float32, Size: 0.25 MB\n",
      "Referenced by: ['weight']\n",
      "\n",
      "Shape: torch.Size([128, 512]), Dtype: torch.float32, Size: 0.25 MB\n",
      "Referenced by: ['weight']\n",
      "\n",
      "Shape: torch.Size([512, 128]), Dtype: torch.float32, Size: 0.25 MB\n",
      "Referenced by: ['weight']\n",
      "\n",
      "Shape: torch.Size([128, 512]), Dtype: torch.float32, Size: 0.25 MB\n",
      "Referenced by: ['weight']\n",
      "\n",
      "Shape: torch.Size([512, 128]), Dtype: torch.float32, Size: 0.25 MB\n",
      "Referenced by: ['weight']\n",
      "\n",
      "Shape: torch.Size([128, 512]), Dtype: torch.float32, Size: 0.25 MB\n",
      "Referenced by: ['weight']\n",
      "\n",
      "Shape: torch.Size([384, 128]), Dtype: torch.float32, Size: 0.19 MB\n",
      "Referenced by: ['weight']\n",
      "\n",
      "Shape: torch.Size([384, 128]), Dtype: torch.float32, Size: 0.19 MB\n",
      "Referenced by: ['weight']\n",
      "\n",
      "Shape: torch.Size([384, 128]), Dtype: torch.float32, Size: 0.19 MB\n",
      "Referenced by: ['weight']\n",
      "\n",
      "Shape: torch.Size([384, 128]), Dtype: torch.float32, Size: 0.19 MB\n",
      "Referenced by: ['weight']\n",
      "\n",
      "Shape: torch.Size([384, 128]), Dtype: torch.float32, Size: 0.19 MB\n",
      "Referenced by: ['weight']\n",
      "\n",
      "Shape: torch.Size([384, 128]), Dtype: torch.float32, Size: 0.19 MB\n",
      "Referenced by: ['weight']\n",
      "\n",
      "Shape: torch.Size([10, 1024]), Dtype: torch.int64, Size: 0.08 MB\n",
      "Referenced by: ['X_val_t']\n",
      "\n",
      "Shape: torch.Size([128, 128]), Dtype: torch.float32, Size: 0.06 MB\n",
      "Referenced by: ['weight']\n",
      "\n",
      "Shape: torch.Size([128, 128]), Dtype: torch.float32, Size: 0.06 MB\n",
      "Referenced by: ['weight']\n",
      "\n"
     ]
    }
   ],
   "source": [
    "def get_tensor_memory_usage():\n",
    "    # Force garbage collection first\n",
    "   (10, 1024, 50304)n gc.get_referrers(obj):\n",
    "                    if isinstance(referrer, dict):\n",
    "                        # If it's in a dictionary (like globals() or locals()),\n",
    "                        # find variable names pointing to this tensor\n",
    "                        for var_name, var_val in referrer.items():\n",
    "                            if var_val is obj:\n",
    "                                referrers.append(var_name)\n",
    "                    \n",
    "                tensor_info.append({\n",
    "                    'shape': obj.shape,\n",
    "                    'dtype': obj.dtype,\n",
    "                    'size_mb': obj.element_size() * obj.nelement() / 1024**2,\n",
    "                    'referrers': referrers\n",
    "                })\n",
    "        except:\n",
    "            pass\n",
    "    \n",
    "    # Sort by memory usage (MB)\n",
    "    return sorted(tensor_info, key=lambda x: x['size_mb'], reverse=True)\n",
    "\n",
    "# Print top tensors by memory usage with their referrers\n",
    "for info in get_tensor_memory_usage()[:30]:\n",
    "    print(f\"Shape: {info['shape']}, Dtype: {info['dtype']}, Size: {info['size_mb']:.2f} MB\")\n",
    "    if info['referrers']:\n",
    "        print(f\"Referenced by: {info['referrers']}\")\n",
    "    print()"
   ]
  },
  {
   "cell_type": "markdown",
   "metadata": {},
   "source": [
    "## JAX"
   ]
  },
  {
   "cell_type": "code",
   "execution_count": 79,
   "metadata": {},
   "outputs": [
    {
     "name": "stdout",
     "output_type": "stream",
     "text": [
      "\n",
      "Largest JAX Arrays:\n",
      "Shape: (30, 1024, 50304), Dtype: float32, Size: 5895.00 MB\n",
      "Shape: (30, 1024, 50304), Dtype: float32, Size: 5895.00 MB\n",
      "Shape: (30, 1024, 50304), Dtype: float32, Size: 5895.00 MB\n",
      "Shape: (30, 1024, 50304), Dtype: float32, Size: 5895.00 MB\n",
      "Shape: (10, 1024, 50304), Dtype: float32, Size: 1965.00 MB\n",
      "Shape: (10, 1024, 50304), Dtype: float32, Size: 1965.00 MB\n",
      "Shape: (30, 1024, 50304), Dtype: bool, Size: 1473.75 MB\n",
      "Shape: (14067712,), Dtype: float32, Size: 53.66 MB\n",
      "Shape: (14067712,), Dtype: float32, Size: 53.66 MB\n",
      "Shape: (14067712,), Dtype: float32, Size: 53.66 MB\n",
      "Shape: (14067712,), Dtype: float32, Size: 53.66 MB\n",
      "Shape: (14067712,), Dtype: float32, Size: 53.66 MB\n",
      "Shape: (14067712,), Dtype: float32, Size: 53.66 MB\n",
      "Shape: (14067712,), Dtype: float32, Size: 53.66 MB\n",
      "Shape: (14067712,), Dtype: float32, Size: 53.66 MB\n",
      "Shape: (30, 1024), Dtype: int32, Size: 0.12 MB\n",
      "Shape: (10, 1024), Dtype: int32, Size: 0.04 MB\n",
      "Shape: (10, 1024), Dtype: int32, Size: 0.04 MB\n",
      "Shape: (10, 1024), Dtype: int32, Size: 0.04 MB\n",
      "Shape: (100,), Dtype: float32, Size: 0.00 MB\n",
      "Shape: (100,), Dtype: float32, Size: 0.00 MB\n",
      "Shape: (100,), Dtype: float32, Size: 0.00 MB\n",
      "Shape: (100,), Dtype: float32, Size: 0.00 MB\n",
      "Shape: (100,), Dtype: float32, Size: 0.00 MB\n",
      "Shape: (100,), Dtype: float32, Size: 0.00 MB\n",
      "Shape: (100,), Dtype: float32, Size: 0.00 MB\n",
      "Shape: (100,), Dtype: float32, Size: 0.00 MB\n",
      "Shape: (100,), Dtype: float32, Size: 0.00 MB\n",
      "Shape: (100,), Dtype: float32, Size: 0.00 MB\n",
      "Shape: (100,), Dtype: float32, Size: 0.00 MB\n",
      "\n",
      "Total JAX Memory Usage: 29413.30 MB\n"
     ]
    }
   ],
   "source": [
    "def get_jax_memory_usage():\n",
    "    # Force garbage collection\n",
    "    gc.collect()\n",
    "    \n",
    "    # Get live arrays from JAX\n",
    "    live_arrays = jax.live_arrays()\n",
    "    \n",
    "    # Calculate size and sort by memory usage\n",
    "    array_sizes = []\n",
    "    for arr in live_arrays:\n",
    "        try:\n",
    "            shape = arr.shape\n",
    "            dtype = arr.dtype\n",
    "            size_mb = arr.size * arr.dtype.itemsize / (1024 * 1024)  # Convert to MB\n",
    "            array_sizes.append((shape, dtype, size_mb))\n",
    "        except:\n",
    "            pass\n",
    "    \n",
    "    # Sort by size\n",
    "    array_sizes.sort(key=lambda x: x[2], reverse=True)\n",
    "    \n",
    "    # Print top arrays\n",
    "    print(\"\\nLargest JAX Arrays:\")\n",
    "    for shape, dtype, size_mb in array_sizes[:30]:\n",
    "        print(f\"Shape: {shape}, Dtype: {dtype}, Size: {size_mb:.2f} MB\")\n",
    "    \n",
    "    total_mb = sum(size for _, _, size in array_sizes)\n",
    "    print(f\"\\nTotal JAX Memory Usage: {total_mb:.2f} MB\")\n",
    "\n",
    "# Get current memory usage\n",
    "get_jax_memory_usage()"
   ]
  },
  {
   "cell_type": "code",
   "execution_count": 91,
   "metadata": {},
   "outputs": [],
   "source": [
    "def get_jax_memory_usage():\n",
    "    # Force garbage collection\n",
    "    gc.collect()\n",
    "    \n",
    "    # Get live arrays from JAX\n",
    "    live_arrays = jax.live_arrays()\n",
    "    \n",
    "    # Calculate size and track references\n",
    "    array_info = []\n",
    "    for arr in live_arrays:\n",
    "        try:\n",
    "            # Find all referrers to this array\n",
    "            referrers = []\n",
    "            for referrer in gc.get_referrers(arr):\n",
    "                if isinstance(referrer, dict):\n",
    "                    # If it's in a dictionary (like globals() or locals()),\n",
    "                    # find variable names pointing to this array\n",
    "                    for var_name, var_val in referrer.items():\n",
    "                        if var_val is arr:\n",
    "                            referrers.append(var_name)\n",
    "            \n",
    "            shape = arr.shape\n",
    "            dtype = arr.dtype\n",
    "            size_mb = arr.size * arr.dtype.itemsize / (1024 * 1024)  # Convert to MB\n",
    "            array_info.append({\n",
    "                'shape': shape,\n",
    "                'dtype': dtype,\n",
    "                'size_mb': size_mb,\n",
    "                'referrers': referrers\n",
    "            })\n",
    "        except:\n",
    "            pass\n",
    "    \n",
    "    # Sort by size\n",
    "    array_info.sort(key=lambda x: x['size_mb'], reverse=True)\n",
    "    \n",
    "    # Print top arrays\n",
    "    print(\"\\nLargest JAX Arrays:\")\n",
    "    for info in array_info[:30]:\n",
    "        print(f\"Shape: {info['shape']}, Dtype: {info['dtype']}, Size: {info['size_mb']:.2f} MB\")\n",
    "        if info['referrers']:\n",
    "            print(f\"Referenced by: {info['referrers']}\")\n",
    "        print()\n",
    "    \n",
    "    total_mb = sum(info['size_mb'] for info in array_info)\n",
    "    print(f\"\\nTotal JAX Memory Usage: {total_mb:.2f} MB\")"
   ]
  },
  {
   "cell_type": "code",
   "execution_count": 101,
   "metadata": {},
   "outputs": [],
   "source": [
    "def get_jax_memory_usage():\n",
    "    gc.collect()\n",
    "    live_arrays = jax.live_arrays()\n",
    "    \n",
    "    array_info = []\n",
    "    for arr in live_arrays:\n",
    "        try:\n",
    "            referrers = []\n",
    "            for referrer in gc.get_referrers(arr):\n",
    "                if isinstance(referrer, dict):\n",
    "                    var_names = [name for name, val in referrer.items() if val is arr]\n",
    "                    if var_names:\n",
    "                        dict_referrers = gc.get_referrers(referrer)\n",
    "                        for r in dict_referrers:\n",
    "                            if isinstance(r, types.FrameType):\n",
    "                                # Get frame info\n",
    "                                frame_info = {\n",
    "                                    'function': r.f_code.co_name,\n",
    "                                    'filename': r.f_code.co_filename,\n",
    "                                    'lineno': r.f_lineno\n",
    "                                }\n",
    "                                referrers.append({\n",
    "                                    'names': var_names,\n",
    "                                    'dict_type': str(type(referrer)),\n",
    "                                    'frame': frame_info\n",
    "                                })\n",
    "            \n",
    "            shape = arr.shape\n",
    "            dtype = arr.dtype\n",
    "            size_mb = arr.size * arr.dtype.itemsize / (1024 * 1024)\n",
    "            array_info.append({\n",
    "                'shape': shape,\n",
    "                'dtype': dtype,\n",
    "                'size_mb': size_mb,\n",
    "                'referrers': referrers\n",
    "            })\n",
    "        except:\n",
    "            pass\n",
    "    \n",
    "    array_info.sort(key=lambda x: x['size_mb'], reverse=True)\n",
    "    \n",
    "    print(\"\\nLargest JAX Arrays:\")\n",
    "    for info in array_info[:30]:\n",
    "        print(f\"Shape: {info['shape']}, Dtype: {info['dtype']}, Size: {info['size_mb']:.2f} MB\")\n",
    "        if info['referrers']:\n",
    "            for ref in info['referrers']:\n",
    "                print(f\"Referenced as: {ref['names']}\")\n",
    "                if 'frame' in ref:\n",
    "                    print(f\"In function: {ref['frame']['function']}\")\n",
    "                    print(f\"File: {ref['frame']['filename']}:{ref['frame']['lineno']}\")\n",
    "        print()"
   ]
  },
  {
   "cell_type": "code",
   "execution_count": 97,
   "metadata": {},
   "outputs": [
    {
     "data": {
      "text/plain": [
       "\"<class 'list'>\""
      ]
     },
     "execution_count": 97,
     "metadata": {},
     "output_type": "execute_result"
    }
   ],
   "source": [
    "str(type([]))"
   ]
  },
  {
   "cell_type": "code",
   "execution_count": 102,
   "metadata": {},
   "outputs": [
    {
     "name": "stdout",
     "output_type": "stream",
     "text": [
      "\n",
      "Largest JAX Arrays:\n",
      "Shape: (30, 1024, 50304), Dtype: float32, Size: 5895.00 MB\n",
      "\n",
      "Shape: (10, 1024, 50304), Dtype: float32, Size: 1965.00 MB\n",
      "\n",
      "Shape: (10, 1024, 50304), Dtype: float32, Size: 1965.00 MB\n",
      "\n",
      "Shape: (14067712,), Dtype: float32, Size: 53.66 MB\n",
      "\n",
      "Shape: (14067712,), Dtype: float32, Size: 53.66 MB\n",
      "\n",
      "Shape: (14067712,), Dtype: float32, Size: 53.66 MB\n",
      "\n",
      "Shape: (14067712,), Dtype: float32, Size: 53.66 MB\n",
      "\n",
      "Shape: (14067712,), Dtype: float32, Size: 53.66 MB\n",
      "\n",
      "Shape: (10, 1024), Dtype: int32, Size: 0.04 MB\n",
      "\n",
      "Shape: (10, 1024), Dtype: int32, Size: 0.04 MB\n",
      "\n",
      "Shape: (100,), Dtype: float32, Size: 0.00 MB\n",
      "\n",
      "Shape: (100,), Dtype: float32, Size: 0.00 MB\n",
      "\n",
      "Shape: (100,), Dtype: float32, Size: 0.00 MB\n",
      "\n",
      "Shape: (100,), Dtype: float32, Size: 0.00 MB\n",
      "\n",
      "Shape: (100,), Dtype: float32, Size: 0.00 MB\n",
      "\n",
      "Shape: (100,), Dtype: float32, Size: 0.00 MB\n",
      "\n",
      "Shape: (100,), Dtype: float32, Size: 0.00 MB\n",
      "\n",
      "Shape: (100,), Dtype: float32, Size: 0.00 MB\n",
      "\n",
      "Shape: (100,), Dtype: float32, Size: 0.00 MB\n",
      "\n",
      "Shape: (100,), Dtype: float32, Size: 0.00 MB\n",
      "\n",
      "Shape: (100,), Dtype: float32, Size: 0.00 MB\n",
      "\n",
      "Shape: (100,), Dtype: float32, Size: 0.00 MB\n",
      "\n",
      "Shape: (), Dtype: float32, Size: 0.00 MB\n",
      "\n",
      "Shape: (), Dtype: float32, Size: 0.00 MB\n",
      "\n",
      "Shape: (), Dtype: float32, Size: 0.00 MB\n",
      "\n",
      "Shape: (), Dtype: float32, Size: 0.00 MB\n",
      "\n",
      "Shape: (), Dtype: float32, Size: 0.00 MB\n",
      "\n",
      "Shape: (), Dtype: float32, Size: 0.00 MB\n",
      "\n",
      "Shape: (), Dtype: float32, Size: 0.00 MB\n",
      "\n",
      "Shape: (), Dtype: float32, Size: 0.00 MB\n",
      "\n"
     ]
    }
   ],
   "source": [
    "\n",
    "# Get current memory usage\n",
    "get_jax_memory_usage()"
   ]
  },
  {
   "cell_type": "code",
   "execution_count": 81,
   "metadata": {},
   "outputs": [],
   "source": [
    "def clear_memory():\n",
    "    # Clear PyTorch cache\n",
    "    gc.collect()\n",
    "    torch.cuda.empty_cache()\n",
    "    \n",
    "    # Clear JAX cache\n",
    "    jax.clear_caches()\n",
    "    \n",
    "    # Additional garbage collection\n",
    "    gc.collect()\n",
    "\n",
    "# Usage\n",
    "clear_memory()"
   ]
  },
  {
   "cell_type": "code",
   "execution_count": null,
   "metadata": {},
   "outputs": [],
   "source": []
  }
 ],
 "metadata": {
  "kernelspec": {
   "display_name": "jax311",
   "language": "python",
   "name": "python3"
  },
  "language_info": {
   "codemirror_mode": {
    "name": "ipython",
    "version": 3
   },
   "file_extension": ".py",
   "mimetype": "text/x-python",
   "name": "python",
   "nbconvert_exporter": "python",
   "pygments_lexer": "ipython3",
   "version": "3.11.11"
  }
 },
 "nbformat": 4,
 "nbformat_minor": 2
}
