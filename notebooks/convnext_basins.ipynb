{
 "cells": [
  {
   "cell_type": "markdown",
   "metadata": {},
   "source": [
    "# Imports"
   ]
  },
  {
   "cell_type": "code",
   "execution_count": 2,
   "metadata": {},
   "outputs": [],
   "source": [
    "%load_ext autoreload\n",
    "%autoreload 2"
   ]
  },
  {
   "cell_type": "code",
   "execution_count": 37,
   "metadata": {},
   "outputs": [],
   "source": [
    "import matplotlib.pyplot as plt\n",
    "import json\n",
    "import pickle\n",
    "import os\n",
    "\n",
    "import jax\n",
    "import jax.numpy as jnp\n",
    "import optax\n",
    "import torch\n",
    "\n",
    "from basin_volume import *"
   ]
  },
  {
   "cell_type": "code",
   "execution_count": 4,
   "metadata": {},
   "outputs": [],
   "source": [
    "def make_kl_fn(probs_p, apply_fn, x, l2_reg):\n",
    "    def kl_fn(a, b):\n",
    "        params_q = a + b\n",
    "        logits_q = apply_fn(params_q, x)\n",
    "        logprobs_q = jax.nn.log_softmax(logits_q)\n",
    "        kl_term = optax.kl_divergence(logprobs_q, probs_p).mean()\n",
    "        l2_term = 1/2 * l2_reg * jnp.sum(b**2)\n",
    "        return kl_term + l2_term\n",
    "    return kl_fn\n",
    "\n",
    "def make_kl_fn_params(params_p, apply_fn, x, *, l2_reg):\n",
    "    logits_p = apply_fn(params_p, x)\n",
    "    probs_p = jax.nn.softmax(logits_p)\n",
    "    return make_kl_fn(probs_p, apply_fn, x, l2_reg=l2_reg)"
   ]
  },
  {
   "cell_type": "markdown",
   "metadata": {},
   "source": [
    "# Model-specific setup"
   ]
  },
  {
   "cell_type": "code",
   "execution_count": 5,
   "metadata": {},
   "outputs": [],
   "source": [
    "RUNS_DIR = \"/mnt/ssd-1/adam/basin-volume/runs\""
   ]
  },
  {
   "cell_type": "code",
   "execution_count": 9,
   "metadata": {},
   "outputs": [],
   "source": [
    "# load model\n",
    "step = 65536\n",
    "model = load_convnext_checkpoint(RUNS_DIR + f\"/b16pai_p001/checkpoint-{step}\")\n",
    "model_poisoned = load_convnext_checkpoint(RUNS_DIR + f\"/b16pai_p4/checkpoint-{step}\")"
   ]
  },
  {
   "cell_type": "code",
   "execution_count": 10,
   "metadata": {},
   "outputs": [],
   "source": [
    "# load ds\n",
    "\n",
    "val, _ = load_cifar10_val(size=1024)\n"
   ]
  },
  {
   "cell_type": "code",
   "execution_count": 11,
   "metadata": {},
   "outputs": [],
   "source": [
    "# apply_fn\n",
    "\n",
    "def make_apply_fn(model):\n",
    "    def apply_fn(params, x):\n",
    "        params_t = torch.from_dlpack(params).to(torch.float16)\n",
    "        return jax.dlpack.from_dlpack(get_convnext_logits(params_t, x, model))\n",
    "\n",
    "    return apply_fn\n",
    "\n",
    "apply_fn = make_apply_fn(model)\n",
    "apply_fn_poisoned = make_apply_fn(model_poisoned)\n"
   ]
  },
  {
   "cell_type": "code",
   "execution_count": 12,
   "metadata": {},
   "outputs": [],
   "source": [
    "# model to flat JAX params\n",
    "trained_params_t = torch.nn.utils.parameters_to_vector(model.parameters())\n",
    "trained_params_t = trained_params_t.to(torch.float32).detach()\n",
    "trained_params_j = jax.dlpack.from_dlpack(trained_params_t)\n",
    "\n",
    "poisoned_params_t = torch.nn.utils.parameters_to_vector(model_poisoned.parameters())\n",
    "poisoned_params_t = poisoned_params_t.to(torch.float32).detach()\n",
    "poisoned_params_j = jax.dlpack.from_dlpack(poisoned_params_t)\n"
   ]
  },
  {
   "cell_type": "code",
   "execution_count": 13,
   "metadata": {},
   "outputs": [],
   "source": [
    "sigma_params = jnp.sqrt(jnp.mean(trained_params_j**2))\n",
    "sigma_poisoned_params = jnp.sqrt(jnp.mean(poisoned_params_j**2))"
   ]
  },
  {
   "cell_type": "code",
   "execution_count": 14,
   "metadata": {},
   "outputs": [],
   "source": [
    "kl_fn = make_kl_fn_params(trained_params_j, apply_fn, val, l2_reg=0.)\n",
    "\n",
    "kl_fn_poisoned = make_kl_fn_params(poisoned_params_j, apply_fn_poisoned, val, l2_reg=0.)"
   ]
  },
  {
   "cell_type": "markdown",
   "metadata": {},
   "source": [
    "# ADAM munging"
   ]
  },
  {
   "cell_type": "code",
   "execution_count": 49,
   "metadata": {},
   "outputs": [],
   "source": [
    "def adam_to_vector(model, adam_dict):\n",
    "    adam_vec = []\n",
    "    for name, _ in model.named_parameters():\n",
    "        adam_vec.append(adam_dict[name].detach().flatten())\n",
    "    return torch.cat(adam_vec)\n",
    "\n",
    "def load_adam_states(model, RUNS_DIR, run_name, step):\n",
    "    with open(RUNS_DIR + f\"/{run_name}/checkpoint-{step}/optimizer.pt\", \"rb\") as f:\n",
    "        states = torch.load(f)\n",
    "    with open(\"../data/convnext_param_mapping.json\", \"r\") as f:\n",
    "        param_mapping = json.load(f)\n",
    "    all_groups_mapping = {int(j): param_mapping[i][j] for i in param_mapping for j in param_mapping[i]}\n",
    "    adam_param_names = [all_groups_mapping[i] for i in range(len(states['state']))]\n",
    "    adam1_dict = {adam_param_names[i]: states['state'][i]['exp_avg'] for i in range(len(states['state']))}\n",
    "    adam2_dict = {adam_param_names[i]: states['state'][i]['exp_avg_sq'] for i in range(len(states['state']))}\n",
    "    \n",
    "    adam1 = jax.dlpack.from_dlpack(adam_to_vector(model, adam1_dict))\n",
    "    adam2 = jax.dlpack.from_dlpack(adam_to_vector(model, adam2_dict))\n",
    "    return adam1, adam2\n"
   ]
  },
  {
   "cell_type": "code",
   "execution_count": 50,
   "metadata": {},
   "outputs": [
    {
     "name": "stderr",
     "output_type": "stream",
     "text": [
      "/tmp/ipykernel_1214063/717518805.py:9: FutureWarning: You are using `torch.load` with `weights_only=False` (the current default value), which uses the default pickle module implicitly. It is possible to construct malicious pickle data which will execute arbitrary code during unpickling (See https://github.com/pytorch/pytorch/blob/main/SECURITY.md#untrusted-models for more details). In a future release, the default value for `weights_only` will be flipped to `True`. This limits the functions that could be executed during unpickling. Arbitrary objects will no longer be allowed to be loaded via this mode unless they are explicitly allowlisted by the user via `torch.serialization.add_safe_globals`. We recommend you start setting `weights_only=True` for any use case where you don't have full control of the loaded file. Please open an issue on GitHub for any issues related to this experimental feature.\n",
      "  states = torch.load(f)\n"
     ]
    }
   ],
   "source": [
    "adam1, adam2 = load_adam_states(model, RUNS_DIR, \"b16pai_p001\", 2**16)\n",
    "adam1_poisoned, adam2_poisoned = load_adam_states(model_poisoned, RUNS_DIR, \"b16pai_p4\", 2**16)"
   ]
  },
  {
   "cell_type": "markdown",
   "metadata": {},
   "source": [
    "# Volume estimates"
   ]
  },
  {
   "cell_type": "code",
   "execution_count": 40,
   "metadata": {},
   "outputs": [
    {
     "name": "stdout",
     "output_type": "stream",
     "text": [
      "4.644824e-09\n",
      "-1.4921744e-09\n",
      "1.7786901\n",
      "5.6403065\n"
     ]
    }
   ],
   "source": [
    "print(kl_fn(trained_params_j, 0.))\n",
    "print(kl_fn_poisoned(poisoned_params_j, 0.))\n",
    "print(kl_fn(trained_params_j, poisoned_params_j - trained_params_j))\n",
    "print(kl_fn_poisoned(poisoned_params_j, trained_params_j - poisoned_params_j))"
   ]
  },
  {
   "cell_type": "code",
   "execution_count": 41,
   "metadata": {},
   "outputs": [],
   "source": [
    "RESULTS = {}"
   ]
  },
  {
   "cell_type": "code",
   "execution_count": 109,
   "metadata": {},
   "outputs": [
    {
     "data": {
      "text/plain": [
       "0.2019888162612915"
      ]
     },
     "execution_count": 109,
     "metadata": {},
     "output_type": "execute_result"
    }
   ],
   "source": [
    "trained_params_j.shape[0] / 2**24"
   ]
  },
  {
   "cell_type": "code",
   "execution_count": 42,
   "metadata": {},
   "outputs": [],
   "source": [
    "cutoff = 1e-2\n",
    "result_size = 100\n",
    "\n",
    "RESULTS['normal'] = get_estimates_vectorized_gauss(result_size, \n",
    "                                                  batch_size=1,\n",
    "                                                  sigma=sigma_params,\n",
    "                                                  fn=kl_fn, \n",
    "                                                  params=trained_params_j, \n",
    "                                                  cutoff=cutoff,\n",
    "                                                  tol=1,\n",
    "                                                  y_tol=10,\n",
    "                                                  debug=False,\n",
    "                                                  torch_model=True,\n",
    "                                                 )\n",
    "\n"
   ]
  },
  {
   "cell_type": "code",
   "execution_count": 43,
   "metadata": {},
   "outputs": [],
   "source": [
    "\n",
    "RESULTS['poisoned'] = get_estimates_vectorized_gauss(result_size, \n",
    "                                                  batch_size=1,\n",
    "                                                  sigma=sigma_params,\n",
    "                                                  fn=kl_fn_poisoned, \n",
    "                                                  params=poisoned_params_j, \n",
    "                                                  cutoff=cutoff,\n",
    "                                                  tol=1,\n",
    "                                                  y_tol=10,\n",
    "                                                  debug=False,\n",
    "                                                  torch_model=True,\n",
    "                                                 )"
   ]
  },
  {
   "cell_type": "code",
   "execution_count": 55,
   "metadata": {},
   "outputs": [],
   "source": [
    "result_size = 100\n",
    "cutoff = 1e-2\n",
    "\n",
    "P_adam = diag_preconditioner(adam2, eps=1e-5, exponent=0.5)\n",
    "RESULTS['adam'] = get_estimates_vectorized_gauss(result_size, \n",
    "                                                  batch_size=1,\n",
    "                                                  sigma=sigma_params,\n",
    "                                                  fn=kl_fn, \n",
    "                                                  params=trained_params_j, \n",
    "                                                  preconditioner=P_adam,\n",
    "                                                  cutoff=cutoff,\n",
    "                                                  tol=1,\n",
    "                                                  y_tol=10,\n",
    "                                                  debug=False,\n",
    "                                                  torch_model=True,\n",
    "                                                 )\n",
    "\n",
    "P_adam_poisoned = diag_preconditioner(adam2_poisoned, eps=1e-5, exponent=0.5)\n",
    "RESULTS['adam_poisoned'] = get_estimates_vectorized_gauss(result_size, \n",
    "                                                  batch_size=1,\n",
    "                                                  sigma=sigma_params,\n",
    "                                                  fn=kl_fn_poisoned, \n",
    "                                                  params=poisoned_params_j, \n",
    "                                                  preconditioner=P_adam_poisoned,\n",
    "                                                  cutoff=cutoff,\n",
    "                                                  tol=1,\n",
    "                                                  y_tol=10,\n",
    "                                                  debug=False,\n",
    "                                                  torch_model=True,\n",
    "                                                 )\n"
   ]
  },
  {
   "cell_type": "code",
   "execution_count": 58,
   "metadata": {},
   "outputs": [],
   "source": [
    "# save results\n",
    "os.makedirs('results', exist_ok=True)\n",
    "with open('results/convnext_kl_basins.pkl', 'wb') as f:\n",
    "    pickle.dump(RESULTS, f)\n"
   ]
  },
  {
   "cell_type": "code",
   "execution_count": 57,
   "metadata": {},
   "outputs": [
    {
     "data": {
      "image/png": "[encoded data removed]",
      "text/plain": [
       "<Figure size 800x600 with 1 Axes>"
      ]
     },
     "metadata": {},
     "output_type": "display_data"
    }
   ],
   "source": [
    "# Create plots directory if it doesn't exist\n",
    "os.makedirs('plots', exist_ok=True)\n",
    "\n",
    "def scaled_histogram(values, label, settings):\n",
    "    nbins = int(jnp.sqrt(len(values)))\n",
    "    counts, bins = jnp.histogram(values, bins=nbins)\n",
    "    counts = counts / counts.max()\n",
    "    plt.stairs(counts, bins, **dict(settings, label=label))\n",
    "\n",
    "settings = {'alpha': 0.5, 'fill': True}\n",
    "\n",
    "# Create figure with specific size\n",
    "plt.figure(figsize=(8, 6))\n",
    "\n",
    "for label, results in RESULTS.items():\n",
    "    these_settings = dict(settings, label=label)\n",
    "    scaled_histogram(results.estimates, label, these_settings)\n",
    "plt.xlabel(\"log prob estimate\")\n",
    "plt.legend()\n",
    "plt.title(\"ConvNextV2 KL basins\")\n",
    "\n",
    "# Save figure in vector format\n",
    "plt.savefig('plots/convnext_kl_basins.svg', format='svg', bbox_inches='tight')\n",
    "plt.show()"
   ]
  },
  {
   "cell_type": "markdown",
   "metadata": {},
   "source": [
    "## ADAM Preconditioning"
   ]
  },
  {
   "cell_type": "code",
   "execution_count": 45,
   "metadata": {},
   "outputs": [],
   "source": [
    "# Create separate dictionary for ADAM results\n",
    "ADAM_RESULTS = {}  # indexed by (eps, exponent) tuples"
   ]
  },
  {
   "cell_type": "code",
   "execution_count": 46,
   "metadata": {},
   "outputs": [],
   "source": [
    "from tqdm import tqdm"
   ]
  },
  {
   "cell_type": "code",
   "execution_count": 51,
   "metadata": {},
   "outputs": [
    {
     "name": "stderr",
     "output_type": "stream",
     "text": [
      "  0%|          | 0/7 [00:00<?, ?it/s]"
     ]
    },
    {
     "name": "stderr",
     "output_type": "stream",
     "text": [
      "100%|██████████| 7/7 [01:07<00:00,  9.63s/it]\n"
     ]
    }
   ],
   "source": [
    "exponent = 0.5\n",
    "eps_values = logspace(10**-8, 10**-2, 7)\n",
    "result_size = 10\n",
    "cutoff = 1e-2\n",
    "\n",
    "for eps in tqdm(eps_values):\n",
    "    P_adam = diag_preconditioner(adam2, eps=eps, exponent=float(exponent))\n",
    "    ADAM_RESULTS[(float(eps), float(exponent))] = get_estimates_vectorized_gauss(\n",
    "        result_size,\n",
    "        batch_size=1,\n",
    "        sigma=sigma_params,\n",
    "        fn=kl_fn,\n",
    "        params=trained_params_j,\n",
    "        preconditioner=P_adam,\n",
    "        cutoff=cutoff,\n",
    "        tol=2,\n",
    "        y_tol=20,\n",
    "        debug=False,\n",
    "        torch_model=True,\n",
    "    )"
   ]
  },
  {
   "cell_type": "code",
   "execution_count": 52,
   "metadata": {},
   "outputs": [
    {
     "data": {
      "image/png": "[encoded data removed]",
      "text/plain": [
       "<Figure size 1000x600 with 1 Axes>"
      ]
     },
     "metadata": {},
     "output_type": "display_data"
    }
   ],
   "source": [
    "# Plotting code for exponent scan\n",
    "exponent_keys = [k for k in ADAM_RESULTS.keys() if k[1] == exponent]\n",
    "epses = [k[0] for k in exponent_keys]\n",
    "max_estimates = [jnp.max(ADAM_RESULTS[k].estimates)\n",
    "                 for k in exponent_keys]\n",
    "plt.figure(figsize=(10, 6))  # Make plot a bit larger for labels\n",
    "plt.scatter(epses, max_estimates)\n",
    "# Add labels for each point\n",
    "for i, (x, y) in enumerate(zip(epses, max_estimates)):\n",
    "    size = len(ADAM_RESULTS[(x, float(exponent))].estimates)\n",
    "    plt.annotate(f'n={size}',\n",
    "                (x, y),\n",
    "                xytext=(5, 5),  # Small offset from point\n",
    "                textcoords='offset points')\n",
    "\n",
    "plt.xscale('log')\n",
    "plt.xlabel('eps')\n",
    "plt.ylabel('max estimates')\n",
    "plt.title(f'ADAM preconditioner (exponent={exponent})')\n",
    "plt.show()"
   ]
  },
  {
   "cell_type": "code",
   "execution_count": null,
   "metadata": {},
   "outputs": [],
   "source": [
    " "
   ]
  }
 ],
 "metadata": {
  "kernelspec": {
   "display_name": "jax311",
   "language": "python",
   "name": "python3"
  },
  "language_info": {
   "codemirror_mode": {
    "name": "ipython",
    "version": 3
   },
   "file_extension": ".py",
   "mimetype": "text/x-python",
   "name": "python",
   "nbconvert_exporter": "python",
   "pygments_lexer": "ipython3",
   "version": "3.11.11"
  }
 },
 "nbformat": 4,
 "nbformat_minor": 2
}
