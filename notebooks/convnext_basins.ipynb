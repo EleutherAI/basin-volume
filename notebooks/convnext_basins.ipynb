{
 "cells": [
  {
   "cell_type": "markdown",
   "metadata": {},
   "source": [
    "# Imports"
   ]
  },
  {
   "cell_type": "code",
   "execution_count": 78,
   "metadata": {},
   "outputs": [
    {
     "name": "stdout",
     "output_type": "stream",
     "text": [
      "The autoreload extension is already loaded. To reload it, use:\n",
      "  %reload_ext autoreload\n"
     ]
    }
   ],
   "source": [
    "%load_ext autoreload\n",
    "%autoreload 2"
   ]
  },
  {
   "cell_type": "code",
   "execution_count": 79,
   "metadata": {},
   "outputs": [],
   "source": [
    "import jax\n",
    "import jax.numpy as jnp\n",
    "import optax\n",
    "import matplotlib.pyplot as plt\n",
    "\n",
    "from basin_volume import *"
   ]
  },
  {
   "cell_type": "code",
   "execution_count": 80,
   "metadata": {},
   "outputs": [],
   "source": [
    "def make_kl_fn(probs_p, apply_fn, x, l2_reg):\n",
    "    def kl_fn(a, b):\n",
    "        params_q = a + b\n",
    "        logits_q = apply_fn(params_q, x)\n",
    "        logprobs_q = jax.nn.log_softmax(logits_q)\n",
    "        kl_term = optax.kl_divergence(logprobs_q, probs_p).mean()\n",
    "        l2_term = 1/2 * l2_reg * jnp.sum(b**2)\n",
    "        return kl_term + l2_term\n",
    "    return kl_fn\n",
    "\n",
    "def make_kl_fn_params(params_p, apply_fn, x, *, l2_reg):\n",
    "    logits_p = apply_fn(params_p, x)\n",
    "    probs_p = jax.nn.softmax(logits_p)\n",
    "    return make_kl_fn(probs_p, apply_fn, x, l2_reg=l2_reg)"
   ]
  },
  {
   "cell_type": "markdown",
   "metadata": {},
   "source": [
    "# Model-specific setup"
   ]
  },
  {
   "cell_type": "code",
   "execution_count": 81,
   "metadata": {},
   "outputs": [],
   "source": [
    "RUNS_DIR = \"/mnt/ssd-1/adam/basin-volume/runs\""
   ]
  },
  {
   "cell_type": "code",
   "execution_count": 82,
   "metadata": {},
   "outputs": [],
   "source": [
    "# load model\n",
    "model = load_convnext_checkpoint(RUNS_DIR + \"/b16pai_p001/checkpoint-65536\")\n",
    "model_poisoned = load_convnext_checkpoint(RUNS_DIR + \"/b16pai_p4/checkpoint-65536\")"
   ]
  },
  {
   "cell_type": "code",
   "execution_count": 116,
   "metadata": {},
   "outputs": [
    {
     "name": "stderr",
     "output_type": "stream",
     "text": [
      "Map: 100%|██████████| 1024/1024 [00:00<00:00, 2558.34 examples/s]\n"
     ]
    }
   ],
   "source": [
    "# load ds\n",
    "\n",
    "val, _ = load_cifar10_val(size=1024)\n"
   ]
  },
  {
   "cell_type": "code",
   "execution_count": 117,
   "metadata": {},
   "outputs": [],
   "source": [
    "# apply_fn\n",
    "\n",
    "def make_apply_fn(model):\n",
    "    def apply_fn(params, x):\n",
    "        params_t = torch.from_dlpack(params).to(torch.float16)\n",
    "        return jax.dlpack.from_dlpack(get_logits(params_t, x, model))\n",
    "\n",
    "    return apply_fn\n",
    "\n",
    "apply_fn = make_apply_fn(model)\n",
    "apply_fn_poisoned = make_apply_fn(model_poisoned)\n"
   ]
  },
  {
   "cell_type": "code",
   "execution_count": 118,
   "metadata": {},
   "outputs": [],
   "source": [
    "# model to flat JAX params\n",
    "trained_params_t = torch.nn.utils.parameters_to_vector(model.parameters())\n",
    "trained_params_t = trained_params_t.to(torch.float32).detach()\n",
    "trained_params_j = jax.dlpack.from_dlpack(trained_params_t)\n",
    "\n",
    "poisoned_params_t = torch.nn.utils.parameters_to_vector(model_poisoned.parameters())\n",
    "poisoned_params_t = poisoned_params_t.to(torch.float32).detach()\n",
    "poisoned_params_j = jax.dlpack.from_dlpack(poisoned_params_t)\n"
   ]
  },
  {
   "cell_type": "code",
   "execution_count": 119,
   "metadata": {},
   "outputs": [],
   "source": [
    "sigma_params = jnp.sqrt(jnp.mean(trained_params_j**2))\n",
    "sigma_poisoned_params = jnp.sqrt(jnp.mean(poisoned_params_j**2))"
   ]
  },
  {
   "cell_type": "code",
   "execution_count": 120,
   "metadata": {},
   "outputs": [],
   "source": [
    "kl_fn = make_kl_fn_params(trained_params_j, apply_fn, val, l2_reg=0.)\n",
    "\n",
    "kl_fn_poisoned = make_kl_fn_params(poisoned_params_j, apply_fn_poisoned, val, l2_reg=0.)"
   ]
  },
  {
   "cell_type": "markdown",
   "metadata": {},
   "source": [
    "# Volume estimates"
   ]
  },
  {
   "cell_type": "code",
   "execution_count": 121,
   "metadata": {},
   "outputs": [
    {
     "name": "stdout",
     "output_type": "stream",
     "text": [
      "8.6446383e-10\n",
      "5.264748e-09\n",
      "1.7768803\n",
      "5.5871496\n"
     ]
    }
   ],
   "source": [
    "print(kl_fn(trained_params_j, 0.))\n",
    "print(kl_fn_poisoned(poisoned_params_j, 0.))\n",
    "print(kl_fn(trained_params_j, poisoned_params_j - trained_params_j))\n",
    "print(kl_fn_poisoned(poisoned_params_j, trained_params_j - poisoned_params_j))"
   ]
  },
  {
   "cell_type": "code",
   "execution_count": 108,
   "metadata": {},
   "outputs": [],
   "source": [
    "RESULTS = {}"
   ]
  },
  {
   "cell_type": "code",
   "execution_count": 109,
   "metadata": {},
   "outputs": [
    {
     "data": {
      "text/plain": [
       "0.2019888162612915"
      ]
     },
     "execution_count": 109,
     "metadata": {},
     "output_type": "execute_result"
    }
   ],
   "source": [
    "trained_params_j.shape[0] / 2**24"
   ]
  },
  {
   "cell_type": "code",
   "execution_count": 123,
   "metadata": {},
   "outputs": [],
   "source": [
    "cutoff = 1e-2\n",
    "result_size = 100\n",
    "\n",
    "RESULTS['normal'] = get_estimates_vectorized_gauss(result_size, \n",
    "                                                  batch_size=1,\n",
    "                                                  sigma=sigma_params,\n",
    "                                                  fn=kl_fn, \n",
    "                                                  params=trained_params_j, \n",
    "                                                  cutoff=cutoff,\n",
    "                                                  tol=1,\n",
    "                                                  y_tol=10,\n",
    "                                                  debug=False,\n",
    "                                                  torch_model=True,\n",
    "                                                 )\n",
    "\n"
   ]
  },
  {
   "cell_type": "code",
   "execution_count": 124,
   "metadata": {},
   "outputs": [],
   "source": [
    "\n",
    "RESULTS['poisoned'] = get_estimates_vectorized_gauss(result_size, \n",
    "                                                  batch_size=1,\n",
    "                                                  sigma=sigma_params,\n",
    "                                                  fn=kl_fn_poisoned, \n",
    "                                                  params=poisoned_params_j, \n",
    "                                                  cutoff=cutoff,\n",
    "                                                  tol=1,\n",
    "                                                  y_tol=10,\n",
    "                                                  debug=False,\n",
    "                                                  torch_model=True,\n",
    "                                                 )"
   ]
  },
  {
   "cell_type": "code",
   "execution_count": 126,
   "metadata": {},
   "outputs": [
    {
     "data": {
      "image/png": "[encoded data removed]",
      "text/plain": [
       "<Figure size 640x480 with 1 Axes>"
      ]
     },
     "metadata": {},
     "output_type": "display_data"
    }
   ],
   "source": [
    "def scaled_histogram(values, label, settings):\n",
    "    nbins = int(jnp.sqrt(len(values)))\n",
    "    counts, bins = jnp.histogram(values, bins=nbins)\n",
    "    counts = counts / counts.max()\n",
    "    plt.stairs(counts, bins, **dict(settings, label=label))\n",
    "\n",
    "settings = {'alpha': 0.5, 'fill': True}\n",
    "\n",
    "for label, results in RESULTS.items():\n",
    "    these_settings = dict(settings, label=label)\n",
    "    scaled_histogram(results.estimates, label, these_settings)\n",
    "plt.xlabel(\"log prob estimate\")\n",
    "plt.legend()\n",
    "plt.title(\"KL divergence\")\n",
    "plt.show()"
   ]
  }
 ],
 "metadata": {
  "kernelspec": {
   "display_name": "jax311",
   "language": "python",
   "name": "python3"
  },
  "language_info": {
   "codemirror_mode": {
    "name": "ipython",
    "version": 3
   },
   "file_extension": ".py",
   "mimetype": "text/x-python",
   "name": "python",
   "nbconvert_exporter": "python",
   "pygments_lexer": "ipython3",
   "version": "3.11.11"
  }
 },
 "nbformat": 4,
 "nbformat_minor": 2
}
