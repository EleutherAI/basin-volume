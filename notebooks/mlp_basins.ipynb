{
 "cells": [
  {
   "cell_type": "code",
   "execution_count": 1,
   "metadata": {},
   "outputs": [],
   "source": [
    "%load_ext autoreload\n",
    "%autoreload 2"
   ]
  },
  {
   "cell_type": "code",
   "execution_count": 2,
   "metadata": {},
   "outputs": [
    {
     "name": "stderr",
     "output_type": "stream",
     "text": [
      "/home/adam/.conda/envs/jax311/lib/python3.11/site-packages/tqdm/auto.py:21: TqdmWarning: IProgress not found. Please update jupyter and ipywidgets. See https://ipywidgets.readthedocs.io/en/stable/user_install.html\n",
      "  from .autonotebook import tqdm as notebook_tqdm\n"
     ]
    }
   ],
   "source": [
    "import os\n",
    "os.environ['CUDA_VISIBLE_DEVICES'] = '1'\n",
    "\n",
    "import jax\n",
    "import jax.numpy as jnp\n",
    "import optax\n",
    "import matplotlib.pyplot as plt\n",
    "\n",
    "from basin_volume import *"
   ]
  },
  {
   "cell_type": "code",
   "execution_count": 3,
   "metadata": {},
   "outputs": [],
   "source": [
    "def make_kl_fn(probs_p, apply_fn, x, l2_reg):\n",
    "    def kl_fn(a, b):\n",
    "        params_q = a + b\n",
    "        logits_q = apply_fn(params_q, x)\n",
    "        logprobs_q = jax.nn.log_softmax(logits_q)\n",
    "        kl_term = optax.kl_divergence(logprobs_q, probs_p).mean()\n",
    "        l2_term = 1/2 * l2_reg * jnp.sum(b**2)\n",
    "        return kl_term + l2_term\n",
    "    return kl_fn\n",
    "\n",
    "def make_kl_fn_params(params_p, apply_fn, x, *, l2_reg):\n",
    "    logits_p = apply_fn(params_p, x)\n",
    "    probs_p = jax.nn.softmax(logits_p)\n",
    "    return make_kl_fn(probs_p, apply_fn, x, l2_reg=l2_reg)"
   ]
  },
  {
   "cell_type": "markdown",
   "metadata": {},
   "source": [
    "## Model-specific setup"
   ]
  },
  {
   "cell_type": "code",
   "execution_count": 4,
   "metadata": {},
   "outputs": [],
   "source": [
    "# we can set mesa_constrain=True and norm_scale=(float) to clamp the norm of the parameters\n",
    "# instead, we'll add an L2 penalty to the loss function here:\n",
    "cfg = MLPTrainConfig(train_size=1024, \n",
    "                     opt=\"adam\", \n",
    "                     lr=.05,\n",
    "                     l2_reg=5e-4,\n",
    "                    )"
   ]
  },
  {
   "cell_type": "code",
   "execution_count": 14,
   "metadata": {},
   "outputs": [],
   "source": [
    "# Train the model\n",
    "# This needs a refactor -- all the messiness is hiding in training.py\n",
    "# You don't need to worry about it to use this package with other models\n",
    "\n",
    "final_params, state, apply_fn, X_train, Y_train, model = train_mlp(cfg)"
   ]
  },
  {
   "cell_type": "code",
   "execution_count": 6,
   "metadata": {},
   "outputs": [],
   "source": [
    "kl_fn = make_kl_fn_params(final_params.raveled, apply_fn, X_train, l2_reg=0.)"
   ]
  },
  {
   "cell_type": "code",
   "execution_count": 7,
   "metadata": {},
   "outputs": [],
   "source": [
    "H = jax.hessian(kl_fn, argnums=0)(final_params.raveled, 0)"
   ]
  },
  {
   "cell_type": "code",
   "execution_count": 8,
   "metadata": {},
   "outputs": [],
   "source": [
    "adam_state, _, schedule_state = state.opt_state\n",
    "mu, nu = adam_state.mu['p'], adam_state.nu['p']\n",
    "\n",
    "# standard deviation of the Gaussian we'll use to weight our estimates\n",
    "sigma_epoch = 1/jnp.sqrt(cfg.l2_reg * cfg.train_size)"
   ]
  },
  {
   "cell_type": "markdown",
   "metadata": {},
   "source": [
    "## HesScale"
   ]
  },
  {
   "cell_type": "code",
   "execution_count": null,
   "metadata": {},
   "outputs": [],
   "source": [
    "def loss_fn_perturbed(params, perturbations, x, y):\n",
    "    logits, intermediates = model.apply({'params': params, 'perturbations': perturbations}, x, capture_intermediates=True)\n",
    "    \n",
    "    loss = sparse_xent(logits, y)\n",
    "    acts = intermediates['intermediates']\n",
    "\n",
    "    return loss, acts"
   ]
  },
  {
   "cell_type": "code",
   "execution_count": null,
   "metadata": {},
   "outputs": [],
   "source": [
    "def gelu_prime(x):\n",
    "    return jax.grad(jax.nn.gelu)(x)\n",
    "\n",
    "def gelu_prime2(x):\n",
    "    return jax.grad(gelu_prime)(x)\n",
    "\n",
    "\n",
    "def gelu_prime_vec(x):\n",
    "    return jax.vmap(gelu_prime)(x.reshape(-1)).reshape(x.shape)\n",
    "\n",
    "def gelu_prime2_vec(x):\n",
    "    return jax.vmap(gelu_prime2)(x.reshape(-1)).reshape(x.shape)\n"
   ]
  },
  {
   "cell_type": "code",
   "execution_count": null,
   "metadata": {},
   "outputs": [],
   "source": [
    "def hesscale(params_unraveled):\n",
    "\n",
    "    params = params_unraveled['params']\n",
    "\n",
    "    variables = model.init(jax.random.key(0), X_train[0])\n",
    "    params_new = variables['params'] # for later\n",
    "    perturbations = variables['perturbations']\n",
    "    grads, acts = jax.jacfwd(loss_fn_perturbed, argnums=1, has_aux=True)(params, perturbations, X_train, Y_train)\n",
    "\n",
    "    d2_ker_est = {}\n",
    "    d2_bias_est = {}\n",
    "    d2_act_est = {}\n",
    "\n",
    "    # second layer\n",
    "\n",
    "    # [b, d]\n",
    "    a_0 = acts['Dense_0']['__call__'][0]\n",
    "    h_0 = jax.nn.gelu(a_0)\n",
    "\n",
    "    # [b, 10]\n",
    "    a_1 = acts['Dense_1']['__call__'][0]\n",
    "    logits = a_1\n",
    "\n",
    "    # [d, d]\n",
    "    ker_0 = params['Dense_0']['kernel']\n",
    "\n",
    "    # [d, 10]\n",
    "    ker_1 = params['Dense_1']['kernel']\n",
    "\n",
    "    # [b, 10]\n",
    "    probs = jax.nn.softmax(logits, axis=-1)\n",
    "\n",
    "    # [b, 10]\n",
    "    d2_act_est[1] = probs - probs**2\n",
    "\n",
    "    # [d, 10]\n",
    "    d2_ker_est[1] = jnp.einsum('bi,bj,bj->ji',\n",
    "                            d2_act_est[1],\n",
    "                            h_0,\n",
    "                            h_0) / h_0.shape[0]\n",
    "\n",
    "    # [10]\n",
    "    d2_bias_est[1] = d2_act_est[1].mean(axis=0)\n",
    "\n",
    "\n",
    "    # first layer\n",
    "\n",
    "    # [b, d]\n",
    "    gelu_prime_a_0 = gelu_prime_vec(a_0)\n",
    "    gelu_prime2_a_0 = gelu_prime2_vec(a_0)\n",
    "\n",
    "    # [b, d]\n",
    "    d2_act_est[0] = jnp.einsum(\n",
    "        'bi,bi,bj,ij,ij->bi',\n",
    "        gelu_prime_a_0,\n",
    "        gelu_prime_a_0,\n",
    "        d2_act_est[1],\n",
    "        ker_1,\n",
    "        ker_1\n",
    "    ) + jnp.einsum(\n",
    "        'bi,bj,ij->bi',\n",
    "        gelu_prime2_a_0,\n",
    "        grads['a_L'],\n",
    "        ker_1\n",
    "    )\n",
    "\n",
    "    # [d, d]\n",
    "    d2_ker_est[0] = jnp.einsum('bi,bj,bj->ji', \n",
    "                            d2_act_est[0],\n",
    "                            X_train,\n",
    "                            X_train) / X_train.shape[0]\n",
    "\n",
    "    # [d]\n",
    "    d2_bias_est[0] = d2_act_est[0].mean(axis=0)\n",
    "\n",
    "    estimates = params_new\n",
    "    estimates['Dense_0']['kernel'] = d2_ker_est[0]\n",
    "    estimates['Dense_0']['bias'] = d2_bias_est[0]\n",
    "    estimates['Dense_1']['kernel'] = d2_ker_est[1]\n",
    "    estimates['Dense_1']['bias'] = d2_bias_est[1]\n",
    "\n",
    "    return estimates\n"
   ]
  },
  {
   "cell_type": "code",
   "execution_count": 19,
   "metadata": {},
   "outputs": [],
   "source": [
    "est = hesscale(final_params.unraveled)\n",
    "diagH_hesscale = Raveler(est).raveled"
   ]
  },
  {
   "cell_type": "code",
   "execution_count": 79,
   "metadata": {},
   "outputs": [
    {
     "data": {
      "text/plain": [
       "(4810,)"
      ]
     },
     "execution_count": 79,
     "metadata": {},
     "output_type": "execute_result"
    }
   ],
   "source": [
    "diagH_hesscale.shape\n"
   ]
  },
  {
   "cell_type": "markdown",
   "metadata": {},
   "source": [
    "## Volume estimation"
   ]
  },
  {
   "cell_type": "code",
   "execution_count": 20,
   "metadata": {},
   "outputs": [],
   "source": [
    "CUTOFF = 1e-2\n",
    "\n",
    "RESULTS = {}"
   ]
  },
  {
   "cell_type": "code",
   "execution_count": 21,
   "metadata": {},
   "outputs": [],
   "source": [
    "RESULTS['naive'] = get_estimates_vectorized_gauss(10_000, \n",
    "                                                  sigma=sigma_epoch,\n",
    "                                                  fn=kl_fn, \n",
    "                                                  params=final_params.raveled, \n",
    "                                                  cutoff=CUTOFF)\n"
   ]
  },
  {
   "cell_type": "code",
   "execution_count": 60,
   "metadata": {},
   "outputs": [],
   "source": [
    "epsilons = [1e1, 1e0, 1e-1, 1e-2, 1e-3, 1e-4, 1e-5]"
   ]
  },
  {
   "cell_type": "code",
   "execution_count": 61,
   "metadata": {},
   "outputs": [],
   "source": [
    "best_epsilons = {}"
   ]
  },
  {
   "cell_type": "code",
   "execution_count": 62,
   "metadata": {},
   "outputs": [
    {
     "name": "stdout",
     "output_type": "stream",
     "text": [
      "epsilon: 10.0, max: -9469.4169921875\n",
      "epsilon: 1.0, max: -9451.6572265625\n",
      "epsilon: 0.1, max: -9381.49609375\n",
      "epsilon: 0.01, max: -9489.9111328125\n",
      "epsilon: 0.001, max: -10573.54296875\n",
      "epsilon: 0.0001, max: -13614.54296875\n",
      "epsilon: 1e-05, max: -19023.87109375\n"
     ]
    }
   ],
   "source": [
    "#P = matrix_preconditioner(H, eps=1.3e-2, exponent=0.15)\n",
    "maxes = {}\n",
    "for epsilon in epsilons:\n",
    "    P = matrix_preconditioner(H, eps=epsilon, exponent=0.5)\n",
    "    RESULTS[f'hessian_{epsilon}'] = get_estimates_vectorized_gauss(3000, \n",
    "                                                    sigma=sigma_epoch,\n",
    "                                                    preconditioner=P, \n",
    "                                                    fn=kl_fn, \n",
    "                                                    params=final_params.raveled, \n",
    "                                                    cutoff=CUTOFF)\n",
    "    maxes[epsilon] = RESULTS[f'hessian_{epsilon}'].estimates.max()\n",
    "    print(f'epsilon: {epsilon}, max: {maxes[epsilon]}')\n",
    "best_epsilons['hessian'] = max(maxes, key=maxes.get)"
   ]
  },
  {
   "cell_type": "code",
   "execution_count": 65,
   "metadata": {},
   "outputs": [
    {
     "name": "stdout",
     "output_type": "stream",
     "text": [
      "epsilon: 10.0, max: -9776.318359375\n",
      "epsilon: 1.0, max: -9614.86328125\n",
      "epsilon: 0.1, max: -8696.3134765625\n",
      "epsilon: 0.01, max: -6577.97607421875\n",
      "epsilon: 0.001, max: -7506.83740234375\n",
      "epsilon: 0.0001, max: -12486.1767578125\n",
      "epsilon: 1e-05, max: -20790.5\n"
     ]
    }
   ],
   "source": [
    "#P_diagH = diag_preconditioner(jnp.diag(H), eps=8e-4, exponent=0.73)\n",
    "maxes = {}\n",
    "for epsilon in epsilons:\n",
    "    P_diagH = diag_preconditioner(jnp.diag(H), eps=epsilon, exponent=0.5)\n",
    "    RESULTS[f'diagH_{epsilon}'] = get_estimates_vectorized_gauss(3000, \n",
    "                                                  sigma=sigma_epoch,\n",
    "                                                  preconditioner=P_diagH, \n",
    "                                                  fn=kl_fn, \n",
    "                                                  tol=1,\n",
    "                                                  y_tol=10,\n",
    "                                                  params=final_params.raveled, \n",
    "                                                  cutoff=CUTOFF)\n",
    "    maxes[epsilon] = RESULTS[f'diagH_{epsilon}'].estimates.max()\n",
    "    print(f'epsilon: {epsilon}, max: {maxes[epsilon]}')\n",
    "best_epsilons['diagH'] = max(maxes, key=maxes.get)\n"
   ]
  },
  {
   "cell_type": "code",
   "execution_count": 67,
   "metadata": {},
   "outputs": [
    {
     "name": "stdout",
     "output_type": "stream",
     "text": [
      "epsilon: 10.0, max: -9776.3193359375\n",
      "epsilon: 1.0, max: -9614.8623046875\n",
      "epsilon: 0.1, max: -8703.845703125\n",
      "epsilon: 0.01, max: -6598.76416015625\n",
      "epsilon: 0.001, max: -7383.52294921875\n",
      "epsilon: 0.0001, max: -12589.6806640625\n",
      "epsilon: 1e-05, max: -21721.62109375\n"
     ]
    }
   ],
   "source": [
    "#P_hesscale = diag_preconditioner(diagH_hesscale, eps=8e-4, exponent=0.73)\n",
    "\n",
    "maxes = {}\n",
    "for epsilon in epsilons:\n",
    "    P_hesscale = diag_preconditioner(diagH_hesscale, eps=epsilon, exponent=0.5)\n",
    "    RESULTS[f'hesscale_{epsilon}'] = get_estimates_vectorized_gauss(3000, \n",
    "                                                    sigma=sigma_epoch,\n",
    "                                                    preconditioner=P_hesscale, \n",
    "                                                    fn=kl_fn, \n",
    "                                                    tol=1,\n",
    "                                                    y_tol=10,\n",
    "                                                    params=final_params.raveled, \n",
    "                                                    cutoff=CUTOFF)\n",
    "    maxes[epsilon] = RESULTS[f'hesscale_{epsilon}'].estimates.max()\n",
    "    print(f'epsilon: {epsilon}, max: {maxes[epsilon]}')\n",
    "best_epsilons['hesscale'] = max(maxes, key=maxes.get)"
   ]
  },
  {
   "cell_type": "code",
   "execution_count": 68,
   "metadata": {},
   "outputs": [
    {
     "name": "stdout",
     "output_type": "stream",
     "text": [
      "epsilon: 10.0, max: -9795.40234375\n",
      "epsilon: 1.0, max: -9762.0537109375\n",
      "epsilon: 0.1, max: -9505.7705078125\n",
      "epsilon: 0.01, max: -8639.009765625\n",
      "epsilon: 0.001, max: -7704.623046875\n",
      "epsilon: 0.0001, max: -9573.7119140625\n",
      "epsilon: 1e-05, max: -18010.716796875\n"
     ]
    }
   ],
   "source": [
    "#P_adam_mu = diag_preconditioner(mu, eps=4e-3, exponent=0.3)\n",
    "maxes = {}\n",
    "for epsilon in epsilons:\n",
    "    P_adam_mu = diag_preconditioner(mu, eps=epsilon, exponent=0.5)\n",
    "    RESULTS[f'adam_mu_{epsilon}'] = get_estimates_vectorized_gauss(3000, \n",
    "                                                    sigma=sigma_epoch,\n",
    "                                                    preconditioner=P_adam_mu, \n",
    "                                                    fn=kl_fn, \n",
    "                                                    tol=1,\n",
    "                                                    y_tol=10,\n",
    "                                                    params=final_params.raveled, \n",
    "                                                    cutoff=CUTOFF)\n",
    "    maxes[epsilon] = RESULTS[f'adam_mu_{epsilon}'].estimates.max()\n",
    "    print(f'epsilon: {epsilon}, max: {maxes[epsilon]}')\n",
    "best_epsilons['adam_mu'] = max(maxes, key=maxes.get)\n"
   ]
  },
  {
   "cell_type": "code",
   "execution_count": 69,
   "metadata": {},
   "outputs": [
    {
     "name": "stdout",
     "output_type": "stream",
     "text": [
      "epsilon: 10.0, max: -9795.40234375\n",
      "epsilon: 1.0, max: -9781.08203125\n",
      "epsilon: 0.1, max: -9633.3017578125\n",
      "epsilon: 0.01, max: -8880.5283203125\n",
      "epsilon: 0.001, max: -7021.21240234375\n",
      "epsilon: 0.0001, max: -7263.2607421875\n",
      "epsilon: 1e-05, max: -12022.0029296875\n"
     ]
    }
   ],
   "source": [
    "#P_adam_nu = diag_preconditioner(nu, eps=2e-3, exponent=0.3)\n",
    "maxes = {}\n",
    "for epsilon in epsilons:\n",
    "    P_adam_nu = diag_preconditioner(nu, eps=epsilon, exponent=0.5)\n",
    "    RESULTS[f'adam_nu_{epsilon}'] = get_estimates_vectorized_gauss(3000, \n",
    "                                                    sigma=sigma_epoch,\n",
    "                                                    preconditioner=P_adam_nu, \n",
    "                                                    fn=kl_fn, \n",
    "                                                    tol=1,\n",
    "                                                    y_tol=10,\n",
    "                                                    params=final_params.raveled, \n",
    "                                                    cutoff=CUTOFF)\n",
    "    maxes[epsilon] = RESULTS[f'adam_nu_{epsilon}'].estimates.max()\n",
    "    print(f'epsilon: {epsilon}, max: {maxes[epsilon]}')\n",
    "best_epsilons['adam_nu'] = max(maxes, key=maxes.get)\n"
   ]
  },
  {
   "cell_type": "code",
   "execution_count": 72,
   "metadata": {},
   "outputs": [
    {
     "name": "stdout",
     "output_type": "stream",
     "text": [
      "dict_keys(['naive', 'hessian', 'diagH', 'hesscale', 'adam_mu', 'adam_nu'])\n"
     ]
    }
   ],
   "source": [
    "BEST_RESULTS = {'naive': RESULTS['naive']}\n",
    "for key, value in best_epsilons.items():\n",
    "    BEST_RESULTS[key] = RESULTS[f'{key}_{value}']\n",
    "print(BEST_RESULTS.keys())"
   ]
  },
  {
   "cell_type": "markdown",
   "metadata": {},
   "source": [
    "## Plots"
   ]
  },
  {
   "cell_type": "code",
   "execution_count": 28,
   "metadata": {},
   "outputs": [],
   "source": [
    "def scaled_histogram(values, label, settings):\n",
    "    nbins = int(jnp.sqrt(len(values)))\n",
    "    # if label == 'hessian':\n",
    "    #     nbins = 5\n",
    "    counts, bins = jnp.histogram(values, bins=nbins)\n",
    "    counts = counts / counts.max()\n",
    "    plt.stairs(counts, bins, **dict(settings, label=label))"
   ]
  },
  {
   "cell_type": "code",
   "execution_count": 78,
   "metadata": {},
   "outputs": [
    {
     "data": {
      "image/png": "[encoded data removed]",
      "text/plain": [
       "<Figure size 800x600 with 1 Axes>"
      ]
     },
     "metadata": {},
     "output_type": "display_data"
    }
   ],
   "source": [
    "plt.figure(figsize=(8, 6))\n",
    "settings = {'alpha': 0.5, 'fill': True}\n",
    "for label, results in BEST_RESULTS.items():\n",
    "    # if label in ['hessian', 'adam_mu']:\n",
    "    #     continue\n",
    "    these_settings = dict(settings, label=label)\n",
    "    scaled_histogram(results.estimates / np.log(10), label, these_settings)\n",
    "plt.xlabel(\"log10 prob estimate\")\n",
    "plt.legend()\n",
    "plt.title(\"MLP KL basins: preconditioners\")\n",
    "plt.savefig(os.path.join(BASIN_VOLUME_DIR, \"plots\", \"mlp_basins.svg\"))\n",
    "plt.savefig(os.path.join(BASIN_VOLUME_DIR, \"plots\", \"mlp_basins.pdf\"))\n",
    "plt.show()\n"
   ]
  },
  {
   "cell_type": "code",
   "execution_count": null,
   "metadata": {},
   "outputs": [],
   "source": []
  }
 ],
 "metadata": {
  "kernelspec": {
   "display_name": "jax311",
   "language": "python",
   "name": "python3"
  },
  "language_info": {
   "codemirror_mode": {
    "name": "ipython",
    "version": 3
   },
   "file_extension": ".py",
   "mimetype": "text/x-python",
   "name": "python",
   "nbconvert_exporter": "python",
   "pygments_lexer": "ipython3",
   "version": "3.11.11"
  }
 },
 "nbformat": 4,
 "nbformat_minor": 2
}
