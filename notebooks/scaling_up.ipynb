{
 "cells": [
  {
   "cell_type": "code",
   "execution_count": 1,
   "metadata": {},
   "outputs": [],
   "source": [
    "%load_ext autoreload\n",
    "%autoreload 2\n",
    "\n",
    "import jax\n",
    "import jax.numpy as jnp\n",
    "import optax\n",
    "import matplotlib.pyplot as plt\n",
    "\n",
    "from basin_volume import *"
   ]
  },
  {
   "cell_type": "code",
   "execution_count": 2,
   "metadata": {},
   "outputs": [],
   "source": [
    "def make_kl_fn(probs_p, apply_fn, x, l2_reg):\n",
    "    def kl_fn(a, b):\n",
    "        params_q = a + b\n",
    "        logits_q = apply_fn(params_q, x)\n",
    "        logprobs_q = jax.nn.log_softmax(logits_q)\n",
    "        kl_term = optax.kl_divergence(logprobs_q, probs_p).mean()\n",
    "        l2_term = 1/2 * l2_reg * jnp.sum(b**2)\n",
    "        return kl_term + l2_term\n",
    "    return kl_fn\n",
    "\n",
    "def make_kl_fn_params(params_p, apply_fn, x, *, l2_reg):\n",
    "    logits_p = apply_fn(params_p, x)\n",
    "    probs_p = jax.nn.softmax(logits_p)\n",
    "    return make_kl_fn(probs_p, apply_fn, x, l2_reg=l2_reg)"
   ]
  },
  {
   "cell_type": "markdown",
   "metadata": {},
   "source": [
    "## Model-specific setup"
   ]
  },
  {
   "cell_type": "code",
   "execution_count": 3,
   "metadata": {},
   "outputs": [],
   "source": [
    "# we can set mesa_constrain=True and norm_scale=(float) to clamp the norm of the parameters\n",
    "# instead, we'll add an L2 penalty to the loss function here:\n",
    "cfg = MLPTrainConfig(train_size=1024, \n",
    "                     opt=\"adam\", \n",
    "                     lr=.05,\n",
    "                     l2_reg=5e-4,\n",
    "                     d_inner=64*8,\n",
    "                     num_layers=5,\n",
    "                    )"
   ]
  },
  {
   "cell_type": "code",
   "execution_count": 4,
   "metadata": {},
   "outputs": [],
   "source": [
    "# Train the model\n",
    "# This needs a refactor -- all the messiness is hiding in training.py\n",
    "# You don't need to worry about it to use this package with other models\n",
    "\n",
    "final_params, state, apply_fn, X_train = train_mlp(cfg)"
   ]
  },
  {
   "cell_type": "code",
   "execution_count": 5,
   "metadata": {},
   "outputs": [
    {
     "name": "stdout",
     "output_type": "stream",
     "text": [
      "(1089034,)\n"
     ]
    }
   ],
   "source": [
    "print(final_params.raveled.shape)"
   ]
  },
  {
   "cell_type": "code",
   "execution_count": 6,
   "metadata": {},
   "outputs": [],
   "source": [
    "kl_fn = make_kl_fn_params(final_params.raveled, apply_fn, X_train, l2_reg=0.)"
   ]
  },
  {
   "cell_type": "code",
   "execution_count": 7,
   "metadata": {},
   "outputs": [],
   "source": [
    "# H = jax.hessian(kl_fn, argnums=0)(final_params.raveled, 0)"
   ]
  },
  {
   "cell_type": "code",
   "execution_count": 7,
   "metadata": {},
   "outputs": [],
   "source": [
    "adam_state, _, schedule_state = state.opt_state\n",
    "mu, nu = adam_state.mu['p'], adam_state.nu['p']\n",
    "\n",
    "# standard deviation of the Gaussian we'll use to weight our estimates\n",
    "sigma_epoch = 1/jnp.sqrt(cfg.l2_reg * cfg.train_size)"
   ]
  },
  {
   "cell_type": "markdown",
   "metadata": {},
   "source": [
    "## Volume estimation"
   ]
  },
  {
   "cell_type": "code",
   "execution_count": 8,
   "metadata": {},
   "outputs": [],
   "source": [
    "CUTOFF = 1e-2\n",
    "\n",
    "RESULTS = {} # estimates, props, mults, deltas, logabsint"
   ]
  },
  {
   "cell_type": "code",
   "execution_count": 50,
   "metadata": {},
   "outputs": [
    {
     "name": "stdout",
     "output_type": "stream",
     "text": [
      "a.shape=()\n",
      "b.shape=(100,)\n",
      "c.shape=()\n",
      "global_max=Array([1458.2854, 1458.4987, 1458.3925, 1458.3307, 1458.5936, 1458.3999,\n",
      "       1458.6298, 1458.308 , 1458.2363, 1458.2874, 1458.2349, 1458.3783,\n",
      "       1458.5746, 1458.3119, 1458.2704, 1458.4615, 1458.5243, 1458.3707,\n",
      "       1458.6259, 1458.3809, 1458.2396, 1458.4254, 1458.4403, 1458.5597,\n",
      "       1458.3274, 1458.4525, 1458.5555, 1458.705 , 1458.4371, 1458.5585,\n",
      "       1458.391 , 1458.5563, 1458.3306, 1458.4663, 1458.609 , 1458.2739,\n",
      "       1458.1592, 1458.3799, 1458.3462, 1458.5254, 1458.5493, 1458.3639,\n",
      "       1458.4984, 1458.6577, 1458.5818, 1458.7068, 1458.6888, 1458.5294,\n",
      "       1458.4023, 1458.4158, 1458.4612, 1458.473 , 1458.3833, 1458.6617,\n",
      "       1458.5071, 1458.4944, 1458.4309, 1458.4868, 1458.3652, 1458.2925,\n",
      "       1458.3171, 1458.3136, 1458.4684, 1458.3998, 1458.3156, 1458.4343,\n",
      "       1458.4285, 1458.2277, 1458.2546, 1458.248 , 1458.538 , 1458.465 ,\n",
      "       1458.4202, 1458.3728, 1458.3306, 1458.3254, 1458.3198, 1458.5071,\n",
      "       1458.4359, 1458.3573, 1458.3751, 1458.6451, 1458.3271, 1458.4576,\n",
      "       1458.2617, 1458.496 , 1458.4807, 1458.2416, 1458.5762, 1458.3864,\n",
      "       1458.4446, 1458.5321, 1458.3296, 1458.2755, 1458.2701, 1458.4584,\n",
      "       1458.4093, 1458.3354, 1458.6023, 1458.3052], dtype=float32), global_in_range=Array([False, False, False, False, False, False, False, False, False,\n",
      "       False, False, False, False, False, False, False, False, False,\n",
      "       False, False, False, False, False, False, False, False, False,\n",
      "       False, False, False, False, False, False, False, False, False,\n",
      "       False, False, False, False, False, False, False, False, False,\n",
      "       False, False, False, False, False, False, False, False, False,\n",
      "       False, False, False, False, False, False, False, False, False,\n",
      "       False, False, False, False, False, False, False, False, False,\n",
      "       False, False, False, False, False, False, False, False, False,\n",
      "       False, False, False, False, False, False, False, False, False,\n",
      "       False, False, False, False, False, False, False, False, False,\n",
      "       False], dtype=bool)\n",
      "Catastrophic cancellation in rad_x1, using linear approximation\n",
      "a= 0.5120000839233398\n",
      "b= -0.14776533842086792\n",
      "n= 1089033\n",
      "x1= 32.42888259887695\n",
      "c= -15347.0439453125\n"
     ]
    },
    {
     "ename": "ValueError",
     "evalue": "Approximation error too high, raise tol or use quad",
     "output_type": "error",
     "traceback": [
      "\u001b[0;31m---------------------------------------------------------------------------\u001b[0m",
      "\u001b[0;31mValueError\u001b[0m                                Traceback (most recent call last)",
      "Cell \u001b[0;32mIn[50], line 1\u001b[0m\n\u001b[0;32m----> 1\u001b[0m RESULTS[\u001b[38;5;124m'\u001b[39m\u001b[38;5;124mnaive\u001b[39m\u001b[38;5;124m'\u001b[39m] \u001b[38;5;241m=\u001b[39m \u001b[43mget_estimates_vectorized_gauss\u001b[49m\u001b[43m(\u001b[49m\u001b[38;5;241;43m100\u001b[39;49m\u001b[43m,\u001b[49m\u001b[43m \u001b[49m\n\u001b[1;32m      2\u001b[0m \u001b[43m                                                  \u001b[49m\u001b[43msigma\u001b[49m\u001b[38;5;241;43m=\u001b[39;49m\u001b[43msigma_epoch\u001b[49m\u001b[43m,\u001b[49m\n\u001b[1;32m      3\u001b[0m \u001b[43m                                                  \u001b[49m\u001b[43mfn\u001b[49m\u001b[38;5;241;43m=\u001b[39;49m\u001b[43mkl_fn\u001b[49m\u001b[43m,\u001b[49m\u001b[43m \u001b[49m\n\u001b[1;32m      4\u001b[0m \u001b[43m                                                  \u001b[49m\u001b[43mparams\u001b[49m\u001b[38;5;241;43m=\u001b[39;49m\u001b[43mfinal_params\u001b[49m\u001b[38;5;241;43m.\u001b[39;49m\u001b[43mraveled\u001b[49m\u001b[43m,\u001b[49m\u001b[43m \u001b[49m\n\u001b[1;32m      5\u001b[0m \u001b[43m                                                  \u001b[49m\u001b[43mcutoff\u001b[49m\u001b[38;5;241;43m=\u001b[39;49m\u001b[43mCUTOFF\u001b[49m\u001b[43m,\u001b[49m\n\u001b[1;32m      6\u001b[0m \u001b[43m                                                  \u001b[49m\u001b[43mtol\u001b[49m\u001b[38;5;241;43m=\u001b[39;49m\u001b[38;5;241;43m1e-2\u001b[39;49m\u001b[43m,\u001b[49m\n\u001b[1;32m      7\u001b[0m \u001b[43m                                                  \u001b[49m\u001b[43mdebug\u001b[49m\u001b[38;5;241;43m=\u001b[39;49m\u001b[38;5;28;43;01mTrue\u001b[39;49;00m\u001b[43m,\u001b[49m\n\u001b[1;32m      8\u001b[0m \u001b[43m                                                 \u001b[49m\u001b[43m)\u001b[49m\n",
      "File \u001b[0;32m~/src/basin-volume/src/basin_volume/volume.py:79\u001b[0m, in \u001b[0;36mget_estimates_vectorized_gauss\u001b[0;34m(n, sigma, preconditioner, fn, unary_fn, params, gaussint_fn, debug, tol, seed, **kwargs)\u001b[0m\n\u001b[1;32m     76\u001b[0m \u001b[38;5;28;01mif\u001b[39;00m debug:\n\u001b[1;32m     77\u001b[0m     \u001b[38;5;28mprint\u001b[39m(\u001b[38;5;124mf\u001b[39m\u001b[38;5;124m\"\u001b[39m\u001b[38;5;132;01m{\u001b[39;00ma\u001b[38;5;241m.\u001b[39mshape\u001b[38;5;132;01m=}\u001b[39;00m\u001b[38;5;130;01m\\n\u001b[39;00m\u001b[38;5;132;01m{\u001b[39;00mb\u001b[38;5;241m.\u001b[39mshape\u001b[38;5;132;01m=}\u001b[39;00m\u001b[38;5;130;01m\\n\u001b[39;00m\u001b[38;5;132;01m{\u001b[39;00mc\u001b[38;5;241m.\u001b[39mshape\u001b[38;5;132;01m=}\u001b[39;00m\u001b[38;5;124m\"\u001b[39m)\n\u001b[0;32m---> 79\u001b[0m logabsint \u001b[38;5;241m=\u001b[39m \u001b[43mgaussint_fn\u001b[49m\u001b[43m(\u001b[49m\u001b[43ma\u001b[49m\u001b[38;5;241;43m=\u001b[39;49m\u001b[43ma\u001b[49m\u001b[43m,\u001b[49m\u001b[43m \u001b[49m\u001b[43mb\u001b[49m\u001b[38;5;241;43m=\u001b[39;49m\u001b[43mb\u001b[49m\u001b[43m,\u001b[49m\u001b[43m \u001b[49m\u001b[43mn\u001b[49m\u001b[38;5;241;43m=\u001b[39;49m\u001b[43mD\u001b[49m\u001b[38;5;241;43m-\u001b[39;49m\u001b[38;5;241;43m1\u001b[39;49m\u001b[43m,\u001b[49m\u001b[43m \u001b[49m\u001b[43mx1\u001b[49m\u001b[38;5;241;43m=\u001b[39;49m\u001b[43mx1\u001b[49m\u001b[43m,\u001b[49m\u001b[43m \u001b[49m\u001b[43mc\u001b[49m\u001b[38;5;241;43m=\u001b[39;49m\u001b[43mc\u001b[49m\u001b[43m,\u001b[49m\u001b[43m \u001b[49m\u001b[43mtol\u001b[49m\u001b[38;5;241;43m=\u001b[39;49m\u001b[43mtol\u001b[49m\u001b[43m,\u001b[49m\u001b[43m \u001b[49m\u001b[43mdebug\u001b[49m\u001b[38;5;241;43m=\u001b[39;49m\u001b[43mdebug\u001b[49m\u001b[43m)\u001b[49m\n\u001b[1;32m     80\u001b[0m \u001b[38;5;66;03m# assert jnp.all(sgn == 1), sgn\u001b[39;00m\n\u001b[1;32m     81\u001b[0m logconst \u001b[38;5;241m=\u001b[39m log_hyperball_volume(D) \u001b[38;5;241m+\u001b[39m jnp\u001b[38;5;241m.\u001b[39mlog(D) \u001b[38;5;241m-\u001b[39m (D\u001b[38;5;241m/\u001b[39m\u001b[38;5;241m2\u001b[39m) \u001b[38;5;241m*\u001b[39m jnp\u001b[38;5;241m.\u001b[39mlog(\u001b[38;5;241m2\u001b[39m \u001b[38;5;241m*\u001b[39m jnp\u001b[38;5;241m.\u001b[39mpi \u001b[38;5;241m*\u001b[39m sigma\u001b[38;5;241m*\u001b[39m\u001b[38;5;241m*\u001b[39m\u001b[38;5;241m2\u001b[39m)\n",
      "File \u001b[0;32m~/src/basin-volume/src/basin_volume/math.py:134\u001b[0m, in \u001b[0;36mgaussint_ln_noncentral_erf\u001b[0;34m(a, b, n, x1, c, tol, debug)\u001b[0m\n\u001b[1;32m    132\u001b[0m             \u001b[38;5;28;01melse\u001b[39;00m:\n\u001b[1;32m    133\u001b[0m                 \u001b[38;5;28mprint\u001b[39m(\u001b[38;5;124mf\u001b[39m\u001b[38;5;124m\"\u001b[39m\u001b[38;5;132;01m{\u001b[39;00mname\u001b[38;5;132;01m}\u001b[39;00m\u001b[38;5;124m= \u001b[39m\u001b[38;5;132;01m{\u001b[39;00mvar\u001b[38;5;132;01m}\u001b[39;00m\u001b[38;5;124m\"\u001b[39m)\n\u001b[0;32m--> 134\u001b[0m     \u001b[38;5;28;01mraise\u001b[39;00m \u001b[38;5;167;01mValueError\u001b[39;00m(\u001b[38;5;124m\"\u001b[39m\u001b[38;5;124mApproximation error too high, raise tol or use quad\u001b[39m\u001b[38;5;124m\"\u001b[39m)\n\u001b[1;32m    136\u001b[0m \u001b[38;5;66;03m# use erf to integrate\u001b[39;00m\n\u001b[1;32m    137\u001b[0m \u001b[38;5;28;01mif\u001b[39;00m debug:\n",
      "\u001b[0;31mValueError\u001b[0m: Approximation error too high, raise tol or use quad"
     ]
    }
   ],
   "source": [
    "RESULTS['naive'] = get_estimates_vectorized_gauss(100, \n",
    "                                                  sigma=sigma_epoch,\n",
    "                                                  fn=kl_fn, \n",
    "                                                  params=final_params.raveled, \n",
    "                                                  cutoff=CUTOFF,\n",
    "                                                  tol=1e-2,\n",
    "                                                  debug=True,\n",
    "                                                 )\n"
   ]
  },
  {
   "cell_type": "code",
   "execution_count": 18,
   "metadata": {},
   "outputs": [],
   "source": [
    "Array = jnp.array\n",
    "float32 = jnp.float32"
   ]
  },
  {
   "cell_type": "code",
   "execution_count": 42,
   "metadata": {},
   "outputs": [
    {
     "data": {
      "text/plain": [
       "Array(3619077.2, dtype=float32)"
      ]
     },
     "execution_count": 42,
     "metadata": {},
     "output_type": "execute_result"
    }
   ],
   "source": [
    "gaussint_ln_noncentral_erf(a=0.5120001, b=-0.03600831, n=1089033, x1=28.148438, c=-15347.044)"
   ]
  },
  {
   "cell_type": "code",
   "execution_count": 51,
   "metadata": {},
   "outputs": [
    {
     "name": "stdout",
     "output_type": "stream",
     "text": [
      "global_max=Array(1458.2854, dtype=float32, weak_type=True), global_in_range=Array(False, dtype=bool, weak_type=True)\n"
     ]
    }
   ],
   "source": [
    "a= 0.5120000839233398\n",
    "b= -0.14776533842086792\n",
    "n= 1089033\n",
    "x1= 32.42888259887695\n",
    "c= -15347.0439453125\n",
    "debug = True\n",
    "tol = 1e-2\n",
    "\n",
    "mu = b / a\n",
    "center = mu / 2\n",
    "dist = jnp.sqrt(mu**2 + 4 * n / a) / 2\n",
    "global_max = center + dist\n",
    "global_in_range = global_max <= x1\n",
    "if debug:\n",
    "    print(f\"{global_max=}, {global_in_range=}\")\n",
    "max_pt = jnp.minimum(global_max, x1)\n",
    "# get approximation stuff\n",
    "log_fn = log_fn_factory(a, b, n)\n",
    "dlog_fn = dlog_fn_factory(a, b, n)\n",
    "d2log_fn = d2log_fn_factory(a, b, n)\n",
    "f0 = log_fn(max_pt)\n",
    "f1 = dlog_fn(max_pt)\n",
    "f2 = d2log_fn(max_pt)\n",
    "approx_log_fn = lambda x: f0 + f1 * (x - max_pt) + 1/2 * f2 * (x - max_pt)**2\n",
    "\n",
    "# global in range:\n",
    "# extrapolate down by tol\n",
    "y_tol = -jnp.log(tol)\n",
    "rad_global = jnp.sqrt(2 * y_tol / -f2)\n",
    "check_low_global = jnp.clip(max_pt - rad_global, 0, x1)\n",
    "check_high_global = jnp.clip(max_pt + rad_global, 0, x1)\n",
    "# check approximation error at those points\n",
    "error_low_global = log_fn(check_low_global) - approx_log_fn(check_low_global)\n",
    "error_high_global = log_fn(check_high_global) - approx_log_fn(check_high_global)\n",
    "abs_error_global = jnp.maximum(jnp.abs(error_low_global), jnp.abs(error_high_global))\n",
    "\n",
    "# global out of range:\n",
    "# extrapolate down by tol\n",
    "rad_x1 = f1 / -f2 - jnp.sqrt(f1**2 / f2**2 + 2 * y_tol / -f2)"
   ]
  },
  {
   "cell_type": "code",
   "execution_count": 52,
   "metadata": {},
   "outputs": [
    {
     "name": "stdout",
     "output_type": "stream",
     "text": [
      "-0.0001335144\n",
      "32.39669 -32.396824\n"
     ]
    }
   ],
   "source": [
    "print(rad_x1)\n",
    "print(f1 / -f2, - jnp.sqrt(f1**2 / f2**2 + 2 * y_tol / -f2))"
   ]
  },
  {
   "cell_type": "code",
   "execution_count": 53,
   "metadata": {},
   "outputs": [
    {
     "data": {
      "text/plain": [
       "Array(-0.0001372, dtype=float32, weak_type=True)"
      ]
     },
     "execution_count": 53,
     "metadata": {},
     "output_type": "execute_result"
    }
   ],
   "source": [
    "-y_tol / f1"
   ]
  },
  {
   "cell_type": "code",
   "execution_count": 55,
   "metadata": {},
   "outputs": [
    {
     "data": {
      "text/plain": [
       "(Array(3788525.8, dtype=float32, weak_type=True),\n",
       " Array(33565.44, dtype=float32, weak_type=True),\n",
       " Array(-1036.0763, dtype=float32, weak_type=True))"
      ]
     },
     "execution_count": 55,
     "metadata": {},
     "output_type": "execute_result"
    }
   ],
   "source": [
    "f0, f1, f2"
   ]
  },
  {
   "cell_type": "code",
   "execution_count": 38,
   "metadata": {},
   "outputs": [
    {
     "data": {
      "text/plain": [
       "(Array(28.127447, dtype=float32, weak_type=True),\n",
       " Array(0.00011908, dtype=float32, weak_type=True))"
      ]
     },
     "execution_count": 38,
     "metadata": {},
     "output_type": "execute_result"
    }
   ],
   "source": [
    "(jnp.abs(f1/-f2), jnp.abs(y_tol / f1))"
   ]
  },
  {
   "cell_type": "code",
   "execution_count": 63,
   "metadata": {},
   "outputs": [
    {
     "name": "stdout",
     "output_type": "stream",
     "text": [
      "upper=Array(3788515.2, dtype=float32), lower=Array(2155239.2, dtype=float32)\n"
     ]
    },
    {
     "data": {
      "text/plain": [
       "Array(3773168.2, dtype=float32)"
      ]
     },
     "execution_count": 63,
     "metadata": {},
     "output_type": "execute_result"
    }
   ],
   "source": [
    "f012_int_ln(max_pt, x1, f0, f1, f2, debug=debug) + c"
   ]
  },
  {
   "cell_type": "code",
   "execution_count": 70,
   "metadata": {},
   "outputs": [
    {
     "name": "stdout",
     "output_type": "stream",
     "text": [
      "max_pt = Array(32.428883, dtype=float32, weak_type=True)\n",
      "x1 = 32.42888259887695\n",
      "f0 = Array(3788525.8, dtype=float32, weak_type=True)\n",
      "f1 = Array(33565.44, dtype=float32, weak_type=True)\n",
      "f2 = Array(-1036.0763, dtype=float32, weak_type=True)\n",
      "c = -15347.0439453125\n",
      "(x1 - max_pt).item() =0.0\n"
     ]
    }
   ],
   "source": [
    "print(f\"{max_pt = }\\n{x1 = }\\n{f0 = }\\n{f1 = }\\n{f2 = }\\n{c = }\")\n",
    "print(f\"{(x1 - max_pt).item() =}\")"
   ]
  },
  {
   "cell_type": "code",
   "execution_count": 71,
   "metadata": {},
   "outputs": [
    {
     "data": {
      "text/plain": [
       "Array(True, dtype=bool, weak_type=True)"
      ]
     },
     "execution_count": 71,
     "metadata": {},
     "output_type": "execute_result"
    }
   ],
   "source": [
    "x1 == max_pt"
   ]
  },
  {
   "cell_type": "code",
   "execution_count": 62,
   "metadata": {},
   "outputs": [
    {
     "data": {
      "image/png": "[encoded data removed]",
      "text/plain": [
       "<Figure size 640x480 with 1 Axes>"
      ]
     },
     "metadata": {},
     "output_type": "display_data"
    }
   ],
   "source": [
    "xs = jnp.linspace(x1 + 2 * rad_x1, x1, 1000)\n",
    "plt.plot(xs, log_fn(xs) - log_fn(max_pt), label=\"log_fn\")\n",
    "plt.plot(xs, approx_log_fn(xs) - log_fn(max_pt), label=\"approx_log_fn\")\n",
    "plt.ylim(bottom=(approx_log_fn(xs).min() - log_fn(max_pt)))\n",
    "plt.axvline(x=x1, color='r', linestyle='--', label=\"max_pt\")\n",
    "plt.axvline(x=x1 + rad_x1, color='g', linestyle='--', label=\"x1 + rad_x1\")\n",
    "plt.legend()\n",
    "plt.show()"
   ]
  },
  {
   "cell_type": "code",
   "execution_count": null,
   "metadata": {},
   "outputs": [
    {
     "data": {
      "text/plain": [
       "(1089034,)"
      ]
     },
     "metadata": {},
     "output_type": "display_data"
    }
   ],
   "source": [
    "final_params.raveled.shape"
   ]
  },
  {
   "cell_type": "code",
   "execution_count": 52,
   "metadata": {},
   "outputs": [
    {
     "name": "stderr",
     "output_type": "stream",
     "text": [
      "2024-12-13 02:42:03.742735: W external/xla/xla/hlo/transforms/simplifiers/hlo_rematerialization.cc:3020] Can't reduce memory use below -4.07TiB (-4470416519688 bytes) by rematerialization; only reduced to 4.31TiB (4743980212624 bytes), down from 4.31TiB (4743980212624 bytes) originally\n",
      "2024-12-13 02:42:03.744528: E external/xla/xla/status_macros.cc:56] INTERNAL: RET_CHECK failure (external/xla/xla/service/gpu/fusions/fusion_emitter.cc:95) device_info.block_dim_limit().x == 0 || launch_dims.block_counts().x < device_info.block_dim_limit().x Kernel 'loop_select_fusion' launch needs more blocks (2316396589) than allowed by hardware (2147483647).\n",
      "*** Begin stack trace ***\n",
      "\t\n",
      "\t\n",
      "\t\n",
      "\t\n",
      "\t\n",
      "\t\n",
      "\t\n",
      "\t\n",
      "\t\n",
      "\t\n",
      "\t\n",
      "\t\n",
      "\t\n",
      "\t\n",
      "\t\n",
      "\t\n",
      "\t\n",
      "\t\n",
      "\t\n",
      "\t\n",
      "\t\n",
      "\t\n",
      "\t\n",
      "\t\n",
      "\t\n",
      "\t\n",
      "\t\n",
      "\t\n",
      "\t\n",
      "\t\n",
      "\t\n",
      "\tPyObject_Vectorcall\n",
      "\t_PyEval_EvalFrameDefault\n",
      "\t_PyFunction_Vectorcall\n",
      "\t_PyEval_EvalFrameDefault\n",
      "\t_PyFunction_Vectorcall\n",
      "\tPyObject_Vectorcall\n",
      "\t\n",
      "\t\n",
      "\t\n",
      "\t\n",
      "\t\n",
      "\t_PyObject_FastCallDictTstate\n",
      "\t_PyObject_Call_Prepend\n",
      "\t\n",
      "\t_PyObject_MakeTpCall\n",
      "\t_PyEval_EvalFrameDefault\n",
      "\t_PyFunction_Vectorcall\n",
      "\tPyObject_Call\n",
      "\t_PyEval_EvalFrameDefault\n",
      "\t_PyFunction_Vectorcall\n",
      "\tPyObject_Call\n",
      "\t_PyEval_EvalFrameDefault\n",
      "\t_PyFunction_Vectorcall\n",
      "\tPyObject_Vectorcall\n",
      "\t\n",
      "\t\n",
      "\t_PyEval_EvalFrameDefault\n",
      "\t_PyFunction_Vectorcall\n",
      "\tPyObject_Call\n",
      "\t_PyEval_EvalFrameDefault\n",
      "\t\n",
      "\t\n",
      "\tPyObject_Call\n",
      "\t_PyEval_EvalFrameDefault\n",
      "\t_PyFunction_Vectorcall\n",
      "\t_PyEval_EvalFrameDefault\n",
      "\t_PyFunction_Vectorcall\n",
      "\t_PyEval_EvalFrameDefault\n",
      "\t_PyFunction_Vectorcall\n",
      "\tPyObject_Vectorcall\n",
      "\t\n",
      "\t\n",
      "\tPyObject_Vectorcall\n",
      "\t_PyEval_EvalFrameDefault\n",
      "\t\n",
      "\tPyEval_EvalCode\n",
      "\t\n",
      "\t_PyEval_EvalFrameDefault\n",
      "\t\n",
      "\t_PyEval_EvalFrameDefault\n",
      "\t\n",
      "\t_PyEval_EvalFrameDefault\n",
      "\t\n",
      "\t\n",
      "\t_PyEval_EvalFrameDefault\n",
      "\t\n",
      "\t\n",
      "\tPyObject_Call\n",
      "\t_PyEval_EvalFrameDefault\n",
      "\t\n",
      "\t_PyEval_EvalFrameDefault\n",
      "\t\n",
      "\t_PyEval_EvalFrameDefault\n",
      "\t\n",
      "\t_PyEval_EvalFrameDefault\n",
      "\t\n",
      "\t_PyEval_EvalFrameDefault\n",
      "\t\n",
      "\t_PyEval_EvalFrameDefault\n",
      "\t\n",
      "\t\n",
      "\t\n",
      "\t\n",
      "\t\n",
      "\t\n",
      "\t_PyEval_EvalFrameDefault\n",
      "\t\n",
      "\tPyEval_EvalCode\n",
      "\t\n",
      "\t\n",
      "\tPyObject_Vectorcall\n",
      "\t_PyEval_EvalFrameDefault\n",
      "\t_PyFunction_Vectorcall\n",
      "\t\n",
      "\tPy_RunMain\n",
      "\tPy_BytesMain\n",
      "\t\n",
      "\t__libc_start_main\n",
      "\t\n",
      "*** End stack trace ***\n",
      "\n"
     ]
    },
    {
     "ename": "XlaRuntimeError",
     "evalue": "INTERNAL: RET_CHECK failure (external/xla/xla/service/gpu/fusions/fusion_emitter.cc:95) device_info.block_dim_limit().x == 0 || launch_dims.block_counts().x < device_info.block_dim_limit().x Kernel 'loop_select_fusion' launch needs more blocks (2316396589) than allowed by hardware (2147483647).",
     "output_type": "error",
     "traceback": [
      "\u001b[0;31m---------------------------------------------------------------------------\u001b[0m",
      "\u001b[0;31mXlaRuntimeError\u001b[0m                           Traceback (most recent call last)",
      "Cell \u001b[0;32mIn[52], line 1\u001b[0m\n\u001b[0;32m----> 1\u001b[0m P_adam_mu \u001b[38;5;241m=\u001b[39m \u001b[43mdiag_preconditioner\u001b[49m\u001b[43m(\u001b[49m\u001b[43mmu\u001b[49m\u001b[43m,\u001b[49m\u001b[43m \u001b[49m\u001b[43meps\u001b[49m\u001b[38;5;241;43m=\u001b[39;49m\u001b[38;5;241;43m4e-3\u001b[39;49m\u001b[43m,\u001b[49m\u001b[43m \u001b[49m\u001b[43mexponent\u001b[49m\u001b[38;5;241;43m=\u001b[39;49m\u001b[38;5;241;43m0.3\u001b[39;49m\u001b[43m)\u001b[49m\n\u001b[1;32m      2\u001b[0m RESULTS[\u001b[38;5;124m'\u001b[39m\u001b[38;5;124madam_mu\u001b[39m\u001b[38;5;124m'\u001b[39m] \u001b[38;5;241m=\u001b[39m get_estimates_vectorized_gauss(\u001b[38;5;241m100\u001b[39m, \n\u001b[1;32m      3\u001b[0m                                                     sigma\u001b[38;5;241m=\u001b[39msigma_epoch,\n\u001b[1;32m      4\u001b[0m                                                     preconditioner\u001b[38;5;241m=\u001b[39mP_adam_mu, \n\u001b[0;32m   (...)\u001b[0m\n\u001b[1;32m      8\u001b[0m                                                     tol\u001b[38;5;241m=\u001b[39m\u001b[38;5;241m10\u001b[39m,\n\u001b[1;32m      9\u001b[0m                                                     )\n",
      "File \u001b[0;32m~/src/basin-volume/src/basin_volume/precondition.py:18\u001b[0m, in \u001b[0;36mdiag_preconditioner\u001b[0;34m(spec, eps, exponent)\u001b[0m\n\u001b[1;32m     16\u001b[0m logp_norm \u001b[38;5;241m=\u001b[39m logp \u001b[38;5;241m-\u001b[39m jnp\u001b[38;5;241m.\u001b[39mmean(logp)\n\u001b[1;32m     17\u001b[0m p \u001b[38;5;241m=\u001b[39m jnp\u001b[38;5;241m.\u001b[39mexp(logp_norm)\n\u001b[0;32m---> 18\u001b[0m P_scale \u001b[38;5;241m=\u001b[39m \u001b[43mjnp\u001b[49m\u001b[38;5;241;43m.\u001b[39;49m\u001b[43mdiag\u001b[49m\u001b[43m(\u001b[49m\u001b[43mp\u001b[49m\u001b[43m)\u001b[49m\n\u001b[1;32m     19\u001b[0m \u001b[38;5;28;01mreturn\u001b[39;00m P_scale\n",
      "File \u001b[0;32m~/.conda/envs/jax311/lib/python3.11/site-packages/jax/_src/numpy/lax_numpy.py:8103\u001b[0m, in \u001b[0;36mdiag\u001b[0;34m(v, k)\u001b[0m\n\u001b[1;32m   8056\u001b[0m \u001b[38;5;28;01mdef\u001b[39;00m \u001b[38;5;21mdiag\u001b[39m(v: ArrayLike, k: \u001b[38;5;28mint\u001b[39m \u001b[38;5;241m=\u001b[39m \u001b[38;5;241m0\u001b[39m) \u001b[38;5;241m-\u001b[39m\u001b[38;5;241m>\u001b[39m Array:\n\u001b[1;32m   8057\u001b[0m \u001b[38;5;250m  \u001b[39m\u001b[38;5;124;03m\"\"\"Returns the specified diagonal or constructs a diagonal array.\u001b[39;00m\n\u001b[1;32m   8058\u001b[0m \n\u001b[1;32m   8059\u001b[0m \u001b[38;5;124;03m  JAX implementation of :func:`numpy.diag`.\u001b[39;00m\n\u001b[0;32m   (...)\u001b[0m\n\u001b[1;32m   8101\u001b[0m \u001b[38;5;124;03m    Array([1, 5, 9], dtype=int32)\u001b[39;00m\n\u001b[1;32m   8102\u001b[0m \u001b[38;5;124;03m  \"\"\"\u001b[39;00m\n\u001b[0;32m-> 8103\u001b[0m   \u001b[38;5;28;01mreturn\u001b[39;00m \u001b[43m_diag\u001b[49m\u001b[43m(\u001b[49m\u001b[43mv\u001b[49m\u001b[43m,\u001b[49m\u001b[43m \u001b[49m\u001b[43moperator\u001b[49m\u001b[38;5;241;43m.\u001b[39;49m\u001b[43mindex\u001b[49m\u001b[43m(\u001b[49m\u001b[43mk\u001b[49m\u001b[43m)\u001b[49m\u001b[43m)\u001b[49m\n",
      "    \u001b[0;31m[... skipping hidden 16 frame]\u001b[0m\n",
      "File \u001b[0;32m~/.conda/envs/jax311/lib/python3.11/site-packages/jax/_src/compiler.py:267\u001b[0m, in \u001b[0;36mbackend_compile\u001b[0;34m(backend, module, options, host_callbacks)\u001b[0m\n\u001b[1;32m    261\u001b[0m     \u001b[38;5;28;01mreturn\u001b[39;00m backend\u001b[38;5;241m.\u001b[39mcompile(\n\u001b[1;32m    262\u001b[0m         built_c, compile_options\u001b[38;5;241m=\u001b[39moptions, host_callbacks\u001b[38;5;241m=\u001b[39mhost_callbacks\n\u001b[1;32m    263\u001b[0m     )\n\u001b[1;32m    264\u001b[0m   \u001b[38;5;66;03m# Some backends don't have `host_callbacks` option yet\u001b[39;00m\n\u001b[1;32m    265\u001b[0m   \u001b[38;5;66;03m# TODO(sharadmv): remove this fallback when all backends allow `compile`\u001b[39;00m\n\u001b[1;32m    266\u001b[0m   \u001b[38;5;66;03m# to take in `host_callbacks`\u001b[39;00m\n\u001b[0;32m--> 267\u001b[0m   \u001b[38;5;28;01mreturn\u001b[39;00m \u001b[43mbackend\u001b[49m\u001b[38;5;241;43m.\u001b[39;49m\u001b[43mcompile\u001b[49m\u001b[43m(\u001b[49m\u001b[43mbuilt_c\u001b[49m\u001b[43m,\u001b[49m\u001b[43m \u001b[49m\u001b[43mcompile_options\u001b[49m\u001b[38;5;241;43m=\u001b[39;49m\u001b[43moptions\u001b[49m\u001b[43m)\u001b[49m\n\u001b[1;32m    268\u001b[0m \u001b[38;5;28;01mexcept\u001b[39;00m xc\u001b[38;5;241m.\u001b[39mXlaRuntimeError \u001b[38;5;28;01mas\u001b[39;00m e:\n\u001b[1;32m    269\u001b[0m   \u001b[38;5;28;01mfor\u001b[39;00m error_handler \u001b[38;5;129;01min\u001b[39;00m _XLA_RUNTIME_ERROR_HANDLERS:\n",
      "\u001b[0;31mXlaRuntimeError\u001b[0m: INTERNAL: RET_CHECK failure (external/xla/xla/service/gpu/fusions/fusion_emitter.cc:95) device_info.block_dim_limit().x == 0 || launch_dims.block_counts().x < device_info.block_dim_limit().x Kernel 'loop_select_fusion' launch needs more blocks (2316396589) than allowed by hardware (2147483647)."
     ]
    }
   ],
   "source": [
    "P_adam_mu = diag_preconditioner(mu, eps=4e-3, exponent=0.3)\n",
    "RESULTS['adam_mu'] = get_estimates_vectorized_gauss(100, \n",
    "                                                    sigma=sigma_epoch,\n",
    "                                                    preconditioner=P_adam_mu, \n",
    "                                                    fn=kl_fn, \n",
    "                                                    params=final_params.raveled, \n",
    "                                                    cutoff=CUTOFF,\n",
    "                                                    tol=10,\n",
    "                                                    )\n"
   ]
  },
  {
   "cell_type": "code",
   "execution_count": 19,
   "metadata": {},
   "outputs": [],
   "source": [
    "P_adam_nu = diag_preconditioner(nu, eps=2e-3, exponent=0.3)\n",
    "RESULTS['adam_nu'] = get_estimates_vectorized_gauss(3000, \n",
    "                                                    sigma=sigma_epoch,\n",
    "                                                    preconditioner=P_adam_nu, \n",
    "                                                    fn=kl_fn, \n",
    "                                                    params=final_params.raveled, \n",
    "                                                    cutoff=CUTOFF)\n"
   ]
  },
  {
   "cell_type": "markdown",
   "metadata": {},
   "source": [
    "## Plots"
   ]
  },
  {
   "cell_type": "code",
   "execution_count": 21,
   "metadata": {},
   "outputs": [],
   "source": [
    "def scaled_histogram(values, label, settings):\n",
    "    nbins = int(jnp.sqrt(len(values)))\n",
    "    # if label == 'hessian':\n",
    "    #     nbins = 5\n",
    "    counts, bins = jnp.histogram(values, bins=nbins)\n",
    "    counts = counts / counts.max()\n",
    "    plt.stairs(counts, bins, **dict(settings, label=label))"
   ]
  },
  {
   "cell_type": "code",
   "execution_count": 23,
   "metadata": {},
   "outputs": [
    {
     "data": {
      "image/png": "[encoded data removed]",
      "text/plain": [
       "<Figure size 640x480 with 1 Axes>"
      ]
     },
     "metadata": {},
     "output_type": "display_data"
    }
   ],
   "source": [
    "settings = {'alpha': 0.5, 'fill': True}\n",
    "for label, results in RESULTS.items():\n",
    "    # if label in ['hessian', 'adam_mu']:\n",
    "    #     continue\n",
    "    these_settings = dict(settings, label=label)\n",
    "    scaled_histogram(results[0] + 10_000, label, these_settings)\n",
    "plt.xlabel(\"log prob estimate + 10,000\")\n",
    "plt.legend()\n",
    "plt.title(\"KL divergence\")\n",
    "plt.show()"
   ]
  }
 ],
 "metadata": {
  "kernelspec": {
   "display_name": "jax311",
   "language": "python",
   "name": "python3"
  },
  "language_info": {
   "codemirror_mode": {
    "name": "ipython",
    "version": 3
   },
   "file_extension": ".py",
   "mimetype": "text/x-python",
   "name": "python",
   "nbconvert_exporter": "python",
   "pygments_lexer": "ipython3",
   "version": "3.11.11"
  }
 },
 "nbformat": 4,
 "nbformat_minor": 2
}
