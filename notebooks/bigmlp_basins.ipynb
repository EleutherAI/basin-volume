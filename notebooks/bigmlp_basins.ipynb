{
 "cells": [
  {
   "cell_type": "code",
   "execution_count": 1,
   "metadata": {},
   "outputs": [],
   "source": [
    "%load_ext autoreload\n",
    "%autoreload 2\n",
    "\n",
    "import jax\n",
    "import jax.numpy as jnp\n",
    "import optax\n",
    "import matplotlib.pyplot as plt\n",
    "\n",
    "from basin_volume import *\n",
    "from basin_volume.math import *"
   ]
  },
  {
   "cell_type": "code",
   "execution_count": 2,
   "metadata": {},
   "outputs": [],
   "source": [
    "def make_kl_fn(probs_p, apply_fn, x, l2_reg):\n",
    "    def kl_fn(a, b):\n",
    "        params_q = a + b\n",
    "        logits_q = apply_fn(params_q, x)\n",
    "        logprobs_q = jax.nn.log_softmax(logits_q)\n",
    "        kl_term = optax.kl_divergence(logprobs_q, probs_p).mean()\n",
    "        l2_term = 1/2 * l2_reg * jnp.sum(b**2)\n",
    "        return kl_term + l2_term\n",
    "    return kl_fn\n",
    "\n",
    "def make_kl_fn_params(params_p, apply_fn, x, *, l2_reg):\n",
    "    logits_p = apply_fn(params_p, x)\n",
    "    probs_p = jax.nn.softmax(logits_p)\n",
    "    return make_kl_fn(probs_p, apply_fn, x, l2_reg=l2_reg)"
   ]
  },
  {
   "cell_type": "markdown",
   "metadata": {},
   "source": [
    "## Model-specific setup"
   ]
  },
  {
   "cell_type": "code",
   "execution_count": 3,
   "metadata": {},
   "outputs": [],
   "source": [
    "# we can set mesa_constrain=True and norm_scale=(float) to clamp the norm of the parameters\n",
    "# instead, we'll add an L2 penalty to the loss function here:\n",
    "cfg = MLPTrainConfig(train_size=1024, \n",
    "                     opt=\"adam\", \n",
    "                     lr=.05,\n",
    "                     l2_reg=5e-4,\n",
    "                     d_inner=64*8,\n",
    "                     num_layers=5,\n",
    "                    )"
   ]
  },
  {
   "cell_type": "code",
   "execution_count": 4,
   "metadata": {},
   "outputs": [],
   "source": [
    "# Train the model\n",
    "# This needs a refactor -- all the messiness is hiding in training.py\n",
    "# You don't need to worry about it to use this package with other models\n",
    "\n",
    "final_params, state, apply_fn, X_train = train_mlp(cfg)"
   ]
  },
  {
   "cell_type": "code",
   "execution_count": 5,
   "metadata": {},
   "outputs": [
    {
     "name": "stdout",
     "output_type": "stream",
     "text": [
      "(1089034,)\n"
     ]
    }
   ],
   "source": [
    "print(final_params.raveled.shape)"
   ]
  },
  {
   "cell_type": "code",
   "execution_count": 6,
   "metadata": {},
   "outputs": [],
   "source": [
    "kl_fn = make_kl_fn_params(final_params.raveled, apply_fn, X_train, l2_reg=0.)"
   ]
  },
  {
   "cell_type": "code",
   "execution_count": 7,
   "metadata": {},
   "outputs": [],
   "source": [
    "# H = jax.hessian(kl_fn, argnums=0)(final_params.raveled, 0)"
   ]
  },
  {
   "cell_type": "code",
   "execution_count": 7,
   "metadata": {},
   "outputs": [],
   "source": [
    "adam_state, _, schedule_state = state.opt_state\n",
    "mu, nu = adam_state.mu['p'], adam_state.nu['p']\n",
    "\n",
    "# standard deviation of the Gaussian we'll use to weight our estimates\n",
    "sigma_epoch = 1/jnp.sqrt(cfg.l2_reg * cfg.train_size)"
   ]
  },
  {
   "cell_type": "code",
   "execution_count": 15,
   "metadata": {},
   "outputs": [
    {
     "name": "stdout",
     "output_type": "stream",
     "text": [
      "1.3975424\n"
     ]
    }
   ],
   "source": [
    "print(sigma_epoch)"
   ]
  },
  {
   "cell_type": "code",
   "execution_count": 14,
   "metadata": {},
   "outputs": [
    {
     "name": "stdout",
     "output_type": "stream",
     "text": [
      "0.23462357\n"
     ]
    }
   ],
   "source": [
    "print(jnp.sqrt(jnp.mean(final_params.raveled**2, axis=0)))\n"
   ]
  },
  {
   "cell_type": "markdown",
   "metadata": {},
   "source": [
    "## Volume estimation"
   ]
  },
  {
   "cell_type": "code",
   "execution_count": 8,
   "metadata": {},
   "outputs": [],
   "source": [
    "CUTOFF = 1e-2\n",
    "\n",
    "RESULTS = {} # estimates, props, mults, deltas, logabsint"
   ]
  },
  {
   "cell_type": "code",
   "execution_count": 138,
   "metadata": {},
   "outputs": [],
   "source": [
    "RESULTS['naive'] = get_estimates_vectorized_gauss(1000, \n",
    "                                                  sigma=sigma_epoch,\n",
    "                                                  fn=kl_fn, \n",
    "                                                  params=final_params.raveled, \n",
    "                                                  cutoff=CUTOFF,\n",
    "                                                  tol=0.1,\n",
    "                                                  debug=False,\n",
    "                                                 )\n"
   ]
  },
  {
   "cell_type": "code",
   "execution_count": 52,
   "metadata": {},
   "outputs": [
    {
     "name": "stderr",
     "output_type": "stream",
     "text": [
      "2024-12-13 02:42:03.742735: W external/xla/xla/hlo/transforms/simplifiers/hlo_rematerialization.cc:3020] Can't reduce memory use below -4.07TiB (-4470416519688 bytes) by rematerialization; only reduced to 4.31TiB (4743980212624 bytes), down from 4.31TiB (4743980212624 bytes) originally\n",
      "2024-12-13 02:42:03.744528: E external/xla/xla/status_macros.cc:56] INTERNAL: RET_CHECK failure (external/xla/xla/service/gpu/fusions/fusion_emitter.cc:95) device_info.block_dim_limit().x == 0 || launch_dims.block_counts().x < device_info.block_dim_limit().x Kernel 'loop_select_fusion' launch needs more blocks (2316396589) than allowed by hardware (2147483647).\n",
      "*** Begin stack trace ***\n",
      "\t\n",
      "\t\n",
      "\t\n",
      "\t\n",
      "\t\n",
      "\t\n",
      "\t\n",
      "\t\n",
      "\t\n",
      "\t\n",
      "\t\n",
      "\t\n",
      "\t\n",
      "\t\n",
      "\t\n",
      "\t\n",
      "\t\n",
      "\t\n",
      "\t\n",
      "\t\n",
      "\t\n",
      "\t\n",
      "\t\n",
      "\t\n",
      "\t\n",
      "\t\n",
      "\t\n",
      "\t\n",
      "\t\n",
      "\t\n",
      "\t\n",
      "\tPyObject_Vectorcall\n",
      "\t_PyEval_EvalFrameDefault\n",
      "\t_PyFunction_Vectorcall\n",
      "\t_PyEval_EvalFrameDefault\n",
      "\t_PyFunction_Vectorcall\n",
      "\tPyObject_Vectorcall\n",
      "\t\n",
      "\t\n",
      "\t\n",
      "\t\n",
      "\t\n",
      "\t_PyObject_FastCallDictTstate\n",
      "\t_PyObject_Call_Prepend\n",
      "\t\n",
      "\t_PyObject_MakeTpCall\n",
      "\t_PyEval_EvalFrameDefault\n",
      "\t_PyFunction_Vectorcall\n",
      "\tPyObject_Call\n",
      "\t_PyEval_EvalFrameDefault\n",
      "\t_PyFunction_Vectorcall\n",
      "\tPyObject_Call\n",
      "\t_PyEval_EvalFrameDefault\n",
      "\t_PyFunction_Vectorcall\n",
      "\tPyObject_Vectorcall\n",
      "\t\n",
      "\t\n",
      "\t_PyEval_EvalFrameDefault\n",
      "\t_PyFunction_Vectorcall\n",
      "\tPyObject_Call\n",
      "\t_PyEval_EvalFrameDefault\n",
      "\t\n",
      "\t\n",
      "\tPyObject_Call\n",
      "\t_PyEval_EvalFrameDefault\n",
      "\t_PyFunction_Vectorcall\n",
      "\t_PyEval_EvalFrameDefault\n",
      "\t_PyFunction_Vectorcall\n",
      "\t_PyEval_EvalFrameDefault\n",
      "\t_PyFunction_Vectorcall\n",
      "\tPyObject_Vectorcall\n",
      "\t\n",
      "\t\n",
      "\tPyObject_Vectorcall\n",
      "\t_PyEval_EvalFrameDefault\n",
      "\t\n",
      "\tPyEval_EvalCode\n",
      "\t\n",
      "\t_PyEval_EvalFrameDefault\n",
      "\t\n",
      "\t_PyEval_EvalFrameDefault\n",
      "\t\n",
      "\t_PyEval_EvalFrameDefault\n",
      "\t\n",
      "\t\n",
      "\t_PyEval_EvalFrameDefault\n",
      "\t\n",
      "\t\n",
      "\tPyObject_Call\n",
      "\t_PyEval_EvalFrameDefault\n",
      "\t\n",
      "\t_PyEval_EvalFrameDefault\n",
      "\t\n",
      "\t_PyEval_EvalFrameDefault\n",
      "\t\n",
      "\t_PyEval_EvalFrameDefault\n",
      "\t\n",
      "\t_PyEval_EvalFrameDefault\n",
      "\t\n",
      "\t_PyEval_EvalFrameDefault\n",
      "\t\n",
      "\t\n",
      "\t\n",
      "\t\n",
      "\t\n",
      "\t\n",
      "\t_PyEval_EvalFrameDefault\n",
      "\t\n",
      "\tPyEval_EvalCode\n",
      "\t\n",
      "\t\n",
      "\tPyObject_Vectorcall\n",
      "\t_PyEval_EvalFrameDefault\n",
      "\t_PyFunction_Vectorcall\n",
      "\t\n",
      "\tPy_RunMain\n",
      "\tPy_BytesMain\n",
      "\t\n",
      "\t__libc_start_main\n",
      "\t\n",
      "*** End stack trace ***\n",
      "\n"
     ]
    },
    {
     "ename": "XlaRuntimeError",
     "evalue": "INTERNAL: RET_CHECK failure (external/xla/xla/service/gpu/fusions/fusion_emitter.cc:95) device_info.block_dim_limit().x == 0 || launch_dims.block_counts().x < device_info.block_dim_limit().x Kernel 'loop_select_fusion' launch needs more blocks (2316396589) than allowed by hardware (2147483647).",
     "output_type": "error",
     "traceback": [
      "\u001b[0;31m---------------------------------------------------------------------------\u001b[0m",
      "\u001b[0;31mXlaRuntimeError\u001b[0m                           Traceback (most recent call last)",
      "Cell \u001b[0;32mIn[52], line 1\u001b[0m\n\u001b[0;32m----> 1\u001b[0m P_adam_mu \u001b[38;5;241m=\u001b[39m \u001b[43mdiag_preconditioner\u001b[49m\u001b[43m(\u001b[49m\u001b[43mmu\u001b[49m\u001b[43m,\u001b[49m\u001b[43m \u001b[49m\u001b[43meps\u001b[49m\u001b[38;5;241;43m=\u001b[39;49m\u001b[38;5;241;43m4e-3\u001b[39;49m\u001b[43m,\u001b[49m\u001b[43m \u001b[49m\u001b[43mexponent\u001b[49m\u001b[38;5;241;43m=\u001b[39;49m\u001b[38;5;241;43m0.3\u001b[39;49m\u001b[43m)\u001b[49m\n\u001b[1;32m      2\u001b[0m RESULTS[\u001b[38;5;124m'\u001b[39m\u001b[38;5;124madam_mu\u001b[39m\u001b[38;5;124m'\u001b[39m] \u001b[38;5;241m=\u001b[39m get_estimates_vectorized_gauss(\u001b[38;5;241m100\u001b[39m, \n\u001b[1;32m      3\u001b[0m                                                     sigma\u001b[38;5;241m=\u001b[39msigma_epoch,\n\u001b[1;32m      4\u001b[0m                                                     preconditioner\u001b[38;5;241m=\u001b[39mP_adam_mu, \n\u001b[0;32m   (...)\u001b[0m\n\u001b[1;32m      8\u001b[0m                                                     tol\u001b[38;5;241m=\u001b[39m\u001b[38;5;241m10\u001b[39m,\n\u001b[1;32m      9\u001b[0m                                                     )\n",
      "File \u001b[0;32m~/src/basin-volume/src/basin_volume/precondition.py:18\u001b[0m, in \u001b[0;36mdiag_preconditioner\u001b[0;34m(spec, eps, exponent)\u001b[0m\n\u001b[1;32m     16\u001b[0m logp_norm \u001b[38;5;241m=\u001b[39m logp \u001b[38;5;241m-\u001b[39m jnp\u001b[38;5;241m.\u001b[39mmean(logp)\n\u001b[1;32m     17\u001b[0m p \u001b[38;5;241m=\u001b[39m jnp\u001b[38;5;241m.\u001b[39mexp(logp_norm)\n\u001b[0;32m---> 18\u001b[0m P_scale \u001b[38;5;241m=\u001b[39m \u001b[43mjnp\u001b[49m\u001b[38;5;241;43m.\u001b[39;49m\u001b[43mdiag\u001b[49m\u001b[43m(\u001b[49m\u001b[43mp\u001b[49m\u001b[43m)\u001b[49m\n\u001b[1;32m     19\u001b[0m \u001b[38;5;28;01mreturn\u001b[39;00m P_scale\n",
      "File \u001b[0;32m~/.conda/envs/jax311/lib/python3.11/site-packages/jax/_src/numpy/lax_numpy.py:8103\u001b[0m, in \u001b[0;36mdiag\u001b[0;34m(v, k)\u001b[0m\n\u001b[1;32m   8056\u001b[0m \u001b[38;5;28;01mdef\u001b[39;00m \u001b[38;5;21mdiag\u001b[39m(v: ArrayLike, k: \u001b[38;5;28mint\u001b[39m \u001b[38;5;241m=\u001b[39m \u001b[38;5;241m0\u001b[39m) \u001b[38;5;241m-\u001b[39m\u001b[38;5;241m>\u001b[39m Array:\n\u001b[1;32m   8057\u001b[0m \u001b[38;5;250m  \u001b[39m\u001b[38;5;124;03m\"\"\"Returns the specified diagonal or constructs a diagonal array.\u001b[39;00m\n\u001b[1;32m   8058\u001b[0m \n\u001b[1;32m   8059\u001b[0m \u001b[38;5;124;03m  JAX implementation of :func:`numpy.diag`.\u001b[39;00m\n\u001b[0;32m   (...)\u001b[0m\n\u001b[1;32m   8101\u001b[0m \u001b[38;5;124;03m    Array([1, 5, 9], dtype=int32)\u001b[39;00m\n\u001b[1;32m   8102\u001b[0m \u001b[38;5;124;03m  \"\"\"\u001b[39;00m\n\u001b[0;32m-> 8103\u001b[0m   \u001b[38;5;28;01mreturn\u001b[39;00m \u001b[43m_diag\u001b[49m\u001b[43m(\u001b[49m\u001b[43mv\u001b[49m\u001b[43m,\u001b[49m\u001b[43m \u001b[49m\u001b[43moperator\u001b[49m\u001b[38;5;241;43m.\u001b[39;49m\u001b[43mindex\u001b[49m\u001b[43m(\u001b[49m\u001b[43mk\u001b[49m\u001b[43m)\u001b[49m\u001b[43m)\u001b[49m\n",
      "    \u001b[0;31m[... skipping hidden 16 frame]\u001b[0m\n",
      "File \u001b[0;32m~/.conda/envs/jax311/lib/python3.11/site-packages/jax/_src/compiler.py:267\u001b[0m, in \u001b[0;36mbackend_compile\u001b[0;34m(backend, module, options, host_callbacks)\u001b[0m\n\u001b[1;32m    261\u001b[0m     \u001b[38;5;28;01mreturn\u001b[39;00m backend\u001b[38;5;241m.\u001b[39mcompile(\n\u001b[1;32m    262\u001b[0m         built_c, compile_options\u001b[38;5;241m=\u001b[39moptions, host_callbacks\u001b[38;5;241m=\u001b[39mhost_callbacks\n\u001b[1;32m    263\u001b[0m     )\n\u001b[1;32m    264\u001b[0m   \u001b[38;5;66;03m# Some backends don't have `host_callbacks` option yet\u001b[39;00m\n\u001b[1;32m    265\u001b[0m   \u001b[38;5;66;03m# TODO(sharadmv): remove this fallback when all backends allow `compile`\u001b[39;00m\n\u001b[1;32m    266\u001b[0m   \u001b[38;5;66;03m# to take in `host_callbacks`\u001b[39;00m\n\u001b[0;32m--> 267\u001b[0m   \u001b[38;5;28;01mreturn\u001b[39;00m \u001b[43mbackend\u001b[49m\u001b[38;5;241;43m.\u001b[39;49m\u001b[43mcompile\u001b[49m\u001b[43m(\u001b[49m\u001b[43mbuilt_c\u001b[49m\u001b[43m,\u001b[49m\u001b[43m \u001b[49m\u001b[43mcompile_options\u001b[49m\u001b[38;5;241;43m=\u001b[39;49m\u001b[43moptions\u001b[49m\u001b[43m)\u001b[49m\n\u001b[1;32m    268\u001b[0m \u001b[38;5;28;01mexcept\u001b[39;00m xc\u001b[38;5;241m.\u001b[39mXlaRuntimeError \u001b[38;5;28;01mas\u001b[39;00m e:\n\u001b[1;32m    269\u001b[0m   \u001b[38;5;28;01mfor\u001b[39;00m error_handler \u001b[38;5;129;01min\u001b[39;00m _XLA_RUNTIME_ERROR_HANDLERS:\n",
      "\u001b[0;31mXlaRuntimeError\u001b[0m: INTERNAL: RET_CHECK failure (external/xla/xla/service/gpu/fusions/fusion_emitter.cc:95) device_info.block_dim_limit().x == 0 || launch_dims.block_counts().x < device_info.block_dim_limit().x Kernel 'loop_select_fusion' launch needs more blocks (2316396589) than allowed by hardware (2147483647)."
     ]
    }
   ],
   "source": [
    "P_adam_mu = diag_preconditioner(mu, eps=4e-3, exponent=0.3)\n",
    "RESULTS['adam_mu'] = get_estimates_vectorized_gauss(100, \n",
    "                                                    sigma=sigma_epoch,\n",
    "                                                    preconditioner=P_adam_mu, \n",
    "                                                    fn=kl_fn, \n",
    "                                                    params=final_params.raveled, \n",
    "                                                    cutoff=CUTOFF,\n",
    "                                                    tol=10,\n",
    "                                                    )\n"
   ]
  },
  {
   "cell_type": "code",
   "execution_count": 19,
   "metadata": {},
   "outputs": [],
   "source": [
    "P_adam_nu = diag_preconditioner(nu, eps=2e-3, exponent=0.3)\n",
    "RESULTS['adam_nu'] = get_estimates_vectorized_gauss(3000, \n",
    "                                                    sigma=sigma_epoch,\n",
    "                                                    preconditioner=P_adam_nu, \n",
    "                                                    fn=kl_fn, \n",
    "                                                    params=final_params.raveled, \n",
    "                                                    cutoff=CUTOFF)\n"
   ]
  },
  {
   "cell_type": "markdown",
   "metadata": {},
   "source": [
    "## Plots"
   ]
  },
  {
   "cell_type": "code",
   "execution_count": 21,
   "metadata": {},
   "outputs": [],
   "source": [
    "def scaled_histogram(values, label, settings):\n",
    "    nbins = int(jnp.sqrt(len(values)))\n",
    "    # if label == 'hessian':\n",
    "    #     nbins = 5\n",
    "    counts, bins = jnp.histogram(values, bins=nbins)\n",
    "    counts = counts / counts.max()\n",
    "    plt.stairs(counts, bins, **dict(settings, label=label))"
   ]
  },
  {
   "cell_type": "code",
   "execution_count": 23,
   "metadata": {},
   "outputs": [
    {
     "data": {
      "image/png": "[encoded data removed]",
      "text/plain": [
       "<Figure size 640x480 with 1 Axes>"
      ]
     },
     "metadata": {},
     "output_type": "display_data"
    }
   ],
   "source": [
    "settings = {'alpha': 0.5, 'fill': True}\n",
    "for label, results in RESULTS.items():\n",
    "    # if label in ['hessian', 'adam_mu']:\n",
    "    #     continue\n",
    "    these_settings = dict(settings, label=label)\n",
    "    scaled_histogram(results[0] + 10_000, label, these_settings)\n",
    "plt.xlabel(\"log prob estimate + 10,000\")\n",
    "plt.legend()\n",
    "plt.title(\"KL divergence\")\n",
    "plt.show()"
   ]
  }
 ],
 "metadata": {
  "kernelspec": {
   "display_name": "jax311",
   "language": "python",
   "name": "python3"
  },
  "language_info": {
   "codemirror_mode": {
    "name": "ipython",
    "version": 3
   },
   "file_extension": ".py",
   "mimetype": "text/x-python",
   "name": "python",
   "nbconvert_exporter": "python",
   "pygments_lexer": "ipython3",
   "version": "3.11.11"
  }
 },
 "nbformat": 4,
 "nbformat_minor": 2
}
