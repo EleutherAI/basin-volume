{
 "cells": [
  {
   "cell_type": "code",
   "execution_count": 3,
   "metadata": {},
   "outputs": [],
   "source": [
    "%load_ext autoreload\n",
    "%autoreload 2"
   ]
  },
  {
   "cell_type": "code",
   "execution_count": 2,
   "metadata": {},
   "outputs": [],
   "source": [
    "import os\n",
    "os.environ[\"CUDA_VISIBLE_DEVICES\"] = \"1\""
   ]
  },
  {
   "cell_type": "code",
   "execution_count": 1,
   "metadata": {},
   "outputs": [
    {
     "name": "stderr",
     "output_type": "stream",
     "text": [
      "/home/adam/.conda/envs/jax311/lib/python3.11/site-packages/tqdm/auto.py:21: TqdmWarning: IProgress not found. Please update jupyter and ipywidgets. See https://ipywidgets.readthedocs.io/en/stable/user_install.html\n",
      "  from .autonotebook import tqdm as notebook_tqdm\n"
     ]
    }
   ],
   "source": [
    "from datasets import load_dataset\n",
    "from transformers import AutoTokenizer, AutoModelForCausalLM\n",
    "import torch\n",
    "\n",
    "from basin_volume import VolumeConfig, VolumeEstimator"
   ]
  },
  {
   "cell_type": "code",
   "execution_count": 7,
   "metadata": {},
   "outputs": [],
   "source": [
    "model = AutoModelForCausalLM.from_pretrained(\"EleutherAI/pythia-14m\")\n",
    "tokenizer = AutoTokenizer.from_pretrained(\"EleutherAI/pythia-14m\")\n",
    "tokenizer.pad_token_id = 1  # pythia-specific\n",
    "tokenizer.eos_token_id = 0  # pythia-specific\n",
    "dataset = load_dataset(\"EleutherAI/lambada_openai\", name=\"en\", split=\"test\", trust_remote_code=True)\n",
    "\n",
    "cfg = VolumeConfig(model=model, \n",
    "                   tokenizer=tokenizer, \n",
    "                   dataset=dataset, \n",
    "                   text_key=\"text\",  # must match dataset field\n",
    "                   n_samples=10,  # number of MC samples\n",
    "                   cutoff=1e-2,  # KL-divergence cutoff (nats)\n",
    "                   max_seq_len=2048,  # sequence length for chunking dataset\n",
    "                   val_size=10,  # number of sequences (chunks) to use in estimation\n",
    "                   )\n",
    "estimator = VolumeEstimator.from_config(cfg)"
   ]
  },
  {
   "cell_type": "code",
   "execution_count": 5,
   "metadata": {},
   "outputs": [],
   "source": [
    "result = estimator.run()"
   ]
  },
  {
   "cell_type": "code",
   "execution_count": 6,
   "metadata": {},
   "outputs": [
    {
     "data": {
      "text/plain": [
       "VolumeResult(estimates=Array([-1.1057281e+08, -1.0925299e+08, -1.0863679e+08, -1.1000776e+08,\n",
       "       -1.0962531e+08, -1.0930558e+08, -1.0951793e+08, -1.0957152e+08,\n",
       "       -1.1011897e+08, -1.0973353e+08], dtype=float32), props=Array([1.       , 1.       , 1.       , 1.       , 1.0000001, 1.0000001,\n",
       "       1.0000001, 1.0000001, 1.       , 1.       ], dtype=float32), mults=Array([0.4765625 , 0.5234375 , 0.546875  , 0.49609375, 0.5097656 ,\n",
       "       0.5214844 , 0.5136719 , 0.51171875, 0.4921875 , 0.5058594 ],      dtype=float32), deltas=Array([0.01001176, 0.00992114, 0.00997438, 0.00995031, 0.01002949,\n",
       "       0.00997159, 0.00996048, 0.00993844, 0.00995879, 0.00998593],      dtype=float32), logabsint=Array([-17460246., -16140436., -15524230., -16895202., -16512752.,\n",
       "       -16193021., -16405366., -16458958., -17006410., -16620968.],      dtype=float32))"
      ]
     },
     "execution_count": 6,
     "metadata": {},
     "output_type": "execute_result"
    }
   ],
   "source": [
    "result"
   ]
  }
 ],
 "metadata": {
  "kernelspec": {
   "display_name": "jax311",
   "language": "python",
   "name": "python3"
  },
  "language_info": {
   "codemirror_mode": {
    "name": "ipython",
    "version": 3
   },
   "file_extension": ".py",
   "mimetype": "text/x-python",
   "name": "python",
   "nbconvert_exporter": "python",
   "pygments_lexer": "ipython3",
   "version": "3.11.11"
  }
 },
 "nbformat": 4,
 "nbformat_minor": 2
}
