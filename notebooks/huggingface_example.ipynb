{
 "cells": [
  {
   "cell_type": "code",
   "execution_count": 1,
   "metadata": {},
   "outputs": [],
   "source": [
    "%load_ext autoreload\n",
    "%autoreload 2"
   ]
  },
  {
   "cell_type": "code",
   "execution_count": 2,
   "metadata": {},
   "outputs": [],
   "source": [
    "import os\n",
    "os.environ[\"CUDA_VISIBLE_DEVICES\"] = \"0\""
   ]
  },
  {
   "cell_type": "code",
   "execution_count": 3,
   "metadata": {},
   "outputs": [
    {
     "name": "stderr",
     "output_type": "stream",
     "text": [
      "/home/adam/.conda/envs/jax311/lib/python3.11/site-packages/tqdm/auto.py:21: TqdmWarning: IProgress not found. Please update jupyter and ipywidgets. See https://ipywidgets.readthedocs.io/en/stable/user_install.html\n",
      "  from .autonotebook import tqdm as notebook_tqdm\n"
     ]
    }
   ],
   "source": [
    "from datasets import load_dataset\n",
    "from transformers import AutoTokenizer, AutoModelForCausalLM\n",
    "import torch\n",
    "\n",
    "from basin_volume import VolumeConfig, VolumeEstimator"
   ]
  },
  {
   "cell_type": "code",
   "execution_count": 6,
   "metadata": {},
   "outputs": [
    {
     "name": "stdout",
     "output_type": "stream",
     "text": [
      "tokens.shape=torch.Size([384, 1024])\n"
     ]
    }
   ],
   "source": [
    "model = AutoModelForCausalLM.from_pretrained(\"EleutherAI/pythia-14m\")\n",
    "tokenizer = AutoTokenizer.from_pretrained(\"EleutherAI/pythia-14m\")\n",
    "tokenizer.pad_token_id = 1  # pythia-specific\n",
    "tokenizer.eos_token_id = 0  # pythia-specific\n",
    "dataset = load_dataset(\"EleutherAI/lambada_openai\", name=\"en\", split=\"test\", trust_remote_code=True)\n",
    "\n",
    "cfg = VolumeConfig(model=model, \n",
    "                   tokenizer=tokenizer, \n",
    "                   dataset=dataset, \n",
    "                   text_key=\"text\",  # must match dataset field\n",
    "                   n_samples=10,  # number of MC samples\n",
    "                   cutoff=1e-2,  # KL-divergence cutoff (nats)\n",
    "                   max_seq_len=int(2048//2),  # sequence length for chunking dataset\n",
    "                   val_size=200,  # number of sequences (chunks) to use in estimation\n",
    "                   stay_on_gpu=False,\n",
    "                   )\n",
    "estimator = VolumeEstimator.from_config(cfg)"
   ]
  },
  {
   "cell_type": "code",
   "execution_count": 7,
   "metadata": {},
   "outputs": [
    {
     "name": "stderr",
     "output_type": "stream",
     "text": [
      "  0%|          | 0/10 [00:00<?, ?it/s]"
     ]
    },
    {
     "name": "stderr",
     "output_type": "stream",
     "text": [
      " 20%|██        | 2/10 [04:46<19:06, 143.31s/it]\n"
     ]
    },
    {
     "ename": "KeyboardInterrupt",
     "evalue": "",
     "output_type": "error",
     "traceback": [
      "\u001b[0;31m---------------------------------------------------------------------------\u001b[0m",
      "\u001b[0;31mKeyboardInterrupt\u001b[0m                         Traceback (most recent call last)",
      "\u001b[1;32m/mnt/ssd-1/adam/basin-volume/notebooks/huggingface_example.ipynb Cell 5\u001b[0m line \u001b[0;36m1\n\u001b[0;32m----> <a href='vscode-notebook-cell://ssh-remote%2Bnora-ord/mnt/ssd-1/adam/basin-volume/notebooks/huggingface_example.ipynb#W4sdnNjb2RlLXJlbW90ZQ%3D%3D?line=0'>1</a>\u001b[0m result \u001b[39m=\u001b[39m estimator\u001b[39m.\u001b[39;49mrun()\n",
      "File \u001b[0;32m/mnt/ssd-1/adam/basin-volume/src/basin_volume/estimator.py:107\u001b[0m, in \u001b[0;36mVolumeEstimator.run\u001b[0;34m(self)\u001b[0m\n\u001b[1;32m    104\u001b[0m \u001b[39mif\u001b[39;00m \u001b[39mself\u001b[39m\u001b[39m.\u001b[39mconfig\u001b[39m.\u001b[39msigma \u001b[39mis\u001b[39;00m \u001b[39mNone\u001b[39;00m:\n\u001b[1;32m    105\u001b[0m     \u001b[39mself\u001b[39m\u001b[39m.\u001b[39mconfig\u001b[39m.\u001b[39msigma \u001b[39m=\u001b[39m jnp\u001b[39m.\u001b[39msqrt(jnp\u001b[39m.\u001b[39mmean(\u001b[39mself\u001b[39m\u001b[39m.\u001b[39mparams\u001b[39m*\u001b[39m\u001b[39m*\u001b[39m\u001b[39m2\u001b[39m))\n\u001b[0;32m--> 107\u001b[0m \u001b[39mreturn\u001b[39;00m get_estimates_vectorized_gauss(\n\u001b[1;32m    108\u001b[0m     n\u001b[39m=\u001b[39;49m\u001b[39mself\u001b[39;49m\u001b[39m.\u001b[39;49mconfig\u001b[39m.\u001b[39;49mn_samples,\n\u001b[1;32m    109\u001b[0m     batch_size\u001b[39m=\u001b[39;49m\u001b[39mself\u001b[39;49m\u001b[39m.\u001b[39;49mconfig\u001b[39m.\u001b[39;49mbatch_size,\n\u001b[1;32m    110\u001b[0m     sigma\u001b[39m=\u001b[39;49m\u001b[39mself\u001b[39;49m\u001b[39m.\u001b[39;49mconfig\u001b[39m.\u001b[39;49msigma,\n\u001b[1;32m    111\u001b[0m     preconditioner\u001b[39m=\u001b[39;49m\u001b[39mself\u001b[39;49m\u001b[39m.\u001b[39;49mpreconditioner,\n\u001b[1;32m    112\u001b[0m     fn\u001b[39m=\u001b[39;49m\u001b[39mself\u001b[39;49m\u001b[39m.\u001b[39;49mkl_fn,\n\u001b[1;32m    113\u001b[0m     params\u001b[39m=\u001b[39;49m\u001b[39mself\u001b[39;49m\u001b[39m.\u001b[39;49mparams,\n\u001b[1;32m    114\u001b[0m     tol\u001b[39m=\u001b[39;49m\u001b[39mself\u001b[39;49m\u001b[39m.\u001b[39;49mconfig\u001b[39m.\u001b[39;49mtol,\n\u001b[1;32m    115\u001b[0m     y_tol\u001b[39m=\u001b[39;49m\u001b[39mself\u001b[39;49m\u001b[39m.\u001b[39;49mconfig\u001b[39m.\u001b[39;49my_tol,\n\u001b[1;32m    116\u001b[0m     seed\u001b[39m=\u001b[39;49m\u001b[39mself\u001b[39;49m\u001b[39m.\u001b[39;49mconfig\u001b[39m.\u001b[39;49mseed,\n\u001b[1;32m    117\u001b[0m     cutoff\u001b[39m=\u001b[39;49m\u001b[39mself\u001b[39;49m\u001b[39m.\u001b[39;49mconfig\u001b[39m.\u001b[39;49mcutoff,\n\u001b[1;32m    118\u001b[0m     torch_model\u001b[39m=\u001b[39;49m\u001b[39misinstance\u001b[39;49m(\u001b[39mself\u001b[39;49m, (PythiaEstimator, ConvNextEstimator, CausalLMEstimator)),\n\u001b[1;32m    119\u001b[0m     with_tqdm\u001b[39m=\u001b[39;49m\u001b[39mself\u001b[39;49m\u001b[39m.\u001b[39;49mconfig\u001b[39m.\u001b[39;49mtqdm\n\u001b[1;32m    120\u001b[0m )\n",
      "File \u001b[0;32m/mnt/ssd-1/adam/basin-volume/src/basin_volume/volume.py:101\u001b[0m, in \u001b[0;36mget_estimates_vectorized_gauss\u001b[0;34m(n, sigma, batch_size, preconditioner, fn, unary_fn, params, gaussint_fn, debug, tol, y_tol, seed, with_tqdm, **kwargs)\u001b[0m\n\u001b[1;32m     98\u001b[0m uvecs \u001b[39m=\u001b[39m jax\u001b[39m.\u001b[39mvmap(unit)(vecs)\n\u001b[1;32m    100\u001b[0m kwargs \u001b[39m=\u001b[39m {\u001b[39m'\u001b[39m\u001b[39mcutoff\u001b[39m\u001b[39m'\u001b[39m: \u001b[39m1e-3\u001b[39m, \u001b[39m'\u001b[39m\u001b[39mfn\u001b[39m\u001b[39m'\u001b[39m: fn, \u001b[39m'\u001b[39m\u001b[39miters\u001b[39m\u001b[39m'\u001b[39m: \u001b[39m100\u001b[39m, \u001b[39m'\u001b[39m\u001b[39mrtol\u001b[39m\u001b[39m'\u001b[39m: \u001b[39m1e-2\u001b[39m, \u001b[39m*\u001b[39m\u001b[39m*\u001b[39mkwargs}\n\u001b[0;32m--> 101\u001b[0m mults, deltas \u001b[39m=\u001b[39m find_radius_vectorized(center, vecs, \u001b[39m*\u001b[39;49m\u001b[39m*\u001b[39;49mkwargs)\n\u001b[1;32m    103\u001b[0m x1 \u001b[39m=\u001b[39m mults \u001b[39m*\u001b[39m props\n\u001b[1;32m    104\u001b[0m a \u001b[39m=\u001b[39m \u001b[39m1\u001b[39m \u001b[39m/\u001b[39m sigma\u001b[39m*\u001b[39m\u001b[39m*\u001b[39m\u001b[39m2\u001b[39m\n",
      "File \u001b[0;32m/mnt/ssd-1/adam/basin-volume/src/basin_volume/volume.py:30\u001b[0m, in \u001b[0;36mfind_radius_vectorized\u001b[0;34m(center, vecs, cutoff, fn, torch_model, rtol, init_mult, iters, jump)\u001b[0m\n\u001b[1;32m     28\u001b[0m \u001b[39mwhile\u001b[39;00m iters \u001b[39m>\u001b[39m \u001b[39m0\u001b[39m \u001b[39mand\u001b[39;00m jnp\u001b[39m.\u001b[39many(jnp\u001b[39m.\u001b[39mabs(deltas \u001b[39m-\u001b[39m cutoff) \u001b[39m>\u001b[39m cutoff \u001b[39m*\u001b[39m rtol):\n\u001b[1;32m     29\u001b[0m     \u001b[39mif\u001b[39;00m torch_model:\n\u001b[0;32m---> 30\u001b[0m         vec_losses \u001b[39m=\u001b[39m jnp\u001b[39m.\u001b[39marray([fn(center, mults[i] \u001b[39m*\u001b[39;49m vecs[i]) \u001b[39mfor\u001b[39;49;00m i \u001b[39min\u001b[39;49;00m \u001b[39mrange\u001b[39;49m(vecs\u001b[39m.\u001b[39;49mshape[\u001b[39m0\u001b[39;49m])])\n\u001b[1;32m     31\u001b[0m     \u001b[39melse\u001b[39;00m:\n\u001b[1;32m     32\u001b[0m         vec_losses \u001b[39m=\u001b[39m jax\u001b[39m.\u001b[39mvmap(fn, in_axes\u001b[39m=\u001b[39m(\u001b[39mNone\u001b[39;00m, \u001b[39m0\u001b[39m))(center, jnp\u001b[39m.\u001b[39meinsum(\u001b[39m'\u001b[39m\u001b[39mb,bn->bn\u001b[39m\u001b[39m'\u001b[39m, mults, vecs))\n",
      "File \u001b[0;32m/mnt/ssd-1/adam/basin-volume/src/basin_volume/volume.py:30\u001b[0m, in \u001b[0;36m<listcomp>\u001b[0;34m(.0)\u001b[0m\n\u001b[1;32m     28\u001b[0m \u001b[39mwhile\u001b[39;00m iters \u001b[39m>\u001b[39m \u001b[39m0\u001b[39m \u001b[39mand\u001b[39;00m jnp\u001b[39m.\u001b[39many(jnp\u001b[39m.\u001b[39mabs(deltas \u001b[39m-\u001b[39m cutoff) \u001b[39m>\u001b[39m cutoff \u001b[39m*\u001b[39m rtol):\n\u001b[1;32m     29\u001b[0m     \u001b[39mif\u001b[39;00m torch_model:\n\u001b[0;32m---> 30\u001b[0m         vec_losses \u001b[39m=\u001b[39m jnp\u001b[39m.\u001b[39marray([fn(center, mults[i] \u001b[39m*\u001b[39;49m vecs[i]) \u001b[39mfor\u001b[39;00m i \u001b[39min\u001b[39;00m \u001b[39mrange\u001b[39m(vecs\u001b[39m.\u001b[39mshape[\u001b[39m0\u001b[39m])])\n\u001b[1;32m     31\u001b[0m     \u001b[39melse\u001b[39;00m:\n\u001b[1;32m     32\u001b[0m         vec_losses \u001b[39m=\u001b[39m jax\u001b[39m.\u001b[39mvmap(fn, in_axes\u001b[39m=\u001b[39m(\u001b[39mNone\u001b[39;00m, \u001b[39m0\u001b[39m))(center, jnp\u001b[39m.\u001b[39meinsum(\u001b[39m'\u001b[39m\u001b[39mb,bn->bn\u001b[39m\u001b[39m'\u001b[39m, mults, vecs))\n",
      "File \u001b[0;32m/mnt/ssd-1/adam/basin-volume/src/basin_volume/estimator.py:202\u001b[0m, in \u001b[0;36mCausalLMEstimator.setup_model.<locals>.kl_fn\u001b[0;34m(a, b)\u001b[0m\n\u001b[1;32m    200\u001b[0m \u001b[39m# Move just this sequence's probs to GPU\u001b[39;00m\n\u001b[1;32m    201\u001b[0m \u001b[39mif\u001b[39;00m \u001b[39mnot\u001b[39;00m \u001b[39mself\u001b[39m\u001b[39m.\u001b[39mconfig\u001b[39m.\u001b[39mstay_on_gpu:\n\u001b[0;32m--> 202\u001b[0m     probs_p_seq \u001b[39m=\u001b[39m jax\u001b[39m.\u001b[39;49mdevice_put(\u001b[39mself\u001b[39;49m\u001b[39m.\u001b[39;49mprobs_p[i:i\u001b[39m+\u001b[39;49m\u001b[39m1\u001b[39;49m], jax\u001b[39m.\u001b[39;49mdevices(\u001b[39m\"\u001b[39;49m\u001b[39mgpu\u001b[39;49m\u001b[39m\"\u001b[39;49m)[\u001b[39m0\u001b[39;49m])\n\u001b[1;32m    203\u001b[0m \u001b[39melse\u001b[39;00m:\n\u001b[1;32m    204\u001b[0m     probs_p_seq \u001b[39m=\u001b[39m \u001b[39mself\u001b[39m\u001b[39m.\u001b[39mprobs_p[i:i\u001b[39m+\u001b[39m\u001b[39m1\u001b[39m]\n",
      "File \u001b[0;32m~/.conda/envs/jax311/lib/python3.11/site-packages/jax/_src/api.py:2301\u001b[0m, in \u001b[0;36mdevice_put\u001b[0;34m(x, device, src, donate, may_alias)\u001b[0m\n\u001b[1;32m   2299\u001b[0m \u001b[39mfor\u001b[39;00m xf, d \u001b[39min\u001b[39;00m \u001b[39mzip\u001b[39m(x_flat, device_flat):  \u001b[39m# type: ignore\u001b[39;00m\n\u001b[1;32m   2300\u001b[0m   _check_sharding(shaped_abstractify(xf), d)\n\u001b[0;32m-> 2301\u001b[0m out_flat \u001b[39m=\u001b[39m dispatch\u001b[39m.\u001b[39;49mdevice_put_p\u001b[39m.\u001b[39;49mbind(\n\u001b[1;32m   2302\u001b[0m     \u001b[39m*\u001b[39;49mx_flat, devices\u001b[39m=\u001b[39;49mdevice_flat, srcs\u001b[39m=\u001b[39;49msrc_flat,\n\u001b[1;32m   2303\u001b[0m     copy_semantics\u001b[39m=\u001b[39;49mcopy_semantics)\n\u001b[1;32m   2304\u001b[0m \u001b[39mreturn\u001b[39;00m tree_unflatten(treedef, out_flat)\n",
      "File \u001b[0;32m~/.conda/envs/jax311/lib/python3.11/site-packages/jax/_src/core.py:463\u001b[0m, in \u001b[0;36mPrimitive.bind\u001b[0;34m(self, *args, **params)\u001b[0m\n\u001b[1;32m    461\u001b[0m trace_ctx\u001b[39m.\u001b[39mset_trace(eval_trace)\n\u001b[1;32m    462\u001b[0m \u001b[39mtry\u001b[39;00m:\n\u001b[0;32m--> 463\u001b[0m   \u001b[39mreturn\u001b[39;00m \u001b[39mself\u001b[39;49m\u001b[39m.\u001b[39;49mbind_with_trace(prev_trace, args, params)\n\u001b[1;32m    464\u001b[0m \u001b[39mfinally\u001b[39;00m:\n\u001b[1;32m    465\u001b[0m   trace_ctx\u001b[39m.\u001b[39mset_trace(prev_trace)\n",
      "File \u001b[0;32m~/.conda/envs/jax311/lib/python3.11/site-packages/jax/_src/core.py:468\u001b[0m, in \u001b[0;36mPrimitive.bind_with_trace\u001b[0;34m(self, trace, args, params)\u001b[0m\n\u001b[1;32m    467\u001b[0m \u001b[39mdef\u001b[39;00m\u001b[39m \u001b[39m\u001b[39mbind_with_trace\u001b[39m(\u001b[39mself\u001b[39m, trace, args, params):\n\u001b[0;32m--> 468\u001b[0m   \u001b[39mreturn\u001b[39;00m trace\u001b[39m.\u001b[39;49mprocess_primitive(\u001b[39mself\u001b[39;49m, args, params)\n",
      "File \u001b[0;32m~/.conda/envs/jax311/lib/python3.11/site-packages/jax/_src/core.py:954\u001b[0m, in \u001b[0;36mEvalTrace.process_primitive\u001b[0;34m(self, primitive, args, params)\u001b[0m\n\u001b[1;32m    952\u001b[0m       \u001b[39mreturn\u001b[39;00m primitive\u001b[39m.\u001b[39mbind_with_trace(arg\u001b[39m.\u001b[39m_trace, args, params)\n\u001b[1;32m    953\u001b[0m check_eval_args(args)\n\u001b[0;32m--> 954\u001b[0m \u001b[39mreturn\u001b[39;00m primitive\u001b[39m.\u001b[39;49mimpl(\u001b[39m*\u001b[39;49margs, \u001b[39m*\u001b[39;49m\u001b[39m*\u001b[39;49mparams)\n",
      "File \u001b[0;32m~/.conda/envs/jax311/lib/python3.11/site-packages/jax/_src/dispatch.py:497\u001b[0m, in \u001b[0;36m_batched_device_put_impl\u001b[0;34m(devices, srcs, copy_semantics, *xs)\u001b[0m\n\u001b[1;32m    495\u001b[0m dsa_indices, dsa_xs, dsa_shardings, dsa_copy_semantics \u001b[39m=\u001b[39m [], [], [], []\n\u001b[1;32m    496\u001b[0m \u001b[39mfor\u001b[39;00m i, (x, device, src, cp) \u001b[39min\u001b[39;00m \u001b[39menumerate\u001b[39m(\u001b[39mzip\u001b[39m(xs, devices, srcs, copy_semantics)):\n\u001b[0;32m--> 497\u001b[0m   y \u001b[39m=\u001b[39m _device_put_impl(x, device\u001b[39m=\u001b[39;49mdevice, src\u001b[39m=\u001b[39;49msrc, copy\u001b[39m=\u001b[39;49mcp)\n\u001b[1;32m    498\u001b[0m   \u001b[39mif\u001b[39;00m \u001b[39misinstance\u001b[39m(y, _DeferredShardArg):\n\u001b[1;32m    499\u001b[0m     dsa_indices\u001b[39m.\u001b[39mappend(i)\n",
      "File \u001b[0;32m~/.conda/envs/jax311/lib/python3.11/site-packages/jax/_src/dispatch.py:486\u001b[0m, in \u001b[0;36m_device_put_impl\u001b[0;34m(x, device, src, copy)\u001b[0m\n\u001b[1;32m    481\u001b[0m     \u001b[39mreturn\u001b[39;00m _device_put_sharding_impl(x, aval, l\u001b[39m.\u001b[39msharding, copy)\n\u001b[1;32m    482\u001b[0m   \u001b[39mreturn\u001b[39;00m api\u001b[39m.\u001b[39mjit(\n\u001b[1;32m    483\u001b[0m       _identity_fn, out_shardings\u001b[39m=\u001b[39ml,\n\u001b[1;32m    484\u001b[0m       donate_argnums\u001b[39m=\u001b[39m(\u001b[39m0\u001b[39m \u001b[39mif\u001b[39;00m copy \u001b[39m==\u001b[39m CopySemantics\u001b[39m.\u001b[39mDONATE \u001b[39melse\u001b[39;00m \u001b[39mNone\u001b[39;00m))(x)\n\u001b[0;32m--> 486\u001b[0m \u001b[39mreturn\u001b[39;00m _device_put_sharding_impl(x, aval, device, copy)\n",
      "File \u001b[0;32m~/.conda/envs/jax311/lib/python3.11/site-packages/jax/_src/dispatch.py:442\u001b[0m, in \u001b[0;36m_device_put_sharding_impl\u001b[0;34m(x, aval, device, copy)\u001b[0m\n\u001b[1;32m    440\u001b[0m   \u001b[39melif\u001b[39;00m is_single_device_sharding(x\u001b[39m.\u001b[39msharding):\n\u001b[1;32m    441\u001b[0m     device \u001b[39m=\u001b[39m x\u001b[39m.\u001b[39msharding\u001b[39m.\u001b[39m_device_assignment[\u001b[39m0\u001b[39m] \u001b[39mif\u001b[39;00m device \u001b[39mis\u001b[39;00m \u001b[39mNone\u001b[39;00m \u001b[39melse\u001b[39;00m device\n\u001b[0;32m--> 442\u001b[0m     \u001b[39mreturn\u001b[39;00m pxla\u001b[39m.\u001b[39;49mbatched_device_put(aval, SingleDeviceSharding(device), [x],\n\u001b[1;32m    443\u001b[0m                                    [device])\n\u001b[1;32m    445\u001b[0m sh \u001b[39m=\u001b[39m SingleDeviceSharding(pxla\u001b[39m.\u001b[39mget_default_device()\n\u001b[1;32m    446\u001b[0m                           \u001b[39mif\u001b[39;00m device \u001b[39mis\u001b[39;00m \u001b[39mNone\u001b[39;00m \u001b[39melse\u001b[39;00m device)\n\u001b[1;32m    447\u001b[0m \u001b[39mreturn\u001b[39;00m _DeferredShardArg(x, sh, aval, device \u001b[39mis\u001b[39;00m \u001b[39mnot\u001b[39;00m \u001b[39mNone\u001b[39;00m, copy)\n",
      "File \u001b[0;32m~/.conda/envs/jax311/lib/python3.11/site-packages/jax/_src/interpreters/pxla.py:244\u001b[0m, in \u001b[0;36mbatched_device_put\u001b[0;34m(aval, sharding, xs, devices, committed)\u001b[0m\n\u001b[1;32m    241\u001b[0m   \u001b[39mif\u001b[39;00m \u001b[39mlen\u001b[39m(bufs) \u001b[39m==\u001b[39m \u001b[39mlen\u001b[39m(xs):\n\u001b[1;32m    242\u001b[0m     \u001b[39mreturn\u001b[39;00m array\u001b[39m.\u001b[39mArrayImpl(\n\u001b[1;32m    243\u001b[0m         aval, sharding, bufs, committed\u001b[39m=\u001b[39mcommitted, _skip_checks\u001b[39m=\u001b[39m\u001b[39mTrue\u001b[39;00m)\n\u001b[0;32m--> 244\u001b[0m   \u001b[39mreturn\u001b[39;00m xc\u001b[39m.\u001b[39;49mbatched_device_put(aval, sharding, xs, \u001b[39mlist\u001b[39;49m(devices), committed)\n\u001b[1;32m    245\u001b[0m \u001b[39mfinally\u001b[39;00m:\n\u001b[1;32m    246\u001b[0m   util\u001b[39m.\u001b[39mtest_event(\u001b[39m\"\u001b[39m\u001b[39mbatched_device_put_end\u001b[39m\u001b[39m\"\u001b[39m)\n",
      "File \u001b[0;32m~/.conda/envs/jax311/lib/python3.11/site-packages/jax/_src/profiler.py:330\u001b[0m, in \u001b[0;36mannotate_function.<locals>.wrapper\u001b[0;34m(*args, **kwargs)\u001b[0m\n\u001b[1;32m    328\u001b[0m name \u001b[39m=\u001b[39m name \u001b[39mor\u001b[39;00m \u001b[39mgetattr\u001b[39m(func, \u001b[39m'\u001b[39m\u001b[39m__qualname__\u001b[39m\u001b[39m'\u001b[39m, \u001b[39mNone\u001b[39;00m)\n\u001b[1;32m    329\u001b[0m name \u001b[39m=\u001b[39m name \u001b[39mor\u001b[39;00m func\u001b[39m.\u001b[39m\u001b[39m__name__\u001b[39m\n\u001b[0;32m--> 330\u001b[0m \u001b[39m@wraps\u001b[39m(func)\n\u001b[1;32m    331\u001b[0m \u001b[39mdef\u001b[39;00m\u001b[39m \u001b[39m\u001b[39mwrapper\u001b[39m(\u001b[39m*\u001b[39margs, \u001b[39m*\u001b[39m\u001b[39m*\u001b[39mkwargs):\n\u001b[1;32m    332\u001b[0m   \u001b[39mwith\u001b[39;00m TraceAnnotation(name, \u001b[39m*\u001b[39m\u001b[39m*\u001b[39mdecorator_kwargs):\n\u001b[1;32m    333\u001b[0m     \u001b[39mreturn\u001b[39;00m func(\u001b[39m*\u001b[39margs, \u001b[39m*\u001b[39m\u001b[39m*\u001b[39mkwargs)\n",
      "\u001b[0;31mKeyboardInterrupt\u001b[0m: "
     ]
    }
   ],
   "source": [
    "result = estimator.run()"
   ]
  },
  {
   "cell_type": "code",
   "execution_count": 8,
   "metadata": {},
   "outputs": [
    {
     "data": {
      "text/plain": [
       "VolumeResult(estimates=Array([-1.1057281e+08, -1.0925299e+08, -1.0863679e+08, -1.1000776e+08,\n",
       "       -1.0962531e+08, -1.0930558e+08, -1.0951793e+08, -1.0957152e+08,\n",
       "       -1.1011897e+08, -1.0973353e+08], dtype=float32), props=Array([1.       , 1.       , 1.       , 1.       , 1.0000001, 1.0000001,\n",
       "       1.0000001, 1.0000001, 1.       , 1.       ], dtype=float32), mults=Array([0.4765625 , 0.5234375 , 0.546875  , 0.49609375, 0.5097656 ,\n",
       "       0.5214844 , 0.5136719 , 0.51171875, 0.4921875 , 0.5058594 ],      dtype=float32), deltas=Array([0.01001176, 0.00992114, 0.00997438, 0.00995031, 0.01002949,\n",
       "       0.00997159, 0.00996048, 0.00993844, 0.00995879, 0.00998593],      dtype=float32), logabsint=Array([-17460246., -16140436., -15524230., -16895202., -16512752.,\n",
       "       -16193021., -16405366., -16458958., -17006410., -16620968.],      dtype=float32))"
      ]
     },
     "execution_count": 8,
     "metadata": {},
     "output_type": "execute_result"
    }
   ],
   "source": [
    "result"
   ]
  }
 ],
 "metadata": {
  "kernelspec": {
   "display_name": "jax311",
   "language": "python",
   "name": "python3"
  },
  "language_info": {
   "codemirror_mode": {
    "name": "ipython",
    "version": 3
   },
   "file_extension": ".py",
   "mimetype": "text/x-python",
   "name": "python",
   "nbconvert_exporter": "python",
   "pygments_lexer": "ipython3",
   "version": "3.11.11"
  }
 },
 "nbformat": 4,
 "nbformat_minor": 2
}
